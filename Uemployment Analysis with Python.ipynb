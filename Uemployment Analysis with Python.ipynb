{
 "cells": [
  {
   "cell_type": "code",
   "execution_count": 1,
   "id": "b98fd1f4",
   "metadata": {},
   "outputs": [],
   "source": [
    "import numpy as np\n",
    "import pandas as pd\n",
    "import matplotlib.pyplot as plt\n",
    "import seaborn as sns\n",
    "import calendar\n",
    "import datetime as dt\n",
    "import plotly.io as pio\n",
    "import plotly.express as px\n",
    "import plotly.graph_objects as go\n",
    "import plotly.figure_factory as ff\n",
    "from IPython.display import HTML"
   ]
  },
  {
   "cell_type": "markdown",
   "id": "753211c7",
   "metadata": {},
   "source": [
    "# Importing the data"
   ]
  },
  {
   "cell_type": "code",
   "execution_count": 2,
   "id": "26de0356",
   "metadata": {},
   "outputs": [],
   "source": [
    "un_data = pd.read_csv(\"C:/Users/USER/Downloads/Unemployment_Rate_upto_11_2020.csv\")"
   ]
  },
  {
   "cell_type": "code",
   "execution_count": 3,
   "id": "9ab00dc8",
   "metadata": {},
   "outputs": [
    {
     "data": {
      "text/html": [
       "<div>\n",
       "<style scoped>\n",
       "    .dataframe tbody tr th:only-of-type {\n",
       "        vertical-align: middle;\n",
       "    }\n",
       "\n",
       "    .dataframe tbody tr th {\n",
       "        vertical-align: top;\n",
       "    }\n",
       "\n",
       "    .dataframe thead th {\n",
       "        text-align: right;\n",
       "    }\n",
       "</style>\n",
       "<table border=\"1\" class=\"dataframe\">\n",
       "  <thead>\n",
       "    <tr style=\"text-align: right;\">\n",
       "      <th></th>\n",
       "      <th>Region</th>\n",
       "      <th>Date</th>\n",
       "      <th>Frequency</th>\n",
       "      <th>Estimated Unemployment Rate (%)</th>\n",
       "      <th>Estimated Employed</th>\n",
       "      <th>Estimated Labour Participation Rate (%)</th>\n",
       "      <th>Region.1</th>\n",
       "      <th>longitude</th>\n",
       "      <th>latitude</th>\n",
       "    </tr>\n",
       "  </thead>\n",
       "  <tbody>\n",
       "    <tr>\n",
       "      <th>0</th>\n",
       "      <td>Andhra Pradesh</td>\n",
       "      <td>31-01-2020</td>\n",
       "      <td>M</td>\n",
       "      <td>5.48</td>\n",
       "      <td>16635535</td>\n",
       "      <td>41.02</td>\n",
       "      <td>South</td>\n",
       "      <td>15.9129</td>\n",
       "      <td>79.74</td>\n",
       "    </tr>\n",
       "    <tr>\n",
       "      <th>1</th>\n",
       "      <td>Andhra Pradesh</td>\n",
       "      <td>29-02-2020</td>\n",
       "      <td>M</td>\n",
       "      <td>5.83</td>\n",
       "      <td>16545652</td>\n",
       "      <td>40.90</td>\n",
       "      <td>South</td>\n",
       "      <td>15.9129</td>\n",
       "      <td>79.74</td>\n",
       "    </tr>\n",
       "    <tr>\n",
       "      <th>2</th>\n",
       "      <td>Andhra Pradesh</td>\n",
       "      <td>31-03-2020</td>\n",
       "      <td>M</td>\n",
       "      <td>5.79</td>\n",
       "      <td>15881197</td>\n",
       "      <td>39.18</td>\n",
       "      <td>South</td>\n",
       "      <td>15.9129</td>\n",
       "      <td>79.74</td>\n",
       "    </tr>\n",
       "    <tr>\n",
       "      <th>3</th>\n",
       "      <td>Andhra Pradesh</td>\n",
       "      <td>30-04-2020</td>\n",
       "      <td>M</td>\n",
       "      <td>20.51</td>\n",
       "      <td>11336911</td>\n",
       "      <td>33.10</td>\n",
       "      <td>South</td>\n",
       "      <td>15.9129</td>\n",
       "      <td>79.74</td>\n",
       "    </tr>\n",
       "    <tr>\n",
       "      <th>4</th>\n",
       "      <td>Andhra Pradesh</td>\n",
       "      <td>31-05-2020</td>\n",
       "      <td>M</td>\n",
       "      <td>17.43</td>\n",
       "      <td>12988845</td>\n",
       "      <td>36.46</td>\n",
       "      <td>South</td>\n",
       "      <td>15.9129</td>\n",
       "      <td>79.74</td>\n",
       "    </tr>\n",
       "  </tbody>\n",
       "</table>\n",
       "</div>"
      ],
      "text/plain": [
       "           Region         Date  Frequency   Estimated Unemployment Rate (%)  \\\n",
       "0  Andhra Pradesh   31-01-2020          M                              5.48   \n",
       "1  Andhra Pradesh   29-02-2020          M                              5.83   \n",
       "2  Andhra Pradesh   31-03-2020          M                              5.79   \n",
       "3  Andhra Pradesh   30-04-2020          M                             20.51   \n",
       "4  Andhra Pradesh   31-05-2020          M                             17.43   \n",
       "\n",
       "    Estimated Employed   Estimated Labour Participation Rate (%) Region.1  \\\n",
       "0             16635535                                     41.02    South   \n",
       "1             16545652                                     40.90    South   \n",
       "2             15881197                                     39.18    South   \n",
       "3             11336911                                     33.10    South   \n",
       "4             12988845                                     36.46    South   \n",
       "\n",
       "   longitude  latitude  \n",
       "0    15.9129     79.74  \n",
       "1    15.9129     79.74  \n",
       "2    15.9129     79.74  \n",
       "3    15.9129     79.74  \n",
       "4    15.9129     79.74  "
      ]
     },
     "execution_count": 3,
     "metadata": {},
     "output_type": "execute_result"
    }
   ],
   "source": [
    "un_data.head()"
   ]
  },
  {
   "cell_type": "code",
   "execution_count": 4,
   "id": "9d962500",
   "metadata": {},
   "outputs": [
    {
     "name": "stdout",
     "output_type": "stream",
     "text": [
      "<class 'pandas.core.frame.DataFrame'>\n",
      "RangeIndex: 267 entries, 0 to 266\n",
      "Data columns (total 9 columns):\n",
      " #   Column                                    Non-Null Count  Dtype  \n",
      "---  ------                                    --------------  -----  \n",
      " 0   Region                                    267 non-null    object \n",
      " 1    Date                                     267 non-null    object \n",
      " 2    Frequency                                267 non-null    object \n",
      " 3    Estimated Unemployment Rate (%)          267 non-null    float64\n",
      " 4    Estimated Employed                       267 non-null    int64  \n",
      " 5    Estimated Labour Participation Rate (%)  267 non-null    float64\n",
      " 6   Region.1                                  267 non-null    object \n",
      " 7   longitude                                 267 non-null    float64\n",
      " 8   latitude                                  267 non-null    float64\n",
      "dtypes: float64(4), int64(1), object(4)\n",
      "memory usage: 18.9+ KB\n"
     ]
    }
   ],
   "source": [
    "un_data.info()"
   ]
  },
  {
   "cell_type": "code",
   "execution_count": 5,
   "id": "e359016f",
   "metadata": {},
   "outputs": [
    {
     "data": {
      "text/plain": [
       "Region                                      0\n",
       " Date                                       0\n",
       " Frequency                                  0\n",
       " Estimated Unemployment Rate (%)            0\n",
       " Estimated Employed                         0\n",
       " Estimated Labour Participation Rate (%)    0\n",
       "Region.1                                    0\n",
       "longitude                                   0\n",
       "latitude                                    0\n",
       "dtype: int64"
      ]
     },
     "execution_count": 5,
     "metadata": {},
     "output_type": "execute_result"
    }
   ],
   "source": [
    "un_data.isnull().sum()"
   ]
  },
  {
   "cell_type": "markdown",
   "id": "d0bee22b",
   "metadata": {},
   "source": [
    "# Formatting the Dataframe"
   ]
  },
  {
   "cell_type": "code",
   "execution_count": 6,
   "id": "d72831fb",
   "metadata": {},
   "outputs": [],
   "source": [
    "un_data.columns = ['States', 'Date', 'Frequency', 'Estimated Unemployment Rate', 'Estimated Employed',\n",
    "              'Estimated Labour Participation Rate', 'Region', 'longitude', 'latitude']\n",
    "un_data['Date'] = pd.to_datetime(un_data['Date'], dayfirst=True)\n",
    "un_data['Frequency'] = un_data['Frequency'].astype('category')\n",
    "un_data['Month'] = un_data['Date'].dt.month\n",
    "un_data['Month_int'] = un_data['Month'].apply(lambda x: int(x))\n",
    "un_data['Month_name'] = un_data['Month_int'].apply(lambda x: calendar.month_abbr[x])\n",
    "un_data['Region'] = un_data['Region'].astype('category')\n",
    "un_data.drop(columns='Month', inplace=True)"
   ]
  },
  {
   "cell_type": "code",
   "execution_count": 7,
   "id": "fa24727a",
   "metadata": {},
   "outputs": [
    {
     "data": {
      "text/html": [
       "<div>\n",
       "<style scoped>\n",
       "    .dataframe tbody tr th:only-of-type {\n",
       "        vertical-align: middle;\n",
       "    }\n",
       "\n",
       "    .dataframe tbody tr th {\n",
       "        vertical-align: top;\n",
       "    }\n",
       "\n",
       "    .dataframe thead th {\n",
       "        text-align: right;\n",
       "    }\n",
       "</style>\n",
       "<table border=\"1\" class=\"dataframe\">\n",
       "  <thead>\n",
       "    <tr style=\"text-align: right;\">\n",
       "      <th></th>\n",
       "      <th>States</th>\n",
       "      <th>Date</th>\n",
       "      <th>Frequency</th>\n",
       "      <th>Estimated Unemployment Rate</th>\n",
       "      <th>Estimated Employed</th>\n",
       "      <th>Estimated Labour Participation Rate</th>\n",
       "      <th>Region</th>\n",
       "      <th>longitude</th>\n",
       "      <th>latitude</th>\n",
       "      <th>Month_int</th>\n",
       "      <th>Month_name</th>\n",
       "    </tr>\n",
       "  </thead>\n",
       "  <tbody>\n",
       "    <tr>\n",
       "      <th>0</th>\n",
       "      <td>Andhra Pradesh</td>\n",
       "      <td>2020-01-31</td>\n",
       "      <td>M</td>\n",
       "      <td>5.48</td>\n",
       "      <td>16635535</td>\n",
       "      <td>41.02</td>\n",
       "      <td>South</td>\n",
       "      <td>15.9129</td>\n",
       "      <td>79.74</td>\n",
       "      <td>1</td>\n",
       "      <td>Jan</td>\n",
       "    </tr>\n",
       "    <tr>\n",
       "      <th>1</th>\n",
       "      <td>Andhra Pradesh</td>\n",
       "      <td>2020-02-29</td>\n",
       "      <td>M</td>\n",
       "      <td>5.83</td>\n",
       "      <td>16545652</td>\n",
       "      <td>40.90</td>\n",
       "      <td>South</td>\n",
       "      <td>15.9129</td>\n",
       "      <td>79.74</td>\n",
       "      <td>2</td>\n",
       "      <td>Feb</td>\n",
       "    </tr>\n",
       "    <tr>\n",
       "      <th>2</th>\n",
       "      <td>Andhra Pradesh</td>\n",
       "      <td>2020-03-31</td>\n",
       "      <td>M</td>\n",
       "      <td>5.79</td>\n",
       "      <td>15881197</td>\n",
       "      <td>39.18</td>\n",
       "      <td>South</td>\n",
       "      <td>15.9129</td>\n",
       "      <td>79.74</td>\n",
       "      <td>3</td>\n",
       "      <td>Mar</td>\n",
       "    </tr>\n",
       "    <tr>\n",
       "      <th>3</th>\n",
       "      <td>Andhra Pradesh</td>\n",
       "      <td>2020-04-30</td>\n",
       "      <td>M</td>\n",
       "      <td>20.51</td>\n",
       "      <td>11336911</td>\n",
       "      <td>33.10</td>\n",
       "      <td>South</td>\n",
       "      <td>15.9129</td>\n",
       "      <td>79.74</td>\n",
       "      <td>4</td>\n",
       "      <td>Apr</td>\n",
       "    </tr>\n",
       "    <tr>\n",
       "      <th>4</th>\n",
       "      <td>Andhra Pradesh</td>\n",
       "      <td>2020-05-31</td>\n",
       "      <td>M</td>\n",
       "      <td>17.43</td>\n",
       "      <td>12988845</td>\n",
       "      <td>36.46</td>\n",
       "      <td>South</td>\n",
       "      <td>15.9129</td>\n",
       "      <td>79.74</td>\n",
       "      <td>5</td>\n",
       "      <td>May</td>\n",
       "    </tr>\n",
       "  </tbody>\n",
       "</table>\n",
       "</div>"
      ],
      "text/plain": [
       "           States       Date Frequency  Estimated Unemployment Rate  \\\n",
       "0  Andhra Pradesh 2020-01-31         M                         5.48   \n",
       "1  Andhra Pradesh 2020-02-29         M                         5.83   \n",
       "2  Andhra Pradesh 2020-03-31         M                         5.79   \n",
       "3  Andhra Pradesh 2020-04-30         M                        20.51   \n",
       "4  Andhra Pradesh 2020-05-31         M                        17.43   \n",
       "\n",
       "   Estimated Employed  Estimated Labour Participation Rate Region  longitude  \\\n",
       "0            16635535                                41.02  South    15.9129   \n",
       "1            16545652                                40.90  South    15.9129   \n",
       "2            15881197                                39.18  South    15.9129   \n",
       "3            11336911                                33.10  South    15.9129   \n",
       "4            12988845                                36.46  South    15.9129   \n",
       "\n",
       "   latitude  Month_int Month_name  \n",
       "0     79.74          1        Jan  \n",
       "1     79.74          2        Feb  \n",
       "2     79.74          3        Mar  \n",
       "3     79.74          4        Apr  \n",
       "4     79.74          5        May  "
      ]
     },
     "execution_count": 7,
     "metadata": {},
     "output_type": "execute_result"
    }
   ],
   "source": [
    "un_data.head()"
   ]
  },
  {
   "cell_type": "markdown",
   "id": "bf16ab81",
   "metadata": {},
   "source": [
    "# EDA"
   ]
  },
  {
   "cell_type": "code",
   "execution_count": 8,
   "id": "421ccdf5",
   "metadata": {},
   "outputs": [
    {
     "data": {
      "text/html": [
       "<div>\n",
       "<style scoped>\n",
       "    .dataframe tbody tr th:only-of-type {\n",
       "        vertical-align: middle;\n",
       "    }\n",
       "\n",
       "    .dataframe tbody tr th {\n",
       "        vertical-align: top;\n",
       "    }\n",
       "\n",
       "    .dataframe thead th {\n",
       "        text-align: right;\n",
       "    }\n",
       "</style>\n",
       "<table border=\"1\" class=\"dataframe\">\n",
       "  <thead>\n",
       "    <tr style=\"text-align: right;\">\n",
       "      <th></th>\n",
       "      <th>count</th>\n",
       "      <th>mean</th>\n",
       "      <th>std</th>\n",
       "      <th>min</th>\n",
       "      <th>25%</th>\n",
       "      <th>50%</th>\n",
       "      <th>75%</th>\n",
       "      <th>max</th>\n",
       "    </tr>\n",
       "  </thead>\n",
       "  <tbody>\n",
       "    <tr>\n",
       "      <th>Estimated Unemployment Rate</th>\n",
       "      <td>267.0</td>\n",
       "      <td>12.24</td>\n",
       "      <td>10.80</td>\n",
       "      <td>0.50</td>\n",
       "      <td>4.84</td>\n",
       "      <td>9.65</td>\n",
       "      <td>16.76</td>\n",
       "      <td>75.85</td>\n",
       "    </tr>\n",
       "    <tr>\n",
       "      <th>Estimated Employed</th>\n",
       "      <td>267.0</td>\n",
       "      <td>13962105.72</td>\n",
       "      <td>13366318.36</td>\n",
       "      <td>117542.00</td>\n",
       "      <td>2838930.50</td>\n",
       "      <td>9732417.00</td>\n",
       "      <td>21878686.00</td>\n",
       "      <td>59433759.00</td>\n",
       "    </tr>\n",
       "    <tr>\n",
       "      <th>Estimated Labour Participation Rate</th>\n",
       "      <td>267.0</td>\n",
       "      <td>41.68</td>\n",
       "      <td>7.85</td>\n",
       "      <td>16.77</td>\n",
       "      <td>37.26</td>\n",
       "      <td>40.39</td>\n",
       "      <td>44.06</td>\n",
       "      <td>69.69</td>\n",
       "    </tr>\n",
       "  </tbody>\n",
       "</table>\n",
       "</div>"
      ],
      "text/plain": [
       "                                     count         mean          std  \\\n",
       "Estimated Unemployment Rate          267.0        12.24        10.80   \n",
       "Estimated Employed                   267.0  13962105.72  13366318.36   \n",
       "Estimated Labour Participation Rate  267.0        41.68         7.85   \n",
       "\n",
       "                                           min         25%         50%  \\\n",
       "Estimated Unemployment Rate               0.50        4.84        9.65   \n",
       "Estimated Employed                   117542.00  2838930.50  9732417.00   \n",
       "Estimated Labour Participation Rate      16.77       37.26       40.39   \n",
       "\n",
       "                                             75%          max  \n",
       "Estimated Unemployment Rate                16.76        75.85  \n",
       "Estimated Employed                   21878686.00  59433759.00  \n",
       "Estimated Labour Participation Rate        44.06        69.69  "
      ]
     },
     "execution_count": 8,
     "metadata": {},
     "output_type": "execute_result"
    }
   ],
   "source": [
    "un_data_stats = un_data[['Estimated Unemployment Rate', 'Estimated Employed', 'Estimated Labour Participation Rate']]\n",
    "round(un_data_stats.describe().T, 2)"
   ]
  },
  {
   "cell_type": "code",
   "execution_count": 9,
   "id": "f76d95ef",
   "metadata": {},
   "outputs": [
    {
     "data": {
      "text/html": [
       "<div>\n",
       "<style scoped>\n",
       "    .dataframe tbody tr th:only-of-type {\n",
       "        vertical-align: middle;\n",
       "    }\n",
       "\n",
       "    .dataframe tbody tr th {\n",
       "        vertical-align: top;\n",
       "    }\n",
       "\n",
       "    .dataframe thead th {\n",
       "        text-align: right;\n",
       "    }\n",
       "</style>\n",
       "<table border=\"1\" class=\"dataframe\">\n",
       "  <thead>\n",
       "    <tr style=\"text-align: right;\">\n",
       "      <th></th>\n",
       "      <th>Region</th>\n",
       "      <th>Estimated Unemployment Rate</th>\n",
       "      <th>Estimated Employed</th>\n",
       "      <th>Estimated Labour Participation Rate</th>\n",
       "    </tr>\n",
       "  </thead>\n",
       "  <tbody>\n",
       "    <tr>\n",
       "      <th>0</th>\n",
       "      <td>East</td>\n",
       "      <td>13.92</td>\n",
       "      <td>19602366.90</td>\n",
       "      <td>40.11</td>\n",
       "    </tr>\n",
       "    <tr>\n",
       "      <th>1</th>\n",
       "      <td>North</td>\n",
       "      <td>15.89</td>\n",
       "      <td>13072487.92</td>\n",
       "      <td>38.70</td>\n",
       "    </tr>\n",
       "    <tr>\n",
       "      <th>2</th>\n",
       "      <td>Northeast</td>\n",
       "      <td>10.95</td>\n",
       "      <td>3617105.53</td>\n",
       "      <td>52.06</td>\n",
       "    </tr>\n",
       "    <tr>\n",
       "      <th>3</th>\n",
       "      <td>South</td>\n",
       "      <td>10.45</td>\n",
       "      <td>14040589.33</td>\n",
       "      <td>40.44</td>\n",
       "    </tr>\n",
       "    <tr>\n",
       "      <th>4</th>\n",
       "      <td>West</td>\n",
       "      <td>8.24</td>\n",
       "      <td>18623512.72</td>\n",
       "      <td>41.26</td>\n",
       "    </tr>\n",
       "  </tbody>\n",
       "</table>\n",
       "</div>"
      ],
      "text/plain": [
       "      Region  Estimated Unemployment Rate  Estimated Employed  \\\n",
       "0       East                        13.92         19602366.90   \n",
       "1      North                        15.89         13072487.92   \n",
       "2  Northeast                        10.95          3617105.53   \n",
       "3      South                        10.45         14040589.33   \n",
       "4       West                         8.24         18623512.72   \n",
       "\n",
       "   Estimated Labour Participation Rate  \n",
       "0                                40.11  \n",
       "1                                38.70  \n",
       "2                                52.06  \n",
       "3                                40.44  \n",
       "4                                41.26  "
      ]
     },
     "execution_count": 9,
     "metadata": {},
     "output_type": "execute_result"
    }
   ],
   "source": [
    "#Statistics on the basis of Region\n",
    "\n",
    "region_stats = un_data.groupby(['Region'])[['Estimated Unemployment Rate','Estimated Employed'\n",
    "                                           ,'Estimated Labour Participation Rate']].mean().reset_index()\n",
    "region_stats = round(region_stats, 2)\n",
    "region_stats"
   ]
  },
  {
   "cell_type": "code",
   "execution_count": 10,
   "id": "7862226b",
   "metadata": {},
   "outputs": [
    {
     "data": {
      "text/plain": [
       "<Axes: >"
      ]
     },
     "execution_count": 10,
     "metadata": {},
     "output_type": "execute_result"
    },
    {
     "data": {
      "image/png": "[encoded data removed]",
      "text/plain": [
       "<Figure size 1000x600 with 2 Axes>"
      ]
     },
     "metadata": {},
     "output_type": "display_data"
    }
   ],
   "source": [
    "# Correlation Heatmap\n",
    "\n",
    "un_heat_maps = un_data[['Estimated Unemployment Rate', 'Estimated Employed', \n",
    "                     'Estimated Labour Participation Rate', 'longitude', 'latitude', 'Month_int']]\n",
    "un_heat_maps = un_heat_maps.corr()\n",
    "plt.figure(figsize=(10, 6))\n",
    "sns.set_context('notebook', font_scale=1)\n",
    "sns.heatmap(un_heat_maps, annot=True, cmap='YlOrRd')"
   ]
  },
  {
   "cell_type": "code",
   "execution_count": 11,
   "id": "f26ecb85",
   "metadata": {},
   "outputs": [
    {
     "data": {
      "application/vnd.plotly.v1+json": {
       "config": {
        "plotlyServerURL": "https://plot.ly"
       },
       "data": [
        {
         "alignmentgroup": "True",
         "hovertemplate": "States=%{x}<br>Estimated Unemployment Rate=%{y}<extra></extra>",
         "legendgroup": "Andhra Pradesh",
         "marker": {
          "color": "#636efa"
         },
         "name": "Andhra Pradesh",
         "notched": false,
         "offsetgroup": "Andhra Pradesh",
         "orientation": "v",
         "showlegend": true,
         "type": "box",
         "x": [
          "Andhra Pradesh",
          "Andhra Pradesh",
          "Andhra Pradesh",
          "Andhra Pradesh",
          "Andhra Pradesh",
          "Andhra Pradesh",
          "Andhra Pradesh",
          "Andhra Pradesh",
          "Andhra Pradesh",
          "Andhra Pradesh"
         ],
         "x0": " ",
         "xaxis": "x",
         "y": [
          5.48,
          5.83,
          5.79,
          20.51,
          17.43,
          3.31,
          8.34,
          6.96,
          6.4,
          6.59
         ],
         "y0": " ",
         "yaxis": "y"
        },
        {
         "alignmentgroup": "True",
         "hovertemplate": "States=%{x}<br>Estimated Unemployment Rate=%{y}<extra></extra>",
         "legendgroup": "Assam",
         "marker": {
          "color": "#EF553B"
         },
         "name": "Assam",
         "notched": false,
         "offsetgroup": "Assam",
         "orientation": "v",
         "showlegend": true,
         "type": "box",
         "x": [
          "Assam",
          "Assam",
          "Assam",
          "Assam",
          "Assam",
          "Assam",
          "Assam",
          "Assam",
          "Assam",
          "Assam"
         ],
         "x0": " ",
         "xaxis": "x",
         "y": [
          4.66,
          4.41,
          4.77,
          11.06,
          9.55,
          0.6,
          3.77,
          5.53,
          1.19,
          3.02
         ],
         "y0": " ",
         "yaxis": "y"
        },
        {
         "alignmentgroup": "True",
         "hovertemplate": "States=%{x}<br>Estimated Unemployment Rate=%{y}<extra></extra>",
         "legendgroup": "Bihar",
         "marker": {
          "color": "#00cc96"
         },
         "name": "Bihar",
         "notched": false,
         "offsetgroup": "Bihar",
         "orientation": "v",
         "showlegend": true,
         "type": "box",
         "x": [
          "Bihar",
          "Bihar",
          "Bihar",
          "Bihar",
          "Bihar",
          "Bihar",
          "Bihar",
          "Bihar",
          "Bihar",
          "Bihar"
         ],
         "x0": " ",
         "xaxis": "x",
         "y": [
          10.61,
          10.29,
          15.43,
          46.64,
          45.96,
          17.82,
          12.79,
          13.44,
          11.91,
          9.82
         ],
         "y0": " ",
         "yaxis": "y"
        },
        {
         "alignmentgroup": "True",
         "hovertemplate": "States=%{x}<br>Estimated Unemployment Rate=%{y}<extra></extra>",
         "legendgroup": "Chhattisgarh",
         "marker": {
          "color": "#ab63fa"
         },
         "name": "Chhattisgarh",
         "notched": false,
         "offsetgroup": "Chhattisgarh",
         "orientation": "v",
         "showlegend": true,
         "type": "box",
         "x": [
          "Chhattisgarh",
          "Chhattisgarh",
          "Chhattisgarh",
          "Chhattisgarh",
          "Chhattisgarh",
          "Chhattisgarh",
          "Chhattisgarh",
          "Chhattisgarh",
          "Chhattisgarh",
          "Chhattisgarh"
         ],
         "x0": " ",
         "xaxis": "x",
         "y": [
          9.65,
          8.38,
          7.54,
          3.41,
          10.5,
          14.23,
          10.27,
          5.63,
          1.96,
          6.62
         ],
         "y0": " ",
         "yaxis": "y"
        },
        {
         "alignmentgroup": "True",
         "hovertemplate": "States=%{x}<br>Estimated Unemployment Rate=%{y}<extra></extra>",
         "legendgroup": "Delhi",
         "marker": {
          "color": "#FFA15A"
         },
         "name": "Delhi",
         "notched": false,
         "offsetgroup": "Delhi",
         "orientation": "v",
         "showlegend": true,
         "type": "box",
         "x": [
          "Delhi",
          "Delhi",
          "Delhi",
          "Delhi",
          "Delhi",
          "Delhi",
          "Delhi",
          "Delhi",
          "Delhi",
          "Delhi"
         ],
         "x0": " ",
         "xaxis": "x",
         "y": [
          22.23,
          14.84,
          17.04,
          16.68,
          42.27,
          18.19,
          20.3,
          13.79,
          12.53,
          6.27
         ],
         "y0": " ",
         "yaxis": "y"
        },
        {
         "alignmentgroup": "True",
         "hovertemplate": "States=%{x}<br>Estimated Unemployment Rate=%{y}<extra></extra>",
         "legendgroup": "Goa",
         "marker": {
          "color": "#19d3f3"
         },
         "name": "Goa",
         "notched": false,
         "offsetgroup": "Goa",
         "orientation": "v",
         "showlegend": true,
         "type": "box",
         "x": [
          "Goa",
          "Goa",
          "Goa",
          "Goa",
          "Goa",
          "Goa",
          "Goa",
          "Goa",
          "Goa",
          "Goa"
         ],
         "x0": " ",
         "xaxis": "x",
         "y": [
          8.89,
          2.81,
          5.25,
          13.31,
          21.25,
          9.96,
          17.07,
          16.21,
          15.38,
          11.54
         ],
         "y0": " ",
         "yaxis": "y"
        },
        {
         "alignmentgroup": "True",
         "hovertemplate": "States=%{x}<br>Estimated Unemployment Rate=%{y}<extra></extra>",
         "legendgroup": "Gujarat",
         "marker": {
          "color": "#FF6692"
         },
         "name": "Gujarat",
         "notched": false,
         "offsetgroup": "Gujarat",
         "orientation": "v",
         "showlegend": true,
         "type": "box",
         "x": [
          "Gujarat",
          "Gujarat",
          "Gujarat",
          "Gujarat",
          "Gujarat",
          "Gujarat",
          "Gujarat",
          "Gujarat",
          "Gujarat",
          "Gujarat"
         ],
         "x0": " ",
         "xaxis": "x",
         "y": [
          5.54,
          6.38,
          6.66,
          18.71,
          12.11,
          3.2,
          1.84,
          1.87,
          3.42,
          4.03
         ],
         "y0": " ",
         "yaxis": "y"
        },
        {
         "alignmentgroup": "True",
         "hovertemplate": "States=%{x}<br>Estimated Unemployment Rate=%{y}<extra></extra>",
         "legendgroup": "Haryana",
         "marker": {
          "color": "#B6E880"
         },
         "name": "Haryana",
         "notched": false,
         "offsetgroup": "Haryana",
         "orientation": "v",
         "showlegend": true,
         "type": "box",
         "x": [
          "Haryana",
          "Haryana",
          "Haryana",
          "Haryana",
          "Haryana",
          "Haryana",
          "Haryana",
          "Haryana",
          "Haryana",
          "Haryana"
         ],
         "x0": " ",
         "xaxis": "x",
         "y": [
          20.34,
          25.77,
          25.05,
          43.22,
          29.02,
          26.7,
          24.18,
          33.5,
          19.68,
          27.31
         ],
         "y0": " ",
         "yaxis": "y"
        },
        {
         "alignmentgroup": "True",
         "hovertemplate": "States=%{x}<br>Estimated Unemployment Rate=%{y}<extra></extra>",
         "legendgroup": "Himachal Pradesh",
         "marker": {
          "color": "#FF97FF"
         },
         "name": "Himachal Pradesh",
         "notched": false,
         "offsetgroup": "Himachal Pradesh",
         "orientation": "v",
         "showlegend": true,
         "type": "box",
         "x": [
          "Himachal Pradesh",
          "Himachal Pradesh",
          "Himachal Pradesh",
          "Himachal Pradesh",
          "Himachal Pradesh",
          "Himachal Pradesh",
          "Himachal Pradesh",
          "Himachal Pradesh",
          "Himachal Pradesh",
          "Himachal Pradesh"
         ],
         "x0": " ",
         "xaxis": "x",
         "y": [
          16.83,
          16.84,
          18.76,
          2.2,
          26.95,
          13.47,
          24.31,
          15.79,
          12.04,
          13.46
         ],
         "y0": " ",
         "yaxis": "y"
        },
        {
         "alignmentgroup": "True",
         "hovertemplate": "States=%{x}<br>Estimated Unemployment Rate=%{y}<extra></extra>",
         "legendgroup": "Jammu & Kashmir",
         "marker": {
          "color": "#FECB52"
         },
         "name": "Jammu & Kashmir",
         "notched": false,
         "offsetgroup": "Jammu & Kashmir",
         "orientation": "v",
         "showlegend": true,
         "type": "box",
         "x": [
          "Jammu & Kashmir",
          "Jammu & Kashmir",
          "Jammu & Kashmir",
          "Jammu & Kashmir",
          "Jammu & Kashmir",
          "Jammu & Kashmir",
          "Jammu & Kashmir",
          "Jammu & Kashmir",
          "Jammu & Kashmir"
         ],
         "x0": " ",
         "xaxis": "x",
         "y": [
          21.08,
          20.78,
          15.5,
          18.74,
          17.92,
          10.88,
          11.09,
          16.17,
          16.14
         ],
         "y0": " ",
         "yaxis": "y"
        },
        {
         "alignmentgroup": "True",
         "hovertemplate": "States=%{x}<br>Estimated Unemployment Rate=%{y}<extra></extra>",
         "legendgroup": "Jharkhand",
         "marker": {
          "color": "#636efa"
         },
         "name": "Jharkhand",
         "notched": false,
         "offsetgroup": "Jharkhand",
         "orientation": "v",
         "showlegend": true,
         "type": "box",
         "x": [
          "Jharkhand",
          "Jharkhand",
          "Jharkhand",
          "Jharkhand",
          "Jharkhand",
          "Jharkhand",
          "Jharkhand",
          "Jharkhand",
          "Jharkhand",
          "Jharkhand"
         ],
         "x0": " ",
         "xaxis": "x",
         "y": [
          10.61,
          11.85,
          8.23,
          47.09,
          59.23,
          20.95,
          7.63,
          9.76,
          8.24,
          11.8
         ],
         "y0": " ",
         "yaxis": "y"
        },
        {
         "alignmentgroup": "True",
         "hovertemplate": "States=%{x}<br>Estimated Unemployment Rate=%{y}<extra></extra>",
         "legendgroup": "Karnataka",
         "marker": {
          "color": "#EF553B"
         },
         "name": "Karnataka",
         "notched": false,
         "offsetgroup": "Karnataka",
         "orientation": "v",
         "showlegend": true,
         "type": "box",
         "x": [
          "Karnataka",
          "Karnataka",
          "Karnataka",
          "Karnataka",
          "Karnataka",
          "Karnataka",
          "Karnataka",
          "Karnataka",
          "Karnataka",
          "Karnataka"
         ],
         "x0": " ",
         "xaxis": "x",
         "y": [
          2.86,
          3.61,
          3.46,
          29.84,
          19.97,
          8.44,
          4.01,
          0.5,
          2.41,
          1.58
         ],
         "y0": " ",
         "yaxis": "y"
        },
        {
         "alignmentgroup": "True",
         "hovertemplate": "States=%{x}<br>Estimated Unemployment Rate=%{y}<extra></extra>",
         "legendgroup": "Kerala",
         "marker": {
          "color": "#00cc96"
         },
         "name": "Kerala",
         "notched": false,
         "offsetgroup": "Kerala",
         "orientation": "v",
         "showlegend": true,
         "type": "box",
         "x": [
          "Kerala",
          "Kerala",
          "Kerala",
          "Kerala",
          "Kerala",
          "Kerala",
          "Kerala",
          "Kerala",
          "Kerala",
          "Kerala"
         ],
         "x0": " ",
         "xaxis": "x",
         "y": [
          5.31,
          7.6,
          8.99,
          16.99,
          17.88,
          9.71,
          7.09,
          10.98,
          5.91,
          3.88
         ],
         "y0": " ",
         "yaxis": "y"
        },
        {
         "alignmentgroup": "True",
         "hovertemplate": "States=%{x}<br>Estimated Unemployment Rate=%{y}<extra></extra>",
         "legendgroup": "Madhya Pradesh",
         "marker": {
          "color": "#ab63fa"
         },
         "name": "Madhya Pradesh",
         "notched": false,
         "offsetgroup": "Madhya Pradesh",
         "orientation": "v",
         "showlegend": true,
         "type": "box",
         "x": [
          "Madhya Pradesh",
          "Madhya Pradesh",
          "Madhya Pradesh",
          "Madhya Pradesh",
          "Madhya Pradesh",
          "Madhya Pradesh",
          "Madhya Pradesh",
          "Madhya Pradesh",
          "Madhya Pradesh",
          "Madhya Pradesh"
         ],
         "x0": " ",
         "xaxis": "x",
         "y": [
          4.11,
          4.57,
          2.22,
          12.36,
          21.98,
          6.48,
          5.08,
          4.7,
          3.91,
          3.13
         ],
         "y0": " ",
         "yaxis": "y"
        },
        {
         "alignmentgroup": "True",
         "hovertemplate": "States=%{x}<br>Estimated Unemployment Rate=%{y}<extra></extra>",
         "legendgroup": "Maharashtra",
         "marker": {
          "color": "#FFA15A"
         },
         "name": "Maharashtra",
         "notched": false,
         "offsetgroup": "Maharashtra",
         "orientation": "v",
         "showlegend": true,
         "type": "box",
         "x": [
          "Maharashtra",
          "Maharashtra",
          "Maharashtra",
          "Maharashtra",
          "Maharashtra",
          "Maharashtra",
          "Maharashtra",
          "Maharashtra",
          "Maharashtra",
          "Maharashtra"
         ],
         "x0": " ",
         "xaxis": "x",
         "y": [
          4.95,
          4.69,
          5.79,
          20.9,
          15.46,
          9.23,
          3.89,
          6.23,
          4.55,
          4.1
         ],
         "y0": " ",
         "yaxis": "y"
        },
        {
         "alignmentgroup": "True",
         "hovertemplate": "States=%{x}<br>Estimated Unemployment Rate=%{y}<extra></extra>",
         "legendgroup": "Meghalaya",
         "marker": {
          "color": "#19d3f3"
         },
         "name": "Meghalaya",
         "notched": false,
         "offsetgroup": "Meghalaya",
         "orientation": "v",
         "showlegend": true,
         "type": "box",
         "x": [
          "Meghalaya",
          "Meghalaya",
          "Meghalaya",
          "Meghalaya",
          "Meghalaya",
          "Meghalaya",
          "Meghalaya",
          "Meghalaya",
          "Meghalaya",
          "Meghalaya"
         ],
         "x0": " ",
         "xaxis": "x",
         "y": [
          1.66,
          3.59,
          1.58,
          10.03,
          5.92,
          1.15,
          2.1,
          3.74,
          4.29,
          4.6
         ],
         "y0": " ",
         "yaxis": "y"
        },
        {
         "alignmentgroup": "True",
         "hovertemplate": "States=%{x}<br>Estimated Unemployment Rate=%{y}<extra></extra>",
         "legendgroup": "Odisha",
         "marker": {
          "color": "#FF6692"
         },
         "name": "Odisha",
         "notched": false,
         "offsetgroup": "Odisha",
         "orientation": "v",
         "showlegend": true,
         "type": "box",
         "x": [
          "Odisha",
          "Odisha",
          "Odisha",
          "Odisha",
          "Odisha",
          "Odisha",
          "Odisha",
          "Odisha",
          "Odisha",
          "Odisha"
         ],
         "x0": " ",
         "xaxis": "x",
         "y": [
          1.9,
          3.12,
          13.08,
          23.76,
          11.41,
          3.77,
          1.88,
          1.42,
          2.1,
          2.18
         ],
         "y0": " ",
         "yaxis": "y"
        },
        {
         "alignmentgroup": "True",
         "hovertemplate": "States=%{x}<br>Estimated Unemployment Rate=%{y}<extra></extra>",
         "legendgroup": "Puducherry",
         "marker": {
          "color": "#B6E880"
         },
         "name": "Puducherry",
         "notched": false,
         "offsetgroup": "Puducherry",
         "orientation": "v",
         "showlegend": true,
         "type": "box",
         "x": [
          "Puducherry",
          "Puducherry",
          "Puducherry",
          "Puducherry",
          "Puducherry",
          "Puducherry",
          "Puducherry",
          "Puducherry",
          "Puducherry",
          "Puducherry"
         ],
         "x0": " ",
         "xaxis": "x",
         "y": [
          0.58,
          1.76,
          1.2,
          75.85,
          58.19,
          4.24,
          15.47,
          5.05,
          10.9,
          6.18
         ],
         "y0": " ",
         "yaxis": "y"
        },
        {
         "alignmentgroup": "True",
         "hovertemplate": "States=%{x}<br>Estimated Unemployment Rate=%{y}<extra></extra>",
         "legendgroup": "Punjab",
         "marker": {
          "color": "#FF97FF"
         },
         "name": "Punjab",
         "notched": false,
         "offsetgroup": "Punjab",
         "orientation": "v",
         "showlegend": true,
         "type": "box",
         "x": [
          "Punjab",
          "Punjab",
          "Punjab",
          "Punjab",
          "Punjab",
          "Punjab",
          "Punjab",
          "Punjab",
          "Punjab",
          "Punjab"
         ],
         "x0": " ",
         "xaxis": "x",
         "y": [
          11.11,
          10.97,
          10.32,
          2.86,
          28.33,
          16.55,
          9.19,
          10.99,
          9.61,
          9.88
         ],
         "y0": " ",
         "yaxis": "y"
        },
        {
         "alignmentgroup": "True",
         "hovertemplate": "States=%{x}<br>Estimated Unemployment Rate=%{y}<extra></extra>",
         "legendgroup": "Rajasthan",
         "marker": {
          "color": "#FECB52"
         },
         "name": "Rajasthan",
         "notched": false,
         "offsetgroup": "Rajasthan",
         "orientation": "v",
         "showlegend": true,
         "type": "box",
         "x": [
          "Rajasthan",
          "Rajasthan",
          "Rajasthan",
          "Rajasthan",
          "Rajasthan",
          "Rajasthan",
          "Rajasthan",
          "Rajasthan",
          "Rajasthan",
          "Rajasthan"
         ],
         "x0": " ",
         "xaxis": "x",
         "y": [
          10.97,
          15.16,
          11.9,
          17.7,
          15.74,
          14.39,
          15.81,
          17.51,
          15.35,
          24.15
         ],
         "y0": " ",
         "yaxis": "y"
        },
        {
         "alignmentgroup": "True",
         "hovertemplate": "States=%{x}<br>Estimated Unemployment Rate=%{y}<extra></extra>",
         "legendgroup": "Sikkim",
         "marker": {
          "color": "#636efa"
         },
         "name": "Sikkim",
         "notched": false,
         "offsetgroup": "Sikkim",
         "orientation": "v",
         "showlegend": true,
         "type": "box",
         "x": [
          "Sikkim",
          "Sikkim",
          "Sikkim",
          "Sikkim",
          "Sikkim",
          "Sikkim",
          "Sikkim",
          "Sikkim"
         ],
         "x0": " ",
         "xaxis": "x",
         "y": [
          23.57,
          2.28,
          24.51,
          4.46,
          4.45,
          12.49,
          5.7,
          0.88
         ],
         "y0": " ",
         "yaxis": "y"
        },
        {
         "alignmentgroup": "True",
         "hovertemplate": "States=%{x}<br>Estimated Unemployment Rate=%{y}<extra></extra>",
         "legendgroup": "Tamil Nadu",
         "marker": {
          "color": "#EF553B"
         },
         "name": "Tamil Nadu",
         "notched": false,
         "offsetgroup": "Tamil Nadu",
         "orientation": "v",
         "showlegend": true,
         "type": "box",
         "x": [
          "Tamil Nadu",
          "Tamil Nadu",
          "Tamil Nadu",
          "Tamil Nadu",
          "Tamil Nadu",
          "Tamil Nadu",
          "Tamil Nadu",
          "Tamil Nadu",
          "Tamil Nadu",
          "Tamil Nadu"
         ],
         "x0": " ",
         "xaxis": "x",
         "y": [
          1.57,
          2.09,
          6.4,
          49.83,
          33.16,
          12.2,
          6.81,
          2.65,
          5,
          2.16
         ],
         "y0": " ",
         "yaxis": "y"
        },
        {
         "alignmentgroup": "True",
         "hovertemplate": "States=%{x}<br>Estimated Unemployment Rate=%{y}<extra></extra>",
         "legendgroup": "Telangana",
         "marker": {
          "color": "#00cc96"
         },
         "name": "Telangana",
         "notched": false,
         "offsetgroup": "Telangana",
         "orientation": "v",
         "showlegend": true,
         "type": "box",
         "x": [
          "Telangana",
          "Telangana",
          "Telangana",
          "Telangana",
          "Telangana",
          "Telangana",
          "Telangana",
          "Telangana",
          "Telangana",
          "Telangana"
         ],
         "x0": " ",
         "xaxis": "x",
         "y": [
          5.49,
          8.29,
          5.77,
          6.25,
          14.7,
          10.55,
          5.36,
          5.79,
          3.27,
          2.86
         ],
         "y0": " ",
         "yaxis": "y"
        },
        {
         "alignmentgroup": "True",
         "hovertemplate": "States=%{x}<br>Estimated Unemployment Rate=%{y}<extra></extra>",
         "legendgroup": "Tripura",
         "marker": {
          "color": "#ab63fa"
         },
         "name": "Tripura",
         "notched": false,
         "offsetgroup": "Tripura",
         "orientation": "v",
         "showlegend": true,
         "type": "box",
         "x": [
          "Tripura",
          "Tripura",
          "Tripura",
          "Tripura",
          "Tripura",
          "Tripura",
          "Tripura",
          "Tripura",
          "Tripura",
          "Tripura"
         ],
         "x0": " ",
         "xaxis": "x",
         "y": [
          32.67,
          28.4,
          29.95,
          41.23,
          21.51,
          21.71,
          18.24,
          27.92,
          17.35,
          11.57
         ],
         "y0": " ",
         "yaxis": "y"
        },
        {
         "alignmentgroup": "True",
         "hovertemplate": "States=%{x}<br>Estimated Unemployment Rate=%{y}<extra></extra>",
         "legendgroup": "Uttar Pradesh",
         "marker": {
          "color": "#FFA15A"
         },
         "name": "Uttar Pradesh",
         "notched": false,
         "offsetgroup": "Uttar Pradesh",
         "orientation": "v",
         "showlegend": true,
         "type": "box",
         "x": [
          "Uttar Pradesh",
          "Uttar Pradesh",
          "Uttar Pradesh",
          "Uttar Pradesh",
          "Uttar Pradesh",
          "Uttar Pradesh",
          "Uttar Pradesh",
          "Uttar Pradesh",
          "Uttar Pradesh",
          "Uttar Pradesh"
         ],
         "x0": " ",
         "xaxis": "x",
         "y": [
          7.58,
          8.98,
          10.11,
          21.54,
          20.41,
          9.47,
          5.56,
          5.79,
          4.18,
          3.75
         ],
         "y0": " ",
         "yaxis": "y"
        },
        {
         "alignmentgroup": "True",
         "hovertemplate": "States=%{x}<br>Estimated Unemployment Rate=%{y}<extra></extra>",
         "legendgroup": "Uttarakhand",
         "marker": {
          "color": "#19d3f3"
         },
         "name": "Uttarakhand",
         "notched": false,
         "offsetgroup": "Uttarakhand",
         "orientation": "v",
         "showlegend": true,
         "type": "box",
         "x": [
          "Uttarakhand",
          "Uttarakhand",
          "Uttarakhand",
          "Uttarakhand",
          "Uttarakhand",
          "Uttarakhand",
          "Uttarakhand",
          "Uttarakhand",
          "Uttarakhand",
          "Uttarakhand"
         ],
         "x0": " ",
         "xaxis": "x",
         "y": [
          5.49,
          4.99,
          19.85,
          6.48,
          8.01,
          8.61,
          12.38,
          14.26,
          22.26,
          9.23
         ],
         "y0": " ",
         "yaxis": "y"
        },
        {
         "alignmentgroup": "True",
         "hovertemplate": "States=%{x}<br>Estimated Unemployment Rate=%{y}<extra></extra>",
         "legendgroup": "West Bengal",
         "marker": {
          "color": "#FF6692"
         },
         "name": "West Bengal",
         "notched": false,
         "offsetgroup": "West Bengal",
         "orientation": "v",
         "showlegend": true,
         "type": "box",
         "x": [
          "West Bengal",
          "West Bengal",
          "West Bengal",
          "West Bengal",
          "West Bengal",
          "West Bengal",
          "West Bengal",
          "West Bengal",
          "West Bengal",
          "West Bengal"
         ],
         "x0": " ",
         "xaxis": "x",
         "y": [
          6.94,
          4.92,
          6.92,
          17.41,
          17.41,
          7.29,
          6.83,
          14.87,
          9.35,
          9.98
         ],
         "y0": " ",
         "yaxis": "y"
        }
       ],
       "layout": {
        "boxmode": "overlay",
        "legend": {
         "title": {
          "text": "States"
         },
         "tracegroupgap": 0
        },
        "template": {
         "data": {
          "bar": [
           {
            "error_x": {
             "color": "#2a3f5f"
            },
            "error_y": {
             "color": "#2a3f5f"
            },
            "marker": {
             "line": {
              "color": "#E5ECF6",
              "width": 0.5
             },
             "pattern": {
              "fillmode": "overlay",
              "size": 10,
              "solidity": 0.2
             }
            },
            "type": "bar"
           }
          ],
          "barpolar": [
           {
            "marker": {
             "line": {
              "color": "#E5ECF6",
              "width": 0.5
             },
             "pattern": {
              "fillmode": "overlay",
              "size": 10,
              "solidity": 0.2
             }
            },
            "type": "barpolar"
           }
          ],
          "carpet": [
           {
            "aaxis": {
             "endlinecolor": "#2a3f5f",
             "gridcolor": "white",
             "linecolor": "white",
             "minorgridcolor": "white",
             "startlinecolor": "#2a3f5f"
            },
            "baxis": {
             "endlinecolor": "#2a3f5f",
             "gridcolor": "white",
             "linecolor": "white",
             "minorgridcolor": "white",
             "startlinecolor": "#2a3f5f"
            },
            "type": "carpet"
           }
          ],
          "choropleth": [
           {
            "colorbar": {
             "outlinewidth": 0,
             "ticks": ""
            },
            "type": "choropleth"
           }
          ],
          "contour": [
           {
            "colorbar": {
             "outlinewidth": 0,
             "ticks": ""
            },
            "colorscale": [
             [
              0,
              "#0d0887"
             ],
             [
              0.1111111111111111,
              "#46039f"
             ],
             [
              0.2222222222222222,
              "#7201a8"
             ],
             [
              0.3333333333333333,
              "#9c179e"
             ],
             [
              0.4444444444444444,
              "#bd3786"
             ],
             [
              0.5555555555555556,
              "#d8576b"
             ],
             [
              0.6666666666666666,
              "#ed7953"
             ],
             [
              0.7777777777777778,
              "#fb9f3a"
             ],
             [
              0.8888888888888888,
              "#fdca26"
             ],
             [
              1,
              "#f0f921"
             ]
            ],
            "type": "contour"
           }
          ],
          "contourcarpet": [
           {
            "colorbar": {
             "outlinewidth": 0,
             "ticks": ""
            },
            "type": "contourcarpet"
           }
          ],
          "heatmap": [
           {
            "colorbar": {
             "outlinewidth": 0,
             "ticks": ""
            },
            "colorscale": [
             [
              0,
              "#0d0887"
             ],
             [
              0.1111111111111111,
              "#46039f"
             ],
             [
              0.2222222222222222,
              "#7201a8"
             ],
             [
              0.3333333333333333,
              "#9c179e"
             ],
             [
              0.4444444444444444,
              "#bd3786"
             ],
             [
              0.5555555555555556,
              "#d8576b"
             ],
             [
              0.6666666666666666,
              "#ed7953"
             ],
             [
              0.7777777777777778,
              "#fb9f3a"
             ],
             [
              0.8888888888888888,
              "#fdca26"
             ],
             [
              1,
              "#f0f921"
             ]
            ],
            "type": "heatmap"
           }
          ],
          "heatmapgl": [
           {
            "colorbar": {
             "outlinewidth": 0,
             "ticks": ""
            },
            "colorscale": [
             [
              0,
              "#0d0887"
             ],
             [
              0.1111111111111111,
              "#46039f"
             ],
             [
              0.2222222222222222,
              "#7201a8"
             ],
             [
              0.3333333333333333,
              "#9c179e"
             ],
             [
              0.4444444444444444,
              "#bd3786"
             ],
             [
              0.5555555555555556,
              "#d8576b"
             ],
             [
              0.6666666666666666,
              "#ed7953"
             ],
             [
              0.7777777777777778,
              "#fb9f3a"
             ],
             [
              0.8888888888888888,
              "#fdca26"
             ],
             [
              1,
              "#f0f921"
             ]
            ],
            "type": "heatmapgl"
           }
          ],
          "histogram": [
           {
            "marker": {
             "pattern": {
              "fillmode": "overlay",
              "size": 10,
              "solidity": 0.2
             }
            },
            "type": "histogram"
           }
          ],
          "histogram2d": [
           {
            "colorbar": {
             "outlinewidth": 0,
             "ticks": ""
            },
            "colorscale": [
             [
              0,
              "#0d0887"
             ],
             [
              0.1111111111111111,
              "#46039f"
             ],
             [
              0.2222222222222222,
              "#7201a8"
             ],
             [
              0.3333333333333333,
              "#9c179e"
             ],
             [
              0.4444444444444444,
              "#bd3786"
             ],
             [
              0.5555555555555556,
              "#d8576b"
             ],
             [
              0.6666666666666666,
              "#ed7953"
             ],
             [
              0.7777777777777778,
              "#fb9f3a"
             ],
             [
              0.8888888888888888,
              "#fdca26"
             ],
             [
              1,
              "#f0f921"
             ]
            ],
            "type": "histogram2d"
           }
          ],
          "histogram2dcontour": [
           {
            "colorbar": {
             "outlinewidth": 0,
             "ticks": ""
            },
            "colorscale": [
             [
              0,
              "#0d0887"
             ],
             [
              0.1111111111111111,
              "#46039f"
             ],
             [
              0.2222222222222222,
              "#7201a8"
             ],
             [
              0.3333333333333333,
              "#9c179e"
             ],
             [
              0.4444444444444444,
              "#bd3786"
             ],
             [
              0.5555555555555556,
              "#d8576b"
             ],
             [
              0.6666666666666666,
              "#ed7953"
             ],
             [
              0.7777777777777778,
              "#fb9f3a"
             ],
             [
              0.8888888888888888,
              "#fdca26"
             ],
             [
              1,
              "#f0f921"
             ]
            ],
            "type": "histogram2dcontour"
           }
          ],
          "mesh3d": [
           {
            "colorbar": {
             "outlinewidth": 0,
             "ticks": ""
            },
            "type": "mesh3d"
           }
          ],
          "parcoords": [
           {
            "line": {
             "colorbar": {
              "outlinewidth": 0,
              "ticks": ""
             }
            },
            "type": "parcoords"
           }
          ],
          "pie": [
           {
            "automargin": true,
            "type": "pie"
           }
          ],
          "scatter": [
           {
            "fillpattern": {
             "fillmode": "overlay",
             "size": 10,
             "solidity": 0.2
            },
            "type": "scatter"
           }
          ],
          "scatter3d": [
           {
            "line": {
             "colorbar": {
              "outlinewidth": 0,
              "ticks": ""
             }
            },
            "marker": {
             "colorbar": {
              "outlinewidth": 0,
              "ticks": ""
             }
            },
            "type": "scatter3d"
           }
          ],
          "scattercarpet": [
           {
            "marker": {
             "colorbar": {
              "outlinewidth": 0,
              "ticks": ""
             }
            },
            "type": "scattercarpet"
           }
          ],
          "scattergeo": [
           {
            "marker": {
             "colorbar": {
              "outlinewidth": 0,
              "ticks": ""
             }
            },
            "type": "scattergeo"
           }
          ],
          "scattergl": [
           {
            "marker": {
             "colorbar": {
              "outlinewidth": 0,
              "ticks": ""
             }
            },
            "type": "scattergl"
           }
          ],
          "scattermapbox": [
           {
            "marker": {
             "colorbar": {
              "outlinewidth": 0,
              "ticks": ""
             }
            },
            "type": "scattermapbox"
           }
          ],
          "scatterpolar": [
           {
            "marker": {
             "colorbar": {
              "outlinewidth": 0,
              "ticks": ""
             }
            },
            "type": "scatterpolar"
           }
          ],
          "scatterpolargl": [
           {
            "marker": {
             "colorbar": {
              "outlinewidth": 0,
              "ticks": ""
             }
            },
            "type": "scatterpolargl"
           }
          ],
          "scatterternary": [
           {
            "marker": {
             "colorbar": {
              "outlinewidth": 0,
              "ticks": ""
             }
            },
            "type": "scatterternary"
           }
          ],
          "surface": [
           {
            "colorbar": {
             "outlinewidth": 0,
             "ticks": ""
            },
            "colorscale": [
             [
              0,
              "#0d0887"
             ],
             [
              0.1111111111111111,
              "#46039f"
             ],
             [
              0.2222222222222222,
              "#7201a8"
             ],
             [
              0.3333333333333333,
              "#9c179e"
             ],
             [
              0.4444444444444444,
              "#bd3786"
             ],
             [
              0.5555555555555556,
              "#d8576b"
             ],
             [
              0.6666666666666666,
              "#ed7953"
             ],
             [
              0.7777777777777778,
              "#fb9f3a"
             ],
             [
              0.8888888888888888,
              "#fdca26"
             ],
             [
              1,
              "#f0f921"
             ]
            ],
            "type": "surface"
           }
          ],
          "table": [
           {
            "cells": {
             "fill": {
              "color": "#EBF0F8"
             },
             "line": {
              "color": "white"
             }
            },
            "header": {
             "fill": {
              "color": "#C8D4E3"
             },
             "line": {
              "color": "white"
             }
            },
            "type": "table"
           }
          ]
         },
         "layout": {
          "annotationdefaults": {
           "arrowcolor": "#2a3f5f",
           "arrowhead": 0,
           "arrowwidth": 1
          },
          "autotypenumbers": "strict",
          "coloraxis": {
           "colorbar": {
            "outlinewidth": 0,
            "ticks": ""
           }
          },
          "colorscale": {
           "diverging": [
            [
             0,
             "#8e0152"
            ],
            [
             0.1,
             "#c51b7d"
            ],
            [
             0.2,
             "#de77ae"
            ],
            [
             0.3,
             "#f1b6da"
            ],
            [
             0.4,
             "#fde0ef"
            ],
            [
             0.5,
             "#f7f7f7"
            ],
            [
             0.6,
             "#e6f5d0"
            ],
            [
             0.7,
             "#b8e186"
            ],
            [
             0.8,
             "#7fbc41"
            ],
            [
             0.9,
             "#4d9221"
            ],
            [
             1,
             "#276419"
            ]
           ],
           "sequential": [
            [
             0,
             "#0d0887"
            ],
            [
             0.1111111111111111,
             "#46039f"
            ],
            [
             0.2222222222222222,
             "#7201a8"
            ],
            [
             0.3333333333333333,
             "#9c179e"
            ],
            [
             0.4444444444444444,
             "#bd3786"
            ],
            [
             0.5555555555555556,
             "#d8576b"
            ],
            [
             0.6666666666666666,
             "#ed7953"
            ],
            [
             0.7777777777777778,
             "#fb9f3a"
            ],
            [
             0.8888888888888888,
             "#fdca26"
            ],
            [
             1,
             "#f0f921"
            ]
           ],
           "sequentialminus": [
            [
             0,
             "#0d0887"
            ],
            [
             0.1111111111111111,
             "#46039f"
            ],
            [
             0.2222222222222222,
             "#7201a8"
            ],
            [
             0.3333333333333333,
             "#9c179e"
            ],
            [
             0.4444444444444444,
             "#bd3786"
            ],
            [
             0.5555555555555556,
             "#d8576b"
            ],
            [
             0.6666666666666666,
             "#ed7953"
            ],
            [
             0.7777777777777778,
             "#fb9f3a"
            ],
            [
             0.8888888888888888,
             "#fdca26"
            ],
            [
             1,
             "#f0f921"
            ]
           ]
          },
          "colorway": [
           "#636efa",
           "#EF553B",
           "#00cc96",
           "#ab63fa",
           "#FFA15A",
           "#19d3f3",
           "#FF6692",
           "#B6E880",
           "#FF97FF",
           "#FECB52"
          ],
          "font": {
           "color": "#2a3f5f"
          },
          "geo": {
           "bgcolor": "white",
           "lakecolor": "white",
           "landcolor": "#E5ECF6",
           "showlakes": true,
           "showland": true,
           "subunitcolor": "white"
          },
          "hoverlabel": {
           "align": "left"
          },
          "hovermode": "closest",
          "mapbox": {
           "style": "light"
          },
          "paper_bgcolor": "white",
          "plot_bgcolor": "#E5ECF6",
          "polar": {
           "angularaxis": {
            "gridcolor": "white",
            "linecolor": "white",
            "ticks": ""
           },
           "bgcolor": "#E5ECF6",
           "radialaxis": {
            "gridcolor": "white",
            "linecolor": "white",
            "ticks": ""
           }
          },
          "scene": {
           "xaxis": {
            "backgroundcolor": "#E5ECF6",
            "gridcolor": "white",
            "gridwidth": 2,
            "linecolor": "white",
            "showbackground": true,
            "ticks": "",
            "zerolinecolor": "white"
           },
           "yaxis": {
            "backgroundcolor": "#E5ECF6",
            "gridcolor": "white",
            "gridwidth": 2,
            "linecolor": "white",
            "showbackground": true,
            "ticks": "",
            "zerolinecolor": "white"
           },
           "zaxis": {
            "backgroundcolor": "#E5ECF6",
            "gridcolor": "white",
            "gridwidth": 2,
            "linecolor": "white",
            "showbackground": true,
            "ticks": "",
            "zerolinecolor": "white"
           }
          },
          "shapedefaults": {
           "line": {
            "color": "#2a3f5f"
           }
          },
          "ternary": {
           "aaxis": {
            "gridcolor": "white",
            "linecolor": "white",
            "ticks": ""
           },
           "baxis": {
            "gridcolor": "white",
            "linecolor": "white",
            "ticks": ""
           },
           "bgcolor": "#E5ECF6",
           "caxis": {
            "gridcolor": "white",
            "linecolor": "white",
            "ticks": ""
           }
          },
          "title": {
           "x": 0.05
          },
          "xaxis": {
           "automargin": true,
           "gridcolor": "white",
           "linecolor": "white",
           "ticks": "",
           "title": {
            "standoff": 15
           },
           "zerolinecolor": "white",
           "zerolinewidth": 2
          },
          "yaxis": {
           "automargin": true,
           "gridcolor": "white",
           "linecolor": "white",
           "ticks": "",
           "title": {
            "standoff": 15
           },
           "zerolinecolor": "white",
           "zerolinewidth": 2
          }
         }
        },
        "title": {
         "text": "Unemployment rate"
        },
        "xaxis": {
         "anchor": "y",
         "categoryarray": [
          "Andhra Pradesh",
          "Assam",
          "Bihar",
          "Chhattisgarh",
          "Delhi",
          "Goa",
          "Gujarat",
          "Haryana",
          "Himachal Pradesh",
          "Jammu & Kashmir",
          "Jharkhand",
          "Karnataka",
          "Kerala",
          "Madhya Pradesh",
          "Maharashtra",
          "Meghalaya",
          "Odisha",
          "Puducherry",
          "Punjab",
          "Rajasthan",
          "Sikkim",
          "Tamil Nadu",
          "Telangana",
          "Tripura",
          "Uttar Pradesh",
          "Uttarakhand",
          "West Bengal"
         ],
         "categoryorder": "total descending",
         "domain": [
          0,
          1
         ],
         "title": {
          "text": "States"
         }
        },
        "yaxis": {
         "anchor": "x",
         "domain": [
          0,
          1
         ],
         "title": {
          "text": "Estimated Unemployment Rate"
         }
        }
       }
      }
     },
     "metadata": {},
     "output_type": "display_data"
    }
   ],
   "source": [
    "# Box Plot of Uemployment Rate by State\n",
    "\n",
    "un_fig = px.box(un_data, x='States', y='Estimated Unemployment Rate', \n",
    "             color='States', title='Unemployment rate', template='plotly')\n",
    "un_fig.update_layout(xaxis={'categoryorder': 'total descending'})\n",
    "un_fig.show()"
   ]
  },
  {
   "cell_type": "code",
   "execution_count": 12,
   "id": "0087331b",
   "metadata": {},
   "outputs": [
    {
     "name": "stderr",
     "output_type": "stream",
     "text": [
      "c:\\Users\\USER\\anaconda3\\lib\\site-packages\\plotly\\express\\_core.py:279: FutureWarning:\n",
      "\n",
      "iteritems is deprecated and will be removed in a future version. Use .items instead.\n",
      "\n"
     ]
    },
    {
     "data": {
      "application/vnd.plotly.v1+json": {
       "config": {
        "plotlyServerURL": "https://plot.ly"
       },
       "data": [
        {
         "dimensions": [
          {
           "axis": {
            "matches": true
           },
           "label": "Estimated Unemployment Rate",
           "values": [
            5.48,
            5.83,
            5.79,
            20.51,
            17.43,
            3.31,
            8.34,
            6.96,
            6.4,
            6.59,
            2.86,
            3.61,
            3.46,
            29.84,
            19.97,
            8.44,
            4.01,
            0.5,
            2.41,
            1.58,
            5.31,
            7.6,
            8.99,
            16.99,
            17.88,
            9.71,
            7.09,
            10.98,
            5.91,
            3.88,
            0.58,
            1.76,
            1.2,
            75.85,
            58.19,
            4.24,
            15.47,
            5.05,
            10.9,
            6.18,
            1.57,
            2.09,
            6.4,
            49.83,
            33.16,
            12.2,
            6.81,
            2.65,
            5,
            2.16,
            5.49,
            8.29,
            5.77,
            6.25,
            14.7,
            10.55,
            5.36,
            5.79,
            3.27,
            2.86
           ]
          },
          {
           "axis": {
            "matches": true
           },
           "label": "Estimated Employed",
           "values": [
            16635535,
            16545652,
            15881197,
            11336911,
            12988845,
            19805400,
            15431615,
            15251776,
            15220312,
            15157557,
            22688028,
            21677719,
            22079653,
            16718395,
            19397853,
            24215057,
            22885616,
            24094289,
            20127176,
            22356390,
            9904534,
            9828023,
            8221728,
            3933276,
            7921962,
            9228268,
            9504420,
            9031944,
            9240913,
            9152881,
            457950,
            493961,
            421028,
            117542,
            172308,
            367135,
            386563,
            396006,
            411717,
            428419,
            26881641,
            27570589,
            26830768,
            9719167,
            11483256,
            19096847,
            24572827,
            27046415,
            23025845,
            23651626,
            17609295,
            16825970,
            17341613,
            12172230,
            14977774,
            15108910,
            15679417,
            18185429,
            16961448,
            17578739
           ]
          },
          {
           "axis": {
            "matches": true
           },
           "label": "Estimated Labour Participation Rate",
           "values": [
            41.02,
            40.9,
            39.18,
            33.1,
            36.46,
            47.41,
            38.91,
            37.83,
            37.47,
            37.34,
            42.18,
            40.54,
            41.14,
            42.78,
            43.43,
            47.29,
            42.55,
            43.13,
            36.66,
            40.3,
            37.12,
            37.71,
            32,
            16.77,
            34.11,
            36.11,
            36.1,
            35.78,
            34.6,
            33.52,
            37.46,
            40.8,
            34.49,
            39.3,
            33.19,
            30.8,
            36.64,
            33.34,
            36.84,
            36.32,
            41.96,
            43.2,
            43.91,
            29.63,
            26.23,
            33.16,
            40.13,
            42.22,
            36.77,
            36.62,
            59.25,
            58.24,
            58.31,
            41.06,
            55.43,
            53.22,
            52.1,
            60.59,
            54.94,
            56.58
           ]
          }
         ],
         "hovertemplate": "Region=South<br>%{xaxis.title.text}=%{x}<br>%{yaxis.title.text}=%{y}<extra></extra>",
         "legendgroup": "South",
         "marker": {
          "color": "#636efa",
          "symbol": "circle"
         },
         "name": "South",
         "showlegend": true,
         "type": "splom"
        },
        {
         "dimensions": [
          {
           "axis": {
            "matches": true
           },
           "label": "Estimated Unemployment Rate",
           "values": [
            4.66,
            4.41,
            4.77,
            11.06,
            9.55,
            0.6,
            3.77,
            5.53,
            1.19,
            3.02,
            1.66,
            3.59,
            1.58,
            10.03,
            5.92,
            1.15,
            2.1,
            3.74,
            4.29,
            4.6,
            23.57,
            2.28,
            24.51,
            4.46,
            4.45,
            12.49,
            5.7,
            0.88,
            32.67,
            28.4,
            29.95,
            41.23,
            21.51,
            21.71,
            18.24,
            27.92,
            17.35,
            11.57
           ]
          },
          {
           "axis": {
            "matches": true
           },
           "label": "Estimated Employed",
           "values": [
            13051904,
            10088268,
            11542888,
            6830817,
            11367897,
            9095944,
            10286757,
            9781310,
            14107641,
            11949329,
            1491093,
            1346829,
            1482351,
            965057,
            1215064,
            1350794,
            1448106,
            1357643,
            1459726,
            1381490,
            262895,
            215303,
            193427,
            221058,
            265175,
            244462,
            231798,
            242068,
            1508130,
            1584686,
            1511217,
            971514,
            1290986,
            1494140,
            1348849,
            1318621,
            1368244,
            1576529
           ]
          },
          {
           "axis": {
            "matches": true
           },
           "label": "Estimated Labour Participation Rate",
           "values": [
            52.98,
            40.77,
            46.73,
            29.55,
            48.26,
            35.07,
            40.88,
            39.52,
            54.38,
            46.84,
            65.49,
            60.2,
            64.74,
            45.99,
            55.24,
            58.31,
            62.96,
            59.88,
            64.6,
            61.18,
            60.59,
            38.7,
            44.88,
            40.4,
            48.32,
            48.49,
            42.54,
            42.13,
            69.69,
            68.74,
            66.89,
            51.16,
            50.81,
            58.85,
            50.78,
            56.21,
            50.77,
            54.58
           ]
          }
         ],
         "hovertemplate": "Region=Northeast<br>%{xaxis.title.text}=%{x}<br>%{yaxis.title.text}=%{y}<extra></extra>",
         "legendgroup": "Northeast",
         "marker": {
          "color": "#EF553B",
          "symbol": "circle"
         },
         "name": "Northeast",
         "showlegend": true,
         "type": "splom"
        },
        {
         "dimensions": [
          {
           "axis": {
            "matches": true
           },
           "label": "Estimated Unemployment Rate",
           "values": [
            10.61,
            10.29,
            15.43,
            46.64,
            45.96,
            17.82,
            12.79,
            13.44,
            11.91,
            9.82,
            10.61,
            11.85,
            8.23,
            47.09,
            59.23,
            20.95,
            7.63,
            9.76,
            8.24,
            11.8,
            1.9,
            3.12,
            13.08,
            23.76,
            11.41,
            3.77,
            1.88,
            1.42,
            2.1,
            2.18,
            6.94,
            4.92,
            6.92,
            17.41,
            17.41,
            7.29,
            6.83,
            14.87,
            9.35,
            9.98
           ]
          },
          {
           "axis": {
            "matches": true
           },
           "label": "Estimated Employed",
           "values": [
            26397671,
            26281655,
            25717519,
            16046236,
            16280203,
            23963933,
            24989370,
            23795534,
            26902907,
            25693252,
            10198029,
            10425425,
            9638115,
            5335262,
            4145385,
            8622722,
            9521900,
            9331640,
            10185670,
            10302276,
            13743448,
            14280735,
            12272109,
            6865693,
            11730937,
            12903993,
            13614400,
            14154039,
            13608422,
            14094553,
            35820789,
            36964178,
            35903917,
            26938836,
            28356675,
            30726310,
            35372506,
            33298644,
            35707239,
            33962549
           ]
          },
          {
           "axis": {
            "matches": true
           },
           "label": "Estimated Labour Participation Rate",
           "values": [
            37.72,
            37.35,
            38.69,
            38.17,
            38.16,
            36.86,
            36.14,
            34.59,
            38.35,
            35.7,
            42.92,
            44.4,
            39.34,
            37.69,
            37.92,
            40.59,
            38.27,
            38.31,
            41.04,
            43.08,
            39.44,
            41.44,
            39.62,
            25.23,
            37.04,
            37.45,
            38.69,
            39.96,
            38.63,
            39.98,
            47.35,
            47.74,
            47.27,
            39.9,
            41.92,
            40.39,
            46.17,
            47.48,
            47.73,
            45.63
           ]
          }
         ],
         "hovertemplate": "Region=East<br>%{xaxis.title.text}=%{x}<br>%{yaxis.title.text}=%{y}<extra></extra>",
         "legendgroup": "East",
         "marker": {
          "color": "#00cc96",
          "symbol": "circle"
         },
         "name": "East",
         "showlegend": true,
         "type": "splom"
        },
        {
         "dimensions": [
          {
           "axis": {
            "matches": true
           },
           "label": "Estimated Unemployment Rate",
           "values": [
            9.65,
            8.38,
            7.54,
            3.41,
            10.5,
            14.23,
            10.27,
            5.63,
            1.96,
            6.62,
            8.89,
            2.81,
            5.25,
            13.31,
            21.25,
            9.96,
            17.07,
            16.21,
            15.38,
            11.54,
            5.54,
            6.38,
            6.66,
            18.71,
            12.11,
            3.2,
            1.84,
            1.87,
            3.42,
            4.03,
            4.11,
            4.57,
            2.22,
            12.36,
            21.98,
            6.48,
            5.08,
            4.7,
            3.91,
            3.13,
            4.95,
            4.69,
            5.79,
            20.9,
            15.46,
            9.23,
            3.89,
            6.23,
            4.55,
            4.1
           ]
          },
          {
           "axis": {
            "matches": true
           },
           "label": "Estimated Employed",
           "values": [
            8552172,
            9195114,
            9302317,
            7600448,
            6991217,
            7332807,
            8620294,
            9050422,
            9021854,
            8546847,
            416750,
            478068,
            411761,
            500614,
            378244,
            489111,
            458876,
            473016,
            425004,
            392304,
            24126346,
            24757795,
            23566641,
            15288878,
            17836936,
            23657055,
            24276120,
            22817232,
            25010199,
            25970259,
            23018632,
            22711479,
            22867164,
            19041832,
            18443927,
            23054646,
            23940158,
            23619011,
            23341952,
            23144552,
            42596868,
            42416317,
            40196806,
            27689253,
            32116847,
            39708538,
            40998545,
            40963616,
            42042911,
            43317881
           ]
          },
          {
           "axis": {
            "matches": true
           },
           "label": "Estimated Labour Participation Rate",
           "values": [
            43.08,
            45.58,
            45.59,
            35.58,
            35.23,
            38.48,
            43.14,
            42.97,
            41.14,
            40.82,
            35.73,
            38.38,
            33.88,
            44.97,
            37.36,
            42.21,
            42.94,
            43.76,
            38.89,
            34.3,
            48.49,
            50.11,
            47.75,
            35.5,
            38.23,
            45.96,
            46.41,
            43.55,
            48.41,
            50.49,
            39.42,
            39,
            38.24,
            35.45,
            38.48,
            40.04,
            40.88,
            40.08,
            39.2,
            38.47,
            44.19,
            43.8,
            41.91,
            34.32,
            37.17,
            42.71,
            41.57,
            42.49,
            42.75,
            43.75
           ]
          }
         ],
         "hovertemplate": "Region=West<br>%{xaxis.title.text}=%{x}<br>%{yaxis.title.text}=%{y}<extra></extra>",
         "legendgroup": "West",
         "marker": {
          "color": "#ab63fa",
          "symbol": "circle"
         },
         "name": "West",
         "showlegend": true,
         "type": "splom"
        },
        {
         "dimensions": [
          {
           "axis": {
            "matches": true
           },
           "label": "Estimated Unemployment Rate",
           "values": [
            22.23,
            14.84,
            17.04,
            16.68,
            42.27,
            18.19,
            20.3,
            13.79,
            12.53,
            6.27,
            20.34,
            25.77,
            25.05,
            43.22,
            29.02,
            26.7,
            24.18,
            33.5,
            19.68,
            27.31,
            16.83,
            16.84,
            18.76,
            2.2,
            26.95,
            13.47,
            24.31,
            15.79,
            12.04,
            13.46,
            21.08,
            20.78,
            15.5,
            18.74,
            17.92,
            10.88,
            11.09,
            16.17,
            16.14,
            11.11,
            10.97,
            10.32,
            2.86,
            28.33,
            16.55,
            9.19,
            10.99,
            9.61,
            9.88,
            10.97,
            15.16,
            11.9,
            17.7,
            15.74,
            14.39,
            15.81,
            17.51,
            15.35,
            24.15,
            7.58,
            8.98,
            10.11,
            21.54,
            20.41,
            9.47,
            5.56,
            5.79,
            4.18,
            3.75,
            5.49,
            4.99,
            19.85,
            6.48,
            8.01,
            8.61,
            12.38,
            14.26,
            22.26,
            9.23
           ]
          },
          {
           "axis": {
            "matches": true
           },
           "label": "Estimated Employed",
           "values": [
            5805284,
            5856307,
            5553805,
            3119274,
            2632404,
            4418914,
            4291053,
            4850107,
            4958373,
            4842698,
            7693231,
            7322942,
            6641555,
            5647630,
            6437868,
            6951934,
            6800652,
            7113788,
            7132439,
            6698551,
            2287632,
            2180268,
            2021858,
            1131128,
            1897639,
            2199683,
            2229456,
            2029740,
            2237480,
            2123965,
            3453025,
            3223513,
            3359107,
            3246493,
            3202336,
            3558889,
            3429950,
            3210281,
            3106691,
            9442093,
            9229047,
            9975485,
            7020565,
            6872938,
            8390766,
            9732417,
            9386169,
            8980432,
            8800430,
            20641716,
            20328915,
            20024680,
            15984142,
            19826602,
            20506612,
            19932393,
            20014060,
            20149594,
            19908808,
            59433759,
            58060531,
            56976338,
            50915056,
            49801902,
            55380649,
            56201654,
            55831744,
            56106836,
            56539521,
            2711639,
            3020931,
            2539302,
            2720115,
            2694072,
            2656071,
            2938552,
            2717528,
            2695230,
            2739309
           ]
          },
          {
           "axis": {
            "matches": true
           },
           "label": "Estimated Labour Participation Rate",
           "values": [
            47.79,
            43.92,
            42.65,
            23.8,
            28.91,
            34.17,
            33.97,
            35.41,
            35.59,
            32.36,
            43.36,
            44.21,
            39.63,
            44.38,
            40.39,
            42.14,
            39.77,
            47.32,
            39.2,
            40.6,
            45.5,
            43.3,
            41.04,
            19.04,
            42.7,
            41.72,
            48.25,
            39.42,
            41.54,
            40.01,
            42.2,
            39.17,
            38.18,
            38.21,
            37.24,
            38.03,
            36.66,
            36.31,
            35.05,
            42.82,
            41.72,
            44.69,
            28.99,
            38.39,
            40.18,
            42.76,
            41.99,
            39.5,
            38.75,
            40.51,
            41.77,
            39.54,
            33.71,
            40.74,
            41.38,
            40.8,
            41.71,
            40.83,
            44.92,
            39.63,
            39.23,
            38.89,
            39.73,
            38.22,
            37.29,
            36.19,
            35.96,
            35.45,
            35.49,
            32.99,
            36.48,
            36.27,
            33.23,
            33.38,
            33.06,
            38.07,
            35.9,
            39.18,
            34.03
           ]
          }
         ],
         "hovertemplate": "Region=North<br>%{xaxis.title.text}=%{x}<br>%{yaxis.title.text}=%{y}<extra></extra>",
         "legendgroup": "North",
         "marker": {
          "color": "#FFA15A",
          "symbol": "circle"
         },
         "name": "North",
         "showlegend": true,
         "type": "splom"
        }
       ],
       "layout": {
        "dragmode": "select",
        "legend": {
         "title": {
          "text": "Region"
         },
         "tracegroupgap": 0
        },
        "margin": {
         "t": 60
        },
        "template": {
         "data": {
          "bar": [
           {
            "error_x": {
             "color": "#2a3f5f"
            },
            "error_y": {
             "color": "#2a3f5f"
            },
            "marker": {
             "line": {
              "color": "#E5ECF6",
              "width": 0.5
             },
             "pattern": {
              "fillmode": "overlay",
              "size": 10,
              "solidity": 0.2
             }
            },
            "type": "bar"
           }
          ],
          "barpolar": [
           {
            "marker": {
             "line": {
              "color": "#E5ECF6",
              "width": 0.5
             },
             "pattern": {
              "fillmode": "overlay",
              "size": 10,
              "solidity": 0.2
             }
            },
            "type": "barpolar"
           }
          ],
          "carpet": [
           {
            "aaxis": {
             "endlinecolor": "#2a3f5f",
             "gridcolor": "white",
             "linecolor": "white",
             "minorgridcolor": "white",
             "startlinecolor": "#2a3f5f"
            },
            "baxis": {
             "endlinecolor": "#2a3f5f",
             "gridcolor": "white",
             "linecolor": "white",
             "minorgridcolor": "white",
             "startlinecolor": "#2a3f5f"
            },
            "type": "carpet"
           }
          ],
          "choropleth": [
           {
            "colorbar": {
             "outlinewidth": 0,
             "ticks": ""
            },
            "type": "choropleth"
           }
          ],
          "contour": [
           {
            "colorbar": {
             "outlinewidth": 0,
             "ticks": ""
            },
            "colorscale": [
             [
              0,
              "#0d0887"
             ],
             [
              0.1111111111111111,
              "#46039f"
             ],
             [
              0.2222222222222222,
              "#7201a8"
             ],
             [
              0.3333333333333333,
              "#9c179e"
             ],
             [
              0.4444444444444444,
              "#bd3786"
             ],
             [
              0.5555555555555556,
              "#d8576b"
             ],
             [
              0.6666666666666666,
              "#ed7953"
             ],
             [
              0.7777777777777778,
              "#fb9f3a"
             ],
             [
              0.8888888888888888,
              "#fdca26"
             ],
             [
              1,
              "#f0f921"
             ]
            ],
            "type": "contour"
           }
          ],
          "contourcarpet": [
           {
            "colorbar": {
             "outlinewidth": 0,
             "ticks": ""
            },
            "type": "contourcarpet"
           }
          ],
          "heatmap": [
           {
            "colorbar": {
             "outlinewidth": 0,
             "ticks": ""
            },
            "colorscale": [
             [
              0,
              "#0d0887"
             ],
             [
              0.1111111111111111,
              "#46039f"
             ],
             [
              0.2222222222222222,
              "#7201a8"
             ],
             [
              0.3333333333333333,
              "#9c179e"
             ],
             [
              0.4444444444444444,
              "#bd3786"
             ],
             [
              0.5555555555555556,
              "#d8576b"
             ],
             [
              0.6666666666666666,
              "#ed7953"
             ],
             [
              0.7777777777777778,
              "#fb9f3a"
             ],
             [
              0.8888888888888888,
              "#fdca26"
             ],
             [
              1,
              "#f0f921"
             ]
            ],
            "type": "heatmap"
           }
          ],
          "heatmapgl": [
           {
            "colorbar": {
             "outlinewidth": 0,
             "ticks": ""
            },
            "colorscale": [
             [
              0,
              "#0d0887"
             ],
             [
              0.1111111111111111,
              "#46039f"
             ],
             [
              0.2222222222222222,
              "#7201a8"
             ],
             [
              0.3333333333333333,
              "#9c179e"
             ],
             [
              0.4444444444444444,
              "#bd3786"
             ],
             [
              0.5555555555555556,
              "#d8576b"
             ],
             [
              0.6666666666666666,
              "#ed7953"
             ],
             [
              0.7777777777777778,
              "#fb9f3a"
             ],
             [
              0.8888888888888888,
              "#fdca26"
             ],
             [
              1,
              "#f0f921"
             ]
            ],
            "type": "heatmapgl"
           }
          ],
          "histogram": [
           {
            "marker": {
             "pattern": {
              "fillmode": "overlay",
              "size": 10,
              "solidity": 0.2
             }
            },
            "type": "histogram"
           }
          ],
          "histogram2d": [
           {
            "colorbar": {
             "outlinewidth": 0,
             "ticks": ""
            },
            "colorscale": [
             [
              0,
              "#0d0887"
             ],
             [
              0.1111111111111111,
              "#46039f"
             ],
             [
              0.2222222222222222,
              "#7201a8"
             ],
             [
              0.3333333333333333,
              "#9c179e"
             ],
             [
              0.4444444444444444,
              "#bd3786"
             ],
             [
              0.5555555555555556,
              "#d8576b"
             ],
             [
              0.6666666666666666,
              "#ed7953"
             ],
             [
              0.7777777777777778,
              "#fb9f3a"
             ],
             [
              0.8888888888888888,
              "#fdca26"
             ],
             [
              1,
              "#f0f921"
             ]
            ],
            "type": "histogram2d"
           }
          ],
          "histogram2dcontour": [
           {
            "colorbar": {
             "outlinewidth": 0,
             "ticks": ""
            },
            "colorscale": [
             [
              0,
              "#0d0887"
             ],
             [
              0.1111111111111111,
              "#46039f"
             ],
             [
              0.2222222222222222,
              "#7201a8"
             ],
             [
              0.3333333333333333,
              "#9c179e"
             ],
             [
              0.4444444444444444,
              "#bd3786"
             ],
             [
              0.5555555555555556,
              "#d8576b"
             ],
             [
              0.6666666666666666,
              "#ed7953"
             ],
             [
              0.7777777777777778,
              "#fb9f3a"
             ],
             [
              0.8888888888888888,
              "#fdca26"
             ],
             [
              1,
              "#f0f921"
             ]
            ],
            "type": "histogram2dcontour"
           }
          ],
          "mesh3d": [
           {
            "colorbar": {
             "outlinewidth": 0,
             "ticks": ""
            },
            "type": "mesh3d"
           }
          ],
          "parcoords": [
           {
            "line": {
             "colorbar": {
              "outlinewidth": 0,
              "ticks": ""
             }
            },
            "type": "parcoords"
           }
          ],
          "pie": [
           {
            "automargin": true,
            "type": "pie"
           }
          ],
          "scatter": [
           {
            "fillpattern": {
             "fillmode": "overlay",
             "size": 10,
             "solidity": 0.2
            },
            "type": "scatter"
           }
          ],
          "scatter3d": [
           {
            "line": {
             "colorbar": {
              "outlinewidth": 0,
              "ticks": ""
             }
            },
            "marker": {
             "colorbar": {
              "outlinewidth": 0,
              "ticks": ""
             }
            },
            "type": "scatter3d"
           }
          ],
          "scattercarpet": [
           {
            "marker": {
             "colorbar": {
              "outlinewidth": 0,
              "ticks": ""
             }
            },
            "type": "scattercarpet"
           }
          ],
          "scattergeo": [
           {
            "marker": {
             "colorbar": {
              "outlinewidth": 0,
              "ticks": ""
             }
            },
            "type": "scattergeo"
           }
          ],
          "scattergl": [
           {
            "marker": {
             "colorbar": {
              "outlinewidth": 0,
              "ticks": ""
             }
            },
            "type": "scattergl"
           }
          ],
          "scattermapbox": [
           {
            "marker": {
             "colorbar": {
              "outlinewidth": 0,
              "ticks": ""
             }
            },
            "type": "scattermapbox"
           }
          ],
          "scatterpolar": [
           {
            "marker": {
             "colorbar": {
              "outlinewidth": 0,
              "ticks": ""
             }
            },
            "type": "scatterpolar"
           }
          ],
          "scatterpolargl": [
           {
            "marker": {
             "colorbar": {
              "outlinewidth": 0,
              "ticks": ""
             }
            },
            "type": "scatterpolargl"
           }
          ],
          "scatterternary": [
           {
            "marker": {
             "colorbar": {
              "outlinewidth": 0,
              "ticks": ""
             }
            },
            "type": "scatterternary"
           }
          ],
          "surface": [
           {
            "colorbar": {
             "outlinewidth": 0,
             "ticks": ""
            },
            "colorscale": [
             [
              0,
              "#0d0887"
             ],
             [
              0.1111111111111111,
              "#46039f"
             ],
             [
              0.2222222222222222,
              "#7201a8"
             ],
             [
              0.3333333333333333,
              "#9c179e"
             ],
             [
              0.4444444444444444,
              "#bd3786"
             ],
             [
              0.5555555555555556,
              "#d8576b"
             ],
             [
              0.6666666666666666,
              "#ed7953"
             ],
             [
              0.7777777777777778,
              "#fb9f3a"
             ],
             [
              0.8888888888888888,
              "#fdca26"
             ],
             [
              1,
              "#f0f921"
             ]
            ],
            "type": "surface"
           }
          ],
          "table": [
           {
            "cells": {
             "fill": {
              "color": "#EBF0F8"
             },
             "line": {
              "color": "white"
             }
            },
            "header": {
             "fill": {
              "color": "#C8D4E3"
             },
             "line": {
              "color": "white"
             }
            },
            "type": "table"
           }
          ]
         },
         "layout": {
          "annotationdefaults": {
           "arrowcolor": "#2a3f5f",
           "arrowhead": 0,
           "arrowwidth": 1
          },
          "autotypenumbers": "strict",
          "coloraxis": {
           "colorbar": {
            "outlinewidth": 0,
            "ticks": ""
           }
          },
          "colorscale": {
           "diverging": [
            [
             0,
             "#8e0152"
            ],
            [
             0.1,
             "#c51b7d"
            ],
            [
             0.2,
             "#de77ae"
            ],
            [
             0.3,
             "#f1b6da"
            ],
            [
             0.4,
             "#fde0ef"
            ],
            [
             0.5,
             "#f7f7f7"
            ],
            [
             0.6,
             "#e6f5d0"
            ],
            [
             0.7,
             "#b8e186"
            ],
            [
             0.8,
             "#7fbc41"
            ],
            [
             0.9,
             "#4d9221"
            ],
            [
             1,
             "#276419"
            ]
           ],
           "sequential": [
            [
             0,
             "#0d0887"
            ],
            [
             0.1111111111111111,
             "#46039f"
            ],
            [
             0.2222222222222222,
             "#7201a8"
            ],
            [
             0.3333333333333333,
             "#9c179e"
            ],
            [
             0.4444444444444444,
             "#bd3786"
            ],
            [
             0.5555555555555556,
             "#d8576b"
            ],
            [
             0.6666666666666666,
             "#ed7953"
            ],
            [
             0.7777777777777778,
             "#fb9f3a"
            ],
            [
             0.8888888888888888,
             "#fdca26"
            ],
            [
             1,
             "#f0f921"
            ]
           ],
           "sequentialminus": [
            [
             0,
             "#0d0887"
            ],
            [
             0.1111111111111111,
             "#46039f"
            ],
            [
             0.2222222222222222,
             "#7201a8"
            ],
            [
             0.3333333333333333,
             "#9c179e"
            ],
            [
             0.4444444444444444,
             "#bd3786"
            ],
            [
             0.5555555555555556,
             "#d8576b"
            ],
            [
             0.6666666666666666,
             "#ed7953"
            ],
            [
             0.7777777777777778,
             "#fb9f3a"
            ],
            [
             0.8888888888888888,
             "#fdca26"
            ],
            [
             1,
             "#f0f921"
            ]
           ]
          },
          "colorway": [
           "#636efa",
           "#EF553B",
           "#00cc96",
           "#ab63fa",
           "#FFA15A",
           "#19d3f3",
           "#FF6692",
           "#B6E880",
           "#FF97FF",
           "#FECB52"
          ],
          "font": {
           "color": "#2a3f5f"
          },
          "geo": {
           "bgcolor": "white",
           "lakecolor": "white",
           "landcolor": "#E5ECF6",
           "showlakes": true,
           "showland": true,
           "subunitcolor": "white"
          },
          "hoverlabel": {
           "align": "left"
          },
          "hovermode": "closest",
          "mapbox": {
           "style": "light"
          },
          "paper_bgcolor": "white",
          "plot_bgcolor": "#E5ECF6",
          "polar": {
           "angularaxis": {
            "gridcolor": "white",
            "linecolor": "white",
            "ticks": ""
           },
           "bgcolor": "#E5ECF6",
           "radialaxis": {
            "gridcolor": "white",
            "linecolor": "white",
            "ticks": ""
           }
          },
          "scene": {
           "xaxis": {
            "backgroundcolor": "#E5ECF6",
            "gridcolor": "white",
            "gridwidth": 2,
            "linecolor": "white",
            "showbackground": true,
            "ticks": "",
            "zerolinecolor": "white"
           },
           "yaxis": {
            "backgroundcolor": "#E5ECF6",
            "gridcolor": "white",
            "gridwidth": 2,
            "linecolor": "white",
            "showbackground": true,
            "ticks": "",
            "zerolinecolor": "white"
           },
           "zaxis": {
            "backgroundcolor": "#E5ECF6",
            "gridcolor": "white",
            "gridwidth": 2,
            "linecolor": "white",
            "showbackground": true,
            "ticks": "",
            "zerolinecolor": "white"
           }
          },
          "shapedefaults": {
           "line": {
            "color": "#2a3f5f"
           }
          },
          "ternary": {
           "aaxis": {
            "gridcolor": "white",
            "linecolor": "white",
            "ticks": ""
           },
           "baxis": {
            "gridcolor": "white",
            "linecolor": "white",
            "ticks": ""
           },
           "bgcolor": "#E5ECF6",
           "caxis": {
            "gridcolor": "white",
            "linecolor": "white",
            "ticks": ""
           }
          },
          "title": {
           "x": 0.05
          },
          "xaxis": {
           "automargin": true,
           "gridcolor": "white",
           "linecolor": "white",
           "ticks": "",
           "title": {
            "standoff": 15
           },
           "zerolinecolor": "white",
           "zerolinewidth": 2
          },
          "yaxis": {
           "automargin": true,
           "gridcolor": "white",
           "linecolor": "white",
           "ticks": "",
           "title": {
            "standoff": 15
           },
           "zerolinecolor": "white",
           "zerolinewidth": 2
          }
         }
        }
       }
      }
     },
     "metadata": {},
     "output_type": "display_data"
    }
   ],
   "source": [
    "# Scatter Matrix\n",
    "\n",
    "fig = px.scatter_matrix(un_data, template='plotly',dimensions=['Estimated Unemployment Rate', 'Estimated Employed',\n",
    "                                                               'Estimated Labour Participation Rate'], color='Region')\n",
    "fig.show()"
   ]
  },
  {
   "cell_type": "code",
   "execution_count": 13,
   "id": "f5e2bd33",
   "metadata": {},
   "outputs": [
    {
     "data": {
      "application/vnd.plotly.v1+json": {
       "config": {
        "plotlyServerURL": "https://plot.ly"
       },
       "data": [
        {
         "alignmentgroup": "True",
         "hovertemplate": "States=%{x}<br>Estimated Unemployment Rate=%{y}<extra></extra>",
         "legendgroup": "Meghalaya",
         "marker": {
          "color": "#636efa",
          "pattern": {
           "shape": ""
          }
         },
         "name": "Meghalaya",
         "offsetgroup": "Meghalaya",
         "orientation": "v",
         "showlegend": true,
         "textposition": "auto",
         "type": "bar",
         "x": [
          "Meghalaya"
         ],
         "xaxis": "x",
         "y": [
          3.8659999999999997
         ],
         "yaxis": "y"
        },
        {
         "alignmentgroup": "True",
         "hovertemplate": "States=%{x}<br>Estimated Unemployment Rate=%{y}<extra></extra>",
         "legendgroup": "Assam",
         "marker": {
          "color": "#EF553B",
          "pattern": {
           "shape": ""
          }
         },
         "name": "Assam",
         "offsetgroup": "Assam",
         "orientation": "v",
         "showlegend": true,
         "textposition": "auto",
         "type": "bar",
         "x": [
          "Assam"
         ],
         "xaxis": "x",
         "y": [
          4.856
         ],
         "yaxis": "y"
        },
        {
         "alignmentgroup": "True",
         "hovertemplate": "States=%{x}<br>Estimated Unemployment Rate=%{y}<extra></extra>",
         "legendgroup": "Gujarat",
         "marker": {
          "color": "#00cc96",
          "pattern": {
           "shape": ""
          }
         },
         "name": "Gujarat",
         "offsetgroup": "Gujarat",
         "orientation": "v",
         "showlegend": true,
         "textposition": "auto",
         "type": "bar",
         "x": [
          "Gujarat"
         ],
         "xaxis": "x",
         "y": [
          6.3759999999999994
         ],
         "yaxis": "y"
        },
        {
         "alignmentgroup": "True",
         "hovertemplate": "States=%{x}<br>Estimated Unemployment Rate=%{y}<extra></extra>",
         "legendgroup": "Odisha",
         "marker": {
          "color": "#ab63fa",
          "pattern": {
           "shape": ""
          }
         },
         "name": "Odisha",
         "offsetgroup": "Odisha",
         "orientation": "v",
         "showlegend": true,
         "textposition": "auto",
         "type": "bar",
         "x": [
          "Odisha"
         ],
         "xaxis": "x",
         "y": [
          6.462000000000001
         ],
         "yaxis": "y"
        },
        {
         "alignmentgroup": "True",
         "hovertemplate": "States=%{x}<br>Estimated Unemployment Rate=%{y}<extra></extra>",
         "legendgroup": "Telangana",
         "marker": {
          "color": "#FFA15A",
          "pattern": {
           "shape": ""
          }
         },
         "name": "Telangana",
         "offsetgroup": "Telangana",
         "orientation": "v",
         "showlegend": true,
         "textposition": "auto",
         "type": "bar",
         "x": [
          "Telangana"
         ],
         "xaxis": "x",
         "y": [
          6.833
         ],
         "yaxis": "y"
        },
        {
         "alignmentgroup": "True",
         "hovertemplate": "States=%{x}<br>Estimated Unemployment Rate=%{y}<extra></extra>",
         "legendgroup": "Madhya Pradesh",
         "marker": {
          "color": "#19d3f3",
          "pattern": {
           "shape": ""
          }
         },
         "name": "Madhya Pradesh",
         "offsetgroup": "Madhya Pradesh",
         "orientation": "v",
         "showlegend": true,
         "textposition": "auto",
         "type": "bar",
         "x": [
          "Madhya Pradesh"
         ],
         "xaxis": "x",
         "y": [
          6.854000000000001
         ],
         "yaxis": "y"
        },
        {
         "alignmentgroup": "True",
         "hovertemplate": "States=%{x}<br>Estimated Unemployment Rate=%{y}<extra></extra>",
         "legendgroup": "Karnataka",
         "marker": {
          "color": "#FF6692",
          "pattern": {
           "shape": ""
          }
         },
         "name": "Karnataka",
         "offsetgroup": "Karnataka",
         "orientation": "v",
         "showlegend": true,
         "textposition": "auto",
         "type": "bar",
         "x": [
          "Karnataka"
         ],
         "xaxis": "x",
         "y": [
          7.667999999999999
         ],
         "yaxis": "y"
        },
        {
         "alignmentgroup": "True",
         "hovertemplate": "States=%{x}<br>Estimated Unemployment Rate=%{y}<extra></extra>",
         "legendgroup": "Chhattisgarh",
         "marker": {
          "color": "#B6E880",
          "pattern": {
           "shape": ""
          }
         },
         "name": "Chhattisgarh",
         "offsetgroup": "Chhattisgarh",
         "orientation": "v",
         "showlegend": true,
         "textposition": "auto",
         "type": "bar",
         "x": [
          "Chhattisgarh"
         ],
         "xaxis": "x",
         "y": [
          7.819
         ],
         "yaxis": "y"
        },
        {
         "alignmentgroup": "True",
         "hovertemplate": "States=%{x}<br>Estimated Unemployment Rate=%{y}<extra></extra>",
         "legendgroup": "Maharashtra",
         "marker": {
          "color": "#FF97FF",
          "pattern": {
           "shape": ""
          }
         },
         "name": "Maharashtra",
         "offsetgroup": "Maharashtra",
         "orientation": "v",
         "showlegend": true,
         "textposition": "auto",
         "type": "bar",
         "x": [
          "Maharashtra"
         ],
         "xaxis": "x",
         "y": [
          7.979000000000001
         ],
         "yaxis": "y"
        },
        {
         "alignmentgroup": "True",
         "hovertemplate": "States=%{x}<br>Estimated Unemployment Rate=%{y}<extra></extra>",
         "legendgroup": "Andhra Pradesh",
         "marker": {
          "color": "#FECB52",
          "pattern": {
           "shape": ""
          }
         },
         "name": "Andhra Pradesh",
         "offsetgroup": "Andhra Pradesh",
         "orientation": "v",
         "showlegend": true,
         "textposition": "auto",
         "type": "bar",
         "x": [
          "Andhra Pradesh"
         ],
         "xaxis": "x",
         "y": [
          8.664
         ],
         "yaxis": "y"
        },
        {
         "alignmentgroup": "True",
         "hovertemplate": "States=%{x}<br>Estimated Unemployment Rate=%{y}<extra></extra>",
         "legendgroup": "Kerala",
         "marker": {
          "color": "#636efa",
          "pattern": {
           "shape": ""
          }
         },
         "name": "Kerala",
         "offsetgroup": "Kerala",
         "orientation": "v",
         "showlegend": true,
         "textposition": "auto",
         "type": "bar",
         "x": [
          "Kerala"
         ],
         "xaxis": "x",
         "y": [
          9.434000000000001
         ],
         "yaxis": "y"
        },
        {
         "alignmentgroup": "True",
         "hovertemplate": "States=%{x}<br>Estimated Unemployment Rate=%{y}<extra></extra>",
         "legendgroup": "Uttar Pradesh",
         "marker": {
          "color": "#EF553B",
          "pattern": {
           "shape": ""
          }
         },
         "name": "Uttar Pradesh",
         "offsetgroup": "Uttar Pradesh",
         "orientation": "v",
         "showlegend": true,
         "textposition": "auto",
         "type": "bar",
         "x": [
          "Uttar Pradesh"
         ],
         "xaxis": "x",
         "y": [
          9.737
         ],
         "yaxis": "y"
        },
        {
         "alignmentgroup": "True",
         "hovertemplate": "States=%{x}<br>Estimated Unemployment Rate=%{y}<extra></extra>",
         "legendgroup": "Sikkim",
         "marker": {
          "color": "#00cc96",
          "pattern": {
           "shape": ""
          }
         },
         "name": "Sikkim",
         "offsetgroup": "Sikkim",
         "orientation": "v",
         "showlegend": true,
         "textposition": "auto",
         "type": "bar",
         "x": [
          "Sikkim"
         ],
         "xaxis": "x",
         "y": [
          9.7925
         ],
         "yaxis": "y"
        },
        {
         "alignmentgroup": "True",
         "hovertemplate": "States=%{x}<br>Estimated Unemployment Rate=%{y}<extra></extra>",
         "legendgroup": "West Bengal",
         "marker": {
          "color": "#ab63fa",
          "pattern": {
           "shape": ""
          }
         },
         "name": "West Bengal",
         "offsetgroup": "West Bengal",
         "orientation": "v",
         "showlegend": true,
         "textposition": "auto",
         "type": "bar",
         "x": [
          "West Bengal"
         ],
         "xaxis": "x",
         "y": [
          10.192
         ],
         "yaxis": "y"
        },
        {
         "alignmentgroup": "True",
         "hovertemplate": "States=%{x}<br>Estimated Unemployment Rate=%{y}<extra></extra>",
         "legendgroup": "Uttarakhand",
         "marker": {
          "color": "#FFA15A",
          "pattern": {
           "shape": ""
          }
         },
         "name": "Uttarakhand",
         "offsetgroup": "Uttarakhand",
         "orientation": "v",
         "showlegend": true,
         "textposition": "auto",
         "type": "bar",
         "x": [
          "Uttarakhand"
         ],
         "xaxis": "x",
         "y": [
          11.156
         ],
         "yaxis": "y"
        },
        {
         "alignmentgroup": "True",
         "hovertemplate": "States=%{x}<br>Estimated Unemployment Rate=%{y}<extra></extra>",
         "legendgroup": "Punjab",
         "marker": {
          "color": "#19d3f3",
          "pattern": {
           "shape": ""
          }
         },
         "name": "Punjab",
         "offsetgroup": "Punjab",
         "orientation": "v",
         "showlegend": true,
         "textposition": "auto",
         "type": "bar",
         "x": [
          "Punjab"
         ],
         "xaxis": "x",
         "y": [
          11.981
         ],
         "yaxis": "y"
        },
        {
         "alignmentgroup": "True",
         "hovertemplate": "States=%{x}<br>Estimated Unemployment Rate=%{y}<extra></extra>",
         "legendgroup": "Goa",
         "marker": {
          "color": "#FF6692",
          "pattern": {
           "shape": ""
          }
         },
         "name": "Goa",
         "offsetgroup": "Goa",
         "orientation": "v",
         "showlegend": true,
         "textposition": "auto",
         "type": "bar",
         "x": [
          "Goa"
         ],
         "xaxis": "x",
         "y": [
          12.167
         ],
         "yaxis": "y"
        },
        {
         "alignmentgroup": "True",
         "hovertemplate": "States=%{x}<br>Estimated Unemployment Rate=%{y}<extra></extra>",
         "legendgroup": "Tamil Nadu",
         "marker": {
          "color": "#B6E880",
          "pattern": {
           "shape": ""
          }
         },
         "name": "Tamil Nadu",
         "offsetgroup": "Tamil Nadu",
         "orientation": "v",
         "showlegend": true,
         "textposition": "auto",
         "type": "bar",
         "x": [
          "Tamil Nadu"
         ],
         "xaxis": "x",
         "y": [
          12.187
         ],
         "yaxis": "y"
        },
        {
         "alignmentgroup": "True",
         "hovertemplate": "States=%{x}<br>Estimated Unemployment Rate=%{y}<extra></extra>",
         "legendgroup": "Rajasthan",
         "marker": {
          "color": "#FF97FF",
          "pattern": {
           "shape": ""
          }
         },
         "name": "Rajasthan",
         "offsetgroup": "Rajasthan",
         "orientation": "v",
         "showlegend": true,
         "textposition": "auto",
         "type": "bar",
         "x": [
          "Rajasthan"
         ],
         "xaxis": "x",
         "y": [
          15.868
         ],
         "yaxis": "y"
        },
        {
         "alignmentgroup": "True",
         "hovertemplate": "States=%{x}<br>Estimated Unemployment Rate=%{y}<extra></extra>",
         "legendgroup": "Himachal Pradesh",
         "marker": {
          "color": "#FECB52",
          "pattern": {
           "shape": ""
          }
         },
         "name": "Himachal Pradesh",
         "offsetgroup": "Himachal Pradesh",
         "orientation": "v",
         "showlegend": true,
         "textposition": "auto",
         "type": "bar",
         "x": [
          "Himachal Pradesh"
         ],
         "xaxis": "x",
         "y": [
          16.065
         ],
         "yaxis": "y"
        },
        {
         "alignmentgroup": "True",
         "hovertemplate": "States=%{x}<br>Estimated Unemployment Rate=%{y}<extra></extra>",
         "legendgroup": "Jammu & Kashmir",
         "marker": {
          "color": "#636efa",
          "pattern": {
           "shape": ""
          }
         },
         "name": "Jammu & Kashmir",
         "offsetgroup": "Jammu & Kashmir",
         "orientation": "v",
         "showlegend": true,
         "textposition": "auto",
         "type": "bar",
         "x": [
          "Jammu & Kashmir"
         ],
         "xaxis": "x",
         "y": [
          16.477777777777778
         ],
         "yaxis": "y"
        },
        {
         "alignmentgroup": "True",
         "hovertemplate": "States=%{x}<br>Estimated Unemployment Rate=%{y}<extra></extra>",
         "legendgroup": "Puducherry",
         "marker": {
          "color": "#EF553B",
          "pattern": {
           "shape": ""
          }
         },
         "name": "Puducherry",
         "offsetgroup": "Puducherry",
         "orientation": "v",
         "showlegend": true,
         "textposition": "auto",
         "type": "bar",
         "x": [
          "Puducherry"
         ],
         "xaxis": "x",
         "y": [
          17.942
         ],
         "yaxis": "y"
        },
        {
         "alignmentgroup": "True",
         "hovertemplate": "States=%{x}<br>Estimated Unemployment Rate=%{y}<extra></extra>",
         "legendgroup": "Delhi",
         "marker": {
          "color": "#00cc96",
          "pattern": {
           "shape": ""
          }
         },
         "name": "Delhi",
         "offsetgroup": "Delhi",
         "orientation": "v",
         "showlegend": true,
         "textposition": "auto",
         "type": "bar",
         "x": [
          "Delhi"
         ],
         "xaxis": "x",
         "y": [
          18.414
         ],
         "yaxis": "y"
        },
        {
         "alignmentgroup": "True",
         "hovertemplate": "States=%{x}<br>Estimated Unemployment Rate=%{y}<extra></extra>",
         "legendgroup": "Bihar",
         "marker": {
          "color": "#ab63fa",
          "pattern": {
           "shape": ""
          }
         },
         "name": "Bihar",
         "offsetgroup": "Bihar",
         "orientation": "v",
         "showlegend": true,
         "textposition": "auto",
         "type": "bar",
         "x": [
          "Bihar"
         ],
         "xaxis": "x",
         "y": [
          19.471
         ],
         "yaxis": "y"
        },
        {
         "alignmentgroup": "True",
         "hovertemplate": "States=%{x}<br>Estimated Unemployment Rate=%{y}<extra></extra>",
         "legendgroup": "Jharkhand",
         "marker": {
          "color": "#FFA15A",
          "pattern": {
           "shape": ""
          }
         },
         "name": "Jharkhand",
         "offsetgroup": "Jharkhand",
         "orientation": "v",
         "showlegend": true,
         "textposition": "auto",
         "type": "bar",
         "x": [
          "Jharkhand"
         ],
         "xaxis": "x",
         "y": [
          19.538999999999998
         ],
         "yaxis": "y"
        },
        {
         "alignmentgroup": "True",
         "hovertemplate": "States=%{x}<br>Estimated Unemployment Rate=%{y}<extra></extra>",
         "legendgroup": "Tripura",
         "marker": {
          "color": "#19d3f3",
          "pattern": {
           "shape": ""
          }
         },
         "name": "Tripura",
         "offsetgroup": "Tripura",
         "orientation": "v",
         "showlegend": true,
         "textposition": "auto",
         "type": "bar",
         "x": [
          "Tripura"
         ],
         "xaxis": "x",
         "y": [
          25.055
         ],
         "yaxis": "y"
        },
        {
         "alignmentgroup": "True",
         "hovertemplate": "States=%{x}<br>Estimated Unemployment Rate=%{y}<extra></extra>",
         "legendgroup": "Haryana",
         "marker": {
          "color": "#FF6692",
          "pattern": {
           "shape": ""
          }
         },
         "name": "Haryana",
         "offsetgroup": "Haryana",
         "orientation": "v",
         "showlegend": true,
         "textposition": "auto",
         "type": "bar",
         "x": [
          "Haryana"
         ],
         "xaxis": "x",
         "y": [
          27.476999999999997
         ],
         "yaxis": "y"
        }
       ],
       "layout": {
        "barmode": "relative",
        "legend": {
         "title": {
          "text": "States"
         },
         "tracegroupgap": 0
        },
        "template": {
         "data": {
          "bar": [
           {
            "error_x": {
             "color": "#2a3f5f"
            },
            "error_y": {
             "color": "#2a3f5f"
            },
            "marker": {
             "line": {
              "color": "#E5ECF6",
              "width": 0.5
             },
             "pattern": {
              "fillmode": "overlay",
              "size": 10,
              "solidity": 0.2
             }
            },
            "type": "bar"
           }
          ],
          "barpolar": [
           {
            "marker": {
             "line": {
              "color": "#E5ECF6",
              "width": 0.5
             },
             "pattern": {
              "fillmode": "overlay",
              "size": 10,
              "solidity": 0.2
             }
            },
            "type": "barpolar"
           }
          ],
          "carpet": [
           {
            "aaxis": {
             "endlinecolor": "#2a3f5f",
             "gridcolor": "white",
             "linecolor": "white",
             "minorgridcolor": "white",
             "startlinecolor": "#2a3f5f"
            },
            "baxis": {
             "endlinecolor": "#2a3f5f",
             "gridcolor": "white",
             "linecolor": "white",
             "minorgridcolor": "white",
             "startlinecolor": "#2a3f5f"
            },
            "type": "carpet"
           }
          ],
          "choropleth": [
           {
            "colorbar": {
             "outlinewidth": 0,
             "ticks": ""
            },
            "type": "choropleth"
           }
          ],
          "contour": [
           {
            "colorbar": {
             "outlinewidth": 0,
             "ticks": ""
            },
            "colorscale": [
             [
              0,
              "#0d0887"
             ],
             [
              0.1111111111111111,
              "#46039f"
             ],
             [
              0.2222222222222222,
              "#7201a8"
             ],
             [
              0.3333333333333333,
              "#9c179e"
             ],
             [
              0.4444444444444444,
              "#bd3786"
             ],
             [
              0.5555555555555556,
              "#d8576b"
             ],
             [
              0.6666666666666666,
              "#ed7953"
             ],
             [
              0.7777777777777778,
              "#fb9f3a"
             ],
             [
              0.8888888888888888,
              "#fdca26"
             ],
             [
              1,
              "#f0f921"
             ]
            ],
            "type": "contour"
           }
          ],
          "contourcarpet": [
           {
            "colorbar": {
             "outlinewidth": 0,
             "ticks": ""
            },
            "type": "contourcarpet"
           }
          ],
          "heatmap": [
           {
            "colorbar": {
             "outlinewidth": 0,
             "ticks": ""
            },
            "colorscale": [
             [
              0,
              "#0d0887"
             ],
             [
              0.1111111111111111,
              "#46039f"
             ],
             [
              0.2222222222222222,
              "#7201a8"
             ],
             [
              0.3333333333333333,
              "#9c179e"
             ],
             [
              0.4444444444444444,
              "#bd3786"
             ],
             [
              0.5555555555555556,
              "#d8576b"
             ],
             [
              0.6666666666666666,
              "#ed7953"
             ],
             [
              0.7777777777777778,
              "#fb9f3a"
             ],
             [
              0.8888888888888888,
              "#fdca26"
             ],
             [
              1,
              "#f0f921"
             ]
            ],
            "type": "heatmap"
           }
          ],
          "heatmapgl": [
           {
            "colorbar": {
             "outlinewidth": 0,
             "ticks": ""
            },
            "colorscale": [
             [
              0,
              "#0d0887"
             ],
             [
              0.1111111111111111,
              "#46039f"
             ],
             [
              0.2222222222222222,
              "#7201a8"
             ],
             [
              0.3333333333333333,
              "#9c179e"
             ],
             [
              0.4444444444444444,
              "#bd3786"
             ],
             [
              0.5555555555555556,
              "#d8576b"
             ],
             [
              0.6666666666666666,
              "#ed7953"
             ],
             [
              0.7777777777777778,
              "#fb9f3a"
             ],
             [
              0.8888888888888888,
              "#fdca26"
             ],
             [
              1,
              "#f0f921"
             ]
            ],
            "type": "heatmapgl"
           }
          ],
          "histogram": [
           {
            "marker": {
             "pattern": {
              "fillmode": "overlay",
              "size": 10,
              "solidity": 0.2
             }
            },
            "type": "histogram"
           }
          ],
          "histogram2d": [
           {
            "colorbar": {
             "outlinewidth": 0,
             "ticks": ""
            },
            "colorscale": [
             [
              0,
              "#0d0887"
             ],
             [
              0.1111111111111111,
              "#46039f"
             ],
             [
              0.2222222222222222,
              "#7201a8"
             ],
             [
              0.3333333333333333,
              "#9c179e"
             ],
             [
              0.4444444444444444,
              "#bd3786"
             ],
             [
              0.5555555555555556,
              "#d8576b"
             ],
             [
              0.6666666666666666,
              "#ed7953"
             ],
             [
              0.7777777777777778,
              "#fb9f3a"
             ],
             [
              0.8888888888888888,
              "#fdca26"
             ],
             [
              1,
              "#f0f921"
             ]
            ],
            "type": "histogram2d"
           }
          ],
          "histogram2dcontour": [
           {
            "colorbar": {
             "outlinewidth": 0,
             "ticks": ""
            },
            "colorscale": [
             [
              0,
              "#0d0887"
             ],
             [
              0.1111111111111111,
              "#46039f"
             ],
             [
              0.2222222222222222,
              "#7201a8"
             ],
             [
              0.3333333333333333,
              "#9c179e"
             ],
             [
              0.4444444444444444,
              "#bd3786"
             ],
             [
              0.5555555555555556,
              "#d8576b"
             ],
             [
              0.6666666666666666,
              "#ed7953"
             ],
             [
              0.7777777777777778,
              "#fb9f3a"
             ],
             [
              0.8888888888888888,
              "#fdca26"
             ],
             [
              1,
              "#f0f921"
             ]
            ],
            "type": "histogram2dcontour"
           }
          ],
          "mesh3d": [
           {
            "colorbar": {
             "outlinewidth": 0,
             "ticks": ""
            },
            "type": "mesh3d"
           }
          ],
          "parcoords": [
           {
            "line": {
             "colorbar": {
              "outlinewidth": 0,
              "ticks": ""
             }
            },
            "type": "parcoords"
           }
          ],
          "pie": [
           {
            "automargin": true,
            "type": "pie"
           }
          ],
          "scatter": [
           {
            "fillpattern": {
             "fillmode": "overlay",
             "size": 10,
             "solidity": 0.2
            },
            "type": "scatter"
           }
          ],
          "scatter3d": [
           {
            "line": {
             "colorbar": {
              "outlinewidth": 0,
              "ticks": ""
             }
            },
            "marker": {
             "colorbar": {
              "outlinewidth": 0,
              "ticks": ""
             }
            },
            "type": "scatter3d"
           }
          ],
          "scattercarpet": [
           {
            "marker": {
             "colorbar": {
              "outlinewidth": 0,
              "ticks": ""
             }
            },
            "type": "scattercarpet"
           }
          ],
          "scattergeo": [
           {
            "marker": {
             "colorbar": {
              "outlinewidth": 0,
              "ticks": ""
             }
            },
            "type": "scattergeo"
           }
          ],
          "scattergl": [
           {
            "marker": {
             "colorbar": {
              "outlinewidth": 0,
              "ticks": ""
             }
            },
            "type": "scattergl"
           }
          ],
          "scattermapbox": [
           {
            "marker": {
             "colorbar": {
              "outlinewidth": 0,
              "ticks": ""
             }
            },
            "type": "scattermapbox"
           }
          ],
          "scatterpolar": [
           {
            "marker": {
             "colorbar": {
              "outlinewidth": 0,
              "ticks": ""
             }
            },
            "type": "scatterpolar"
           }
          ],
          "scatterpolargl": [
           {
            "marker": {
             "colorbar": {
              "outlinewidth": 0,
              "ticks": ""
             }
            },
            "type": "scatterpolargl"
           }
          ],
          "scatterternary": [
           {
            "marker": {
             "colorbar": {
              "outlinewidth": 0,
              "ticks": ""
             }
            },
            "type": "scatterternary"
           }
          ],
          "surface": [
           {
            "colorbar": {
             "outlinewidth": 0,
             "ticks": ""
            },
            "colorscale": [
             [
              0,
              "#0d0887"
             ],
             [
              0.1111111111111111,
              "#46039f"
             ],
             [
              0.2222222222222222,
              "#7201a8"
             ],
             [
              0.3333333333333333,
              "#9c179e"
             ],
             [
              0.4444444444444444,
              "#bd3786"
             ],
             [
              0.5555555555555556,
              "#d8576b"
             ],
             [
              0.6666666666666666,
              "#ed7953"
             ],
             [
              0.7777777777777778,
              "#fb9f3a"
             ],
             [
              0.8888888888888888,
              "#fdca26"
             ],
             [
              1,
              "#f0f921"
             ]
            ],
            "type": "surface"
           }
          ],
          "table": [
           {
            "cells": {
             "fill": {
              "color": "#EBF0F8"
             },
             "line": {
              "color": "white"
             }
            },
            "header": {
             "fill": {
              "color": "#C8D4E3"
             },
             "line": {
              "color": "white"
             }
            },
            "type": "table"
           }
          ]
         },
         "layout": {
          "annotationdefaults": {
           "arrowcolor": "#2a3f5f",
           "arrowhead": 0,
           "arrowwidth": 1
          },
          "autotypenumbers": "strict",
          "coloraxis": {
           "colorbar": {
            "outlinewidth": 0,
            "ticks": ""
           }
          },
          "colorscale": {
           "diverging": [
            [
             0,
             "#8e0152"
            ],
            [
             0.1,
             "#c51b7d"
            ],
            [
             0.2,
             "#de77ae"
            ],
            [
             0.3,
             "#f1b6da"
            ],
            [
             0.4,
             "#fde0ef"
            ],
            [
             0.5,
             "#f7f7f7"
            ],
            [
             0.6,
             "#e6f5d0"
            ],
            [
             0.7,
             "#b8e186"
            ],
            [
             0.8,
             "#7fbc41"
            ],
            [
             0.9,
             "#4d9221"
            ],
            [
             1,
             "#276419"
            ]
           ],
           "sequential": [
            [
             0,
             "#0d0887"
            ],
            [
             0.1111111111111111,
             "#46039f"
            ],
            [
             0.2222222222222222,
             "#7201a8"
            ],
            [
             0.3333333333333333,
             "#9c179e"
            ],
            [
             0.4444444444444444,
             "#bd3786"
            ],
            [
             0.5555555555555556,
             "#d8576b"
            ],
            [
             0.6666666666666666,
             "#ed7953"
            ],
            [
             0.7777777777777778,
             "#fb9f3a"
            ],
            [
             0.8888888888888888,
             "#fdca26"
            ],
            [
             1,
             "#f0f921"
            ]
           ],
           "sequentialminus": [
            [
             0,
             "#0d0887"
            ],
            [
             0.1111111111111111,
             "#46039f"
            ],
            [
             0.2222222222222222,
             "#7201a8"
            ],
            [
             0.3333333333333333,
             "#9c179e"
            ],
            [
             0.4444444444444444,
             "#bd3786"
            ],
            [
             0.5555555555555556,
             "#d8576b"
            ],
            [
             0.6666666666666666,
             "#ed7953"
            ],
            [
             0.7777777777777778,
             "#fb9f3a"
            ],
            [
             0.8888888888888888,
             "#fdca26"
            ],
            [
             1,
             "#f0f921"
            ]
           ]
          },
          "colorway": [
           "#636efa",
           "#EF553B",
           "#00cc96",
           "#ab63fa",
           "#FFA15A",
           "#19d3f3",
           "#FF6692",
           "#B6E880",
           "#FF97FF",
           "#FECB52"
          ],
          "font": {
           "color": "#2a3f5f"
          },
          "geo": {
           "bgcolor": "white",
           "lakecolor": "white",
           "landcolor": "#E5ECF6",
           "showlakes": true,
           "showland": true,
           "subunitcolor": "white"
          },
          "hoverlabel": {
           "align": "left"
          },
          "hovermode": "closest",
          "mapbox": {
           "style": "light"
          },
          "paper_bgcolor": "white",
          "plot_bgcolor": "#E5ECF6",
          "polar": {
           "angularaxis": {
            "gridcolor": "white",
            "linecolor": "white",
            "ticks": ""
           },
           "bgcolor": "#E5ECF6",
           "radialaxis": {
            "gridcolor": "white",
            "linecolor": "white",
            "ticks": ""
           }
          },
          "scene": {
           "xaxis": {
            "backgroundcolor": "#E5ECF6",
            "gridcolor": "white",
            "gridwidth": 2,
            "linecolor": "white",
            "showbackground": true,
            "ticks": "",
            "zerolinecolor": "white"
           },
           "yaxis": {
            "backgroundcolor": "#E5ECF6",
            "gridcolor": "white",
            "gridwidth": 2,
            "linecolor": "white",
            "showbackground": true,
            "ticks": "",
            "zerolinecolor": "white"
           },
           "zaxis": {
            "backgroundcolor": "#E5ECF6",
            "gridcolor": "white",
            "gridwidth": 2,
            "linecolor": "white",
            "showbackground": true,
            "ticks": "",
            "zerolinecolor": "white"
           }
          },
          "shapedefaults": {
           "line": {
            "color": "#2a3f5f"
           }
          },
          "ternary": {
           "aaxis": {
            "gridcolor": "white",
            "linecolor": "white",
            "ticks": ""
           },
           "baxis": {
            "gridcolor": "white",
            "linecolor": "white",
            "ticks": ""
           },
           "bgcolor": "#E5ECF6",
           "caxis": {
            "gridcolor": "white",
            "linecolor": "white",
            "ticks": ""
           }
          },
          "title": {
           "x": 0.05
          },
          "xaxis": {
           "automargin": true,
           "gridcolor": "white",
           "linecolor": "white",
           "ticks": "",
           "title": {
            "standoff": 15
           },
           "zerolinecolor": "white",
           "zerolinewidth": 2
          },
          "yaxis": {
           "automargin": true,
           "gridcolor": "white",
           "linecolor": "white",
           "ticks": "",
           "title": {
            "standoff": 15
           },
           "zerolinecolor": "white",
           "zerolinewidth": 2
          }
         }
        },
        "title": {
         "text": "Average Unemployment Rate in each state"
        },
        "xaxis": {
         "anchor": "y",
         "categoryarray": [
          "Meghalaya",
          "Assam",
          "Gujarat",
          "Odisha",
          "Telangana",
          "Madhya Pradesh",
          "Karnataka",
          "Chhattisgarh",
          "Maharashtra",
          "Andhra Pradesh",
          "Kerala",
          "Uttar Pradesh",
          "Sikkim",
          "West Bengal",
          "Uttarakhand",
          "Punjab",
          "Goa",
          "Tamil Nadu",
          "Rajasthan",
          "Himachal Pradesh",
          "Jammu & Kashmir",
          "Puducherry",
          "Delhi",
          "Bihar",
          "Jharkhand",
          "Tripura",
          "Haryana"
         ],
         "categoryorder": "array",
         "domain": [
          0,
          1
         ],
         "title": {
          "text": "States"
         }
        },
        "yaxis": {
         "anchor": "x",
         "domain": [
          0,
          1
         ],
         "title": {
          "text": "Estimated Unemployment Rate"
         }
        }
       }
      }
     },
     "metadata": {},
     "output_type": "display_data"
    }
   ],
   "source": [
    "# Bar plot of average Unemployment Rate by State\n",
    "\n",
    "plot_emp = un_data[['Estimated Unemployment Rate', 'States']]\n",
    "un_data_unemp = plot_emp.groupby('States').mean().reset_index()\n",
    "un_data_unemp = un_data_unemp.sort_values('Estimated Unemployment Rate')\n",
    "fig = px.bar(un_data_unemp, x='States', y='Estimated Unemployment Rate', color='States',\n",
    "             title='Average Unemployment Rate in each state', template='plotly')\n",
    "fig.show()"
   ]
  },
  {
   "cell_type": "code",
   "execution_count": 14,
   "id": "c4dba960",
   "metadata": {},
   "outputs": [
    {
     "data": {
      "application/vnd.plotly.v1+json": {
       "config": {
        "plotlyServerURL": "https://plot.ly"
       },
       "data": [
        {
         "alignmentgroup": "True",
         "hovertemplate": "States=Andhra Pradesh<br>Month_name=Jan<br>Region=%{x}<br>Estimated Unemployment Rate=%{y}<extra></extra>",
         "legendgroup": "Andhra Pradesh",
         "marker": {
          "color": "#636efa",
          "pattern": {
           "shape": ""
          }
         },
         "name": "Andhra Pradesh",
         "offsetgroup": "Andhra Pradesh",
         "orientation": "v",
         "showlegend": true,
         "textposition": "auto",
         "type": "bar",
         "x": [
          "South"
         ],
         "xaxis": "x",
         "y": [
          5.48
         ],
         "yaxis": "y"
        },
        {
         "alignmentgroup": "True",
         "hovertemplate": "States=Assam<br>Month_name=Jan<br>Region=%{x}<br>Estimated Unemployment Rate=%{y}<extra></extra>",
         "legendgroup": "Assam",
         "marker": {
          "color": "#EF553B",
          "pattern": {
           "shape": ""
          }
         },
         "name": "Assam",
         "offsetgroup": "Assam",
         "orientation": "v",
         "showlegend": true,
         "textposition": "auto",
         "type": "bar",
         "x": [
          "Northeast"
         ],
         "xaxis": "x",
         "y": [
          4.66
         ],
         "yaxis": "y"
        },
        {
         "alignmentgroup": "True",
         "hovertemplate": "States=Bihar<br>Month_name=Jan<br>Region=%{x}<br>Estimated Unemployment Rate=%{y}<extra></extra>",
         "legendgroup": "Bihar",
         "marker": {
          "color": "#00cc96",
          "pattern": {
           "shape": ""
          }
         },
         "name": "Bihar",
         "offsetgroup": "Bihar",
         "orientation": "v",
         "showlegend": true,
         "textposition": "auto",
         "type": "bar",
         "x": [
          "East"
         ],
         "xaxis": "x",
         "y": [
          10.61
         ],
         "yaxis": "y"
        },
        {
         "alignmentgroup": "True",
         "hovertemplate": "States=Chhattisgarh<br>Month_name=Jan<br>Region=%{x}<br>Estimated Unemployment Rate=%{y}<extra></extra>",
         "legendgroup": "Chhattisgarh",
         "marker": {
          "color": "#ab63fa",
          "pattern": {
           "shape": ""
          }
         },
         "name": "Chhattisgarh",
         "offsetgroup": "Chhattisgarh",
         "orientation": "v",
         "showlegend": true,
         "textposition": "auto",
         "type": "bar",
         "x": [
          "West"
         ],
         "xaxis": "x",
         "y": [
          9.65
         ],
         "yaxis": "y"
        },
        {
         "alignmentgroup": "True",
         "hovertemplate": "States=Delhi<br>Month_name=Jan<br>Region=%{x}<br>Estimated Unemployment Rate=%{y}<extra></extra>",
         "legendgroup": "Delhi",
         "marker": {
          "color": "#FFA15A",
          "pattern": {
           "shape": ""
          }
         },
         "name": "Delhi",
         "offsetgroup": "Delhi",
         "orientation": "v",
         "showlegend": true,
         "textposition": "auto",
         "type": "bar",
         "x": [
          "North"
         ],
         "xaxis": "x",
         "y": [
          22.23
         ],
         "yaxis": "y"
        },
        {
         "alignmentgroup": "True",
         "hovertemplate": "States=Goa<br>Month_name=Jan<br>Region=%{x}<br>Estimated Unemployment Rate=%{y}<extra></extra>",
         "legendgroup": "Goa",
         "marker": {
          "color": "#19d3f3",
          "pattern": {
           "shape": ""
          }
         },
         "name": "Goa",
         "offsetgroup": "Goa",
         "orientation": "v",
         "showlegend": true,
         "textposition": "auto",
         "type": "bar",
         "x": [
          "West"
         ],
         "xaxis": "x",
         "y": [
          8.89
         ],
         "yaxis": "y"
        },
        {
         "alignmentgroup": "True",
         "hovertemplate": "States=Gujarat<br>Month_name=Jan<br>Region=%{x}<br>Estimated Unemployment Rate=%{y}<extra></extra>",
         "legendgroup": "Gujarat",
         "marker": {
          "color": "#FF6692",
          "pattern": {
           "shape": ""
          }
         },
         "name": "Gujarat",
         "offsetgroup": "Gujarat",
         "orientation": "v",
         "showlegend": true,
         "textposition": "auto",
         "type": "bar",
         "x": [
          "West"
         ],
         "xaxis": "x",
         "y": [
          5.54
         ],
         "yaxis": "y"
        },
        {
         "alignmentgroup": "True",
         "hovertemplate": "States=Haryana<br>Month_name=Jan<br>Region=%{x}<br>Estimated Unemployment Rate=%{y}<extra></extra>",
         "legendgroup": "Haryana",
         "marker": {
          "color": "#B6E880",
          "pattern": {
           "shape": ""
          }
         },
         "name": "Haryana",
         "offsetgroup": "Haryana",
         "orientation": "v",
         "showlegend": true,
         "textposition": "auto",
         "type": "bar",
         "x": [
          "North"
         ],
         "xaxis": "x",
         "y": [
          20.34
         ],
         "yaxis": "y"
        },
        {
         "alignmentgroup": "True",
         "hovertemplate": "States=Himachal Pradesh<br>Month_name=Jan<br>Region=%{x}<br>Estimated Unemployment Rate=%{y}<extra></extra>",
         "legendgroup": "Himachal Pradesh",
         "marker": {
          "color": "#FF97FF",
          "pattern": {
           "shape": ""
          }
         },
         "name": "Himachal Pradesh",
         "offsetgroup": "Himachal Pradesh",
         "orientation": "v",
         "showlegend": true,
         "textposition": "auto",
         "type": "bar",
         "x": [
          "North"
         ],
         "xaxis": "x",
         "y": [
          16.83
         ],
         "yaxis": "y"
        },
        {
         "alignmentgroup": "True",
         "hovertemplate": "States=Jammu & Kashmir<br>Month_name=Jan<br>Region=%{x}<br>Estimated Unemployment Rate=%{y}<extra></extra>",
         "legendgroup": "Jammu & Kashmir",
         "marker": {
          "color": "#FECB52",
          "pattern": {
           "shape": ""
          }
         },
         "name": "Jammu & Kashmir",
         "offsetgroup": "Jammu & Kashmir",
         "orientation": "v",
         "showlegend": true,
         "textposition": "auto",
         "type": "bar",
         "x": [
          "North"
         ],
         "xaxis": "x",
         "y": [
          21.08
         ],
         "yaxis": "y"
        },
        {
         "alignmentgroup": "True",
         "hovertemplate": "States=Jharkhand<br>Month_name=Jan<br>Region=%{x}<br>Estimated Unemployment Rate=%{y}<extra></extra>",
         "legendgroup": "Jharkhand",
         "marker": {
          "color": "#636efa",
          "pattern": {
           "shape": ""
          }
         },
         "name": "Jharkhand",
         "offsetgroup": "Jharkhand",
         "orientation": "v",
         "showlegend": true,
         "textposition": "auto",
         "type": "bar",
         "x": [
          "East"
         ],
         "xaxis": "x",
         "y": [
          10.61
         ],
         "yaxis": "y"
        },
        {
         "alignmentgroup": "True",
         "hovertemplate": "States=Karnataka<br>Month_name=Jan<br>Region=%{x}<br>Estimated Unemployment Rate=%{y}<extra></extra>",
         "legendgroup": "Karnataka",
         "marker": {
          "color": "#EF553B",
          "pattern": {
           "shape": ""
          }
         },
         "name": "Karnataka",
         "offsetgroup": "Karnataka",
         "orientation": "v",
         "showlegend": true,
         "textposition": "auto",
         "type": "bar",
         "x": [
          "South"
         ],
         "xaxis": "x",
         "y": [
          2.86
         ],
         "yaxis": "y"
        },
        {
         "alignmentgroup": "True",
         "hovertemplate": "States=Kerala<br>Month_name=Jan<br>Region=%{x}<br>Estimated Unemployment Rate=%{y}<extra></extra>",
         "legendgroup": "Kerala",
         "marker": {
          "color": "#00cc96",
          "pattern": {
           "shape": ""
          }
         },
         "name": "Kerala",
         "offsetgroup": "Kerala",
         "orientation": "v",
         "showlegend": true,
         "textposition": "auto",
         "type": "bar",
         "x": [
          "South"
         ],
         "xaxis": "x",
         "y": [
          5.31
         ],
         "yaxis": "y"
        },
        {
         "alignmentgroup": "True",
         "hovertemplate": "States=Madhya Pradesh<br>Month_name=Jan<br>Region=%{x}<br>Estimated Unemployment Rate=%{y}<extra></extra>",
         "legendgroup": "Madhya Pradesh",
         "marker": {
          "color": "#ab63fa",
          "pattern": {
           "shape": ""
          }
         },
         "name": "Madhya Pradesh",
         "offsetgroup": "Madhya Pradesh",
         "orientation": "v",
         "showlegend": true,
         "textposition": "auto",
         "type": "bar",
         "x": [
          "West"
         ],
         "xaxis": "x",
         "y": [
          4.11
         ],
         "yaxis": "y"
        },
        {
         "alignmentgroup": "True",
         "hovertemplate": "States=Maharashtra<br>Month_name=Jan<br>Region=%{x}<br>Estimated Unemployment Rate=%{y}<extra></extra>",
         "legendgroup": "Maharashtra",
         "marker": {
          "color": "#FFA15A",
          "pattern": {
           "shape": ""
          }
         },
         "name": "Maharashtra",
         "offsetgroup": "Maharashtra",
         "orientation": "v",
         "showlegend": true,
         "textposition": "auto",
         "type": "bar",
         "x": [
          "West"
         ],
         "xaxis": "x",
         "y": [
          4.95
         ],
         "yaxis": "y"
        },
        {
         "alignmentgroup": "True",
         "hovertemplate": "States=Meghalaya<br>Month_name=Jan<br>Region=%{x}<br>Estimated Unemployment Rate=%{y}<extra></extra>",
         "legendgroup": "Meghalaya",
         "marker": {
          "color": "#19d3f3",
          "pattern": {
           "shape": ""
          }
         },
         "name": "Meghalaya",
         "offsetgroup": "Meghalaya",
         "orientation": "v",
         "showlegend": true,
         "textposition": "auto",
         "type": "bar",
         "x": [
          "Northeast"
         ],
         "xaxis": "x",
         "y": [
          1.66
         ],
         "yaxis": "y"
        },
        {
         "alignmentgroup": "True",
         "hovertemplate": "States=Odisha<br>Month_name=Jan<br>Region=%{x}<br>Estimated Unemployment Rate=%{y}<extra></extra>",
         "legendgroup": "Odisha",
         "marker": {
          "color": "#FF6692",
          "pattern": {
           "shape": ""
          }
         },
         "name": "Odisha",
         "offsetgroup": "Odisha",
         "orientation": "v",
         "showlegend": true,
         "textposition": "auto",
         "type": "bar",
         "x": [
          "East"
         ],
         "xaxis": "x",
         "y": [
          1.9
         ],
         "yaxis": "y"
        },
        {
         "alignmentgroup": "True",
         "hovertemplate": "States=Puducherry<br>Month_name=Jan<br>Region=%{x}<br>Estimated Unemployment Rate=%{y}<extra></extra>",
         "legendgroup": "Puducherry",
         "marker": {
          "color": "#B6E880",
          "pattern": {
           "shape": ""
          }
         },
         "name": "Puducherry",
         "offsetgroup": "Puducherry",
         "orientation": "v",
         "showlegend": true,
         "textposition": "auto",
         "type": "bar",
         "x": [
          "South"
         ],
         "xaxis": "x",
         "y": [
          0.58
         ],
         "yaxis": "y"
        },
        {
         "alignmentgroup": "True",
         "hovertemplate": "States=Punjab<br>Month_name=Jan<br>Region=%{x}<br>Estimated Unemployment Rate=%{y}<extra></extra>",
         "legendgroup": "Punjab",
         "marker": {
          "color": "#FF97FF",
          "pattern": {
           "shape": ""
          }
         },
         "name": "Punjab",
         "offsetgroup": "Punjab",
         "orientation": "v",
         "showlegend": true,
         "textposition": "auto",
         "type": "bar",
         "x": [
          "North"
         ],
         "xaxis": "x",
         "y": [
          11.11
         ],
         "yaxis": "y"
        },
        {
         "alignmentgroup": "True",
         "hovertemplate": "States=Rajasthan<br>Month_name=Jan<br>Region=%{x}<br>Estimated Unemployment Rate=%{y}<extra></extra>",
         "legendgroup": "Rajasthan",
         "marker": {
          "color": "#FECB52",
          "pattern": {
           "shape": ""
          }
         },
         "name": "Rajasthan",
         "offsetgroup": "Rajasthan",
         "orientation": "v",
         "showlegend": true,
         "textposition": "auto",
         "type": "bar",
         "x": [
          "North"
         ],
         "xaxis": "x",
         "y": [
          10.97
         ],
         "yaxis": "y"
        },
        {
         "alignmentgroup": "True",
         "hovertemplate": "States=Tamil Nadu<br>Month_name=Jan<br>Region=%{x}<br>Estimated Unemployment Rate=%{y}<extra></extra>",
         "legendgroup": "Tamil Nadu",
         "marker": {
          "color": "#EF553B",
          "pattern": {
           "shape": ""
          }
         },
         "name": "Tamil Nadu",
         "offsetgroup": "Tamil Nadu",
         "orientation": "v",
         "showlegend": true,
         "textposition": "auto",
         "type": "bar",
         "x": [
          "South"
         ],
         "xaxis": "x",
         "y": [
          1.57
         ],
         "yaxis": "y"
        },
        {
         "alignmentgroup": "True",
         "hovertemplate": "States=Telangana<br>Month_name=Jan<br>Region=%{x}<br>Estimated Unemployment Rate=%{y}<extra></extra>",
         "legendgroup": "Telangana",
         "marker": {
          "color": "#00cc96",
          "pattern": {
           "shape": ""
          }
         },
         "name": "Telangana",
         "offsetgroup": "Telangana",
         "orientation": "v",
         "showlegend": true,
         "textposition": "auto",
         "type": "bar",
         "x": [
          "South"
         ],
         "xaxis": "x",
         "y": [
          5.49
         ],
         "yaxis": "y"
        },
        {
         "alignmentgroup": "True",
         "hovertemplate": "States=Tripura<br>Month_name=Jan<br>Region=%{x}<br>Estimated Unemployment Rate=%{y}<extra></extra>",
         "legendgroup": "Tripura",
         "marker": {
          "color": "#ab63fa",
          "pattern": {
           "shape": ""
          }
         },
         "name": "Tripura",
         "offsetgroup": "Tripura",
         "orientation": "v",
         "showlegend": true,
         "textposition": "auto",
         "type": "bar",
         "x": [
          "Northeast"
         ],
         "xaxis": "x",
         "y": [
          32.67
         ],
         "yaxis": "y"
        },
        {
         "alignmentgroup": "True",
         "hovertemplate": "States=Uttar Pradesh<br>Month_name=Jan<br>Region=%{x}<br>Estimated Unemployment Rate=%{y}<extra></extra>",
         "legendgroup": "Uttar Pradesh",
         "marker": {
          "color": "#FFA15A",
          "pattern": {
           "shape": ""
          }
         },
         "name": "Uttar Pradesh",
         "offsetgroup": "Uttar Pradesh",
         "orientation": "v",
         "showlegend": true,
         "textposition": "auto",
         "type": "bar",
         "x": [
          "North"
         ],
         "xaxis": "x",
         "y": [
          7.58
         ],
         "yaxis": "y"
        },
        {
         "alignmentgroup": "True",
         "hovertemplate": "States=Uttarakhand<br>Month_name=Jan<br>Region=%{x}<br>Estimated Unemployment Rate=%{y}<extra></extra>",
         "legendgroup": "Uttarakhand",
         "marker": {
          "color": "#19d3f3",
          "pattern": {
           "shape": ""
          }
         },
         "name": "Uttarakhand",
         "offsetgroup": "Uttarakhand",
         "orientation": "v",
         "showlegend": true,
         "textposition": "auto",
         "type": "bar",
         "x": [
          "North"
         ],
         "xaxis": "x",
         "y": [
          5.49
         ],
         "yaxis": "y"
        },
        {
         "alignmentgroup": "True",
         "hovertemplate": "States=West Bengal<br>Month_name=Jan<br>Region=%{x}<br>Estimated Unemployment Rate=%{y}<extra></extra>",
         "legendgroup": "West Bengal",
         "marker": {
          "color": "#FF6692",
          "pattern": {
           "shape": ""
          }
         },
         "name": "West Bengal",
         "offsetgroup": "West Bengal",
         "orientation": "v",
         "showlegend": true,
         "textposition": "auto",
         "type": "bar",
         "x": [
          "East"
         ],
         "xaxis": "x",
         "y": [
          6.94
         ],
         "yaxis": "y"
        }
       ],
       "frames": [
        {
         "data": [
          {
           "alignmentgroup": "True",
           "hovertemplate": "States=Andhra Pradesh<br>Month_name=Jan<br>Region=%{x}<br>Estimated Unemployment Rate=%{y}<extra></extra>",
           "legendgroup": "Andhra Pradesh",
           "marker": {
            "color": "#636efa",
            "pattern": {
             "shape": ""
            }
           },
           "name": "Andhra Pradesh",
           "offsetgroup": "Andhra Pradesh",
           "orientation": "v",
           "showlegend": true,
           "textposition": "auto",
           "type": "bar",
           "x": [
            "South"
           ],
           "xaxis": "x",
           "y": [
            5.48
           ],
           "yaxis": "y"
          },
          {
           "alignmentgroup": "True",
           "hovertemplate": "States=Assam<br>Month_name=Jan<br>Region=%{x}<br>Estimated Unemployment Rate=%{y}<extra></extra>",
           "legendgroup": "Assam",
           "marker": {
            "color": "#EF553B",
            "pattern": {
             "shape": ""
            }
           },
           "name": "Assam",
           "offsetgroup": "Assam",
           "orientation": "v",
           "showlegend": true,
           "textposition": "auto",
           "type": "bar",
           "x": [
            "Northeast"
           ],
           "xaxis": "x",
           "y": [
            4.66
           ],
           "yaxis": "y"
          },
          {
           "alignmentgroup": "True",
           "hovertemplate": "States=Bihar<br>Month_name=Jan<br>Region=%{x}<br>Estimated Unemployment Rate=%{y}<extra></extra>",
           "legendgroup": "Bihar",
           "marker": {
            "color": "#00cc96",
            "pattern": {
             "shape": ""
            }
           },
           "name": "Bihar",
           "offsetgroup": "Bihar",
           "orientation": "v",
           "showlegend": true,
           "textposition": "auto",
           "type": "bar",
           "x": [
            "East"
           ],
           "xaxis": "x",
           "y": [
            10.61
           ],
           "yaxis": "y"
          },
          {
           "alignmentgroup": "True",
           "hovertemplate": "States=Chhattisgarh<br>Month_name=Jan<br>Region=%{x}<br>Estimated Unemployment Rate=%{y}<extra></extra>",
           "legendgroup": "Chhattisgarh",
           "marker": {
            "color": "#ab63fa",
            "pattern": {
             "shape": ""
            }
           },
           "name": "Chhattisgarh",
           "offsetgroup": "Chhattisgarh",
           "orientation": "v",
           "showlegend": true,
           "textposition": "auto",
           "type": "bar",
           "x": [
            "West"
           ],
           "xaxis": "x",
           "y": [
            9.65
           ],
           "yaxis": "y"
          },
          {
           "alignmentgroup": "True",
           "hovertemplate": "States=Delhi<br>Month_name=Jan<br>Region=%{x}<br>Estimated Unemployment Rate=%{y}<extra></extra>",
           "legendgroup": "Delhi",
           "marker": {
            "color": "#FFA15A",
            "pattern": {
             "shape": ""
            }
           },
           "name": "Delhi",
           "offsetgroup": "Delhi",
           "orientation": "v",
           "showlegend": true,
           "textposition": "auto",
           "type": "bar",
           "x": [
            "North"
           ],
           "xaxis": "x",
           "y": [
            22.23
           ],
           "yaxis": "y"
          },
          {
           "alignmentgroup": "True",
           "hovertemplate": "States=Goa<br>Month_name=Jan<br>Region=%{x}<br>Estimated Unemployment Rate=%{y}<extra></extra>",
           "legendgroup": "Goa",
           "marker": {
            "color": "#19d3f3",
            "pattern": {
             "shape": ""
            }
           },
           "name": "Goa",
           "offsetgroup": "Goa",
           "orientation": "v",
           "showlegend": true,
           "textposition": "auto",
           "type": "bar",
           "x": [
            "West"
           ],
           "xaxis": "x",
           "y": [
            8.89
           ],
           "yaxis": "y"
          },
          {
           "alignmentgroup": "True",
           "hovertemplate": "States=Gujarat<br>Month_name=Jan<br>Region=%{x}<br>Estimated Unemployment Rate=%{y}<extra></extra>",
           "legendgroup": "Gujarat",
           "marker": {
            "color": "#FF6692",
            "pattern": {
             "shape": ""
            }
           },
           "name": "Gujarat",
           "offsetgroup": "Gujarat",
           "orientation": "v",
           "showlegend": true,
           "textposition": "auto",
           "type": "bar",
           "x": [
            "West"
           ],
           "xaxis": "x",
           "y": [
            5.54
           ],
           "yaxis": "y"
          },
          {
           "alignmentgroup": "True",
           "hovertemplate": "States=Haryana<br>Month_name=Jan<br>Region=%{x}<br>Estimated Unemployment Rate=%{y}<extra></extra>",
           "legendgroup": "Haryana",
           "marker": {
            "color": "#B6E880",
            "pattern": {
             "shape": ""
            }
           },
           "name": "Haryana",
           "offsetgroup": "Haryana",
           "orientation": "v",
           "showlegend": true,
           "textposition": "auto",
           "type": "bar",
           "x": [
            "North"
           ],
           "xaxis": "x",
           "y": [
            20.34
           ],
           "yaxis": "y"
          },
          {
           "alignmentgroup": "True",
           "hovertemplate": "States=Himachal Pradesh<br>Month_name=Jan<br>Region=%{x}<br>Estimated Unemployment Rate=%{y}<extra></extra>",
           "legendgroup": "Himachal Pradesh",
           "marker": {
            "color": "#FF97FF",
            "pattern": {
             "shape": ""
            }
           },
           "name": "Himachal Pradesh",
           "offsetgroup": "Himachal Pradesh",
           "orientation": "v",
           "showlegend": true,
           "textposition": "auto",
           "type": "bar",
           "x": [
            "North"
           ],
           "xaxis": "x",
           "y": [
            16.83
           ],
           "yaxis": "y"
          },
          {
           "alignmentgroup": "True",
           "hovertemplate": "States=Jammu & Kashmir<br>Month_name=Jan<br>Region=%{x}<br>Estimated Unemployment Rate=%{y}<extra></extra>",
           "legendgroup": "Jammu & Kashmir",
           "marker": {
            "color": "#FECB52",
            "pattern": {
             "shape": ""
            }
           },
           "name": "Jammu & Kashmir",
           "offsetgroup": "Jammu & Kashmir",
           "orientation": "v",
           "showlegend": true,
           "textposition": "auto",
           "type": "bar",
           "x": [
            "North"
           ],
           "xaxis": "x",
           "y": [
            21.08
           ],
           "yaxis": "y"
          },
          {
           "alignmentgroup": "True",
           "hovertemplate": "States=Jharkhand<br>Month_name=Jan<br>Region=%{x}<br>Estimated Unemployment Rate=%{y}<extra></extra>",
           "legendgroup": "Jharkhand",
           "marker": {
            "color": "#636efa",
            "pattern": {
             "shape": ""
            }
           },
           "name": "Jharkhand",
           "offsetgroup": "Jharkhand",
           "orientation": "v",
           "showlegend": true,
           "textposition": "auto",
           "type": "bar",
           "x": [
            "East"
           ],
           "xaxis": "x",
           "y": [
            10.61
           ],
           "yaxis": "y"
          },
          {
           "alignmentgroup": "True",
           "hovertemplate": "States=Karnataka<br>Month_name=Jan<br>Region=%{x}<br>Estimated Unemployment Rate=%{y}<extra></extra>",
           "legendgroup": "Karnataka",
           "marker": {
            "color": "#EF553B",
            "pattern": {
             "shape": ""
            }
           },
           "name": "Karnataka",
           "offsetgroup": "Karnataka",
           "orientation": "v",
           "showlegend": true,
           "textposition": "auto",
           "type": "bar",
           "x": [
            "South"
           ],
           "xaxis": "x",
           "y": [
            2.86
           ],
           "yaxis": "y"
          },
          {
           "alignmentgroup": "True",
           "hovertemplate": "States=Kerala<br>Month_name=Jan<br>Region=%{x}<br>Estimated Unemployment Rate=%{y}<extra></extra>",
           "legendgroup": "Kerala",
           "marker": {
            "color": "#00cc96",
            "pattern": {
             "shape": ""
            }
           },
           "name": "Kerala",
           "offsetgroup": "Kerala",
           "orientation": "v",
           "showlegend": true,
           "textposition": "auto",
           "type": "bar",
           "x": [
            "South"
           ],
           "xaxis": "x",
           "y": [
            5.31
           ],
           "yaxis": "y"
          },
          {
           "alignmentgroup": "True",
           "hovertemplate": "States=Madhya Pradesh<br>Month_name=Jan<br>Region=%{x}<br>Estimated Unemployment Rate=%{y}<extra></extra>",
           "legendgroup": "Madhya Pradesh",
           "marker": {
            "color": "#ab63fa",
            "pattern": {
             "shape": ""
            }
           },
           "name": "Madhya Pradesh",
           "offsetgroup": "Madhya Pradesh",
           "orientation": "v",
           "showlegend": true,
           "textposition": "auto",
           "type": "bar",
           "x": [
            "West"
           ],
           "xaxis": "x",
           "y": [
            4.11
           ],
           "yaxis": "y"
          },
          {
           "alignmentgroup": "True",
           "hovertemplate": "States=Maharashtra<br>Month_name=Jan<br>Region=%{x}<br>Estimated Unemployment Rate=%{y}<extra></extra>",
           "legendgroup": "Maharashtra",
           "marker": {
            "color": "#FFA15A",
            "pattern": {
             "shape": ""
            }
           },
           "name": "Maharashtra",
           "offsetgroup": "Maharashtra",
           "orientation": "v",
           "showlegend": true,
           "textposition": "auto",
           "type": "bar",
           "x": [
            "West"
           ],
           "xaxis": "x",
           "y": [
            4.95
           ],
           "yaxis": "y"
          },
          {
           "alignmentgroup": "True",
           "hovertemplate": "States=Meghalaya<br>Month_name=Jan<br>Region=%{x}<br>Estimated Unemployment Rate=%{y}<extra></extra>",
           "legendgroup": "Meghalaya",
           "marker": {
            "color": "#19d3f3",
            "pattern": {
             "shape": ""
            }
           },
           "name": "Meghalaya",
           "offsetgroup": "Meghalaya",
           "orientation": "v",
           "showlegend": true,
           "textposition": "auto",
           "type": "bar",
           "x": [
            "Northeast"
           ],
           "xaxis": "x",
           "y": [
            1.66
           ],
           "yaxis": "y"
          },
          {
           "alignmentgroup": "True",
           "hovertemplate": "States=Odisha<br>Month_name=Jan<br>Region=%{x}<br>Estimated Unemployment Rate=%{y}<extra></extra>",
           "legendgroup": "Odisha",
           "marker": {
            "color": "#FF6692",
            "pattern": {
             "shape": ""
            }
           },
           "name": "Odisha",
           "offsetgroup": "Odisha",
           "orientation": "v",
           "showlegend": true,
           "textposition": "auto",
           "type": "bar",
           "x": [
            "East"
           ],
           "xaxis": "x",
           "y": [
            1.9
           ],
           "yaxis": "y"
          },
          {
           "alignmentgroup": "True",
           "hovertemplate": "States=Puducherry<br>Month_name=Jan<br>Region=%{x}<br>Estimated Unemployment Rate=%{y}<extra></extra>",
           "legendgroup": "Puducherry",
           "marker": {
            "color": "#B6E880",
            "pattern": {
             "shape": ""
            }
           },
           "name": "Puducherry",
           "offsetgroup": "Puducherry",
           "orientation": "v",
           "showlegend": true,
           "textposition": "auto",
           "type": "bar",
           "x": [
            "South"
           ],
           "xaxis": "x",
           "y": [
            0.58
           ],
           "yaxis": "y"
          },
          {
           "alignmentgroup": "True",
           "hovertemplate": "States=Punjab<br>Month_name=Jan<br>Region=%{x}<br>Estimated Unemployment Rate=%{y}<extra></extra>",
           "legendgroup": "Punjab",
           "marker": {
            "color": "#FF97FF",
            "pattern": {
             "shape": ""
            }
           },
           "name": "Punjab",
           "offsetgroup": "Punjab",
           "orientation": "v",
           "showlegend": true,
           "textposition": "auto",
           "type": "bar",
           "x": [
            "North"
           ],
           "xaxis": "x",
           "y": [
            11.11
           ],
           "yaxis": "y"
          },
          {
           "alignmentgroup": "True",
           "hovertemplate": "States=Rajasthan<br>Month_name=Jan<br>Region=%{x}<br>Estimated Unemployment Rate=%{y}<extra></extra>",
           "legendgroup": "Rajasthan",
           "marker": {
            "color": "#FECB52",
            "pattern": {
             "shape": ""
            }
           },
           "name": "Rajasthan",
           "offsetgroup": "Rajasthan",
           "orientation": "v",
           "showlegend": true,
           "textposition": "auto",
           "type": "bar",
           "x": [
            "North"
           ],
           "xaxis": "x",
           "y": [
            10.97
           ],
           "yaxis": "y"
          },
          {
           "alignmentgroup": "True",
           "hovertemplate": "States=Tamil Nadu<br>Month_name=Jan<br>Region=%{x}<br>Estimated Unemployment Rate=%{y}<extra></extra>",
           "legendgroup": "Tamil Nadu",
           "marker": {
            "color": "#EF553B",
            "pattern": {
             "shape": ""
            }
           },
           "name": "Tamil Nadu",
           "offsetgroup": "Tamil Nadu",
           "orientation": "v",
           "showlegend": true,
           "textposition": "auto",
           "type": "bar",
           "x": [
            "South"
           ],
           "xaxis": "x",
           "y": [
            1.57
           ],
           "yaxis": "y"
          },
          {
           "alignmentgroup": "True",
           "hovertemplate": "States=Telangana<br>Month_name=Jan<br>Region=%{x}<br>Estimated Unemployment Rate=%{y}<extra></extra>",
           "legendgroup": "Telangana",
           "marker": {
            "color": "#00cc96",
            "pattern": {
             "shape": ""
            }
           },
           "name": "Telangana",
           "offsetgroup": "Telangana",
           "orientation": "v",
           "showlegend": true,
           "textposition": "auto",
           "type": "bar",
           "x": [
            "South"
           ],
           "xaxis": "x",
           "y": [
            5.49
           ],
           "yaxis": "y"
          },
          {
           "alignmentgroup": "True",
           "hovertemplate": "States=Tripura<br>Month_name=Jan<br>Region=%{x}<br>Estimated Unemployment Rate=%{y}<extra></extra>",
           "legendgroup": "Tripura",
           "marker": {
            "color": "#ab63fa",
            "pattern": {
             "shape": ""
            }
           },
           "name": "Tripura",
           "offsetgroup": "Tripura",
           "orientation": "v",
           "showlegend": true,
           "textposition": "auto",
           "type": "bar",
           "x": [
            "Northeast"
           ],
           "xaxis": "x",
           "y": [
            32.67
           ],
           "yaxis": "y"
          },
          {
           "alignmentgroup": "True",
           "hovertemplate": "States=Uttar Pradesh<br>Month_name=Jan<br>Region=%{x}<br>Estimated Unemployment Rate=%{y}<extra></extra>",
           "legendgroup": "Uttar Pradesh",
           "marker": {
            "color": "#FFA15A",
            "pattern": {
             "shape": ""
            }
           },
           "name": "Uttar Pradesh",
           "offsetgroup": "Uttar Pradesh",
           "orientation": "v",
           "showlegend": true,
           "textposition": "auto",
           "type": "bar",
           "x": [
            "North"
           ],
           "xaxis": "x",
           "y": [
            7.58
           ],
           "yaxis": "y"
          },
          {
           "alignmentgroup": "True",
           "hovertemplate": "States=Uttarakhand<br>Month_name=Jan<br>Region=%{x}<br>Estimated Unemployment Rate=%{y}<extra></extra>",
           "legendgroup": "Uttarakhand",
           "marker": {
            "color": "#19d3f3",
            "pattern": {
             "shape": ""
            }
           },
           "name": "Uttarakhand",
           "offsetgroup": "Uttarakhand",
           "orientation": "v",
           "showlegend": true,
           "textposition": "auto",
           "type": "bar",
           "x": [
            "North"
           ],
           "xaxis": "x",
           "y": [
            5.49
           ],
           "yaxis": "y"
          },
          {
           "alignmentgroup": "True",
           "hovertemplate": "States=West Bengal<br>Month_name=Jan<br>Region=%{x}<br>Estimated Unemployment Rate=%{y}<extra></extra>",
           "legendgroup": "West Bengal",
           "marker": {
            "color": "#FF6692",
            "pattern": {
             "shape": ""
            }
           },
           "name": "West Bengal",
           "offsetgroup": "West Bengal",
           "orientation": "v",
           "showlegend": true,
           "textposition": "auto",
           "type": "bar",
           "x": [
            "East"
           ],
           "xaxis": "x",
           "y": [
            6.94
           ],
           "yaxis": "y"
          }
         ],
         "name": "Jan"
        },
        {
         "data": [
          {
           "alignmentgroup": "True",
           "hovertemplate": "States=Andhra Pradesh<br>Month_name=Feb<br>Region=%{x}<br>Estimated Unemployment Rate=%{y}<extra></extra>",
           "legendgroup": "Andhra Pradesh",
           "marker": {
            "color": "#636efa",
            "pattern": {
             "shape": ""
            }
           },
           "name": "Andhra Pradesh",
           "offsetgroup": "Andhra Pradesh",
           "orientation": "v",
           "showlegend": true,
           "textposition": "auto",
           "type": "bar",
           "x": [
            "South"
           ],
           "xaxis": "x",
           "y": [
            5.83
           ],
           "yaxis": "y"
          },
          {
           "alignmentgroup": "True",
           "hovertemplate": "States=Assam<br>Month_name=Feb<br>Region=%{x}<br>Estimated Unemployment Rate=%{y}<extra></extra>",
           "legendgroup": "Assam",
           "marker": {
            "color": "#EF553B",
            "pattern": {
             "shape": ""
            }
           },
           "name": "Assam",
           "offsetgroup": "Assam",
           "orientation": "v",
           "showlegend": true,
           "textposition": "auto",
           "type": "bar",
           "x": [
            "Northeast"
           ],
           "xaxis": "x",
           "y": [
            4.41
           ],
           "yaxis": "y"
          },
          {
           "alignmentgroup": "True",
           "hovertemplate": "States=Bihar<br>Month_name=Feb<br>Region=%{x}<br>Estimated Unemployment Rate=%{y}<extra></extra>",
           "legendgroup": "Bihar",
           "marker": {
            "color": "#00cc96",
            "pattern": {
             "shape": ""
            }
           },
           "name": "Bihar",
           "offsetgroup": "Bihar",
           "orientation": "v",
           "showlegend": true,
           "textposition": "auto",
           "type": "bar",
           "x": [
            "East"
           ],
           "xaxis": "x",
           "y": [
            10.29
           ],
           "yaxis": "y"
          },
          {
           "alignmentgroup": "True",
           "hovertemplate": "States=Chhattisgarh<br>Month_name=Feb<br>Region=%{x}<br>Estimated Unemployment Rate=%{y}<extra></extra>",
           "legendgroup": "Chhattisgarh",
           "marker": {
            "color": "#ab63fa",
            "pattern": {
             "shape": ""
            }
           },
           "name": "Chhattisgarh",
           "offsetgroup": "Chhattisgarh",
           "orientation": "v",
           "showlegend": true,
           "textposition": "auto",
           "type": "bar",
           "x": [
            "West"
           ],
           "xaxis": "x",
           "y": [
            8.38
           ],
           "yaxis": "y"
          },
          {
           "alignmentgroup": "True",
           "hovertemplate": "States=Delhi<br>Month_name=Feb<br>Region=%{x}<br>Estimated Unemployment Rate=%{y}<extra></extra>",
           "legendgroup": "Delhi",
           "marker": {
            "color": "#FFA15A",
            "pattern": {
             "shape": ""
            }
           },
           "name": "Delhi",
           "offsetgroup": "Delhi",
           "orientation": "v",
           "showlegend": true,
           "textposition": "auto",
           "type": "bar",
           "x": [
            "North"
           ],
           "xaxis": "x",
           "y": [
            14.84
           ],
           "yaxis": "y"
          },
          {
           "alignmentgroup": "True",
           "hovertemplate": "States=Goa<br>Month_name=Feb<br>Region=%{x}<br>Estimated Unemployment Rate=%{y}<extra></extra>",
           "legendgroup": "Goa",
           "marker": {
            "color": "#19d3f3",
            "pattern": {
             "shape": ""
            }
           },
           "name": "Goa",
           "offsetgroup": "Goa",
           "orientation": "v",
           "showlegend": true,
           "textposition": "auto",
           "type": "bar",
           "x": [
            "West"
           ],
           "xaxis": "x",
           "y": [
            2.81
           ],
           "yaxis": "y"
          },
          {
           "alignmentgroup": "True",
           "hovertemplate": "States=Gujarat<br>Month_name=Feb<br>Region=%{x}<br>Estimated Unemployment Rate=%{y}<extra></extra>",
           "legendgroup": "Gujarat",
           "marker": {
            "color": "#FF6692",
            "pattern": {
             "shape": ""
            }
           },
           "name": "Gujarat",
           "offsetgroup": "Gujarat",
           "orientation": "v",
           "showlegend": true,
           "textposition": "auto",
           "type": "bar",
           "x": [
            "West"
           ],
           "xaxis": "x",
           "y": [
            6.38
           ],
           "yaxis": "y"
          },
          {
           "alignmentgroup": "True",
           "hovertemplate": "States=Haryana<br>Month_name=Feb<br>Region=%{x}<br>Estimated Unemployment Rate=%{y}<extra></extra>",
           "legendgroup": "Haryana",
           "marker": {
            "color": "#B6E880",
            "pattern": {
             "shape": ""
            }
           },
           "name": "Haryana",
           "offsetgroup": "Haryana",
           "orientation": "v",
           "showlegend": true,
           "textposition": "auto",
           "type": "bar",
           "x": [
            "North"
           ],
           "xaxis": "x",
           "y": [
            25.77
           ],
           "yaxis": "y"
          },
          {
           "alignmentgroup": "True",
           "hovertemplate": "States=Himachal Pradesh<br>Month_name=Feb<br>Region=%{x}<br>Estimated Unemployment Rate=%{y}<extra></extra>",
           "legendgroup": "Himachal Pradesh",
           "marker": {
            "color": "#FF97FF",
            "pattern": {
             "shape": ""
            }
           },
           "name": "Himachal Pradesh",
           "offsetgroup": "Himachal Pradesh",
           "orientation": "v",
           "showlegend": true,
           "textposition": "auto",
           "type": "bar",
           "x": [
            "North"
           ],
           "xaxis": "x",
           "y": [
            16.84
           ],
           "yaxis": "y"
          },
          {
           "alignmentgroup": "True",
           "hovertemplate": "States=Jammu & Kashmir<br>Month_name=Feb<br>Region=%{x}<br>Estimated Unemployment Rate=%{y}<extra></extra>",
           "legendgroup": "Jammu & Kashmir",
           "marker": {
            "color": "#FECB52",
            "pattern": {
             "shape": ""
            }
           },
           "name": "Jammu & Kashmir",
           "offsetgroup": "Jammu & Kashmir",
           "orientation": "v",
           "showlegend": true,
           "textposition": "auto",
           "type": "bar",
           "x": [
            "North"
           ],
           "xaxis": "x",
           "y": [
            20.78
           ],
           "yaxis": "y"
          },
          {
           "alignmentgroup": "True",
           "hovertemplate": "States=Jharkhand<br>Month_name=Feb<br>Region=%{x}<br>Estimated Unemployment Rate=%{y}<extra></extra>",
           "legendgroup": "Jharkhand",
           "marker": {
            "color": "#636efa",
            "pattern": {
             "shape": ""
            }
           },
           "name": "Jharkhand",
           "offsetgroup": "Jharkhand",
           "orientation": "v",
           "showlegend": true,
           "textposition": "auto",
           "type": "bar",
           "x": [
            "East"
           ],
           "xaxis": "x",
           "y": [
            11.85
           ],
           "yaxis": "y"
          },
          {
           "alignmentgroup": "True",
           "hovertemplate": "States=Karnataka<br>Month_name=Feb<br>Region=%{x}<br>Estimated Unemployment Rate=%{y}<extra></extra>",
           "legendgroup": "Karnataka",
           "marker": {
            "color": "#EF553B",
            "pattern": {
             "shape": ""
            }
           },
           "name": "Karnataka",
           "offsetgroup": "Karnataka",
           "orientation": "v",
           "showlegend": true,
           "textposition": "auto",
           "type": "bar",
           "x": [
            "South"
           ],
           "xaxis": "x",
           "y": [
            3.61
           ],
           "yaxis": "y"
          },
          {
           "alignmentgroup": "True",
           "hovertemplate": "States=Kerala<br>Month_name=Feb<br>Region=%{x}<br>Estimated Unemployment Rate=%{y}<extra></extra>",
           "legendgroup": "Kerala",
           "marker": {
            "color": "#00cc96",
            "pattern": {
             "shape": ""
            }
           },
           "name": "Kerala",
           "offsetgroup": "Kerala",
           "orientation": "v",
           "showlegend": true,
           "textposition": "auto",
           "type": "bar",
           "x": [
            "South"
           ],
           "xaxis": "x",
           "y": [
            7.6
           ],
           "yaxis": "y"
          },
          {
           "alignmentgroup": "True",
           "hovertemplate": "States=Madhya Pradesh<br>Month_name=Feb<br>Region=%{x}<br>Estimated Unemployment Rate=%{y}<extra></extra>",
           "legendgroup": "Madhya Pradesh",
           "marker": {
            "color": "#ab63fa",
            "pattern": {
             "shape": ""
            }
           },
           "name": "Madhya Pradesh",
           "offsetgroup": "Madhya Pradesh",
           "orientation": "v",
           "showlegend": true,
           "textposition": "auto",
           "type": "bar",
           "x": [
            "West"
           ],
           "xaxis": "x",
           "y": [
            4.57
           ],
           "yaxis": "y"
          },
          {
           "alignmentgroup": "True",
           "hovertemplate": "States=Maharashtra<br>Month_name=Feb<br>Region=%{x}<br>Estimated Unemployment Rate=%{y}<extra></extra>",
           "legendgroup": "Maharashtra",
           "marker": {
            "color": "#FFA15A",
            "pattern": {
             "shape": ""
            }
           },
           "name": "Maharashtra",
           "offsetgroup": "Maharashtra",
           "orientation": "v",
           "showlegend": true,
           "textposition": "auto",
           "type": "bar",
           "x": [
            "West"
           ],
           "xaxis": "x",
           "y": [
            4.69
           ],
           "yaxis": "y"
          },
          {
           "alignmentgroup": "True",
           "hovertemplate": "States=Meghalaya<br>Month_name=Feb<br>Region=%{x}<br>Estimated Unemployment Rate=%{y}<extra></extra>",
           "legendgroup": "Meghalaya",
           "marker": {
            "color": "#19d3f3",
            "pattern": {
             "shape": ""
            }
           },
           "name": "Meghalaya",
           "offsetgroup": "Meghalaya",
           "orientation": "v",
           "showlegend": true,
           "textposition": "auto",
           "type": "bar",
           "x": [
            "Northeast"
           ],
           "xaxis": "x",
           "y": [
            3.59
           ],
           "yaxis": "y"
          },
          {
           "alignmentgroup": "True",
           "hovertemplate": "States=Odisha<br>Month_name=Feb<br>Region=%{x}<br>Estimated Unemployment Rate=%{y}<extra></extra>",
           "legendgroup": "Odisha",
           "marker": {
            "color": "#FF6692",
            "pattern": {
             "shape": ""
            }
           },
           "name": "Odisha",
           "offsetgroup": "Odisha",
           "orientation": "v",
           "showlegend": true,
           "textposition": "auto",
           "type": "bar",
           "x": [
            "East"
           ],
           "xaxis": "x",
           "y": [
            3.12
           ],
           "yaxis": "y"
          },
          {
           "alignmentgroup": "True",
           "hovertemplate": "States=Puducherry<br>Month_name=Feb<br>Region=%{x}<br>Estimated Unemployment Rate=%{y}<extra></extra>",
           "legendgroup": "Puducherry",
           "marker": {
            "color": "#B6E880",
            "pattern": {
             "shape": ""
            }
           },
           "name": "Puducherry",
           "offsetgroup": "Puducherry",
           "orientation": "v",
           "showlegend": true,
           "textposition": "auto",
           "type": "bar",
           "x": [
            "South"
           ],
           "xaxis": "x",
           "y": [
            1.76
           ],
           "yaxis": "y"
          },
          {
           "alignmentgroup": "True",
           "hovertemplate": "States=Punjab<br>Month_name=Feb<br>Region=%{x}<br>Estimated Unemployment Rate=%{y}<extra></extra>",
           "legendgroup": "Punjab",
           "marker": {
            "color": "#FF97FF",
            "pattern": {
             "shape": ""
            }
           },
           "name": "Punjab",
           "offsetgroup": "Punjab",
           "orientation": "v",
           "showlegend": true,
           "textposition": "auto",
           "type": "bar",
           "x": [
            "North"
           ],
           "xaxis": "x",
           "y": [
            10.97
           ],
           "yaxis": "y"
          },
          {
           "alignmentgroup": "True",
           "hovertemplate": "States=Rajasthan<br>Month_name=Feb<br>Region=%{x}<br>Estimated Unemployment Rate=%{y}<extra></extra>",
           "legendgroup": "Rajasthan",
           "marker": {
            "color": "#FECB52",
            "pattern": {
             "shape": ""
            }
           },
           "name": "Rajasthan",
           "offsetgroup": "Rajasthan",
           "orientation": "v",
           "showlegend": true,
           "textposition": "auto",
           "type": "bar",
           "x": [
            "North"
           ],
           "xaxis": "x",
           "y": [
            15.16
           ],
           "yaxis": "y"
          },
          {
           "alignmentgroup": "True",
           "hovertemplate": "States=Tamil Nadu<br>Month_name=Feb<br>Region=%{x}<br>Estimated Unemployment Rate=%{y}<extra></extra>",
           "legendgroup": "Tamil Nadu",
           "marker": {
            "color": "#EF553B",
            "pattern": {
             "shape": ""
            }
           },
           "name": "Tamil Nadu",
           "offsetgroup": "Tamil Nadu",
           "orientation": "v",
           "showlegend": true,
           "textposition": "auto",
           "type": "bar",
           "x": [
            "South"
           ],
           "xaxis": "x",
           "y": [
            2.09
           ],
           "yaxis": "y"
          },
          {
           "alignmentgroup": "True",
           "hovertemplate": "States=Telangana<br>Month_name=Feb<br>Region=%{x}<br>Estimated Unemployment Rate=%{y}<extra></extra>",
           "legendgroup": "Telangana",
           "marker": {
            "color": "#00cc96",
            "pattern": {
             "shape": ""
            }
           },
           "name": "Telangana",
           "offsetgroup": "Telangana",
           "orientation": "v",
           "showlegend": true,
           "textposition": "auto",
           "type": "bar",
           "x": [
            "South"
           ],
           "xaxis": "x",
           "y": [
            8.29
           ],
           "yaxis": "y"
          },
          {
           "alignmentgroup": "True",
           "hovertemplate": "States=Tripura<br>Month_name=Feb<br>Region=%{x}<br>Estimated Unemployment Rate=%{y}<extra></extra>",
           "legendgroup": "Tripura",
           "marker": {
            "color": "#ab63fa",
            "pattern": {
             "shape": ""
            }
           },
           "name": "Tripura",
           "offsetgroup": "Tripura",
           "orientation": "v",
           "showlegend": true,
           "textposition": "auto",
           "type": "bar",
           "x": [
            "Northeast"
           ],
           "xaxis": "x",
           "y": [
            28.4
           ],
           "yaxis": "y"
          },
          {
           "alignmentgroup": "True",
           "hovertemplate": "States=Uttar Pradesh<br>Month_name=Feb<br>Region=%{x}<br>Estimated Unemployment Rate=%{y}<extra></extra>",
           "legendgroup": "Uttar Pradesh",
           "marker": {
            "color": "#FFA15A",
            "pattern": {
             "shape": ""
            }
           },
           "name": "Uttar Pradesh",
           "offsetgroup": "Uttar Pradesh",
           "orientation": "v",
           "showlegend": true,
           "textposition": "auto",
           "type": "bar",
           "x": [
            "North"
           ],
           "xaxis": "x",
           "y": [
            8.98
           ],
           "yaxis": "y"
          },
          {
           "alignmentgroup": "True",
           "hovertemplate": "States=Uttarakhand<br>Month_name=Feb<br>Region=%{x}<br>Estimated Unemployment Rate=%{y}<extra></extra>",
           "legendgroup": "Uttarakhand",
           "marker": {
            "color": "#19d3f3",
            "pattern": {
             "shape": ""
            }
           },
           "name": "Uttarakhand",
           "offsetgroup": "Uttarakhand",
           "orientation": "v",
           "showlegend": true,
           "textposition": "auto",
           "type": "bar",
           "x": [
            "North"
           ],
           "xaxis": "x",
           "y": [
            4.99
           ],
           "yaxis": "y"
          },
          {
           "alignmentgroup": "True",
           "hovertemplate": "States=West Bengal<br>Month_name=Feb<br>Region=%{x}<br>Estimated Unemployment Rate=%{y}<extra></extra>",
           "legendgroup": "West Bengal",
           "marker": {
            "color": "#FF6692",
            "pattern": {
             "shape": ""
            }
           },
           "name": "West Bengal",
           "offsetgroup": "West Bengal",
           "orientation": "v",
           "showlegend": true,
           "textposition": "auto",
           "type": "bar",
           "x": [
            "East"
           ],
           "xaxis": "x",
           "y": [
            4.92
           ],
           "yaxis": "y"
          }
         ],
         "name": "Feb"
        },
        {
         "data": [
          {
           "alignmentgroup": "True",
           "hovertemplate": "States=Andhra Pradesh<br>Month_name=Mar<br>Region=%{x}<br>Estimated Unemployment Rate=%{y}<extra></extra>",
           "legendgroup": "Andhra Pradesh",
           "marker": {
            "color": "#636efa",
            "pattern": {
             "shape": ""
            }
           },
           "name": "Andhra Pradesh",
           "offsetgroup": "Andhra Pradesh",
           "orientation": "v",
           "showlegend": true,
           "textposition": "auto",
           "type": "bar",
           "x": [
            "South"
           ],
           "xaxis": "x",
           "y": [
            5.79
           ],
           "yaxis": "y"
          },
          {
           "alignmentgroup": "True",
           "hovertemplate": "States=Assam<br>Month_name=Mar<br>Region=%{x}<br>Estimated Unemployment Rate=%{y}<extra></extra>",
           "legendgroup": "Assam",
           "marker": {
            "color": "#EF553B",
            "pattern": {
             "shape": ""
            }
           },
           "name": "Assam",
           "offsetgroup": "Assam",
           "orientation": "v",
           "showlegend": true,
           "textposition": "auto",
           "type": "bar",
           "x": [
            "Northeast"
           ],
           "xaxis": "x",
           "y": [
            4.77
           ],
           "yaxis": "y"
          },
          {
           "alignmentgroup": "True",
           "hovertemplate": "States=Bihar<br>Month_name=Mar<br>Region=%{x}<br>Estimated Unemployment Rate=%{y}<extra></extra>",
           "legendgroup": "Bihar",
           "marker": {
            "color": "#00cc96",
            "pattern": {
             "shape": ""
            }
           },
           "name": "Bihar",
           "offsetgroup": "Bihar",
           "orientation": "v",
           "showlegend": true,
           "textposition": "auto",
           "type": "bar",
           "x": [
            "East"
           ],
           "xaxis": "x",
           "y": [
            15.43
           ],
           "yaxis": "y"
          },
          {
           "alignmentgroup": "True",
           "hovertemplate": "States=Chhattisgarh<br>Month_name=Mar<br>Region=%{x}<br>Estimated Unemployment Rate=%{y}<extra></extra>",
           "legendgroup": "Chhattisgarh",
           "marker": {
            "color": "#ab63fa",
            "pattern": {
             "shape": ""
            }
           },
           "name": "Chhattisgarh",
           "offsetgroup": "Chhattisgarh",
           "orientation": "v",
           "showlegend": true,
           "textposition": "auto",
           "type": "bar",
           "x": [
            "West"
           ],
           "xaxis": "x",
           "y": [
            7.54
           ],
           "yaxis": "y"
          },
          {
           "alignmentgroup": "True",
           "hovertemplate": "States=Delhi<br>Month_name=Mar<br>Region=%{x}<br>Estimated Unemployment Rate=%{y}<extra></extra>",
           "legendgroup": "Delhi",
           "marker": {
            "color": "#FFA15A",
            "pattern": {
             "shape": ""
            }
           },
           "name": "Delhi",
           "offsetgroup": "Delhi",
           "orientation": "v",
           "showlegend": true,
           "textposition": "auto",
           "type": "bar",
           "x": [
            "North"
           ],
           "xaxis": "x",
           "y": [
            17.04
           ],
           "yaxis": "y"
          },
          {
           "alignmentgroup": "True",
           "hovertemplate": "States=Goa<br>Month_name=Mar<br>Region=%{x}<br>Estimated Unemployment Rate=%{y}<extra></extra>",
           "legendgroup": "Goa",
           "marker": {
            "color": "#19d3f3",
            "pattern": {
             "shape": ""
            }
           },
           "name": "Goa",
           "offsetgroup": "Goa",
           "orientation": "v",
           "showlegend": true,
           "textposition": "auto",
           "type": "bar",
           "x": [
            "West"
           ],
           "xaxis": "x",
           "y": [
            5.25
           ],
           "yaxis": "y"
          },
          {
           "alignmentgroup": "True",
           "hovertemplate": "States=Gujarat<br>Month_name=Mar<br>Region=%{x}<br>Estimated Unemployment Rate=%{y}<extra></extra>",
           "legendgroup": "Gujarat",
           "marker": {
            "color": "#FF6692",
            "pattern": {
             "shape": ""
            }
           },
           "name": "Gujarat",
           "offsetgroup": "Gujarat",
           "orientation": "v",
           "showlegend": true,
           "textposition": "auto",
           "type": "bar",
           "x": [
            "West"
           ],
           "xaxis": "x",
           "y": [
            6.66
           ],
           "yaxis": "y"
          },
          {
           "alignmentgroup": "True",
           "hovertemplate": "States=Haryana<br>Month_name=Mar<br>Region=%{x}<br>Estimated Unemployment Rate=%{y}<extra></extra>",
           "legendgroup": "Haryana",
           "marker": {
            "color": "#B6E880",
            "pattern": {
             "shape": ""
            }
           },
           "name": "Haryana",
           "offsetgroup": "Haryana",
           "orientation": "v",
           "showlegend": true,
           "textposition": "auto",
           "type": "bar",
           "x": [
            "North"
           ],
           "xaxis": "x",
           "y": [
            25.05
           ],
           "yaxis": "y"
          },
          {
           "alignmentgroup": "True",
           "hovertemplate": "States=Himachal Pradesh<br>Month_name=Mar<br>Region=%{x}<br>Estimated Unemployment Rate=%{y}<extra></extra>",
           "legendgroup": "Himachal Pradesh",
           "marker": {
            "color": "#FF97FF",
            "pattern": {
             "shape": ""
            }
           },
           "name": "Himachal Pradesh",
           "offsetgroup": "Himachal Pradesh",
           "orientation": "v",
           "showlegend": true,
           "textposition": "auto",
           "type": "bar",
           "x": [
            "North"
           ],
           "xaxis": "x",
           "y": [
            18.76
           ],
           "yaxis": "y"
          },
          {
           "alignmentgroup": "True",
           "hovertemplate": "States=Jammu & Kashmir<br>Month_name=Mar<br>Region=%{x}<br>Estimated Unemployment Rate=%{y}<extra></extra>",
           "legendgroup": "Jammu & Kashmir",
           "marker": {
            "color": "#FECB52",
            "pattern": {
             "shape": ""
            }
           },
           "name": "Jammu & Kashmir",
           "offsetgroup": "Jammu & Kashmir",
           "orientation": "v",
           "showlegend": true,
           "textposition": "auto",
           "type": "bar",
           "x": [
            "North"
           ],
           "xaxis": "x",
           "y": [
            15.5
           ],
           "yaxis": "y"
          },
          {
           "alignmentgroup": "True",
           "hovertemplate": "States=Jharkhand<br>Month_name=Mar<br>Region=%{x}<br>Estimated Unemployment Rate=%{y}<extra></extra>",
           "legendgroup": "Jharkhand",
           "marker": {
            "color": "#636efa",
            "pattern": {
             "shape": ""
            }
           },
           "name": "Jharkhand",
           "offsetgroup": "Jharkhand",
           "orientation": "v",
           "showlegend": true,
           "textposition": "auto",
           "type": "bar",
           "x": [
            "East"
           ],
           "xaxis": "x",
           "y": [
            8.23
           ],
           "yaxis": "y"
          },
          {
           "alignmentgroup": "True",
           "hovertemplate": "States=Karnataka<br>Month_name=Mar<br>Region=%{x}<br>Estimated Unemployment Rate=%{y}<extra></extra>",
           "legendgroup": "Karnataka",
           "marker": {
            "color": "#EF553B",
            "pattern": {
             "shape": ""
            }
           },
           "name": "Karnataka",
           "offsetgroup": "Karnataka",
           "orientation": "v",
           "showlegend": true,
           "textposition": "auto",
           "type": "bar",
           "x": [
            "South"
           ],
           "xaxis": "x",
           "y": [
            3.46
           ],
           "yaxis": "y"
          },
          {
           "alignmentgroup": "True",
           "hovertemplate": "States=Kerala<br>Month_name=Mar<br>Region=%{x}<br>Estimated Unemployment Rate=%{y}<extra></extra>",
           "legendgroup": "Kerala",
           "marker": {
            "color": "#00cc96",
            "pattern": {
             "shape": ""
            }
           },
           "name": "Kerala",
           "offsetgroup": "Kerala",
           "orientation": "v",
           "showlegend": true,
           "textposition": "auto",
           "type": "bar",
           "x": [
            "South"
           ],
           "xaxis": "x",
           "y": [
            8.99
           ],
           "yaxis": "y"
          },
          {
           "alignmentgroup": "True",
           "hovertemplate": "States=Madhya Pradesh<br>Month_name=Mar<br>Region=%{x}<br>Estimated Unemployment Rate=%{y}<extra></extra>",
           "legendgroup": "Madhya Pradesh",
           "marker": {
            "color": "#ab63fa",
            "pattern": {
             "shape": ""
            }
           },
           "name": "Madhya Pradesh",
           "offsetgroup": "Madhya Pradesh",
           "orientation": "v",
           "showlegend": true,
           "textposition": "auto",
           "type": "bar",
           "x": [
            "West"
           ],
           "xaxis": "x",
           "y": [
            2.22
           ],
           "yaxis": "y"
          },
          {
           "alignmentgroup": "True",
           "hovertemplate": "States=Maharashtra<br>Month_name=Mar<br>Region=%{x}<br>Estimated Unemployment Rate=%{y}<extra></extra>",
           "legendgroup": "Maharashtra",
           "marker": {
            "color": "#FFA15A",
            "pattern": {
             "shape": ""
            }
           },
           "name": "Maharashtra",
           "offsetgroup": "Maharashtra",
           "orientation": "v",
           "showlegend": true,
           "textposition": "auto",
           "type": "bar",
           "x": [
            "West"
           ],
           "xaxis": "x",
           "y": [
            5.79
           ],
           "yaxis": "y"
          },
          {
           "alignmentgroup": "True",
           "hovertemplate": "States=Meghalaya<br>Month_name=Mar<br>Region=%{x}<br>Estimated Unemployment Rate=%{y}<extra></extra>",
           "legendgroup": "Meghalaya",
           "marker": {
            "color": "#19d3f3",
            "pattern": {
             "shape": ""
            }
           },
           "name": "Meghalaya",
           "offsetgroup": "Meghalaya",
           "orientation": "v",
           "showlegend": true,
           "textposition": "auto",
           "type": "bar",
           "x": [
            "Northeast"
           ],
           "xaxis": "x",
           "y": [
            1.58
           ],
           "yaxis": "y"
          },
          {
           "alignmentgroup": "True",
           "hovertemplate": "States=Odisha<br>Month_name=Mar<br>Region=%{x}<br>Estimated Unemployment Rate=%{y}<extra></extra>",
           "legendgroup": "Odisha",
           "marker": {
            "color": "#FF6692",
            "pattern": {
             "shape": ""
            }
           },
           "name": "Odisha",
           "offsetgroup": "Odisha",
           "orientation": "v",
           "showlegend": true,
           "textposition": "auto",
           "type": "bar",
           "x": [
            "East"
           ],
           "xaxis": "x",
           "y": [
            13.08
           ],
           "yaxis": "y"
          },
          {
           "alignmentgroup": "True",
           "hovertemplate": "States=Puducherry<br>Month_name=Mar<br>Region=%{x}<br>Estimated Unemployment Rate=%{y}<extra></extra>",
           "legendgroup": "Puducherry",
           "marker": {
            "color": "#B6E880",
            "pattern": {
             "shape": ""
            }
           },
           "name": "Puducherry",
           "offsetgroup": "Puducherry",
           "orientation": "v",
           "showlegend": true,
           "textposition": "auto",
           "type": "bar",
           "x": [
            "South"
           ],
           "xaxis": "x",
           "y": [
            1.2
           ],
           "yaxis": "y"
          },
          {
           "alignmentgroup": "True",
           "hovertemplate": "States=Punjab<br>Month_name=Mar<br>Region=%{x}<br>Estimated Unemployment Rate=%{y}<extra></extra>",
           "legendgroup": "Punjab",
           "marker": {
            "color": "#FF97FF",
            "pattern": {
             "shape": ""
            }
           },
           "name": "Punjab",
           "offsetgroup": "Punjab",
           "orientation": "v",
           "showlegend": true,
           "textposition": "auto",
           "type": "bar",
           "x": [
            "North"
           ],
           "xaxis": "x",
           "y": [
            10.32
           ],
           "yaxis": "y"
          },
          {
           "alignmentgroup": "True",
           "hovertemplate": "States=Rajasthan<br>Month_name=Mar<br>Region=%{x}<br>Estimated Unemployment Rate=%{y}<extra></extra>",
           "legendgroup": "Rajasthan",
           "marker": {
            "color": "#FECB52",
            "pattern": {
             "shape": ""
            }
           },
           "name": "Rajasthan",
           "offsetgroup": "Rajasthan",
           "orientation": "v",
           "showlegend": true,
           "textposition": "auto",
           "type": "bar",
           "x": [
            "North"
           ],
           "xaxis": "x",
           "y": [
            11.9
           ],
           "yaxis": "y"
          },
          {
           "alignmentgroup": "True",
           "hovertemplate": "States=Sikkim<br>Month_name=Mar<br>Region=%{x}<br>Estimated Unemployment Rate=%{y}<extra></extra>",
           "legendgroup": "Sikkim",
           "marker": {
            "color": "#636efa",
            "pattern": {
             "shape": ""
            }
           },
           "name": "Sikkim",
           "offsetgroup": "Sikkim",
           "orientation": "v",
           "showlegend": true,
           "textposition": "auto",
           "type": "bar",
           "x": [
            "Northeast"
           ],
           "xaxis": "x",
           "y": [
            23.57
           ],
           "yaxis": "y"
          },
          {
           "alignmentgroup": "True",
           "hovertemplate": "States=Tamil Nadu<br>Month_name=Mar<br>Region=%{x}<br>Estimated Unemployment Rate=%{y}<extra></extra>",
           "legendgroup": "Tamil Nadu",
           "marker": {
            "color": "#EF553B",
            "pattern": {
             "shape": ""
            }
           },
           "name": "Tamil Nadu",
           "offsetgroup": "Tamil Nadu",
           "orientation": "v",
           "showlegend": true,
           "textposition": "auto",
           "type": "bar",
           "x": [
            "South"
           ],
           "xaxis": "x",
           "y": [
            6.4
           ],
           "yaxis": "y"
          },
          {
           "alignmentgroup": "True",
           "hovertemplate": "States=Telangana<br>Month_name=Mar<br>Region=%{x}<br>Estimated Unemployment Rate=%{y}<extra></extra>",
           "legendgroup": "Telangana",
           "marker": {
            "color": "#00cc96",
            "pattern": {
             "shape": ""
            }
           },
           "name": "Telangana",
           "offsetgroup": "Telangana",
           "orientation": "v",
           "showlegend": true,
           "textposition": "auto",
           "type": "bar",
           "x": [
            "South"
           ],
           "xaxis": "x",
           "y": [
            5.77
           ],
           "yaxis": "y"
          },
          {
           "alignmentgroup": "True",
           "hovertemplate": "States=Tripura<br>Month_name=Mar<br>Region=%{x}<br>Estimated Unemployment Rate=%{y}<extra></extra>",
           "legendgroup": "Tripura",
           "marker": {
            "color": "#ab63fa",
            "pattern": {
             "shape": ""
            }
           },
           "name": "Tripura",
           "offsetgroup": "Tripura",
           "orientation": "v",
           "showlegend": true,
           "textposition": "auto",
           "type": "bar",
           "x": [
            "Northeast"
           ],
           "xaxis": "x",
           "y": [
            29.95
           ],
           "yaxis": "y"
          },
          {
           "alignmentgroup": "True",
           "hovertemplate": "States=Uttar Pradesh<br>Month_name=Mar<br>Region=%{x}<br>Estimated Unemployment Rate=%{y}<extra></extra>",
           "legendgroup": "Uttar Pradesh",
           "marker": {
            "color": "#FFA15A",
            "pattern": {
             "shape": ""
            }
           },
           "name": "Uttar Pradesh",
           "offsetgroup": "Uttar Pradesh",
           "orientation": "v",
           "showlegend": true,
           "textposition": "auto",
           "type": "bar",
           "x": [
            "North"
           ],
           "xaxis": "x",
           "y": [
            10.11
           ],
           "yaxis": "y"
          },
          {
           "alignmentgroup": "True",
           "hovertemplate": "States=Uttarakhand<br>Month_name=Mar<br>Region=%{x}<br>Estimated Unemployment Rate=%{y}<extra></extra>",
           "legendgroup": "Uttarakhand",
           "marker": {
            "color": "#19d3f3",
            "pattern": {
             "shape": ""
            }
           },
           "name": "Uttarakhand",
           "offsetgroup": "Uttarakhand",
           "orientation": "v",
           "showlegend": true,
           "textposition": "auto",
           "type": "bar",
           "x": [
            "North"
           ],
           "xaxis": "x",
           "y": [
            19.85
           ],
           "yaxis": "y"
          },
          {
           "alignmentgroup": "True",
           "hovertemplate": "States=West Bengal<br>Month_name=Mar<br>Region=%{x}<br>Estimated Unemployment Rate=%{y}<extra></extra>",
           "legendgroup": "West Bengal",
           "marker": {
            "color": "#FF6692",
            "pattern": {
             "shape": ""
            }
           },
           "name": "West Bengal",
           "offsetgroup": "West Bengal",
           "orientation": "v",
           "showlegend": true,
           "textposition": "auto",
           "type": "bar",
           "x": [
            "East"
           ],
           "xaxis": "x",
           "y": [
            6.92
           ],
           "yaxis": "y"
          }
         ],
         "name": "Mar"
        },
        {
         "data": [
          {
           "alignmentgroup": "True",
           "hovertemplate": "States=Andhra Pradesh<br>Month_name=Apr<br>Region=%{x}<br>Estimated Unemployment Rate=%{y}<extra></extra>",
           "legendgroup": "Andhra Pradesh",
           "marker": {
            "color": "#636efa",
            "pattern": {
             "shape": ""
            }
           },
           "name": "Andhra Pradesh",
           "offsetgroup": "Andhra Pradesh",
           "orientation": "v",
           "showlegend": true,
           "textposition": "auto",
           "type": "bar",
           "x": [
            "South"
           ],
           "xaxis": "x",
           "y": [
            20.51
           ],
           "yaxis": "y"
          },
          {
           "alignmentgroup": "True",
           "hovertemplate": "States=Assam<br>Month_name=Apr<br>Region=%{x}<br>Estimated Unemployment Rate=%{y}<extra></extra>",
           "legendgroup": "Assam",
           "marker": {
            "color": "#EF553B",
            "pattern": {
             "shape": ""
            }
           },
           "name": "Assam",
           "offsetgroup": "Assam",
           "orientation": "v",
           "showlegend": true,
           "textposition": "auto",
           "type": "bar",
           "x": [
            "Northeast"
           ],
           "xaxis": "x",
           "y": [
            11.06
           ],
           "yaxis": "y"
          },
          {
           "alignmentgroup": "True",
           "hovertemplate": "States=Bihar<br>Month_name=Apr<br>Region=%{x}<br>Estimated Unemployment Rate=%{y}<extra></extra>",
           "legendgroup": "Bihar",
           "marker": {
            "color": "#00cc96",
            "pattern": {
             "shape": ""
            }
           },
           "name": "Bihar",
           "offsetgroup": "Bihar",
           "orientation": "v",
           "showlegend": true,
           "textposition": "auto",
           "type": "bar",
           "x": [
            "East"
           ],
           "xaxis": "x",
           "y": [
            46.64
           ],
           "yaxis": "y"
          },
          {
           "alignmentgroup": "True",
           "hovertemplate": "States=Chhattisgarh<br>Month_name=Apr<br>Region=%{x}<br>Estimated Unemployment Rate=%{y}<extra></extra>",
           "legendgroup": "Chhattisgarh",
           "marker": {
            "color": "#ab63fa",
            "pattern": {
             "shape": ""
            }
           },
           "name": "Chhattisgarh",
           "offsetgroup": "Chhattisgarh",
           "orientation": "v",
           "showlegend": true,
           "textposition": "auto",
           "type": "bar",
           "x": [
            "West"
           ],
           "xaxis": "x",
           "y": [
            3.41
           ],
           "yaxis": "y"
          },
          {
           "alignmentgroup": "True",
           "hovertemplate": "States=Delhi<br>Month_name=Apr<br>Region=%{x}<br>Estimated Unemployment Rate=%{y}<extra></extra>",
           "legendgroup": "Delhi",
           "marker": {
            "color": "#FFA15A",
            "pattern": {
             "shape": ""
            }
           },
           "name": "Delhi",
           "offsetgroup": "Delhi",
           "orientation": "v",
           "showlegend": true,
           "textposition": "auto",
           "type": "bar",
           "x": [
            "North"
           ],
           "xaxis": "x",
           "y": [
            16.68
           ],
           "yaxis": "y"
          },
          {
           "alignmentgroup": "True",
           "hovertemplate": "States=Goa<br>Month_name=Apr<br>Region=%{x}<br>Estimated Unemployment Rate=%{y}<extra></extra>",
           "legendgroup": "Goa",
           "marker": {
            "color": "#19d3f3",
            "pattern": {
             "shape": ""
            }
           },
           "name": "Goa",
           "offsetgroup": "Goa",
           "orientation": "v",
           "showlegend": true,
           "textposition": "auto",
           "type": "bar",
           "x": [
            "West"
           ],
           "xaxis": "x",
           "y": [
            13.31
           ],
           "yaxis": "y"
          },
          {
           "alignmentgroup": "True",
           "hovertemplate": "States=Gujarat<br>Month_name=Apr<br>Region=%{x}<br>Estimated Unemployment Rate=%{y}<extra></extra>",
           "legendgroup": "Gujarat",
           "marker": {
            "color": "#FF6692",
            "pattern": {
             "shape": ""
            }
           },
           "name": "Gujarat",
           "offsetgroup": "Gujarat",
           "orientation": "v",
           "showlegend": true,
           "textposition": "auto",
           "type": "bar",
           "x": [
            "West"
           ],
           "xaxis": "x",
           "y": [
            18.71
           ],
           "yaxis": "y"
          },
          {
           "alignmentgroup": "True",
           "hovertemplate": "States=Haryana<br>Month_name=Apr<br>Region=%{x}<br>Estimated Unemployment Rate=%{y}<extra></extra>",
           "legendgroup": "Haryana",
           "marker": {
            "color": "#B6E880",
            "pattern": {
             "shape": ""
            }
           },
           "name": "Haryana",
           "offsetgroup": "Haryana",
           "orientation": "v",
           "showlegend": true,
           "textposition": "auto",
           "type": "bar",
           "x": [
            "North"
           ],
           "xaxis": "x",
           "y": [
            43.22
           ],
           "yaxis": "y"
          },
          {
           "alignmentgroup": "True",
           "hovertemplate": "States=Himachal Pradesh<br>Month_name=Apr<br>Region=%{x}<br>Estimated Unemployment Rate=%{y}<extra></extra>",
           "legendgroup": "Himachal Pradesh",
           "marker": {
            "color": "#FF97FF",
            "pattern": {
             "shape": ""
            }
           },
           "name": "Himachal Pradesh",
           "offsetgroup": "Himachal Pradesh",
           "orientation": "v",
           "showlegend": true,
           "textposition": "auto",
           "type": "bar",
           "x": [
            "North"
           ],
           "xaxis": "x",
           "y": [
            2.2
           ],
           "yaxis": "y"
          },
          {
           "alignmentgroup": "True",
           "hovertemplate": "States=Jharkhand<br>Month_name=Apr<br>Region=%{x}<br>Estimated Unemployment Rate=%{y}<extra></extra>",
           "legendgroup": "Jharkhand",
           "marker": {
            "color": "#636efa",
            "pattern": {
             "shape": ""
            }
           },
           "name": "Jharkhand",
           "offsetgroup": "Jharkhand",
           "orientation": "v",
           "showlegend": true,
           "textposition": "auto",
           "type": "bar",
           "x": [
            "East"
           ],
           "xaxis": "x",
           "y": [
            47.09
           ],
           "yaxis": "y"
          },
          {
           "alignmentgroup": "True",
           "hovertemplate": "States=Karnataka<br>Month_name=Apr<br>Region=%{x}<br>Estimated Unemployment Rate=%{y}<extra></extra>",
           "legendgroup": "Karnataka",
           "marker": {
            "color": "#EF553B",
            "pattern": {
             "shape": ""
            }
           },
           "name": "Karnataka",
           "offsetgroup": "Karnataka",
           "orientation": "v",
           "showlegend": true,
           "textposition": "auto",
           "type": "bar",
           "x": [
            "South"
           ],
           "xaxis": "x",
           "y": [
            29.84
           ],
           "yaxis": "y"
          },
          {
           "alignmentgroup": "True",
           "hovertemplate": "States=Kerala<br>Month_name=Apr<br>Region=%{x}<br>Estimated Unemployment Rate=%{y}<extra></extra>",
           "legendgroup": "Kerala",
           "marker": {
            "color": "#00cc96",
            "pattern": {
             "shape": ""
            }
           },
           "name": "Kerala",
           "offsetgroup": "Kerala",
           "orientation": "v",
           "showlegend": true,
           "textposition": "auto",
           "type": "bar",
           "x": [
            "South"
           ],
           "xaxis": "x",
           "y": [
            16.99
           ],
           "yaxis": "y"
          },
          {
           "alignmentgroup": "True",
           "hovertemplate": "States=Madhya Pradesh<br>Month_name=Apr<br>Region=%{x}<br>Estimated Unemployment Rate=%{y}<extra></extra>",
           "legendgroup": "Madhya Pradesh",
           "marker": {
            "color": "#ab63fa",
            "pattern": {
             "shape": ""
            }
           },
           "name": "Madhya Pradesh",
           "offsetgroup": "Madhya Pradesh",
           "orientation": "v",
           "showlegend": true,
           "textposition": "auto",
           "type": "bar",
           "x": [
            "West"
           ],
           "xaxis": "x",
           "y": [
            12.36
           ],
           "yaxis": "y"
          },
          {
           "alignmentgroup": "True",
           "hovertemplate": "States=Maharashtra<br>Month_name=Apr<br>Region=%{x}<br>Estimated Unemployment Rate=%{y}<extra></extra>",
           "legendgroup": "Maharashtra",
           "marker": {
            "color": "#FFA15A",
            "pattern": {
             "shape": ""
            }
           },
           "name": "Maharashtra",
           "offsetgroup": "Maharashtra",
           "orientation": "v",
           "showlegend": true,
           "textposition": "auto",
           "type": "bar",
           "x": [
            "West"
           ],
           "xaxis": "x",
           "y": [
            20.9
           ],
           "yaxis": "y"
          },
          {
           "alignmentgroup": "True",
           "hovertemplate": "States=Meghalaya<br>Month_name=Apr<br>Region=%{x}<br>Estimated Unemployment Rate=%{y}<extra></extra>",
           "legendgroup": "Meghalaya",
           "marker": {
            "color": "#19d3f3",
            "pattern": {
             "shape": ""
            }
           },
           "name": "Meghalaya",
           "offsetgroup": "Meghalaya",
           "orientation": "v",
           "showlegend": true,
           "textposition": "auto",
           "type": "bar",
           "x": [
            "Northeast"
           ],
           "xaxis": "x",
           "y": [
            10.03
           ],
           "yaxis": "y"
          },
          {
           "alignmentgroup": "True",
           "hovertemplate": "States=Odisha<br>Month_name=Apr<br>Region=%{x}<br>Estimated Unemployment Rate=%{y}<extra></extra>",
           "legendgroup": "Odisha",
           "marker": {
            "color": "#FF6692",
            "pattern": {
             "shape": ""
            }
           },
           "name": "Odisha",
           "offsetgroup": "Odisha",
           "orientation": "v",
           "showlegend": true,
           "textposition": "auto",
           "type": "bar",
           "x": [
            "East"
           ],
           "xaxis": "x",
           "y": [
            23.76
           ],
           "yaxis": "y"
          },
          {
           "alignmentgroup": "True",
           "hovertemplate": "States=Puducherry<br>Month_name=Apr<br>Region=%{x}<br>Estimated Unemployment Rate=%{y}<extra></extra>",
           "legendgroup": "Puducherry",
           "marker": {
            "color": "#B6E880",
            "pattern": {
             "shape": ""
            }
           },
           "name": "Puducherry",
           "offsetgroup": "Puducherry",
           "orientation": "v",
           "showlegend": true,
           "textposition": "auto",
           "type": "bar",
           "x": [
            "South"
           ],
           "xaxis": "x",
           "y": [
            75.85
           ],
           "yaxis": "y"
          },
          {
           "alignmentgroup": "True",
           "hovertemplate": "States=Punjab<br>Month_name=Apr<br>Region=%{x}<br>Estimated Unemployment Rate=%{y}<extra></extra>",
           "legendgroup": "Punjab",
           "marker": {
            "color": "#FF97FF",
            "pattern": {
             "shape": ""
            }
           },
           "name": "Punjab",
           "offsetgroup": "Punjab",
           "orientation": "v",
           "showlegend": true,
           "textposition": "auto",
           "type": "bar",
           "x": [
            "North"
           ],
           "xaxis": "x",
           "y": [
            2.86
           ],
           "yaxis": "y"
          },
          {
           "alignmentgroup": "True",
           "hovertemplate": "States=Rajasthan<br>Month_name=Apr<br>Region=%{x}<br>Estimated Unemployment Rate=%{y}<extra></extra>",
           "legendgroup": "Rajasthan",
           "marker": {
            "color": "#FECB52",
            "pattern": {
             "shape": ""
            }
           },
           "name": "Rajasthan",
           "offsetgroup": "Rajasthan",
           "orientation": "v",
           "showlegend": true,
           "textposition": "auto",
           "type": "bar",
           "x": [
            "North"
           ],
           "xaxis": "x",
           "y": [
            17.7
           ],
           "yaxis": "y"
          },
          {
           "alignmentgroup": "True",
           "hovertemplate": "States=Sikkim<br>Month_name=Apr<br>Region=%{x}<br>Estimated Unemployment Rate=%{y}<extra></extra>",
           "legendgroup": "Sikkim",
           "marker": {
            "color": "#636efa",
            "pattern": {
             "shape": ""
            }
           },
           "name": "Sikkim",
           "offsetgroup": "Sikkim",
           "orientation": "v",
           "showlegend": true,
           "textposition": "auto",
           "type": "bar",
           "x": [
            "Northeast"
           ],
           "xaxis": "x",
           "y": [
            2.28
           ],
           "yaxis": "y"
          },
          {
           "alignmentgroup": "True",
           "hovertemplate": "States=Tamil Nadu<br>Month_name=Apr<br>Region=%{x}<br>Estimated Unemployment Rate=%{y}<extra></extra>",
           "legendgroup": "Tamil Nadu",
           "marker": {
            "color": "#EF553B",
            "pattern": {
             "shape": ""
            }
           },
           "name": "Tamil Nadu",
           "offsetgroup": "Tamil Nadu",
           "orientation": "v",
           "showlegend": true,
           "textposition": "auto",
           "type": "bar",
           "x": [
            "South"
           ],
           "xaxis": "x",
           "y": [
            49.83
           ],
           "yaxis": "y"
          },
          {
           "alignmentgroup": "True",
           "hovertemplate": "States=Telangana<br>Month_name=Apr<br>Region=%{x}<br>Estimated Unemployment Rate=%{y}<extra></extra>",
           "legendgroup": "Telangana",
           "marker": {
            "color": "#00cc96",
            "pattern": {
             "shape": ""
            }
           },
           "name": "Telangana",
           "offsetgroup": "Telangana",
           "orientation": "v",
           "showlegend": true,
           "textposition": "auto",
           "type": "bar",
           "x": [
            "South"
           ],
           "xaxis": "x",
           "y": [
            6.25
           ],
           "yaxis": "y"
          },
          {
           "alignmentgroup": "True",
           "hovertemplate": "States=Tripura<br>Month_name=Apr<br>Region=%{x}<br>Estimated Unemployment Rate=%{y}<extra></extra>",
           "legendgroup": "Tripura",
           "marker": {
            "color": "#ab63fa",
            "pattern": {
             "shape": ""
            }
           },
           "name": "Tripura",
           "offsetgroup": "Tripura",
           "orientation": "v",
           "showlegend": true,
           "textposition": "auto",
           "type": "bar",
           "x": [
            "Northeast"
           ],
           "xaxis": "x",
           "y": [
            41.23
           ],
           "yaxis": "y"
          },
          {
           "alignmentgroup": "True",
           "hovertemplate": "States=Uttar Pradesh<br>Month_name=Apr<br>Region=%{x}<br>Estimated Unemployment Rate=%{y}<extra></extra>",
           "legendgroup": "Uttar Pradesh",
           "marker": {
            "color": "#FFA15A",
            "pattern": {
             "shape": ""
            }
           },
           "name": "Uttar Pradesh",
           "offsetgroup": "Uttar Pradesh",
           "orientation": "v",
           "showlegend": true,
           "textposition": "auto",
           "type": "bar",
           "x": [
            "North"
           ],
           "xaxis": "x",
           "y": [
            21.54
           ],
           "yaxis": "y"
          },
          {
           "alignmentgroup": "True",
           "hovertemplate": "States=Uttarakhand<br>Month_name=Apr<br>Region=%{x}<br>Estimated Unemployment Rate=%{y}<extra></extra>",
           "legendgroup": "Uttarakhand",
           "marker": {
            "color": "#19d3f3",
            "pattern": {
             "shape": ""
            }
           },
           "name": "Uttarakhand",
           "offsetgroup": "Uttarakhand",
           "orientation": "v",
           "showlegend": true,
           "textposition": "auto",
           "type": "bar",
           "x": [
            "North"
           ],
           "xaxis": "x",
           "y": [
            6.48
           ],
           "yaxis": "y"
          },
          {
           "alignmentgroup": "True",
           "hovertemplate": "States=West Bengal<br>Month_name=Apr<br>Region=%{x}<br>Estimated Unemployment Rate=%{y}<extra></extra>",
           "legendgroup": "West Bengal",
           "marker": {
            "color": "#FF6692",
            "pattern": {
             "shape": ""
            }
           },
           "name": "West Bengal",
           "offsetgroup": "West Bengal",
           "orientation": "v",
           "showlegend": true,
           "textposition": "auto",
           "type": "bar",
           "x": [
            "East"
           ],
           "xaxis": "x",
           "y": [
            17.41
           ],
           "yaxis": "y"
          }
         ],
         "name": "Apr"
        },
        {
         "data": [
          {
           "alignmentgroup": "True",
           "hovertemplate": "States=Andhra Pradesh<br>Month_name=May<br>Region=%{x}<br>Estimated Unemployment Rate=%{y}<extra></extra>",
           "legendgroup": "Andhra Pradesh",
           "marker": {
            "color": "#636efa",
            "pattern": {
             "shape": ""
            }
           },
           "name": "Andhra Pradesh",
           "offsetgroup": "Andhra Pradesh",
           "orientation": "v",
           "showlegend": true,
           "textposition": "auto",
           "type": "bar",
           "x": [
            "South"
           ],
           "xaxis": "x",
           "y": [
            17.43
           ],
           "yaxis": "y"
          },
          {
           "alignmentgroup": "True",
           "hovertemplate": "States=Assam<br>Month_name=May<br>Region=%{x}<br>Estimated Unemployment Rate=%{y}<extra></extra>",
           "legendgroup": "Assam",
           "marker": {
            "color": "#EF553B",
            "pattern": {
             "shape": ""
            }
           },
           "name": "Assam",
           "offsetgroup": "Assam",
           "orientation": "v",
           "showlegend": true,
           "textposition": "auto",
           "type": "bar",
           "x": [
            "Northeast"
           ],
           "xaxis": "x",
           "y": [
            9.55
           ],
           "yaxis": "y"
          },
          {
           "alignmentgroup": "True",
           "hovertemplate": "States=Bihar<br>Month_name=May<br>Region=%{x}<br>Estimated Unemployment Rate=%{y}<extra></extra>",
           "legendgroup": "Bihar",
           "marker": {
            "color": "#00cc96",
            "pattern": {
             "shape": ""
            }
           },
           "name": "Bihar",
           "offsetgroup": "Bihar",
           "orientation": "v",
           "showlegend": true,
           "textposition": "auto",
           "type": "bar",
           "x": [
            "East"
           ],
           "xaxis": "x",
           "y": [
            45.96
           ],
           "yaxis": "y"
          },
          {
           "alignmentgroup": "True",
           "hovertemplate": "States=Chhattisgarh<br>Month_name=May<br>Region=%{x}<br>Estimated Unemployment Rate=%{y}<extra></extra>",
           "legendgroup": "Chhattisgarh",
           "marker": {
            "color": "#ab63fa",
            "pattern": {
             "shape": ""
            }
           },
           "name": "Chhattisgarh",
           "offsetgroup": "Chhattisgarh",
           "orientation": "v",
           "showlegend": true,
           "textposition": "auto",
           "type": "bar",
           "x": [
            "West"
           ],
           "xaxis": "x",
           "y": [
            10.5
           ],
           "yaxis": "y"
          },
          {
           "alignmentgroup": "True",
           "hovertemplate": "States=Delhi<br>Month_name=May<br>Region=%{x}<br>Estimated Unemployment Rate=%{y}<extra></extra>",
           "legendgroup": "Delhi",
           "marker": {
            "color": "#FFA15A",
            "pattern": {
             "shape": ""
            }
           },
           "name": "Delhi",
           "offsetgroup": "Delhi",
           "orientation": "v",
           "showlegend": true,
           "textposition": "auto",
           "type": "bar",
           "x": [
            "North"
           ],
           "xaxis": "x",
           "y": [
            42.27
           ],
           "yaxis": "y"
          },
          {
           "alignmentgroup": "True",
           "hovertemplate": "States=Goa<br>Month_name=May<br>Region=%{x}<br>Estimated Unemployment Rate=%{y}<extra></extra>",
           "legendgroup": "Goa",
           "marker": {
            "color": "#19d3f3",
            "pattern": {
             "shape": ""
            }
           },
           "name": "Goa",
           "offsetgroup": "Goa",
           "orientation": "v",
           "showlegend": true,
           "textposition": "auto",
           "type": "bar",
           "x": [
            "West"
           ],
           "xaxis": "x",
           "y": [
            21.25
           ],
           "yaxis": "y"
          },
          {
           "alignmentgroup": "True",
           "hovertemplate": "States=Gujarat<br>Month_name=May<br>Region=%{x}<br>Estimated Unemployment Rate=%{y}<extra></extra>",
           "legendgroup": "Gujarat",
           "marker": {
            "color": "#FF6692",
            "pattern": {
             "shape": ""
            }
           },
           "name": "Gujarat",
           "offsetgroup": "Gujarat",
           "orientation": "v",
           "showlegend": true,
           "textposition": "auto",
           "type": "bar",
           "x": [
            "West"
           ],
           "xaxis": "x",
           "y": [
            12.11
           ],
           "yaxis": "y"
          },
          {
           "alignmentgroup": "True",
           "hovertemplate": "States=Haryana<br>Month_name=May<br>Region=%{x}<br>Estimated Unemployment Rate=%{y}<extra></extra>",
           "legendgroup": "Haryana",
           "marker": {
            "color": "#B6E880",
            "pattern": {
             "shape": ""
            }
           },
           "name": "Haryana",
           "offsetgroup": "Haryana",
           "orientation": "v",
           "showlegend": true,
           "textposition": "auto",
           "type": "bar",
           "x": [
            "North"
           ],
           "xaxis": "x",
           "y": [
            29.02
           ],
           "yaxis": "y"
          },
          {
           "alignmentgroup": "True",
           "hovertemplate": "States=Himachal Pradesh<br>Month_name=May<br>Region=%{x}<br>Estimated Unemployment Rate=%{y}<extra></extra>",
           "legendgroup": "Himachal Pradesh",
           "marker": {
            "color": "#FF97FF",
            "pattern": {
             "shape": ""
            }
           },
           "name": "Himachal Pradesh",
           "offsetgroup": "Himachal Pradesh",
           "orientation": "v",
           "showlegend": true,
           "textposition": "auto",
           "type": "bar",
           "x": [
            "North"
           ],
           "xaxis": "x",
           "y": [
            26.95
           ],
           "yaxis": "y"
          },
          {
           "alignmentgroup": "True",
           "hovertemplate": "States=Jammu & Kashmir<br>Month_name=May<br>Region=%{x}<br>Estimated Unemployment Rate=%{y}<extra></extra>",
           "legendgroup": "Jammu & Kashmir",
           "marker": {
            "color": "#FECB52",
            "pattern": {
             "shape": ""
            }
           },
           "name": "Jammu & Kashmir",
           "offsetgroup": "Jammu & Kashmir",
           "orientation": "v",
           "showlegend": true,
           "textposition": "auto",
           "type": "bar",
           "x": [
            "North"
           ],
           "xaxis": "x",
           "y": [
            18.74
           ],
           "yaxis": "y"
          },
          {
           "alignmentgroup": "True",
           "hovertemplate": "States=Jharkhand<br>Month_name=May<br>Region=%{x}<br>Estimated Unemployment Rate=%{y}<extra></extra>",
           "legendgroup": "Jharkhand",
           "marker": {
            "color": "#636efa",
            "pattern": {
             "shape": ""
            }
           },
           "name": "Jharkhand",
           "offsetgroup": "Jharkhand",
           "orientation": "v",
           "showlegend": true,
           "textposition": "auto",
           "type": "bar",
           "x": [
            "East"
           ],
           "xaxis": "x",
           "y": [
            59.23
           ],
           "yaxis": "y"
          },
          {
           "alignmentgroup": "True",
           "hovertemplate": "States=Karnataka<br>Month_name=May<br>Region=%{x}<br>Estimated Unemployment Rate=%{y}<extra></extra>",
           "legendgroup": "Karnataka",
           "marker": {
            "color": "#EF553B",
            "pattern": {
             "shape": ""
            }
           },
           "name": "Karnataka",
           "offsetgroup": "Karnataka",
           "orientation": "v",
           "showlegend": true,
           "textposition": "auto",
           "type": "bar",
           "x": [
            "South"
           ],
           "xaxis": "x",
           "y": [
            19.97
           ],
           "yaxis": "y"
          },
          {
           "alignmentgroup": "True",
           "hovertemplate": "States=Kerala<br>Month_name=May<br>Region=%{x}<br>Estimated Unemployment Rate=%{y}<extra></extra>",
           "legendgroup": "Kerala",
           "marker": {
            "color": "#00cc96",
            "pattern": {
             "shape": ""
            }
           },
           "name": "Kerala",
           "offsetgroup": "Kerala",
           "orientation": "v",
           "showlegend": true,
           "textposition": "auto",
           "type": "bar",
           "x": [
            "South"
           ],
           "xaxis": "x",
           "y": [
            17.88
           ],
           "yaxis": "y"
          },
          {
           "alignmentgroup": "True",
           "hovertemplate": "States=Madhya Pradesh<br>Month_name=May<br>Region=%{x}<br>Estimated Unemployment Rate=%{y}<extra></extra>",
           "legendgroup": "Madhya Pradesh",
           "marker": {
            "color": "#ab63fa",
            "pattern": {
             "shape": ""
            }
           },
           "name": "Madhya Pradesh",
           "offsetgroup": "Madhya Pradesh",
           "orientation": "v",
           "showlegend": true,
           "textposition": "auto",
           "type": "bar",
           "x": [
            "West"
           ],
           "xaxis": "x",
           "y": [
            21.98
           ],
           "yaxis": "y"
          },
          {
           "alignmentgroup": "True",
           "hovertemplate": "States=Maharashtra<br>Month_name=May<br>Region=%{x}<br>Estimated Unemployment Rate=%{y}<extra></extra>",
           "legendgroup": "Maharashtra",
           "marker": {
            "color": "#FFA15A",
            "pattern": {
             "shape": ""
            }
           },
           "name": "Maharashtra",
           "offsetgroup": "Maharashtra",
           "orientation": "v",
           "showlegend": true,
           "textposition": "auto",
           "type": "bar",
           "x": [
            "West"
           ],
           "xaxis": "x",
           "y": [
            15.46
           ],
           "yaxis": "y"
          },
          {
           "alignmentgroup": "True",
           "hovertemplate": "States=Meghalaya<br>Month_name=May<br>Region=%{x}<br>Estimated Unemployment Rate=%{y}<extra></extra>",
           "legendgroup": "Meghalaya",
           "marker": {
            "color": "#19d3f3",
            "pattern": {
             "shape": ""
            }
           },
           "name": "Meghalaya",
           "offsetgroup": "Meghalaya",
           "orientation": "v",
           "showlegend": true,
           "textposition": "auto",
           "type": "bar",
           "x": [
            "Northeast"
           ],
           "xaxis": "x",
           "y": [
            5.92
           ],
           "yaxis": "y"
          },
          {
           "alignmentgroup": "True",
           "hovertemplate": "States=Odisha<br>Month_name=May<br>Region=%{x}<br>Estimated Unemployment Rate=%{y}<extra></extra>",
           "legendgroup": "Odisha",
           "marker": {
            "color": "#FF6692",
            "pattern": {
             "shape": ""
            }
           },
           "name": "Odisha",
           "offsetgroup": "Odisha",
           "orientation": "v",
           "showlegend": true,
           "textposition": "auto",
           "type": "bar",
           "x": [
            "East"
           ],
           "xaxis": "x",
           "y": [
            11.41
           ],
           "yaxis": "y"
          },
          {
           "alignmentgroup": "True",
           "hovertemplate": "States=Puducherry<br>Month_name=May<br>Region=%{x}<br>Estimated Unemployment Rate=%{y}<extra></extra>",
           "legendgroup": "Puducherry",
           "marker": {
            "color": "#B6E880",
            "pattern": {
             "shape": ""
            }
           },
           "name": "Puducherry",
           "offsetgroup": "Puducherry",
           "orientation": "v",
           "showlegend": true,
           "textposition": "auto",
           "type": "bar",
           "x": [
            "South"
           ],
           "xaxis": "x",
           "y": [
            58.19
           ],
           "yaxis": "y"
          },
          {
           "alignmentgroup": "True",
           "hovertemplate": "States=Punjab<br>Month_name=May<br>Region=%{x}<br>Estimated Unemployment Rate=%{y}<extra></extra>",
           "legendgroup": "Punjab",
           "marker": {
            "color": "#FF97FF",
            "pattern": {
             "shape": ""
            }
           },
           "name": "Punjab",
           "offsetgroup": "Punjab",
           "orientation": "v",
           "showlegend": true,
           "textposition": "auto",
           "type": "bar",
           "x": [
            "North"
           ],
           "xaxis": "x",
           "y": [
            28.33
           ],
           "yaxis": "y"
          },
          {
           "alignmentgroup": "True",
           "hovertemplate": "States=Rajasthan<br>Month_name=May<br>Region=%{x}<br>Estimated Unemployment Rate=%{y}<extra></extra>",
           "legendgroup": "Rajasthan",
           "marker": {
            "color": "#FECB52",
            "pattern": {
             "shape": ""
            }
           },
           "name": "Rajasthan",
           "offsetgroup": "Rajasthan",
           "orientation": "v",
           "showlegend": true,
           "textposition": "auto",
           "type": "bar",
           "x": [
            "North"
           ],
           "xaxis": "x",
           "y": [
            15.74
           ],
           "yaxis": "y"
          },
          {
           "alignmentgroup": "True",
           "hovertemplate": "States=Sikkim<br>Month_name=May<br>Region=%{x}<br>Estimated Unemployment Rate=%{y}<extra></extra>",
           "legendgroup": "Sikkim",
           "marker": {
            "color": "#636efa",
            "pattern": {
             "shape": ""
            }
           },
           "name": "Sikkim",
           "offsetgroup": "Sikkim",
           "orientation": "v",
           "showlegend": true,
           "textposition": "auto",
           "type": "bar",
           "x": [
            "Northeast"
           ],
           "xaxis": "x",
           "y": [
            24.51
           ],
           "yaxis": "y"
          },
          {
           "alignmentgroup": "True",
           "hovertemplate": "States=Tamil Nadu<br>Month_name=May<br>Region=%{x}<br>Estimated Unemployment Rate=%{y}<extra></extra>",
           "legendgroup": "Tamil Nadu",
           "marker": {
            "color": "#EF553B",
            "pattern": {
             "shape": ""
            }
           },
           "name": "Tamil Nadu",
           "offsetgroup": "Tamil Nadu",
           "orientation": "v",
           "showlegend": true,
           "textposition": "auto",
           "type": "bar",
           "x": [
            "South"
           ],
           "xaxis": "x",
           "y": [
            33.16
           ],
           "yaxis": "y"
          },
          {
           "alignmentgroup": "True",
           "hovertemplate": "States=Telangana<br>Month_name=May<br>Region=%{x}<br>Estimated Unemployment Rate=%{y}<extra></extra>",
           "legendgroup": "Telangana",
           "marker": {
            "color": "#00cc96",
            "pattern": {
             "shape": ""
            }
           },
           "name": "Telangana",
           "offsetgroup": "Telangana",
           "orientation": "v",
           "showlegend": true,
           "textposition": "auto",
           "type": "bar",
           "x": [
            "South"
           ],
           "xaxis": "x",
           "y": [
            14.7
           ],
           "yaxis": "y"
          },
          {
           "alignmentgroup": "True",
           "hovertemplate": "States=Tripura<br>Month_name=May<br>Region=%{x}<br>Estimated Unemployment Rate=%{y}<extra></extra>",
           "legendgroup": "Tripura",
           "marker": {
            "color": "#ab63fa",
            "pattern": {
             "shape": ""
            }
           },
           "name": "Tripura",
           "offsetgroup": "Tripura",
           "orientation": "v",
           "showlegend": true,
           "textposition": "auto",
           "type": "bar",
           "x": [
            "Northeast"
           ],
           "xaxis": "x",
           "y": [
            21.51
           ],
           "yaxis": "y"
          },
          {
           "alignmentgroup": "True",
           "hovertemplate": "States=Uttar Pradesh<br>Month_name=May<br>Region=%{x}<br>Estimated Unemployment Rate=%{y}<extra></extra>",
           "legendgroup": "Uttar Pradesh",
           "marker": {
            "color": "#FFA15A",
            "pattern": {
             "shape": ""
            }
           },
           "name": "Uttar Pradesh",
           "offsetgroup": "Uttar Pradesh",
           "orientation": "v",
           "showlegend": true,
           "textposition": "auto",
           "type": "bar",
           "x": [
            "North"
           ],
           "xaxis": "x",
           "y": [
            20.41
           ],
           "yaxis": "y"
          },
          {
           "alignmentgroup": "True",
           "hovertemplate": "States=Uttarakhand<br>Month_name=May<br>Region=%{x}<br>Estimated Unemployment Rate=%{y}<extra></extra>",
           "legendgroup": "Uttarakhand",
           "marker": {
            "color": "#19d3f3",
            "pattern": {
             "shape": ""
            }
           },
           "name": "Uttarakhand",
           "offsetgroup": "Uttarakhand",
           "orientation": "v",
           "showlegend": true,
           "textposition": "auto",
           "type": "bar",
           "x": [
            "North"
           ],
           "xaxis": "x",
           "y": [
            8.01
           ],
           "yaxis": "y"
          },
          {
           "alignmentgroup": "True",
           "hovertemplate": "States=West Bengal<br>Month_name=May<br>Region=%{x}<br>Estimated Unemployment Rate=%{y}<extra></extra>",
           "legendgroup": "West Bengal",
           "marker": {
            "color": "#FF6692",
            "pattern": {
             "shape": ""
            }
           },
           "name": "West Bengal",
           "offsetgroup": "West Bengal",
           "orientation": "v",
           "showlegend": true,
           "textposition": "auto",
           "type": "bar",
           "x": [
            "East"
           ],
           "xaxis": "x",
           "y": [
            17.41
           ],
           "yaxis": "y"
          }
         ],
         "name": "May"
        },
        {
         "data": [
          {
           "alignmentgroup": "True",
           "hovertemplate": "States=Andhra Pradesh<br>Month_name=Jun<br>Region=%{x}<br>Estimated Unemployment Rate=%{y}<extra></extra>",
           "legendgroup": "Andhra Pradesh",
           "marker": {
            "color": "#636efa",
            "pattern": {
             "shape": ""
            }
           },
           "name": "Andhra Pradesh",
           "offsetgroup": "Andhra Pradesh",
           "orientation": "v",
           "showlegend": true,
           "textposition": "auto",
           "type": "bar",
           "x": [
            "South"
           ],
           "xaxis": "x",
           "y": [
            3.31
           ],
           "yaxis": "y"
          },
          {
           "alignmentgroup": "True",
           "hovertemplate": "States=Assam<br>Month_name=Jun<br>Region=%{x}<br>Estimated Unemployment Rate=%{y}<extra></extra>",
           "legendgroup": "Assam",
           "marker": {
            "color": "#EF553B",
            "pattern": {
             "shape": ""
            }
           },
           "name": "Assam",
           "offsetgroup": "Assam",
           "orientation": "v",
           "showlegend": true,
           "textposition": "auto",
           "type": "bar",
           "x": [
            "Northeast"
           ],
           "xaxis": "x",
           "y": [
            0.6
           ],
           "yaxis": "y"
          },
          {
           "alignmentgroup": "True",
           "hovertemplate": "States=Bihar<br>Month_name=Jun<br>Region=%{x}<br>Estimated Unemployment Rate=%{y}<extra></extra>",
           "legendgroup": "Bihar",
           "marker": {
            "color": "#00cc96",
            "pattern": {
             "shape": ""
            }
           },
           "name": "Bihar",
           "offsetgroup": "Bihar",
           "orientation": "v",
           "showlegend": true,
           "textposition": "auto",
           "type": "bar",
           "x": [
            "East"
           ],
           "xaxis": "x",
           "y": [
            17.82
           ],
           "yaxis": "y"
          },
          {
           "alignmentgroup": "True",
           "hovertemplate": "States=Chhattisgarh<br>Month_name=Jun<br>Region=%{x}<br>Estimated Unemployment Rate=%{y}<extra></extra>",
           "legendgroup": "Chhattisgarh",
           "marker": {
            "color": "#ab63fa",
            "pattern": {
             "shape": ""
            }
           },
           "name": "Chhattisgarh",
           "offsetgroup": "Chhattisgarh",
           "orientation": "v",
           "showlegend": true,
           "textposition": "auto",
           "type": "bar",
           "x": [
            "West"
           ],
           "xaxis": "x",
           "y": [
            14.23
           ],
           "yaxis": "y"
          },
          {
           "alignmentgroup": "True",
           "hovertemplate": "States=Delhi<br>Month_name=Jun<br>Region=%{x}<br>Estimated Unemployment Rate=%{y}<extra></extra>",
           "legendgroup": "Delhi",
           "marker": {
            "color": "#FFA15A",
            "pattern": {
             "shape": ""
            }
           },
           "name": "Delhi",
           "offsetgroup": "Delhi",
           "orientation": "v",
           "showlegend": true,
           "textposition": "auto",
           "type": "bar",
           "x": [
            "North"
           ],
           "xaxis": "x",
           "y": [
            18.19
           ],
           "yaxis": "y"
          },
          {
           "alignmentgroup": "True",
           "hovertemplate": "States=Goa<br>Month_name=Jun<br>Region=%{x}<br>Estimated Unemployment Rate=%{y}<extra></extra>",
           "legendgroup": "Goa",
           "marker": {
            "color": "#19d3f3",
            "pattern": {
             "shape": ""
            }
           },
           "name": "Goa",
           "offsetgroup": "Goa",
           "orientation": "v",
           "showlegend": true,
           "textposition": "auto",
           "type": "bar",
           "x": [
            "West"
           ],
           "xaxis": "x",
           "y": [
            9.96
           ],
           "yaxis": "y"
          },
          {
           "alignmentgroup": "True",
           "hovertemplate": "States=Gujarat<br>Month_name=Jun<br>Region=%{x}<br>Estimated Unemployment Rate=%{y}<extra></extra>",
           "legendgroup": "Gujarat",
           "marker": {
            "color": "#FF6692",
            "pattern": {
             "shape": ""
            }
           },
           "name": "Gujarat",
           "offsetgroup": "Gujarat",
           "orientation": "v",
           "showlegend": true,
           "textposition": "auto",
           "type": "bar",
           "x": [
            "West"
           ],
           "xaxis": "x",
           "y": [
            3.2
           ],
           "yaxis": "y"
          },
          {
           "alignmentgroup": "True",
           "hovertemplate": "States=Haryana<br>Month_name=Jun<br>Region=%{x}<br>Estimated Unemployment Rate=%{y}<extra></extra>",
           "legendgroup": "Haryana",
           "marker": {
            "color": "#B6E880",
            "pattern": {
             "shape": ""
            }
           },
           "name": "Haryana",
           "offsetgroup": "Haryana",
           "orientation": "v",
           "showlegend": true,
           "textposition": "auto",
           "type": "bar",
           "x": [
            "North"
           ],
           "xaxis": "x",
           "y": [
            26.7
           ],
           "yaxis": "y"
          },
          {
           "alignmentgroup": "True",
           "hovertemplate": "States=Himachal Pradesh<br>Month_name=Jun<br>Region=%{x}<br>Estimated Unemployment Rate=%{y}<extra></extra>",
           "legendgroup": "Himachal Pradesh",
           "marker": {
            "color": "#FF97FF",
            "pattern": {
             "shape": ""
            }
           },
           "name": "Himachal Pradesh",
           "offsetgroup": "Himachal Pradesh",
           "orientation": "v",
           "showlegend": true,
           "textposition": "auto",
           "type": "bar",
           "x": [
            "North"
           ],
           "xaxis": "x",
           "y": [
            13.47
           ],
           "yaxis": "y"
          },
          {
           "alignmentgroup": "True",
           "hovertemplate": "States=Jammu & Kashmir<br>Month_name=Jun<br>Region=%{x}<br>Estimated Unemployment Rate=%{y}<extra></extra>",
           "legendgroup": "Jammu & Kashmir",
           "marker": {
            "color": "#FECB52",
            "pattern": {
             "shape": ""
            }
           },
           "name": "Jammu & Kashmir",
           "offsetgroup": "Jammu & Kashmir",
           "orientation": "v",
           "showlegend": true,
           "textposition": "auto",
           "type": "bar",
           "x": [
            "North"
           ],
           "xaxis": "x",
           "y": [
            17.92
           ],
           "yaxis": "y"
          },
          {
           "alignmentgroup": "True",
           "hovertemplate": "States=Jharkhand<br>Month_name=Jun<br>Region=%{x}<br>Estimated Unemployment Rate=%{y}<extra></extra>",
           "legendgroup": "Jharkhand",
           "marker": {
            "color": "#636efa",
            "pattern": {
             "shape": ""
            }
           },
           "name": "Jharkhand",
           "offsetgroup": "Jharkhand",
           "orientation": "v",
           "showlegend": true,
           "textposition": "auto",
           "type": "bar",
           "x": [
            "East"
           ],
           "xaxis": "x",
           "y": [
            20.95
           ],
           "yaxis": "y"
          },
          {
           "alignmentgroup": "True",
           "hovertemplate": "States=Karnataka<br>Month_name=Jun<br>Region=%{x}<br>Estimated Unemployment Rate=%{y}<extra></extra>",
           "legendgroup": "Karnataka",
           "marker": {
            "color": "#EF553B",
            "pattern": {
             "shape": ""
            }
           },
           "name": "Karnataka",
           "offsetgroup": "Karnataka",
           "orientation": "v",
           "showlegend": true,
           "textposition": "auto",
           "type": "bar",
           "x": [
            "South"
           ],
           "xaxis": "x",
           "y": [
            8.44
           ],
           "yaxis": "y"
          },
          {
           "alignmentgroup": "True",
           "hovertemplate": "States=Kerala<br>Month_name=Jun<br>Region=%{x}<br>Estimated Unemployment Rate=%{y}<extra></extra>",
           "legendgroup": "Kerala",
           "marker": {
            "color": "#00cc96",
            "pattern": {
             "shape": ""
            }
           },
           "name": "Kerala",
           "offsetgroup": "Kerala",
           "orientation": "v",
           "showlegend": true,
           "textposition": "auto",
           "type": "bar",
           "x": [
            "South"
           ],
           "xaxis": "x",
           "y": [
            9.71
           ],
           "yaxis": "y"
          },
          {
           "alignmentgroup": "True",
           "hovertemplate": "States=Madhya Pradesh<br>Month_name=Jun<br>Region=%{x}<br>Estimated Unemployment Rate=%{y}<extra></extra>",
           "legendgroup": "Madhya Pradesh",
           "marker": {
            "color": "#ab63fa",
            "pattern": {
             "shape": ""
            }
           },
           "name": "Madhya Pradesh",
           "offsetgroup": "Madhya Pradesh",
           "orientation": "v",
           "showlegend": true,
           "textposition": "auto",
           "type": "bar",
           "x": [
            "West"
           ],
           "xaxis": "x",
           "y": [
            6.48
           ],
           "yaxis": "y"
          },
          {
           "alignmentgroup": "True",
           "hovertemplate": "States=Maharashtra<br>Month_name=Jun<br>Region=%{x}<br>Estimated Unemployment Rate=%{y}<extra></extra>",
           "legendgroup": "Maharashtra",
           "marker": {
            "color": "#FFA15A",
            "pattern": {
             "shape": ""
            }
           },
           "name": "Maharashtra",
           "offsetgroup": "Maharashtra",
           "orientation": "v",
           "showlegend": true,
           "textposition": "auto",
           "type": "bar",
           "x": [
            "West"
           ],
           "xaxis": "x",
           "y": [
            9.23
           ],
           "yaxis": "y"
          },
          {
           "alignmentgroup": "True",
           "hovertemplate": "States=Meghalaya<br>Month_name=Jun<br>Region=%{x}<br>Estimated Unemployment Rate=%{y}<extra></extra>",
           "legendgroup": "Meghalaya",
           "marker": {
            "color": "#19d3f3",
            "pattern": {
             "shape": ""
            }
           },
           "name": "Meghalaya",
           "offsetgroup": "Meghalaya",
           "orientation": "v",
           "showlegend": true,
           "textposition": "auto",
           "type": "bar",
           "x": [
            "Northeast"
           ],
           "xaxis": "x",
           "y": [
            1.15
           ],
           "yaxis": "y"
          },
          {
           "alignmentgroup": "True",
           "hovertemplate": "States=Odisha<br>Month_name=Jun<br>Region=%{x}<br>Estimated Unemployment Rate=%{y}<extra></extra>",
           "legendgroup": "Odisha",
           "marker": {
            "color": "#FF6692",
            "pattern": {
             "shape": ""
            }
           },
           "name": "Odisha",
           "offsetgroup": "Odisha",
           "orientation": "v",
           "showlegend": true,
           "textposition": "auto",
           "type": "bar",
           "x": [
            "East"
           ],
           "xaxis": "x",
           "y": [
            3.77
           ],
           "yaxis": "y"
          },
          {
           "alignmentgroup": "True",
           "hovertemplate": "States=Puducherry<br>Month_name=Jun<br>Region=%{x}<br>Estimated Unemployment Rate=%{y}<extra></extra>",
           "legendgroup": "Puducherry",
           "marker": {
            "color": "#B6E880",
            "pattern": {
             "shape": ""
            }
           },
           "name": "Puducherry",
           "offsetgroup": "Puducherry",
           "orientation": "v",
           "showlegend": true,
           "textposition": "auto",
           "type": "bar",
           "x": [
            "South"
           ],
           "xaxis": "x",
           "y": [
            4.24
           ],
           "yaxis": "y"
          },
          {
           "alignmentgroup": "True",
           "hovertemplate": "States=Punjab<br>Month_name=Jun<br>Region=%{x}<br>Estimated Unemployment Rate=%{y}<extra></extra>",
           "legendgroup": "Punjab",
           "marker": {
            "color": "#FF97FF",
            "pattern": {
             "shape": ""
            }
           },
           "name": "Punjab",
           "offsetgroup": "Punjab",
           "orientation": "v",
           "showlegend": true,
           "textposition": "auto",
           "type": "bar",
           "x": [
            "North"
           ],
           "xaxis": "x",
           "y": [
            16.55
           ],
           "yaxis": "y"
          },
          {
           "alignmentgroup": "True",
           "hovertemplate": "States=Rajasthan<br>Month_name=Jun<br>Region=%{x}<br>Estimated Unemployment Rate=%{y}<extra></extra>",
           "legendgroup": "Rajasthan",
           "marker": {
            "color": "#FECB52",
            "pattern": {
             "shape": ""
            }
           },
           "name": "Rajasthan",
           "offsetgroup": "Rajasthan",
           "orientation": "v",
           "showlegend": true,
           "textposition": "auto",
           "type": "bar",
           "x": [
            "North"
           ],
           "xaxis": "x",
           "y": [
            14.39
           ],
           "yaxis": "y"
          },
          {
           "alignmentgroup": "True",
           "hovertemplate": "States=Sikkim<br>Month_name=Jun<br>Region=%{x}<br>Estimated Unemployment Rate=%{y}<extra></extra>",
           "legendgroup": "Sikkim",
           "marker": {
            "color": "#636efa",
            "pattern": {
             "shape": ""
            }
           },
           "name": "Sikkim",
           "offsetgroup": "Sikkim",
           "orientation": "v",
           "showlegend": true,
           "textposition": "auto",
           "type": "bar",
           "x": [
            "Northeast"
           ],
           "xaxis": "x",
           "y": [
            4.46
           ],
           "yaxis": "y"
          },
          {
           "alignmentgroup": "True",
           "hovertemplate": "States=Tamil Nadu<br>Month_name=Jun<br>Region=%{x}<br>Estimated Unemployment Rate=%{y}<extra></extra>",
           "legendgroup": "Tamil Nadu",
           "marker": {
            "color": "#EF553B",
            "pattern": {
             "shape": ""
            }
           },
           "name": "Tamil Nadu",
           "offsetgroup": "Tamil Nadu",
           "orientation": "v",
           "showlegend": true,
           "textposition": "auto",
           "type": "bar",
           "x": [
            "South"
           ],
           "xaxis": "x",
           "y": [
            12.2
           ],
           "yaxis": "y"
          },
          {
           "alignmentgroup": "True",
           "hovertemplate": "States=Telangana<br>Month_name=Jun<br>Region=%{x}<br>Estimated Unemployment Rate=%{y}<extra></extra>",
           "legendgroup": "Telangana",
           "marker": {
            "color": "#00cc96",
            "pattern": {
             "shape": ""
            }
           },
           "name": "Telangana",
           "offsetgroup": "Telangana",
           "orientation": "v",
           "showlegend": true,
           "textposition": "auto",
           "type": "bar",
           "x": [
            "South"
           ],
           "xaxis": "x",
           "y": [
            10.55
           ],
           "yaxis": "y"
          },
          {
           "alignmentgroup": "True",
           "hovertemplate": "States=Tripura<br>Month_name=Jun<br>Region=%{x}<br>Estimated Unemployment Rate=%{y}<extra></extra>",
           "legendgroup": "Tripura",
           "marker": {
            "color": "#ab63fa",
            "pattern": {
             "shape": ""
            }
           },
           "name": "Tripura",
           "offsetgroup": "Tripura",
           "orientation": "v",
           "showlegend": true,
           "textposition": "auto",
           "type": "bar",
           "x": [
            "Northeast"
           ],
           "xaxis": "x",
           "y": [
            21.71
           ],
           "yaxis": "y"
          },
          {
           "alignmentgroup": "True",
           "hovertemplate": "States=Uttar Pradesh<br>Month_name=Jun<br>Region=%{x}<br>Estimated Unemployment Rate=%{y}<extra></extra>",
           "legendgroup": "Uttar Pradesh",
           "marker": {
            "color": "#FFA15A",
            "pattern": {
             "shape": ""
            }
           },
           "name": "Uttar Pradesh",
           "offsetgroup": "Uttar Pradesh",
           "orientation": "v",
           "showlegend": true,
           "textposition": "auto",
           "type": "bar",
           "x": [
            "North"
           ],
           "xaxis": "x",
           "y": [
            9.47
           ],
           "yaxis": "y"
          },
          {
           "alignmentgroup": "True",
           "hovertemplate": "States=Uttarakhand<br>Month_name=Jun<br>Region=%{x}<br>Estimated Unemployment Rate=%{y}<extra></extra>",
           "legendgroup": "Uttarakhand",
           "marker": {
            "color": "#19d3f3",
            "pattern": {
             "shape": ""
            }
           },
           "name": "Uttarakhand",
           "offsetgroup": "Uttarakhand",
           "orientation": "v",
           "showlegend": true,
           "textposition": "auto",
           "type": "bar",
           "x": [
            "North"
           ],
           "xaxis": "x",
           "y": [
            8.61
           ],
           "yaxis": "y"
          },
          {
           "alignmentgroup": "True",
           "hovertemplate": "States=West Bengal<br>Month_name=Jun<br>Region=%{x}<br>Estimated Unemployment Rate=%{y}<extra></extra>",
           "legendgroup": "West Bengal",
           "marker": {
            "color": "#FF6692",
            "pattern": {
             "shape": ""
            }
           },
           "name": "West Bengal",
           "offsetgroup": "West Bengal",
           "orientation": "v",
           "showlegend": true,
           "textposition": "auto",
           "type": "bar",
           "x": [
            "East"
           ],
           "xaxis": "x",
           "y": [
            7.29
           ],
           "yaxis": "y"
          }
         ],
         "name": "Jun"
        },
        {
         "data": [
          {
           "alignmentgroup": "True",
           "hovertemplate": "States=Andhra Pradesh<br>Month_name=Jul<br>Region=%{x}<br>Estimated Unemployment Rate=%{y}<extra></extra>",
           "legendgroup": "Andhra Pradesh",
           "marker": {
            "color": "#636efa",
            "pattern": {
             "shape": ""
            }
           },
           "name": "Andhra Pradesh",
           "offsetgroup": "Andhra Pradesh",
           "orientation": "v",
           "showlegend": true,
           "textposition": "auto",
           "type": "bar",
           "x": [
            "South"
           ],
           "xaxis": "x",
           "y": [
            8.34
           ],
           "yaxis": "y"
          },
          {
           "alignmentgroup": "True",
           "hovertemplate": "States=Assam<br>Month_name=Jul<br>Region=%{x}<br>Estimated Unemployment Rate=%{y}<extra></extra>",
           "legendgroup": "Assam",
           "marker": {
            "color": "#EF553B",
            "pattern": {
             "shape": ""
            }
           },
           "name": "Assam",
           "offsetgroup": "Assam",
           "orientation": "v",
           "showlegend": true,
           "textposition": "auto",
           "type": "bar",
           "x": [
            "Northeast"
           ],
           "xaxis": "x",
           "y": [
            3.77
           ],
           "yaxis": "y"
          },
          {
           "alignmentgroup": "True",
           "hovertemplate": "States=Bihar<br>Month_name=Jul<br>Region=%{x}<br>Estimated Unemployment Rate=%{y}<extra></extra>",
           "legendgroup": "Bihar",
           "marker": {
            "color": "#00cc96",
            "pattern": {
             "shape": ""
            }
           },
           "name": "Bihar",
           "offsetgroup": "Bihar",
           "orientation": "v",
           "showlegend": true,
           "textposition": "auto",
           "type": "bar",
           "x": [
            "East"
           ],
           "xaxis": "x",
           "y": [
            12.79
           ],
           "yaxis": "y"
          },
          {
           "alignmentgroup": "True",
           "hovertemplate": "States=Chhattisgarh<br>Month_name=Jul<br>Region=%{x}<br>Estimated Unemployment Rate=%{y}<extra></extra>",
           "legendgroup": "Chhattisgarh",
           "marker": {
            "color": "#ab63fa",
            "pattern": {
             "shape": ""
            }
           },
           "name": "Chhattisgarh",
           "offsetgroup": "Chhattisgarh",
           "orientation": "v",
           "showlegend": true,
           "textposition": "auto",
           "type": "bar",
           "x": [
            "West"
           ],
           "xaxis": "x",
           "y": [
            10.27
           ],
           "yaxis": "y"
          },
          {
           "alignmentgroup": "True",
           "hovertemplate": "States=Delhi<br>Month_name=Jul<br>Region=%{x}<br>Estimated Unemployment Rate=%{y}<extra></extra>",
           "legendgroup": "Delhi",
           "marker": {
            "color": "#FFA15A",
            "pattern": {
             "shape": ""
            }
           },
           "name": "Delhi",
           "offsetgroup": "Delhi",
           "orientation": "v",
           "showlegend": true,
           "textposition": "auto",
           "type": "bar",
           "x": [
            "North"
           ],
           "xaxis": "x",
           "y": [
            20.3
           ],
           "yaxis": "y"
          },
          {
           "alignmentgroup": "True",
           "hovertemplate": "States=Goa<br>Month_name=Jul<br>Region=%{x}<br>Estimated Unemployment Rate=%{y}<extra></extra>",
           "legendgroup": "Goa",
           "marker": {
            "color": "#19d3f3",
            "pattern": {
             "shape": ""
            }
           },
           "name": "Goa",
           "offsetgroup": "Goa",
           "orientation": "v",
           "showlegend": true,
           "textposition": "auto",
           "type": "bar",
           "x": [
            "West"
           ],
           "xaxis": "x",
           "y": [
            17.07
           ],
           "yaxis": "y"
          },
          {
           "alignmentgroup": "True",
           "hovertemplate": "States=Gujarat<br>Month_name=Jul<br>Region=%{x}<br>Estimated Unemployment Rate=%{y}<extra></extra>",
           "legendgroup": "Gujarat",
           "marker": {
            "color": "#FF6692",
            "pattern": {
             "shape": ""
            }
           },
           "name": "Gujarat",
           "offsetgroup": "Gujarat",
           "orientation": "v",
           "showlegend": true,
           "textposition": "auto",
           "type": "bar",
           "x": [
            "West"
           ],
           "xaxis": "x",
           "y": [
            1.84
           ],
           "yaxis": "y"
          },
          {
           "alignmentgroup": "True",
           "hovertemplate": "States=Haryana<br>Month_name=Jul<br>Region=%{x}<br>Estimated Unemployment Rate=%{y}<extra></extra>",
           "legendgroup": "Haryana",
           "marker": {
            "color": "#B6E880",
            "pattern": {
             "shape": ""
            }
           },
           "name": "Haryana",
           "offsetgroup": "Haryana",
           "orientation": "v",
           "showlegend": true,
           "textposition": "auto",
           "type": "bar",
           "x": [
            "North"
           ],
           "xaxis": "x",
           "y": [
            24.18
           ],
           "yaxis": "y"
          },
          {
           "alignmentgroup": "True",
           "hovertemplate": "States=Himachal Pradesh<br>Month_name=Jul<br>Region=%{x}<br>Estimated Unemployment Rate=%{y}<extra></extra>",
           "legendgroup": "Himachal Pradesh",
           "marker": {
            "color": "#FF97FF",
            "pattern": {
             "shape": ""
            }
           },
           "name": "Himachal Pradesh",
           "offsetgroup": "Himachal Pradesh",
           "orientation": "v",
           "showlegend": true,
           "textposition": "auto",
           "type": "bar",
           "x": [
            "North"
           ],
           "xaxis": "x",
           "y": [
            24.31
           ],
           "yaxis": "y"
          },
          {
           "alignmentgroup": "True",
           "hovertemplate": "States=Jammu & Kashmir<br>Month_name=Jul<br>Region=%{x}<br>Estimated Unemployment Rate=%{y}<extra></extra>",
           "legendgroup": "Jammu & Kashmir",
           "marker": {
            "color": "#FECB52",
            "pattern": {
             "shape": ""
            }
           },
           "name": "Jammu & Kashmir",
           "offsetgroup": "Jammu & Kashmir",
           "orientation": "v",
           "showlegend": true,
           "textposition": "auto",
           "type": "bar",
           "x": [
            "North"
           ],
           "xaxis": "x",
           "y": [
            10.88
           ],
           "yaxis": "y"
          },
          {
           "alignmentgroup": "True",
           "hovertemplate": "States=Jharkhand<br>Month_name=Jul<br>Region=%{x}<br>Estimated Unemployment Rate=%{y}<extra></extra>",
           "legendgroup": "Jharkhand",
           "marker": {
            "color": "#636efa",
            "pattern": {
             "shape": ""
            }
           },
           "name": "Jharkhand",
           "offsetgroup": "Jharkhand",
           "orientation": "v",
           "showlegend": true,
           "textposition": "auto",
           "type": "bar",
           "x": [
            "East"
           ],
           "xaxis": "x",
           "y": [
            7.63
           ],
           "yaxis": "y"
          },
          {
           "alignmentgroup": "True",
           "hovertemplate": "States=Karnataka<br>Month_name=Jul<br>Region=%{x}<br>Estimated Unemployment Rate=%{y}<extra></extra>",
           "legendgroup": "Karnataka",
           "marker": {
            "color": "#EF553B",
            "pattern": {
             "shape": ""
            }
           },
           "name": "Karnataka",
           "offsetgroup": "Karnataka",
           "orientation": "v",
           "showlegend": true,
           "textposition": "auto",
           "type": "bar",
           "x": [
            "South"
           ],
           "xaxis": "x",
           "y": [
            4.01
           ],
           "yaxis": "y"
          },
          {
           "alignmentgroup": "True",
           "hovertemplate": "States=Kerala<br>Month_name=Jul<br>Region=%{x}<br>Estimated Unemployment Rate=%{y}<extra></extra>",
           "legendgroup": "Kerala",
           "marker": {
            "color": "#00cc96",
            "pattern": {
             "shape": ""
            }
           },
           "name": "Kerala",
           "offsetgroup": "Kerala",
           "orientation": "v",
           "showlegend": true,
           "textposition": "auto",
           "type": "bar",
           "x": [
            "South"
           ],
           "xaxis": "x",
           "y": [
            7.09
           ],
           "yaxis": "y"
          },
          {
           "alignmentgroup": "True",
           "hovertemplate": "States=Madhya Pradesh<br>Month_name=Jul<br>Region=%{x}<br>Estimated Unemployment Rate=%{y}<extra></extra>",
           "legendgroup": "Madhya Pradesh",
           "marker": {
            "color": "#ab63fa",
            "pattern": {
             "shape": ""
            }
           },
           "name": "Madhya Pradesh",
           "offsetgroup": "Madhya Pradesh",
           "orientation": "v",
           "showlegend": true,
           "textposition": "auto",
           "type": "bar",
           "x": [
            "West"
           ],
           "xaxis": "x",
           "y": [
            5.08
           ],
           "yaxis": "y"
          },
          {
           "alignmentgroup": "True",
           "hovertemplate": "States=Maharashtra<br>Month_name=Jul<br>Region=%{x}<br>Estimated Unemployment Rate=%{y}<extra></extra>",
           "legendgroup": "Maharashtra",
           "marker": {
            "color": "#FFA15A",
            "pattern": {
             "shape": ""
            }
           },
           "name": "Maharashtra",
           "offsetgroup": "Maharashtra",
           "orientation": "v",
           "showlegend": true,
           "textposition": "auto",
           "type": "bar",
           "x": [
            "West"
           ],
           "xaxis": "x",
           "y": [
            3.89
           ],
           "yaxis": "y"
          },
          {
           "alignmentgroup": "True",
           "hovertemplate": "States=Meghalaya<br>Month_name=Jul<br>Region=%{x}<br>Estimated Unemployment Rate=%{y}<extra></extra>",
           "legendgroup": "Meghalaya",
           "marker": {
            "color": "#19d3f3",
            "pattern": {
             "shape": ""
            }
           },
           "name": "Meghalaya",
           "offsetgroup": "Meghalaya",
           "orientation": "v",
           "showlegend": true,
           "textposition": "auto",
           "type": "bar",
           "x": [
            "Northeast"
           ],
           "xaxis": "x",
           "y": [
            2.1
           ],
           "yaxis": "y"
          },
          {
           "alignmentgroup": "True",
           "hovertemplate": "States=Odisha<br>Month_name=Jul<br>Region=%{x}<br>Estimated Unemployment Rate=%{y}<extra></extra>",
           "legendgroup": "Odisha",
           "marker": {
            "color": "#FF6692",
            "pattern": {
             "shape": ""
            }
           },
           "name": "Odisha",
           "offsetgroup": "Odisha",
           "orientation": "v",
           "showlegend": true,
           "textposition": "auto",
           "type": "bar",
           "x": [
            "East"
           ],
           "xaxis": "x",
           "y": [
            1.88
           ],
           "yaxis": "y"
          },
          {
           "alignmentgroup": "True",
           "hovertemplate": "States=Puducherry<br>Month_name=Jul<br>Region=%{x}<br>Estimated Unemployment Rate=%{y}<extra></extra>",
           "legendgroup": "Puducherry",
           "marker": {
            "color": "#B6E880",
            "pattern": {
             "shape": ""
            }
           },
           "name": "Puducherry",
           "offsetgroup": "Puducherry",
           "orientation": "v",
           "showlegend": true,
           "textposition": "auto",
           "type": "bar",
           "x": [
            "South"
           ],
           "xaxis": "x",
           "y": [
            15.47
           ],
           "yaxis": "y"
          },
          {
           "alignmentgroup": "True",
           "hovertemplate": "States=Punjab<br>Month_name=Jul<br>Region=%{x}<br>Estimated Unemployment Rate=%{y}<extra></extra>",
           "legendgroup": "Punjab",
           "marker": {
            "color": "#FF97FF",
            "pattern": {
             "shape": ""
            }
           },
           "name": "Punjab",
           "offsetgroup": "Punjab",
           "orientation": "v",
           "showlegend": true,
           "textposition": "auto",
           "type": "bar",
           "x": [
            "North"
           ],
           "xaxis": "x",
           "y": [
            9.19
           ],
           "yaxis": "y"
          },
          {
           "alignmentgroup": "True",
           "hovertemplate": "States=Rajasthan<br>Month_name=Jul<br>Region=%{x}<br>Estimated Unemployment Rate=%{y}<extra></extra>",
           "legendgroup": "Rajasthan",
           "marker": {
            "color": "#FECB52",
            "pattern": {
             "shape": ""
            }
           },
           "name": "Rajasthan",
           "offsetgroup": "Rajasthan",
           "orientation": "v",
           "showlegend": true,
           "textposition": "auto",
           "type": "bar",
           "x": [
            "North"
           ],
           "xaxis": "x",
           "y": [
            15.81
           ],
           "yaxis": "y"
          },
          {
           "alignmentgroup": "True",
           "hovertemplate": "States=Sikkim<br>Month_name=Jul<br>Region=%{x}<br>Estimated Unemployment Rate=%{y}<extra></extra>",
           "legendgroup": "Sikkim",
           "marker": {
            "color": "#636efa",
            "pattern": {
             "shape": ""
            }
           },
           "name": "Sikkim",
           "offsetgroup": "Sikkim",
           "orientation": "v",
           "showlegend": true,
           "textposition": "auto",
           "type": "bar",
           "x": [
            "Northeast"
           ],
           "xaxis": "x",
           "y": [
            4.45
           ],
           "yaxis": "y"
          },
          {
           "alignmentgroup": "True",
           "hovertemplate": "States=Tamil Nadu<br>Month_name=Jul<br>Region=%{x}<br>Estimated Unemployment Rate=%{y}<extra></extra>",
           "legendgroup": "Tamil Nadu",
           "marker": {
            "color": "#EF553B",
            "pattern": {
             "shape": ""
            }
           },
           "name": "Tamil Nadu",
           "offsetgroup": "Tamil Nadu",
           "orientation": "v",
           "showlegend": true,
           "textposition": "auto",
           "type": "bar",
           "x": [
            "South"
           ],
           "xaxis": "x",
           "y": [
            6.81
           ],
           "yaxis": "y"
          },
          {
           "alignmentgroup": "True",
           "hovertemplate": "States=Telangana<br>Month_name=Jul<br>Region=%{x}<br>Estimated Unemployment Rate=%{y}<extra></extra>",
           "legendgroup": "Telangana",
           "marker": {
            "color": "#00cc96",
            "pattern": {
             "shape": ""
            }
           },
           "name": "Telangana",
           "offsetgroup": "Telangana",
           "orientation": "v",
           "showlegend": true,
           "textposition": "auto",
           "type": "bar",
           "x": [
            "South"
           ],
           "xaxis": "x",
           "y": [
            5.36
           ],
           "yaxis": "y"
          },
          {
           "alignmentgroup": "True",
           "hovertemplate": "States=Tripura<br>Month_name=Jul<br>Region=%{x}<br>Estimated Unemployment Rate=%{y}<extra></extra>",
           "legendgroup": "Tripura",
           "marker": {
            "color": "#ab63fa",
            "pattern": {
             "shape": ""
            }
           },
           "name": "Tripura",
           "offsetgroup": "Tripura",
           "orientation": "v",
           "showlegend": true,
           "textposition": "auto",
           "type": "bar",
           "x": [
            "Northeast"
           ],
           "xaxis": "x",
           "y": [
            18.24
           ],
           "yaxis": "y"
          },
          {
           "alignmentgroup": "True",
           "hovertemplate": "States=Uttar Pradesh<br>Month_name=Jul<br>Region=%{x}<br>Estimated Unemployment Rate=%{y}<extra></extra>",
           "legendgroup": "Uttar Pradesh",
           "marker": {
            "color": "#FFA15A",
            "pattern": {
             "shape": ""
            }
           },
           "name": "Uttar Pradesh",
           "offsetgroup": "Uttar Pradesh",
           "orientation": "v",
           "showlegend": true,
           "textposition": "auto",
           "type": "bar",
           "x": [
            "North"
           ],
           "xaxis": "x",
           "y": [
            5.56
           ],
           "yaxis": "y"
          },
          {
           "alignmentgroup": "True",
           "hovertemplate": "States=Uttarakhand<br>Month_name=Jul<br>Region=%{x}<br>Estimated Unemployment Rate=%{y}<extra></extra>",
           "legendgroup": "Uttarakhand",
           "marker": {
            "color": "#19d3f3",
            "pattern": {
             "shape": ""
            }
           },
           "name": "Uttarakhand",
           "offsetgroup": "Uttarakhand",
           "orientation": "v",
           "showlegend": true,
           "textposition": "auto",
           "type": "bar",
           "x": [
            "North"
           ],
           "xaxis": "x",
           "y": [
            12.38
           ],
           "yaxis": "y"
          },
          {
           "alignmentgroup": "True",
           "hovertemplate": "States=West Bengal<br>Month_name=Jul<br>Region=%{x}<br>Estimated Unemployment Rate=%{y}<extra></extra>",
           "legendgroup": "West Bengal",
           "marker": {
            "color": "#FF6692",
            "pattern": {
             "shape": ""
            }
           },
           "name": "West Bengal",
           "offsetgroup": "West Bengal",
           "orientation": "v",
           "showlegend": true,
           "textposition": "auto",
           "type": "bar",
           "x": [
            "East"
           ],
           "xaxis": "x",
           "y": [
            6.83
           ],
           "yaxis": "y"
          }
         ],
         "name": "Jul"
        },
        {
         "data": [
          {
           "alignmentgroup": "True",
           "hovertemplate": "States=Andhra Pradesh<br>Month_name=Aug<br>Region=%{x}<br>Estimated Unemployment Rate=%{y}<extra></extra>",
           "legendgroup": "Andhra Pradesh",
           "marker": {
            "color": "#636efa",
            "pattern": {
             "shape": ""
            }
           },
           "name": "Andhra Pradesh",
           "offsetgroup": "Andhra Pradesh",
           "orientation": "v",
           "showlegend": true,
           "textposition": "auto",
           "type": "bar",
           "x": [
            "South"
           ],
           "xaxis": "x",
           "y": [
            6.96
           ],
           "yaxis": "y"
          },
          {
           "alignmentgroup": "True",
           "hovertemplate": "States=Assam<br>Month_name=Aug<br>Region=%{x}<br>Estimated Unemployment Rate=%{y}<extra></extra>",
           "legendgroup": "Assam",
           "marker": {
            "color": "#EF553B",
            "pattern": {
             "shape": ""
            }
           },
           "name": "Assam",
           "offsetgroup": "Assam",
           "orientation": "v",
           "showlegend": true,
           "textposition": "auto",
           "type": "bar",
           "x": [
            "Northeast"
           ],
           "xaxis": "x",
           "y": [
            5.53
           ],
           "yaxis": "y"
          },
          {
           "alignmentgroup": "True",
           "hovertemplate": "States=Bihar<br>Month_name=Aug<br>Region=%{x}<br>Estimated Unemployment Rate=%{y}<extra></extra>",
           "legendgroup": "Bihar",
           "marker": {
            "color": "#00cc96",
            "pattern": {
             "shape": ""
            }
           },
           "name": "Bihar",
           "offsetgroup": "Bihar",
           "orientation": "v",
           "showlegend": true,
           "textposition": "auto",
           "type": "bar",
           "x": [
            "East"
           ],
           "xaxis": "x",
           "y": [
            13.44
           ],
           "yaxis": "y"
          },
          {
           "alignmentgroup": "True",
           "hovertemplate": "States=Chhattisgarh<br>Month_name=Aug<br>Region=%{x}<br>Estimated Unemployment Rate=%{y}<extra></extra>",
           "legendgroup": "Chhattisgarh",
           "marker": {
            "color": "#ab63fa",
            "pattern": {
             "shape": ""
            }
           },
           "name": "Chhattisgarh",
           "offsetgroup": "Chhattisgarh",
           "orientation": "v",
           "showlegend": true,
           "textposition": "auto",
           "type": "bar",
           "x": [
            "West"
           ],
           "xaxis": "x",
           "y": [
            5.63
           ],
           "yaxis": "y"
          },
          {
           "alignmentgroup": "True",
           "hovertemplate": "States=Delhi<br>Month_name=Aug<br>Region=%{x}<br>Estimated Unemployment Rate=%{y}<extra></extra>",
           "legendgroup": "Delhi",
           "marker": {
            "color": "#FFA15A",
            "pattern": {
             "shape": ""
            }
           },
           "name": "Delhi",
           "offsetgroup": "Delhi",
           "orientation": "v",
           "showlegend": true,
           "textposition": "auto",
           "type": "bar",
           "x": [
            "North"
           ],
           "xaxis": "x",
           "y": [
            13.79
           ],
           "yaxis": "y"
          },
          {
           "alignmentgroup": "True",
           "hovertemplate": "States=Goa<br>Month_name=Aug<br>Region=%{x}<br>Estimated Unemployment Rate=%{y}<extra></extra>",
           "legendgroup": "Goa",
           "marker": {
            "color": "#19d3f3",
            "pattern": {
             "shape": ""
            }
           },
           "name": "Goa",
           "offsetgroup": "Goa",
           "orientation": "v",
           "showlegend": true,
           "textposition": "auto",
           "type": "bar",
           "x": [
            "West"
           ],
           "xaxis": "x",
           "y": [
            16.21
           ],
           "yaxis": "y"
          },
          {
           "alignmentgroup": "True",
           "hovertemplate": "States=Gujarat<br>Month_name=Aug<br>Region=%{x}<br>Estimated Unemployment Rate=%{y}<extra></extra>",
           "legendgroup": "Gujarat",
           "marker": {
            "color": "#FF6692",
            "pattern": {
             "shape": ""
            }
           },
           "name": "Gujarat",
           "offsetgroup": "Gujarat",
           "orientation": "v",
           "showlegend": true,
           "textposition": "auto",
           "type": "bar",
           "x": [
            "West"
           ],
           "xaxis": "x",
           "y": [
            1.87
           ],
           "yaxis": "y"
          },
          {
           "alignmentgroup": "True",
           "hovertemplate": "States=Haryana<br>Month_name=Aug<br>Region=%{x}<br>Estimated Unemployment Rate=%{y}<extra></extra>",
           "legendgroup": "Haryana",
           "marker": {
            "color": "#B6E880",
            "pattern": {
             "shape": ""
            }
           },
           "name": "Haryana",
           "offsetgroup": "Haryana",
           "orientation": "v",
           "showlegend": true,
           "textposition": "auto",
           "type": "bar",
           "x": [
            "North"
           ],
           "xaxis": "x",
           "y": [
            33.5
           ],
           "yaxis": "y"
          },
          {
           "alignmentgroup": "True",
           "hovertemplate": "States=Himachal Pradesh<br>Month_name=Aug<br>Region=%{x}<br>Estimated Unemployment Rate=%{y}<extra></extra>",
           "legendgroup": "Himachal Pradesh",
           "marker": {
            "color": "#FF97FF",
            "pattern": {
             "shape": ""
            }
           },
           "name": "Himachal Pradesh",
           "offsetgroup": "Himachal Pradesh",
           "orientation": "v",
           "showlegend": true,
           "textposition": "auto",
           "type": "bar",
           "x": [
            "North"
           ],
           "xaxis": "x",
           "y": [
            15.79
           ],
           "yaxis": "y"
          },
          {
           "alignmentgroup": "True",
           "hovertemplate": "States=Jammu & Kashmir<br>Month_name=Aug<br>Region=%{x}<br>Estimated Unemployment Rate=%{y}<extra></extra>",
           "legendgroup": "Jammu & Kashmir",
           "marker": {
            "color": "#FECB52",
            "pattern": {
             "shape": ""
            }
           },
           "name": "Jammu & Kashmir",
           "offsetgroup": "Jammu & Kashmir",
           "orientation": "v",
           "showlegend": true,
           "textposition": "auto",
           "type": "bar",
           "x": [
            "North"
           ],
           "xaxis": "x",
           "y": [
            11.09
           ],
           "yaxis": "y"
          },
          {
           "alignmentgroup": "True",
           "hovertemplate": "States=Jharkhand<br>Month_name=Aug<br>Region=%{x}<br>Estimated Unemployment Rate=%{y}<extra></extra>",
           "legendgroup": "Jharkhand",
           "marker": {
            "color": "#636efa",
            "pattern": {
             "shape": ""
            }
           },
           "name": "Jharkhand",
           "offsetgroup": "Jharkhand",
           "orientation": "v",
           "showlegend": true,
           "textposition": "auto",
           "type": "bar",
           "x": [
            "East"
           ],
           "xaxis": "x",
           "y": [
            9.76
           ],
           "yaxis": "y"
          },
          {
           "alignmentgroup": "True",
           "hovertemplate": "States=Karnataka<br>Month_name=Aug<br>Region=%{x}<br>Estimated Unemployment Rate=%{y}<extra></extra>",
           "legendgroup": "Karnataka",
           "marker": {
            "color": "#EF553B",
            "pattern": {
             "shape": ""
            }
           },
           "name": "Karnataka",
           "offsetgroup": "Karnataka",
           "orientation": "v",
           "showlegend": true,
           "textposition": "auto",
           "type": "bar",
           "x": [
            "South"
           ],
           "xaxis": "x",
           "y": [
            0.5
           ],
           "yaxis": "y"
          },
          {
           "alignmentgroup": "True",
           "hovertemplate": "States=Kerala<br>Month_name=Aug<br>Region=%{x}<br>Estimated Unemployment Rate=%{y}<extra></extra>",
           "legendgroup": "Kerala",
           "marker": {
            "color": "#00cc96",
            "pattern": {
             "shape": ""
            }
           },
           "name": "Kerala",
           "offsetgroup": "Kerala",
           "orientation": "v",
           "showlegend": true,
           "textposition": "auto",
           "type": "bar",
           "x": [
            "South"
           ],
           "xaxis": "x",
           "y": [
            10.98
           ],
           "yaxis": "y"
          },
          {
           "alignmentgroup": "True",
           "hovertemplate": "States=Madhya Pradesh<br>Month_name=Aug<br>Region=%{x}<br>Estimated Unemployment Rate=%{y}<extra></extra>",
           "legendgroup": "Madhya Pradesh",
           "marker": {
            "color": "#ab63fa",
            "pattern": {
             "shape": ""
            }
           },
           "name": "Madhya Pradesh",
           "offsetgroup": "Madhya Pradesh",
           "orientation": "v",
           "showlegend": true,
           "textposition": "auto",
           "type": "bar",
           "x": [
            "West"
           ],
           "xaxis": "x",
           "y": [
            4.7
           ],
           "yaxis": "y"
          },
          {
           "alignmentgroup": "True",
           "hovertemplate": "States=Maharashtra<br>Month_name=Aug<br>Region=%{x}<br>Estimated Unemployment Rate=%{y}<extra></extra>",
           "legendgroup": "Maharashtra",
           "marker": {
            "color": "#FFA15A",
            "pattern": {
             "shape": ""
            }
           },
           "name": "Maharashtra",
           "offsetgroup": "Maharashtra",
           "orientation": "v",
           "showlegend": true,
           "textposition": "auto",
           "type": "bar",
           "x": [
            "West"
           ],
           "xaxis": "x",
           "y": [
            6.23
           ],
           "yaxis": "y"
          },
          {
           "alignmentgroup": "True",
           "hovertemplate": "States=Meghalaya<br>Month_name=Aug<br>Region=%{x}<br>Estimated Unemployment Rate=%{y}<extra></extra>",
           "legendgroup": "Meghalaya",
           "marker": {
            "color": "#19d3f3",
            "pattern": {
             "shape": ""
            }
           },
           "name": "Meghalaya",
           "offsetgroup": "Meghalaya",
           "orientation": "v",
           "showlegend": true,
           "textposition": "auto",
           "type": "bar",
           "x": [
            "Northeast"
           ],
           "xaxis": "x",
           "y": [
            3.74
           ],
           "yaxis": "y"
          },
          {
           "alignmentgroup": "True",
           "hovertemplate": "States=Odisha<br>Month_name=Aug<br>Region=%{x}<br>Estimated Unemployment Rate=%{y}<extra></extra>",
           "legendgroup": "Odisha",
           "marker": {
            "color": "#FF6692",
            "pattern": {
             "shape": ""
            }
           },
           "name": "Odisha",
           "offsetgroup": "Odisha",
           "orientation": "v",
           "showlegend": true,
           "textposition": "auto",
           "type": "bar",
           "x": [
            "East"
           ],
           "xaxis": "x",
           "y": [
            1.42
           ],
           "yaxis": "y"
          },
          {
           "alignmentgroup": "True",
           "hovertemplate": "States=Puducherry<br>Month_name=Aug<br>Region=%{x}<br>Estimated Unemployment Rate=%{y}<extra></extra>",
           "legendgroup": "Puducherry",
           "marker": {
            "color": "#B6E880",
            "pattern": {
             "shape": ""
            }
           },
           "name": "Puducherry",
           "offsetgroup": "Puducherry",
           "orientation": "v",
           "showlegend": true,
           "textposition": "auto",
           "type": "bar",
           "x": [
            "South"
           ],
           "xaxis": "x",
           "y": [
            5.05
           ],
           "yaxis": "y"
          },
          {
           "alignmentgroup": "True",
           "hovertemplate": "States=Punjab<br>Month_name=Aug<br>Region=%{x}<br>Estimated Unemployment Rate=%{y}<extra></extra>",
           "legendgroup": "Punjab",
           "marker": {
            "color": "#FF97FF",
            "pattern": {
             "shape": ""
            }
           },
           "name": "Punjab",
           "offsetgroup": "Punjab",
           "orientation": "v",
           "showlegend": true,
           "textposition": "auto",
           "type": "bar",
           "x": [
            "North"
           ],
           "xaxis": "x",
           "y": [
            10.99
           ],
           "yaxis": "y"
          },
          {
           "alignmentgroup": "True",
           "hovertemplate": "States=Rajasthan<br>Month_name=Aug<br>Region=%{x}<br>Estimated Unemployment Rate=%{y}<extra></extra>",
           "legendgroup": "Rajasthan",
           "marker": {
            "color": "#FECB52",
            "pattern": {
             "shape": ""
            }
           },
           "name": "Rajasthan",
           "offsetgroup": "Rajasthan",
           "orientation": "v",
           "showlegend": true,
           "textposition": "auto",
           "type": "bar",
           "x": [
            "North"
           ],
           "xaxis": "x",
           "y": [
            17.51
           ],
           "yaxis": "y"
          },
          {
           "alignmentgroup": "True",
           "hovertemplate": "States=Sikkim<br>Month_name=Aug<br>Region=%{x}<br>Estimated Unemployment Rate=%{y}<extra></extra>",
           "legendgroup": "Sikkim",
           "marker": {
            "color": "#636efa",
            "pattern": {
             "shape": ""
            }
           },
           "name": "Sikkim",
           "offsetgroup": "Sikkim",
           "orientation": "v",
           "showlegend": true,
           "textposition": "auto",
           "type": "bar",
           "x": [
            "Northeast"
           ],
           "xaxis": "x",
           "y": [
            12.49
           ],
           "yaxis": "y"
          },
          {
           "alignmentgroup": "True",
           "hovertemplate": "States=Tamil Nadu<br>Month_name=Aug<br>Region=%{x}<br>Estimated Unemployment Rate=%{y}<extra></extra>",
           "legendgroup": "Tamil Nadu",
           "marker": {
            "color": "#EF553B",
            "pattern": {
             "shape": ""
            }
           },
           "name": "Tamil Nadu",
           "offsetgroup": "Tamil Nadu",
           "orientation": "v",
           "showlegend": true,
           "textposition": "auto",
           "type": "bar",
           "x": [
            "South"
           ],
           "xaxis": "x",
           "y": [
            2.65
           ],
           "yaxis": "y"
          },
          {
           "alignmentgroup": "True",
           "hovertemplate": "States=Telangana<br>Month_name=Aug<br>Region=%{x}<br>Estimated Unemployment Rate=%{y}<extra></extra>",
           "legendgroup": "Telangana",
           "marker": {
            "color": "#00cc96",
            "pattern": {
             "shape": ""
            }
           },
           "name": "Telangana",
           "offsetgroup": "Telangana",
           "orientation": "v",
           "showlegend": true,
           "textposition": "auto",
           "type": "bar",
           "x": [
            "South"
           ],
           "xaxis": "x",
           "y": [
            5.79
           ],
           "yaxis": "y"
          },
          {
           "alignmentgroup": "True",
           "hovertemplate": "States=Tripura<br>Month_name=Aug<br>Region=%{x}<br>Estimated Unemployment Rate=%{y}<extra></extra>",
           "legendgroup": "Tripura",
           "marker": {
            "color": "#ab63fa",
            "pattern": {
             "shape": ""
            }
           },
           "name": "Tripura",
           "offsetgroup": "Tripura",
           "orientation": "v",
           "showlegend": true,
           "textposition": "auto",
           "type": "bar",
           "x": [
            "Northeast"
           ],
           "xaxis": "x",
           "y": [
            27.92
           ],
           "yaxis": "y"
          },
          {
           "alignmentgroup": "True",
           "hovertemplate": "States=Uttar Pradesh<br>Month_name=Aug<br>Region=%{x}<br>Estimated Unemployment Rate=%{y}<extra></extra>",
           "legendgroup": "Uttar Pradesh",
           "marker": {
            "color": "#FFA15A",
            "pattern": {
             "shape": ""
            }
           },
           "name": "Uttar Pradesh",
           "offsetgroup": "Uttar Pradesh",
           "orientation": "v",
           "showlegend": true,
           "textposition": "auto",
           "type": "bar",
           "x": [
            "North"
           ],
           "xaxis": "x",
           "y": [
            5.79
           ],
           "yaxis": "y"
          },
          {
           "alignmentgroup": "True",
           "hovertemplate": "States=Uttarakhand<br>Month_name=Aug<br>Region=%{x}<br>Estimated Unemployment Rate=%{y}<extra></extra>",
           "legendgroup": "Uttarakhand",
           "marker": {
            "color": "#19d3f3",
            "pattern": {
             "shape": ""
            }
           },
           "name": "Uttarakhand",
           "offsetgroup": "Uttarakhand",
           "orientation": "v",
           "showlegend": true,
           "textposition": "auto",
           "type": "bar",
           "x": [
            "North"
           ],
           "xaxis": "x",
           "y": [
            14.26
           ],
           "yaxis": "y"
          },
          {
           "alignmentgroup": "True",
           "hovertemplate": "States=West Bengal<br>Month_name=Aug<br>Region=%{x}<br>Estimated Unemployment Rate=%{y}<extra></extra>",
           "legendgroup": "West Bengal",
           "marker": {
            "color": "#FF6692",
            "pattern": {
             "shape": ""
            }
           },
           "name": "West Bengal",
           "offsetgroup": "West Bengal",
           "orientation": "v",
           "showlegend": true,
           "textposition": "auto",
           "type": "bar",
           "x": [
            "East"
           ],
           "xaxis": "x",
           "y": [
            14.87
           ],
           "yaxis": "y"
          }
         ],
         "name": "Aug"
        },
        {
         "data": [
          {
           "alignmentgroup": "True",
           "hovertemplate": "States=Andhra Pradesh<br>Month_name=Sep<br>Region=%{x}<br>Estimated Unemployment Rate=%{y}<extra></extra>",
           "legendgroup": "Andhra Pradesh",
           "marker": {
            "color": "#636efa",
            "pattern": {
             "shape": ""
            }
           },
           "name": "Andhra Pradesh",
           "offsetgroup": "Andhra Pradesh",
           "orientation": "v",
           "showlegend": true,
           "textposition": "auto",
           "type": "bar",
           "x": [
            "South"
           ],
           "xaxis": "x",
           "y": [
            6.4
           ],
           "yaxis": "y"
          },
          {
           "alignmentgroup": "True",
           "hovertemplate": "States=Assam<br>Month_name=Sep<br>Region=%{x}<br>Estimated Unemployment Rate=%{y}<extra></extra>",
           "legendgroup": "Assam",
           "marker": {
            "color": "#EF553B",
            "pattern": {
             "shape": ""
            }
           },
           "name": "Assam",
           "offsetgroup": "Assam",
           "orientation": "v",
           "showlegend": true,
           "textposition": "auto",
           "type": "bar",
           "x": [
            "Northeast"
           ],
           "xaxis": "x",
           "y": [
            1.19
           ],
           "yaxis": "y"
          },
          {
           "alignmentgroup": "True",
           "hovertemplate": "States=Bihar<br>Month_name=Sep<br>Region=%{x}<br>Estimated Unemployment Rate=%{y}<extra></extra>",
           "legendgroup": "Bihar",
           "marker": {
            "color": "#00cc96",
            "pattern": {
             "shape": ""
            }
           },
           "name": "Bihar",
           "offsetgroup": "Bihar",
           "orientation": "v",
           "showlegend": true,
           "textposition": "auto",
           "type": "bar",
           "x": [
            "East"
           ],
           "xaxis": "x",
           "y": [
            11.91
           ],
           "yaxis": "y"
          },
          {
           "alignmentgroup": "True",
           "hovertemplate": "States=Chhattisgarh<br>Month_name=Sep<br>Region=%{x}<br>Estimated Unemployment Rate=%{y}<extra></extra>",
           "legendgroup": "Chhattisgarh",
           "marker": {
            "color": "#ab63fa",
            "pattern": {
             "shape": ""
            }
           },
           "name": "Chhattisgarh",
           "offsetgroup": "Chhattisgarh",
           "orientation": "v",
           "showlegend": true,
           "textposition": "auto",
           "type": "bar",
           "x": [
            "West"
           ],
           "xaxis": "x",
           "y": [
            1.96
           ],
           "yaxis": "y"
          },
          {
           "alignmentgroup": "True",
           "hovertemplate": "States=Delhi<br>Month_name=Sep<br>Region=%{x}<br>Estimated Unemployment Rate=%{y}<extra></extra>",
           "legendgroup": "Delhi",
           "marker": {
            "color": "#FFA15A",
            "pattern": {
             "shape": ""
            }
           },
           "name": "Delhi",
           "offsetgroup": "Delhi",
           "orientation": "v",
           "showlegend": true,
           "textposition": "auto",
           "type": "bar",
           "x": [
            "North"
           ],
           "xaxis": "x",
           "y": [
            12.53
           ],
           "yaxis": "y"
          },
          {
           "alignmentgroup": "True",
           "hovertemplate": "States=Goa<br>Month_name=Sep<br>Region=%{x}<br>Estimated Unemployment Rate=%{y}<extra></extra>",
           "legendgroup": "Goa",
           "marker": {
            "color": "#19d3f3",
            "pattern": {
             "shape": ""
            }
           },
           "name": "Goa",
           "offsetgroup": "Goa",
           "orientation": "v",
           "showlegend": true,
           "textposition": "auto",
           "type": "bar",
           "x": [
            "West"
           ],
           "xaxis": "x",
           "y": [
            15.38
           ],
           "yaxis": "y"
          },
          {
           "alignmentgroup": "True",
           "hovertemplate": "States=Gujarat<br>Month_name=Sep<br>Region=%{x}<br>Estimated Unemployment Rate=%{y}<extra></extra>",
           "legendgroup": "Gujarat",
           "marker": {
            "color": "#FF6692",
            "pattern": {
             "shape": ""
            }
           },
           "name": "Gujarat",
           "offsetgroup": "Gujarat",
           "orientation": "v",
           "showlegend": true,
           "textposition": "auto",
           "type": "bar",
           "x": [
            "West"
           ],
           "xaxis": "x",
           "y": [
            3.42
           ],
           "yaxis": "y"
          },
          {
           "alignmentgroup": "True",
           "hovertemplate": "States=Haryana<br>Month_name=Sep<br>Region=%{x}<br>Estimated Unemployment Rate=%{y}<extra></extra>",
           "legendgroup": "Haryana",
           "marker": {
            "color": "#B6E880",
            "pattern": {
             "shape": ""
            }
           },
           "name": "Haryana",
           "offsetgroup": "Haryana",
           "orientation": "v",
           "showlegend": true,
           "textposition": "auto",
           "type": "bar",
           "x": [
            "North"
           ],
           "xaxis": "x",
           "y": [
            19.68
           ],
           "yaxis": "y"
          },
          {
           "alignmentgroup": "True",
           "hovertemplate": "States=Himachal Pradesh<br>Month_name=Sep<br>Region=%{x}<br>Estimated Unemployment Rate=%{y}<extra></extra>",
           "legendgroup": "Himachal Pradesh",
           "marker": {
            "color": "#FF97FF",
            "pattern": {
             "shape": ""
            }
           },
           "name": "Himachal Pradesh",
           "offsetgroup": "Himachal Pradesh",
           "orientation": "v",
           "showlegend": true,
           "textposition": "auto",
           "type": "bar",
           "x": [
            "North"
           ],
           "xaxis": "x",
           "y": [
            12.04
           ],
           "yaxis": "y"
          },
          {
           "alignmentgroup": "True",
           "hovertemplate": "States=Jammu & Kashmir<br>Month_name=Sep<br>Region=%{x}<br>Estimated Unemployment Rate=%{y}<extra></extra>",
           "legendgroup": "Jammu & Kashmir",
           "marker": {
            "color": "#FECB52",
            "pattern": {
             "shape": ""
            }
           },
           "name": "Jammu & Kashmir",
           "offsetgroup": "Jammu & Kashmir",
           "orientation": "v",
           "showlegend": true,
           "textposition": "auto",
           "type": "bar",
           "x": [
            "North"
           ],
           "xaxis": "x",
           "y": [
            16.17
           ],
           "yaxis": "y"
          },
          {
           "alignmentgroup": "True",
           "hovertemplate": "States=Jharkhand<br>Month_name=Sep<br>Region=%{x}<br>Estimated Unemployment Rate=%{y}<extra></extra>",
           "legendgroup": "Jharkhand",
           "marker": {
            "color": "#636efa",
            "pattern": {
             "shape": ""
            }
           },
           "name": "Jharkhand",
           "offsetgroup": "Jharkhand",
           "orientation": "v",
           "showlegend": true,
           "textposition": "auto",
           "type": "bar",
           "x": [
            "East"
           ],
           "xaxis": "x",
           "y": [
            8.24
           ],
           "yaxis": "y"
          },
          {
           "alignmentgroup": "True",
           "hovertemplate": "States=Karnataka<br>Month_name=Sep<br>Region=%{x}<br>Estimated Unemployment Rate=%{y}<extra></extra>",
           "legendgroup": "Karnataka",
           "marker": {
            "color": "#EF553B",
            "pattern": {
             "shape": ""
            }
           },
           "name": "Karnataka",
           "offsetgroup": "Karnataka",
           "orientation": "v",
           "showlegend": true,
           "textposition": "auto",
           "type": "bar",
           "x": [
            "South"
           ],
           "xaxis": "x",
           "y": [
            2.41
           ],
           "yaxis": "y"
          },
          {
           "alignmentgroup": "True",
           "hovertemplate": "States=Kerala<br>Month_name=Sep<br>Region=%{x}<br>Estimated Unemployment Rate=%{y}<extra></extra>",
           "legendgroup": "Kerala",
           "marker": {
            "color": "#00cc96",
            "pattern": {
             "shape": ""
            }
           },
           "name": "Kerala",
           "offsetgroup": "Kerala",
           "orientation": "v",
           "showlegend": true,
           "textposition": "auto",
           "type": "bar",
           "x": [
            "South"
           ],
           "xaxis": "x",
           "y": [
            5.91
           ],
           "yaxis": "y"
          },
          {
           "alignmentgroup": "True",
           "hovertemplate": "States=Madhya Pradesh<br>Month_name=Sep<br>Region=%{x}<br>Estimated Unemployment Rate=%{y}<extra></extra>",
           "legendgroup": "Madhya Pradesh",
           "marker": {
            "color": "#ab63fa",
            "pattern": {
             "shape": ""
            }
           },
           "name": "Madhya Pradesh",
           "offsetgroup": "Madhya Pradesh",
           "orientation": "v",
           "showlegend": true,
           "textposition": "auto",
           "type": "bar",
           "x": [
            "West"
           ],
           "xaxis": "x",
           "y": [
            3.91
           ],
           "yaxis": "y"
          },
          {
           "alignmentgroup": "True",
           "hovertemplate": "States=Maharashtra<br>Month_name=Sep<br>Region=%{x}<br>Estimated Unemployment Rate=%{y}<extra></extra>",
           "legendgroup": "Maharashtra",
           "marker": {
            "color": "#FFA15A",
            "pattern": {
             "shape": ""
            }
           },
           "name": "Maharashtra",
           "offsetgroup": "Maharashtra",
           "orientation": "v",
           "showlegend": true,
           "textposition": "auto",
           "type": "bar",
           "x": [
            "West"
           ],
           "xaxis": "x",
           "y": [
            4.55
           ],
           "yaxis": "y"
          },
          {
           "alignmentgroup": "True",
           "hovertemplate": "States=Meghalaya<br>Month_name=Sep<br>Region=%{x}<br>Estimated Unemployment Rate=%{y}<extra></extra>",
           "legendgroup": "Meghalaya",
           "marker": {
            "color": "#19d3f3",
            "pattern": {
             "shape": ""
            }
           },
           "name": "Meghalaya",
           "offsetgroup": "Meghalaya",
           "orientation": "v",
           "showlegend": true,
           "textposition": "auto",
           "type": "bar",
           "x": [
            "Northeast"
           ],
           "xaxis": "x",
           "y": [
            4.29
           ],
           "yaxis": "y"
          },
          {
           "alignmentgroup": "True",
           "hovertemplate": "States=Odisha<br>Month_name=Sep<br>Region=%{x}<br>Estimated Unemployment Rate=%{y}<extra></extra>",
           "legendgroup": "Odisha",
           "marker": {
            "color": "#FF6692",
            "pattern": {
             "shape": ""
            }
           },
           "name": "Odisha",
           "offsetgroup": "Odisha",
           "orientation": "v",
           "showlegend": true,
           "textposition": "auto",
           "type": "bar",
           "x": [
            "East"
           ],
           "xaxis": "x",
           "y": [
            2.1
           ],
           "yaxis": "y"
          },
          {
           "alignmentgroup": "True",
           "hovertemplate": "States=Puducherry<br>Month_name=Sep<br>Region=%{x}<br>Estimated Unemployment Rate=%{y}<extra></extra>",
           "legendgroup": "Puducherry",
           "marker": {
            "color": "#B6E880",
            "pattern": {
             "shape": ""
            }
           },
           "name": "Puducherry",
           "offsetgroup": "Puducherry",
           "orientation": "v",
           "showlegend": true,
           "textposition": "auto",
           "type": "bar",
           "x": [
            "South"
           ],
           "xaxis": "x",
           "y": [
            10.9
           ],
           "yaxis": "y"
          },
          {
           "alignmentgroup": "True",
           "hovertemplate": "States=Punjab<br>Month_name=Sep<br>Region=%{x}<br>Estimated Unemployment Rate=%{y}<extra></extra>",
           "legendgroup": "Punjab",
           "marker": {
            "color": "#FF97FF",
            "pattern": {
             "shape": ""
            }
           },
           "name": "Punjab",
           "offsetgroup": "Punjab",
           "orientation": "v",
           "showlegend": true,
           "textposition": "auto",
           "type": "bar",
           "x": [
            "North"
           ],
           "xaxis": "x",
           "y": [
            9.61
           ],
           "yaxis": "y"
          },
          {
           "alignmentgroup": "True",
           "hovertemplate": "States=Rajasthan<br>Month_name=Sep<br>Region=%{x}<br>Estimated Unemployment Rate=%{y}<extra></extra>",
           "legendgroup": "Rajasthan",
           "marker": {
            "color": "#FECB52",
            "pattern": {
             "shape": ""
            }
           },
           "name": "Rajasthan",
           "offsetgroup": "Rajasthan",
           "orientation": "v",
           "showlegend": true,
           "textposition": "auto",
           "type": "bar",
           "x": [
            "North"
           ],
           "xaxis": "x",
           "y": [
            15.35
           ],
           "yaxis": "y"
          },
          {
           "alignmentgroup": "True",
           "hovertemplate": "States=Sikkim<br>Month_name=Sep<br>Region=%{x}<br>Estimated Unemployment Rate=%{y}<extra></extra>",
           "legendgroup": "Sikkim",
           "marker": {
            "color": "#636efa",
            "pattern": {
             "shape": ""
            }
           },
           "name": "Sikkim",
           "offsetgroup": "Sikkim",
           "orientation": "v",
           "showlegend": true,
           "textposition": "auto",
           "type": "bar",
           "x": [
            "Northeast"
           ],
           "xaxis": "x",
           "y": [
            5.7
           ],
           "yaxis": "y"
          },
          {
           "alignmentgroup": "True",
           "hovertemplate": "States=Tamil Nadu<br>Month_name=Sep<br>Region=%{x}<br>Estimated Unemployment Rate=%{y}<extra></extra>",
           "legendgroup": "Tamil Nadu",
           "marker": {
            "color": "#EF553B",
            "pattern": {
             "shape": ""
            }
           },
           "name": "Tamil Nadu",
           "offsetgroup": "Tamil Nadu",
           "orientation": "v",
           "showlegend": true,
           "textposition": "auto",
           "type": "bar",
           "x": [
            "South"
           ],
           "xaxis": "x",
           "y": [
            5
           ],
           "yaxis": "y"
          },
          {
           "alignmentgroup": "True",
           "hovertemplate": "States=Telangana<br>Month_name=Sep<br>Region=%{x}<br>Estimated Unemployment Rate=%{y}<extra></extra>",
           "legendgroup": "Telangana",
           "marker": {
            "color": "#00cc96",
            "pattern": {
             "shape": ""
            }
           },
           "name": "Telangana",
           "offsetgroup": "Telangana",
           "orientation": "v",
           "showlegend": true,
           "textposition": "auto",
           "type": "bar",
           "x": [
            "South"
           ],
           "xaxis": "x",
           "y": [
            3.27
           ],
           "yaxis": "y"
          },
          {
           "alignmentgroup": "True",
           "hovertemplate": "States=Tripura<br>Month_name=Sep<br>Region=%{x}<br>Estimated Unemployment Rate=%{y}<extra></extra>",
           "legendgroup": "Tripura",
           "marker": {
            "color": "#ab63fa",
            "pattern": {
             "shape": ""
            }
           },
           "name": "Tripura",
           "offsetgroup": "Tripura",
           "orientation": "v",
           "showlegend": true,
           "textposition": "auto",
           "type": "bar",
           "x": [
            "Northeast"
           ],
           "xaxis": "x",
           "y": [
            17.35
           ],
           "yaxis": "y"
          },
          {
           "alignmentgroup": "True",
           "hovertemplate": "States=Uttar Pradesh<br>Month_name=Sep<br>Region=%{x}<br>Estimated Unemployment Rate=%{y}<extra></extra>",
           "legendgroup": "Uttar Pradesh",
           "marker": {
            "color": "#FFA15A",
            "pattern": {
             "shape": ""
            }
           },
           "name": "Uttar Pradesh",
           "offsetgroup": "Uttar Pradesh",
           "orientation": "v",
           "showlegend": true,
           "textposition": "auto",
           "type": "bar",
           "x": [
            "North"
           ],
           "xaxis": "x",
           "y": [
            4.18
           ],
           "yaxis": "y"
          },
          {
           "alignmentgroup": "True",
           "hovertemplate": "States=Uttarakhand<br>Month_name=Sep<br>Region=%{x}<br>Estimated Unemployment Rate=%{y}<extra></extra>",
           "legendgroup": "Uttarakhand",
           "marker": {
            "color": "#19d3f3",
            "pattern": {
             "shape": ""
            }
           },
           "name": "Uttarakhand",
           "offsetgroup": "Uttarakhand",
           "orientation": "v",
           "showlegend": true,
           "textposition": "auto",
           "type": "bar",
           "x": [
            "North"
           ],
           "xaxis": "x",
           "y": [
            22.26
           ],
           "yaxis": "y"
          },
          {
           "alignmentgroup": "True",
           "hovertemplate": "States=West Bengal<br>Month_name=Sep<br>Region=%{x}<br>Estimated Unemployment Rate=%{y}<extra></extra>",
           "legendgroup": "West Bengal",
           "marker": {
            "color": "#FF6692",
            "pattern": {
             "shape": ""
            }
           },
           "name": "West Bengal",
           "offsetgroup": "West Bengal",
           "orientation": "v",
           "showlegend": true,
           "textposition": "auto",
           "type": "bar",
           "x": [
            "East"
           ],
           "xaxis": "x",
           "y": [
            9.35
           ],
           "yaxis": "y"
          }
         ],
         "name": "Sep"
        },
        {
         "data": [
          {
           "alignmentgroup": "True",
           "hovertemplate": "States=Andhra Pradesh<br>Month_name=Oct<br>Region=%{x}<br>Estimated Unemployment Rate=%{y}<extra></extra>",
           "legendgroup": "Andhra Pradesh",
           "marker": {
            "color": "#636efa",
            "pattern": {
             "shape": ""
            }
           },
           "name": "Andhra Pradesh",
           "offsetgroup": "Andhra Pradesh",
           "orientation": "v",
           "showlegend": true,
           "textposition": "auto",
           "type": "bar",
           "x": [
            "South"
           ],
           "xaxis": "x",
           "y": [
            6.59
           ],
           "yaxis": "y"
          },
          {
           "alignmentgroup": "True",
           "hovertemplate": "States=Assam<br>Month_name=Oct<br>Region=%{x}<br>Estimated Unemployment Rate=%{y}<extra></extra>",
           "legendgroup": "Assam",
           "marker": {
            "color": "#EF553B",
            "pattern": {
             "shape": ""
            }
           },
           "name": "Assam",
           "offsetgroup": "Assam",
           "orientation": "v",
           "showlegend": true,
           "textposition": "auto",
           "type": "bar",
           "x": [
            "Northeast"
           ],
           "xaxis": "x",
           "y": [
            3.02
           ],
           "yaxis": "y"
          },
          {
           "alignmentgroup": "True",
           "hovertemplate": "States=Bihar<br>Month_name=Oct<br>Region=%{x}<br>Estimated Unemployment Rate=%{y}<extra></extra>",
           "legendgroup": "Bihar",
           "marker": {
            "color": "#00cc96",
            "pattern": {
             "shape": ""
            }
           },
           "name": "Bihar",
           "offsetgroup": "Bihar",
           "orientation": "v",
           "showlegend": true,
           "textposition": "auto",
           "type": "bar",
           "x": [
            "East"
           ],
           "xaxis": "x",
           "y": [
            9.82
           ],
           "yaxis": "y"
          },
          {
           "alignmentgroup": "True",
           "hovertemplate": "States=Chhattisgarh<br>Month_name=Oct<br>Region=%{x}<br>Estimated Unemployment Rate=%{y}<extra></extra>",
           "legendgroup": "Chhattisgarh",
           "marker": {
            "color": "#ab63fa",
            "pattern": {
             "shape": ""
            }
           },
           "name": "Chhattisgarh",
           "offsetgroup": "Chhattisgarh",
           "orientation": "v",
           "showlegend": true,
           "textposition": "auto",
           "type": "bar",
           "x": [
            "West"
           ],
           "xaxis": "x",
           "y": [
            6.62
           ],
           "yaxis": "y"
          },
          {
           "alignmentgroup": "True",
           "hovertemplate": "States=Delhi<br>Month_name=Oct<br>Region=%{x}<br>Estimated Unemployment Rate=%{y}<extra></extra>",
           "legendgroup": "Delhi",
           "marker": {
            "color": "#FFA15A",
            "pattern": {
             "shape": ""
            }
           },
           "name": "Delhi",
           "offsetgroup": "Delhi",
           "orientation": "v",
           "showlegend": true,
           "textposition": "auto",
           "type": "bar",
           "x": [
            "North"
           ],
           "xaxis": "x",
           "y": [
            6.27
           ],
           "yaxis": "y"
          },
          {
           "alignmentgroup": "True",
           "hovertemplate": "States=Goa<br>Month_name=Oct<br>Region=%{x}<br>Estimated Unemployment Rate=%{y}<extra></extra>",
           "legendgroup": "Goa",
           "marker": {
            "color": "#19d3f3",
            "pattern": {
             "shape": ""
            }
           },
           "name": "Goa",
           "offsetgroup": "Goa",
           "orientation": "v",
           "showlegend": true,
           "textposition": "auto",
           "type": "bar",
           "x": [
            "West"
           ],
           "xaxis": "x",
           "y": [
            11.54
           ],
           "yaxis": "y"
          },
          {
           "alignmentgroup": "True",
           "hovertemplate": "States=Gujarat<br>Month_name=Oct<br>Region=%{x}<br>Estimated Unemployment Rate=%{y}<extra></extra>",
           "legendgroup": "Gujarat",
           "marker": {
            "color": "#FF6692",
            "pattern": {
             "shape": ""
            }
           },
           "name": "Gujarat",
           "offsetgroup": "Gujarat",
           "orientation": "v",
           "showlegend": true,
           "textposition": "auto",
           "type": "bar",
           "x": [
            "West"
           ],
           "xaxis": "x",
           "y": [
            4.03
           ],
           "yaxis": "y"
          },
          {
           "alignmentgroup": "True",
           "hovertemplate": "States=Haryana<br>Month_name=Oct<br>Region=%{x}<br>Estimated Unemployment Rate=%{y}<extra></extra>",
           "legendgroup": "Haryana",
           "marker": {
            "color": "#B6E880",
            "pattern": {
             "shape": ""
            }
           },
           "name": "Haryana",
           "offsetgroup": "Haryana",
           "orientation": "v",
           "showlegend": true,
           "textposition": "auto",
           "type": "bar",
           "x": [
            "North"
           ],
           "xaxis": "x",
           "y": [
            27.31
           ],
           "yaxis": "y"
          },
          {
           "alignmentgroup": "True",
           "hovertemplate": "States=Himachal Pradesh<br>Month_name=Oct<br>Region=%{x}<br>Estimated Unemployment Rate=%{y}<extra></extra>",
           "legendgroup": "Himachal Pradesh",
           "marker": {
            "color": "#FF97FF",
            "pattern": {
             "shape": ""
            }
           },
           "name": "Himachal Pradesh",
           "offsetgroup": "Himachal Pradesh",
           "orientation": "v",
           "showlegend": true,
           "textposition": "auto",
           "type": "bar",
           "x": [
            "North"
           ],
           "xaxis": "x",
           "y": [
            13.46
           ],
           "yaxis": "y"
          },
          {
           "alignmentgroup": "True",
           "hovertemplate": "States=Jammu & Kashmir<br>Month_name=Oct<br>Region=%{x}<br>Estimated Unemployment Rate=%{y}<extra></extra>",
           "legendgroup": "Jammu & Kashmir",
           "marker": {
            "color": "#FECB52",
            "pattern": {
             "shape": ""
            }
           },
           "name": "Jammu & Kashmir",
           "offsetgroup": "Jammu & Kashmir",
           "orientation": "v",
           "showlegend": true,
           "textposition": "auto",
           "type": "bar",
           "x": [
            "North"
           ],
           "xaxis": "x",
           "y": [
            16.14
           ],
           "yaxis": "y"
          },
          {
           "alignmentgroup": "True",
           "hovertemplate": "States=Jharkhand<br>Month_name=Oct<br>Region=%{x}<br>Estimated Unemployment Rate=%{y}<extra></extra>",
           "legendgroup": "Jharkhand",
           "marker": {
            "color": "#636efa",
            "pattern": {
             "shape": ""
            }
           },
           "name": "Jharkhand",
           "offsetgroup": "Jharkhand",
           "orientation": "v",
           "showlegend": true,
           "textposition": "auto",
           "type": "bar",
           "x": [
            "East"
           ],
           "xaxis": "x",
           "y": [
            11.8
           ],
           "yaxis": "y"
          },
          {
           "alignmentgroup": "True",
           "hovertemplate": "States=Karnataka<br>Month_name=Oct<br>Region=%{x}<br>Estimated Unemployment Rate=%{y}<extra></extra>",
           "legendgroup": "Karnataka",
           "marker": {
            "color": "#EF553B",
            "pattern": {
             "shape": ""
            }
           },
           "name": "Karnataka",
           "offsetgroup": "Karnataka",
           "orientation": "v",
           "showlegend": true,
           "textposition": "auto",
           "type": "bar",
           "x": [
            "South"
           ],
           "xaxis": "x",
           "y": [
            1.58
           ],
           "yaxis": "y"
          },
          {
           "alignmentgroup": "True",
           "hovertemplate": "States=Kerala<br>Month_name=Oct<br>Region=%{x}<br>Estimated Unemployment Rate=%{y}<extra></extra>",
           "legendgroup": "Kerala",
           "marker": {
            "color": "#00cc96",
            "pattern": {
             "shape": ""
            }
           },
           "name": "Kerala",
           "offsetgroup": "Kerala",
           "orientation": "v",
           "showlegend": true,
           "textposition": "auto",
           "type": "bar",
           "x": [
            "South"
           ],
           "xaxis": "x",
           "y": [
            3.88
           ],
           "yaxis": "y"
          },
          {
           "alignmentgroup": "True",
           "hovertemplate": "States=Madhya Pradesh<br>Month_name=Oct<br>Region=%{x}<br>Estimated Unemployment Rate=%{y}<extra></extra>",
           "legendgroup": "Madhya Pradesh",
           "marker": {
            "color": "#ab63fa",
            "pattern": {
             "shape": ""
            }
           },
           "name": "Madhya Pradesh",
           "offsetgroup": "Madhya Pradesh",
           "orientation": "v",
           "showlegend": true,
           "textposition": "auto",
           "type": "bar",
           "x": [
            "West"
           ],
           "xaxis": "x",
           "y": [
            3.13
           ],
           "yaxis": "y"
          },
          {
           "alignmentgroup": "True",
           "hovertemplate": "States=Maharashtra<br>Month_name=Oct<br>Region=%{x}<br>Estimated Unemployment Rate=%{y}<extra></extra>",
           "legendgroup": "Maharashtra",
           "marker": {
            "color": "#FFA15A",
            "pattern": {
             "shape": ""
            }
           },
           "name": "Maharashtra",
           "offsetgroup": "Maharashtra",
           "orientation": "v",
           "showlegend": true,
           "textposition": "auto",
           "type": "bar",
           "x": [
            "West"
           ],
           "xaxis": "x",
           "y": [
            4.1
           ],
           "yaxis": "y"
          },
          {
           "alignmentgroup": "True",
           "hovertemplate": "States=Meghalaya<br>Month_name=Oct<br>Region=%{x}<br>Estimated Unemployment Rate=%{y}<extra></extra>",
           "legendgroup": "Meghalaya",
           "marker": {
            "color": "#19d3f3",
            "pattern": {
             "shape": ""
            }
           },
           "name": "Meghalaya",
           "offsetgroup": "Meghalaya",
           "orientation": "v",
           "showlegend": true,
           "textposition": "auto",
           "type": "bar",
           "x": [
            "Northeast"
           ],
           "xaxis": "x",
           "y": [
            4.6
           ],
           "yaxis": "y"
          },
          {
           "alignmentgroup": "True",
           "hovertemplate": "States=Odisha<br>Month_name=Oct<br>Region=%{x}<br>Estimated Unemployment Rate=%{y}<extra></extra>",
           "legendgroup": "Odisha",
           "marker": {
            "color": "#FF6692",
            "pattern": {
             "shape": ""
            }
           },
           "name": "Odisha",
           "offsetgroup": "Odisha",
           "orientation": "v",
           "showlegend": true,
           "textposition": "auto",
           "type": "bar",
           "x": [
            "East"
           ],
           "xaxis": "x",
           "y": [
            2.18
           ],
           "yaxis": "y"
          },
          {
           "alignmentgroup": "True",
           "hovertemplate": "States=Puducherry<br>Month_name=Oct<br>Region=%{x}<br>Estimated Unemployment Rate=%{y}<extra></extra>",
           "legendgroup": "Puducherry",
           "marker": {
            "color": "#B6E880",
            "pattern": {
             "shape": ""
            }
           },
           "name": "Puducherry",
           "offsetgroup": "Puducherry",
           "orientation": "v",
           "showlegend": true,
           "textposition": "auto",
           "type": "bar",
           "x": [
            "South"
           ],
           "xaxis": "x",
           "y": [
            6.18
           ],
           "yaxis": "y"
          },
          {
           "alignmentgroup": "True",
           "hovertemplate": "States=Punjab<br>Month_name=Oct<br>Region=%{x}<br>Estimated Unemployment Rate=%{y}<extra></extra>",
           "legendgroup": "Punjab",
           "marker": {
            "color": "#FF97FF",
            "pattern": {
             "shape": ""
            }
           },
           "name": "Punjab",
           "offsetgroup": "Punjab",
           "orientation": "v",
           "showlegend": true,
           "textposition": "auto",
           "type": "bar",
           "x": [
            "North"
           ],
           "xaxis": "x",
           "y": [
            9.88
           ],
           "yaxis": "y"
          },
          {
           "alignmentgroup": "True",
           "hovertemplate": "States=Rajasthan<br>Month_name=Oct<br>Region=%{x}<br>Estimated Unemployment Rate=%{y}<extra></extra>",
           "legendgroup": "Rajasthan",
           "marker": {
            "color": "#FECB52",
            "pattern": {
             "shape": ""
            }
           },
           "name": "Rajasthan",
           "offsetgroup": "Rajasthan",
           "orientation": "v",
           "showlegend": true,
           "textposition": "auto",
           "type": "bar",
           "x": [
            "North"
           ],
           "xaxis": "x",
           "y": [
            24.15
           ],
           "yaxis": "y"
          },
          {
           "alignmentgroup": "True",
           "hovertemplate": "States=Sikkim<br>Month_name=Oct<br>Region=%{x}<br>Estimated Unemployment Rate=%{y}<extra></extra>",
           "legendgroup": "Sikkim",
           "marker": {
            "color": "#636efa",
            "pattern": {
             "shape": ""
            }
           },
           "name": "Sikkim",
           "offsetgroup": "Sikkim",
           "orientation": "v",
           "showlegend": true,
           "textposition": "auto",
           "type": "bar",
           "x": [
            "Northeast"
           ],
           "xaxis": "x",
           "y": [
            0.88
           ],
           "yaxis": "y"
          },
          {
           "alignmentgroup": "True",
           "hovertemplate": "States=Tamil Nadu<br>Month_name=Oct<br>Region=%{x}<br>Estimated Unemployment Rate=%{y}<extra></extra>",
           "legendgroup": "Tamil Nadu",
           "marker": {
            "color": "#EF553B",
            "pattern": {
             "shape": ""
            }
           },
           "name": "Tamil Nadu",
           "offsetgroup": "Tamil Nadu",
           "orientation": "v",
           "showlegend": true,
           "textposition": "auto",
           "type": "bar",
           "x": [
            "South"
           ],
           "xaxis": "x",
           "y": [
            2.16
           ],
           "yaxis": "y"
          },
          {
           "alignmentgroup": "True",
           "hovertemplate": "States=Telangana<br>Month_name=Oct<br>Region=%{x}<br>Estimated Unemployment Rate=%{y}<extra></extra>",
           "legendgroup": "Telangana",
           "marker": {
            "color": "#00cc96",
            "pattern": {
             "shape": ""
            }
           },
           "name": "Telangana",
           "offsetgroup": "Telangana",
           "orientation": "v",
           "showlegend": true,
           "textposition": "auto",
           "type": "bar",
           "x": [
            "South"
           ],
           "xaxis": "x",
           "y": [
            2.86
           ],
           "yaxis": "y"
          },
          {
           "alignmentgroup": "True",
           "hovertemplate": "States=Tripura<br>Month_name=Oct<br>Region=%{x}<br>Estimated Unemployment Rate=%{y}<extra></extra>",
           "legendgroup": "Tripura",
           "marker": {
            "color": "#ab63fa",
            "pattern": {
             "shape": ""
            }
           },
           "name": "Tripura",
           "offsetgroup": "Tripura",
           "orientation": "v",
           "showlegend": true,
           "textposition": "auto",
           "type": "bar",
           "x": [
            "Northeast"
           ],
           "xaxis": "x",
           "y": [
            11.57
           ],
           "yaxis": "y"
          },
          {
           "alignmentgroup": "True",
           "hovertemplate": "States=Uttar Pradesh<br>Month_name=Oct<br>Region=%{x}<br>Estimated Unemployment Rate=%{y}<extra></extra>",
           "legendgroup": "Uttar Pradesh",
           "marker": {
            "color": "#FFA15A",
            "pattern": {
             "shape": ""
            }
           },
           "name": "Uttar Pradesh",
           "offsetgroup": "Uttar Pradesh",
           "orientation": "v",
           "showlegend": true,
           "textposition": "auto",
           "type": "bar",
           "x": [
            "North"
           ],
           "xaxis": "x",
           "y": [
            3.75
           ],
           "yaxis": "y"
          },
          {
           "alignmentgroup": "True",
           "hovertemplate": "States=Uttarakhand<br>Month_name=Oct<br>Region=%{x}<br>Estimated Unemployment Rate=%{y}<extra></extra>",
           "legendgroup": "Uttarakhand",
           "marker": {
            "color": "#19d3f3",
            "pattern": {
             "shape": ""
            }
           },
           "name": "Uttarakhand",
           "offsetgroup": "Uttarakhand",
           "orientation": "v",
           "showlegend": true,
           "textposition": "auto",
           "type": "bar",
           "x": [
            "North"
           ],
           "xaxis": "x",
           "y": [
            9.23
           ],
           "yaxis": "y"
          },
          {
           "alignmentgroup": "True",
           "hovertemplate": "States=West Bengal<br>Month_name=Oct<br>Region=%{x}<br>Estimated Unemployment Rate=%{y}<extra></extra>",
           "legendgroup": "West Bengal",
           "marker": {
            "color": "#FF6692",
            "pattern": {
             "shape": ""
            }
           },
           "name": "West Bengal",
           "offsetgroup": "West Bengal",
           "orientation": "v",
           "showlegend": true,
           "textposition": "auto",
           "type": "bar",
           "x": [
            "East"
           ],
           "xaxis": "x",
           "y": [
            9.98
           ],
           "yaxis": "y"
          }
         ],
         "name": "Oct"
        }
       ],
       "layout": {
        "barmode": "relative",
        "height": 700,
        "legend": {
         "title": {
          "text": "States"
         },
         "tracegroupgap": 0
        },
        "sliders": [
         {
          "active": 0,
          "currentvalue": {
           "prefix": "Month_name="
          },
          "len": 0.9,
          "pad": {
           "b": 10,
           "t": 60
          },
          "steps": [
           {
            "args": [
             [
              "Jan"
             ],
             {
              "frame": {
               "duration": 0,
               "redraw": true
              },
              "fromcurrent": true,
              "mode": "immediate",
              "transition": {
               "duration": 0,
               "easing": "linear"
              }
             }
            ],
            "label": "Jan",
            "method": "animate"
           },
           {
            "args": [
             [
              "Feb"
             ],
             {
              "frame": {
               "duration": 0,
               "redraw": true
              },
              "fromcurrent": true,
              "mode": "immediate",
              "transition": {
               "duration": 0,
               "easing": "linear"
              }
             }
            ],
            "label": "Feb",
            "method": "animate"
           },
           {
            "args": [
             [
              "Mar"
             ],
             {
              "frame": {
               "duration": 0,
               "redraw": true
              },
              "fromcurrent": true,
              "mode": "immediate",
              "transition": {
               "duration": 0,
               "easing": "linear"
              }
             }
            ],
            "label": "Mar",
            "method": "animate"
           },
           {
            "args": [
             [
              "Apr"
             ],
             {
              "frame": {
               "duration": 0,
               "redraw": true
              },
              "fromcurrent": true,
              "mode": "immediate",
              "transition": {
               "duration": 0,
               "easing": "linear"
              }
             }
            ],
            "label": "Apr",
            "method": "animate"
           },
           {
            "args": [
             [
              "May"
             ],
             {
              "frame": {
               "duration": 0,
               "redraw": true
              },
              "fromcurrent": true,
              "mode": "immediate",
              "transition": {
               "duration": 0,
               "easing": "linear"
              }
             }
            ],
            "label": "May",
            "method": "animate"
           },
           {
            "args": [
             [
              "Jun"
             ],
             {
              "frame": {
               "duration": 0,
               "redraw": true
              },
              "fromcurrent": true,
              "mode": "immediate",
              "transition": {
               "duration": 0,
               "easing": "linear"
              }
             }
            ],
            "label": "Jun",
            "method": "animate"
           },
           {
            "args": [
             [
              "Jul"
             ],
             {
              "frame": {
               "duration": 0,
               "redraw": true
              },
              "fromcurrent": true,
              "mode": "immediate",
              "transition": {
               "duration": 0,
               "easing": "linear"
              }
             }
            ],
            "label": "Jul",
            "method": "animate"
           },
           {
            "args": [
             [
              "Aug"
             ],
             {
              "frame": {
               "duration": 0,
               "redraw": true
              },
              "fromcurrent": true,
              "mode": "immediate",
              "transition": {
               "duration": 0,
               "easing": "linear"
              }
             }
            ],
            "label": "Aug",
            "method": "animate"
           },
           {
            "args": [
             [
              "Sep"
             ],
             {
              "frame": {
               "duration": 0,
               "redraw": true
              },
              "fromcurrent": true,
              "mode": "immediate",
              "transition": {
               "duration": 0,
               "easing": "linear"
              }
             }
            ],
            "label": "Sep",
            "method": "animate"
           },
           {
            "args": [
             [
              "Oct"
             ],
             {
              "frame": {
               "duration": 0,
               "redraw": true
              },
              "fromcurrent": true,
              "mode": "immediate",
              "transition": {
               "duration": 0,
               "easing": "linear"
              }
             }
            ],
            "label": "Oct",
            "method": "animate"
           }
          ],
          "x": 0.1,
          "xanchor": "left",
          "y": 0,
          "yanchor": "top"
         }
        ],
        "template": {
         "data": {
          "bar": [
           {
            "error_x": {
             "color": "#2a3f5f"
            },
            "error_y": {
             "color": "#2a3f5f"
            },
            "marker": {
             "line": {
              "color": "#E5ECF6",
              "width": 0.5
             },
             "pattern": {
              "fillmode": "overlay",
              "size": 10,
              "solidity": 0.2
             }
            },
            "type": "bar"
           }
          ],
          "barpolar": [
           {
            "marker": {
             "line": {
              "color": "#E5ECF6",
              "width": 0.5
             },
             "pattern": {
              "fillmode": "overlay",
              "size": 10,
              "solidity": 0.2
             }
            },
            "type": "barpolar"
           }
          ],
          "carpet": [
           {
            "aaxis": {
             "endlinecolor": "#2a3f5f",
             "gridcolor": "white",
             "linecolor": "white",
             "minorgridcolor": "white",
             "startlinecolor": "#2a3f5f"
            },
            "baxis": {
             "endlinecolor": "#2a3f5f",
             "gridcolor": "white",
             "linecolor": "white",
             "minorgridcolor": "white",
             "startlinecolor": "#2a3f5f"
            },
            "type": "carpet"
           }
          ],
          "choropleth": [
           {
            "colorbar": {
             "outlinewidth": 0,
             "ticks": ""
            },
            "type": "choropleth"
           }
          ],
          "contour": [
           {
            "colorbar": {
             "outlinewidth": 0,
             "ticks": ""
            },
            "colorscale": [
             [
              0,
              "#0d0887"
             ],
             [
              0.1111111111111111,
              "#46039f"
             ],
             [
              0.2222222222222222,
              "#7201a8"
             ],
             [
              0.3333333333333333,
              "#9c179e"
             ],
             [
              0.4444444444444444,
              "#bd3786"
             ],
             [
              0.5555555555555556,
              "#d8576b"
             ],
             [
              0.6666666666666666,
              "#ed7953"
             ],
             [
              0.7777777777777778,
              "#fb9f3a"
             ],
             [
              0.8888888888888888,
              "#fdca26"
             ],
             [
              1,
              "#f0f921"
             ]
            ],
            "type": "contour"
           }
          ],
          "contourcarpet": [
           {
            "colorbar": {
             "outlinewidth": 0,
             "ticks": ""
            },
            "type": "contourcarpet"
           }
          ],
          "heatmap": [
           {
            "colorbar": {
             "outlinewidth": 0,
             "ticks": ""
            },
            "colorscale": [
             [
              0,
              "#0d0887"
             ],
             [
              0.1111111111111111,
              "#46039f"
             ],
             [
              0.2222222222222222,
              "#7201a8"
             ],
             [
              0.3333333333333333,
              "#9c179e"
             ],
             [
              0.4444444444444444,
              "#bd3786"
             ],
             [
              0.5555555555555556,
              "#d8576b"
             ],
             [
              0.6666666666666666,
              "#ed7953"
             ],
             [
              0.7777777777777778,
              "#fb9f3a"
             ],
             [
              0.8888888888888888,
              "#fdca26"
             ],
             [
              1,
              "#f0f921"
             ]
            ],
            "type": "heatmap"
           }
          ],
          "heatmapgl": [
           {
            "colorbar": {
             "outlinewidth": 0,
             "ticks": ""
            },
            "colorscale": [
             [
              0,
              "#0d0887"
             ],
             [
              0.1111111111111111,
              "#46039f"
             ],
             [
              0.2222222222222222,
              "#7201a8"
             ],
             [
              0.3333333333333333,
              "#9c179e"
             ],
             [
              0.4444444444444444,
              "#bd3786"
             ],
             [
              0.5555555555555556,
              "#d8576b"
             ],
             [
              0.6666666666666666,
              "#ed7953"
             ],
             [
              0.7777777777777778,
              "#fb9f3a"
             ],
             [
              0.8888888888888888,
              "#fdca26"
             ],
             [
              1,
              "#f0f921"
             ]
            ],
            "type": "heatmapgl"
           }
          ],
          "histogram": [
           {
            "marker": {
             "pattern": {
              "fillmode": "overlay",
              "size": 10,
              "solidity": 0.2
             }
            },
            "type": "histogram"
           }
          ],
          "histogram2d": [
           {
            "colorbar": {
             "outlinewidth": 0,
             "ticks": ""
            },
            "colorscale": [
             [
              0,
              "#0d0887"
             ],
             [
              0.1111111111111111,
              "#46039f"
             ],
             [
              0.2222222222222222,
              "#7201a8"
             ],
             [
              0.3333333333333333,
              "#9c179e"
             ],
             [
              0.4444444444444444,
              "#bd3786"
             ],
             [
              0.5555555555555556,
              "#d8576b"
             ],
             [
              0.6666666666666666,
              "#ed7953"
             ],
             [
              0.7777777777777778,
              "#fb9f3a"
             ],
             [
              0.8888888888888888,
              "#fdca26"
             ],
             [
              1,
              "#f0f921"
             ]
            ],
            "type": "histogram2d"
           }
          ],
          "histogram2dcontour": [
           {
            "colorbar": {
             "outlinewidth": 0,
             "ticks": ""
            },
            "colorscale": [
             [
              0,
              "#0d0887"
             ],
             [
              0.1111111111111111,
              "#46039f"
             ],
             [
              0.2222222222222222,
              "#7201a8"
             ],
             [
              0.3333333333333333,
              "#9c179e"
             ],
             [
              0.4444444444444444,
              "#bd3786"
             ],
             [
              0.5555555555555556,
              "#d8576b"
             ],
             [
              0.6666666666666666,
              "#ed7953"
             ],
             [
              0.7777777777777778,
              "#fb9f3a"
             ],
             [
              0.8888888888888888,
              "#fdca26"
             ],
             [
              1,
              "#f0f921"
             ]
            ],
            "type": "histogram2dcontour"
           }
          ],
          "mesh3d": [
           {
            "colorbar": {
             "outlinewidth": 0,
             "ticks": ""
            },
            "type": "mesh3d"
           }
          ],
          "parcoords": [
           {
            "line": {
             "colorbar": {
              "outlinewidth": 0,
              "ticks": ""
             }
            },
            "type": "parcoords"
           }
          ],
          "pie": [
           {
            "automargin": true,
            "type": "pie"
           }
          ],
          "scatter": [
           {
            "fillpattern": {
             "fillmode": "overlay",
             "size": 10,
             "solidity": 0.2
            },
            "type": "scatter"
           }
          ],
          "scatter3d": [
           {
            "line": {
             "colorbar": {
              "outlinewidth": 0,
              "ticks": ""
             }
            },
            "marker": {
             "colorbar": {
              "outlinewidth": 0,
              "ticks": ""
             }
            },
            "type": "scatter3d"
           }
          ],
          "scattercarpet": [
           {
            "marker": {
             "colorbar": {
              "outlinewidth": 0,
              "ticks": ""
             }
            },
            "type": "scattercarpet"
           }
          ],
          "scattergeo": [
           {
            "marker": {
             "colorbar": {
              "outlinewidth": 0,
              "ticks": ""
             }
            },
            "type": "scattergeo"
           }
          ],
          "scattergl": [
           {
            "marker": {
             "colorbar": {
              "outlinewidth": 0,
              "ticks": ""
             }
            },
            "type": "scattergl"
           }
          ],
          "scattermapbox": [
           {
            "marker": {
             "colorbar": {
              "outlinewidth": 0,
              "ticks": ""
             }
            },
            "type": "scattermapbox"
           }
          ],
          "scatterpolar": [
           {
            "marker": {
             "colorbar": {
              "outlinewidth": 0,
              "ticks": ""
             }
            },
            "type": "scatterpolar"
           }
          ],
          "scatterpolargl": [
           {
            "marker": {
             "colorbar": {
              "outlinewidth": 0,
              "ticks": ""
             }
            },
            "type": "scatterpolargl"
           }
          ],
          "scatterternary": [
           {
            "marker": {
             "colorbar": {
              "outlinewidth": 0,
              "ticks": ""
             }
            },
            "type": "scatterternary"
           }
          ],
          "surface": [
           {
            "colorbar": {
             "outlinewidth": 0,
             "ticks": ""
            },
            "colorscale": [
             [
              0,
              "#0d0887"
             ],
             [
              0.1111111111111111,
              "#46039f"
             ],
             [
              0.2222222222222222,
              "#7201a8"
             ],
             [
              0.3333333333333333,
              "#9c179e"
             ],
             [
              0.4444444444444444,
              "#bd3786"
             ],
             [
              0.5555555555555556,
              "#d8576b"
             ],
             [
              0.6666666666666666,
              "#ed7953"
             ],
             [
              0.7777777777777778,
              "#fb9f3a"
             ],
             [
              0.8888888888888888,
              "#fdca26"
             ],
             [
              1,
              "#f0f921"
             ]
            ],
            "type": "surface"
           }
          ],
          "table": [
           {
            "cells": {
             "fill": {
              "color": "#EBF0F8"
             },
             "line": {
              "color": "white"
             }
            },
            "header": {
             "fill": {
              "color": "#C8D4E3"
             },
             "line": {
              "color": "white"
             }
            },
            "type": "table"
           }
          ]
         },
         "layout": {
          "annotationdefaults": {
           "arrowcolor": "#2a3f5f",
           "arrowhead": 0,
           "arrowwidth": 1
          },
          "autotypenumbers": "strict",
          "coloraxis": {
           "colorbar": {
            "outlinewidth": 0,
            "ticks": ""
           }
          },
          "colorscale": {
           "diverging": [
            [
             0,
             "#8e0152"
            ],
            [
             0.1,
             "#c51b7d"
            ],
            [
             0.2,
             "#de77ae"
            ],
            [
             0.3,
             "#f1b6da"
            ],
            [
             0.4,
             "#fde0ef"
            ],
            [
             0.5,
             "#f7f7f7"
            ],
            [
             0.6,
             "#e6f5d0"
            ],
            [
             0.7,
             "#b8e186"
            ],
            [
             0.8,
             "#7fbc41"
            ],
            [
             0.9,
             "#4d9221"
            ],
            [
             1,
             "#276419"
            ]
           ],
           "sequential": [
            [
             0,
             "#0d0887"
            ],
            [
             0.1111111111111111,
             "#46039f"
            ],
            [
             0.2222222222222222,
             "#7201a8"
            ],
            [
             0.3333333333333333,
             "#9c179e"
            ],
            [
             0.4444444444444444,
             "#bd3786"
            ],
            [
             0.5555555555555556,
             "#d8576b"
            ],
            [
             0.6666666666666666,
             "#ed7953"
            ],
            [
             0.7777777777777778,
             "#fb9f3a"
            ],
            [
             0.8888888888888888,
             "#fdca26"
            ],
            [
             1,
             "#f0f921"
            ]
           ],
           "sequentialminus": [
            [
             0,
             "#0d0887"
            ],
            [
             0.1111111111111111,
             "#46039f"
            ],
            [
             0.2222222222222222,
             "#7201a8"
            ],
            [
             0.3333333333333333,
             "#9c179e"
            ],
            [
             0.4444444444444444,
             "#bd3786"
            ],
            [
             0.5555555555555556,
             "#d8576b"
            ],
            [
             0.6666666666666666,
             "#ed7953"
            ],
            [
             0.7777777777777778,
             "#fb9f3a"
            ],
            [
             0.8888888888888888,
             "#fdca26"
            ],
            [
             1,
             "#f0f921"
            ]
           ]
          },
          "colorway": [
           "#636efa",
           "#EF553B",
           "#00cc96",
           "#ab63fa",
           "#FFA15A",
           "#19d3f3",
           "#FF6692",
           "#B6E880",
           "#FF97FF",
           "#FECB52"
          ],
          "font": {
           "color": "#2a3f5f"
          },
          "geo": {
           "bgcolor": "white",
           "lakecolor": "white",
           "landcolor": "#E5ECF6",
           "showlakes": true,
           "showland": true,
           "subunitcolor": "white"
          },
          "hoverlabel": {
           "align": "left"
          },
          "hovermode": "closest",
          "mapbox": {
           "style": "light"
          },
          "paper_bgcolor": "white",
          "plot_bgcolor": "#E5ECF6",
          "polar": {
           "angularaxis": {
            "gridcolor": "white",
            "linecolor": "white",
            "ticks": ""
           },
           "bgcolor": "#E5ECF6",
           "radialaxis": {
            "gridcolor": "white",
            "linecolor": "white",
            "ticks": ""
           }
          },
          "scene": {
           "xaxis": {
            "backgroundcolor": "#E5ECF6",
            "gridcolor": "white",
            "gridwidth": 2,
            "linecolor": "white",
            "showbackground": true,
            "ticks": "",
            "zerolinecolor": "white"
           },
           "yaxis": {
            "backgroundcolor": "#E5ECF6",
            "gridcolor": "white",
            "gridwidth": 2,
            "linecolor": "white",
            "showbackground": true,
            "ticks": "",
            "zerolinecolor": "white"
           },
           "zaxis": {
            "backgroundcolor": "#E5ECF6",
            "gridcolor": "white",
            "gridwidth": 2,
            "linecolor": "white",
            "showbackground": true,
            "ticks": "",
            "zerolinecolor": "white"
           }
          },
          "shapedefaults": {
           "line": {
            "color": "#2a3f5f"
           }
          },
          "ternary": {
           "aaxis": {
            "gridcolor": "white",
            "linecolor": "white",
            "ticks": ""
           },
           "baxis": {
            "gridcolor": "white",
            "linecolor": "white",
            "ticks": ""
           },
           "bgcolor": "#E5ECF6",
           "caxis": {
            "gridcolor": "white",
            "linecolor": "white",
            "ticks": ""
           }
          },
          "title": {
           "x": 0.05
          },
          "xaxis": {
           "automargin": true,
           "gridcolor": "white",
           "linecolor": "white",
           "ticks": "",
           "title": {
            "standoff": 15
           },
           "zerolinecolor": "white",
           "zerolinewidth": 2
          },
          "yaxis": {
           "automargin": true,
           "gridcolor": "white",
           "linecolor": "white",
           "ticks": "",
           "title": {
            "standoff": 15
           },
           "zerolinecolor": "white",
           "zerolinewidth": 2
          }
         }
        },
        "title": {
         "text": "Unemployment rate across region from Jan.2020 to Oct.2020"
        },
        "updatemenus": [
         {
          "buttons": [
           {
            "args": [
             null,
             {
              "frame": {
               "duration": 2000,
               "redraw": true
              },
              "fromcurrent": true,
              "mode": "immediate",
              "transition": {
               "duration": 500,
               "easing": "linear"
              }
             }
            ],
            "label": "&#9654;",
            "method": "animate"
           },
           {
            "args": [
             [
              null
             ],
             {
              "frame": {
               "duration": 0,
               "redraw": true
              },
              "fromcurrent": true,
              "mode": "immediate",
              "transition": {
               "duration": 0,
               "easing": "linear"
              }
             }
            ],
            "label": "&#9724;",
            "method": "animate"
           }
          ],
          "direction": "left",
          "pad": {
           "r": 10,
           "t": 70
          },
          "showactive": false,
          "type": "buttons",
          "x": 0.1,
          "xanchor": "right",
          "y": 0,
          "yanchor": "top"
         }
        ],
        "xaxis": {
         "anchor": "y",
         "categoryorder": "total descending",
         "domain": [
          0,
          1
         ],
         "title": {
          "text": "Region"
         }
        },
        "yaxis": {
         "anchor": "x",
         "domain": [
          0,
          1
         ],
         "title": {
          "text": "Estimated Unemployment Rate"
         }
        }
       }
      }
     },
     "metadata": {},
     "output_type": "display_data"
    }
   ],
   "source": [
    "#  Bar plot of Unemployment rate from Jan 2020 to Oct 2020\n",
    "\n",
    "fig = px.bar(un_data, x='Region', y='Estimated Unemployment Rate', animation_frame='Month_name', color='States',\n",
    "             title='Unemployment rate across region from Jan.2020 to Oct.2020', height=700, template='plotly')\n",
    "fig.update_layout(xaxis={'categoryorder': 'total descending'})\n",
    "fig.layout.updatemenus[0].buttons[0].args[1][\"frame\"][\"duration\"] = 2000\n",
    "fig.show()"
   ]
  },
  {
   "cell_type": "code",
   "execution_count": 15,
   "id": "04c2ec41",
   "metadata": {},
   "outputs": [
    {
     "data": {
      "application/vnd.plotly.v1+json": {
       "config": {
        "plotlyServerURL": "https://plot.ly"
       },
       "data": [
        {
         "branchvalues": "total",
         "domain": {
          "x": [
           0,
           1
          ],
          "y": [
           0,
           1
          ]
         },
         "hovertemplate": "labels=%{label}<br>Estimated Unemployment Rate=%{value}<br>parent=%{parent}<br>id=%{id}<extra></extra>",
         "ids": [
          "East/Andhra Pradesh",
          "North/Andhra Pradesh",
          "Northeast/Andhra Pradesh",
          "South/Andhra Pradesh",
          "West/Andhra Pradesh",
          "East/Assam",
          "North/Assam",
          "Northeast/Assam",
          "South/Assam",
          "West/Assam",
          "East/Bihar",
          "North/Bihar",
          "Northeast/Bihar",
          "South/Bihar",
          "West/Bihar",
          "East/Chhattisgarh",
          "North/Chhattisgarh",
          "Northeast/Chhattisgarh",
          "South/Chhattisgarh",
          "West/Chhattisgarh",
          "East/Delhi",
          "North/Delhi",
          "Northeast/Delhi",
          "South/Delhi",
          "West/Delhi",
          "East/Goa",
          "North/Goa",
          "Northeast/Goa",
          "South/Goa",
          "West/Goa",
          "East/Gujarat",
          "North/Gujarat",
          "Northeast/Gujarat",
          "South/Gujarat",
          "West/Gujarat",
          "East/Haryana",
          "North/Haryana",
          "Northeast/Haryana",
          "South/Haryana",
          "West/Haryana",
          "East/Himachal Pradesh",
          "North/Himachal Pradesh",
          "Northeast/Himachal Pradesh",
          "South/Himachal Pradesh",
          "West/Himachal Pradesh",
          "East/Jammu & Kashmir",
          "North/Jammu & Kashmir",
          "Northeast/Jammu & Kashmir",
          "South/Jammu & Kashmir",
          "West/Jammu & Kashmir",
          "East/Jharkhand",
          "North/Jharkhand",
          "Northeast/Jharkhand",
          "South/Jharkhand",
          "West/Jharkhand",
          "East/Karnataka",
          "North/Karnataka",
          "Northeast/Karnataka",
          "South/Karnataka",
          "West/Karnataka",
          "East/Kerala",
          "North/Kerala",
          "Northeast/Kerala",
          "South/Kerala",
          "West/Kerala",
          "East/Madhya Pradesh",
          "North/Madhya Pradesh",
          "Northeast/Madhya Pradesh",
          "South/Madhya Pradesh",
          "West/Madhya Pradesh",
          "East/Maharashtra",
          "North/Maharashtra",
          "Northeast/Maharashtra",
          "South/Maharashtra",
          "West/Maharashtra",
          "East/Meghalaya",
          "North/Meghalaya",
          "Northeast/Meghalaya",
          "South/Meghalaya",
          "West/Meghalaya",
          "East/Odisha",
          "North/Odisha",
          "Northeast/Odisha",
          "South/Odisha",
          "West/Odisha",
          "East/Puducherry",
          "North/Puducherry",
          "Northeast/Puducherry",
          "South/Puducherry",
          "West/Puducherry",
          "East/Punjab",
          "North/Punjab",
          "Northeast/Punjab",
          "South/Punjab",
          "West/Punjab",
          "East/Rajasthan",
          "North/Rajasthan",
          "Northeast/Rajasthan",
          "South/Rajasthan",
          "West/Rajasthan",
          "East/Sikkim",
          "North/Sikkim",
          "Northeast/Sikkim",
          "South/Sikkim",
          "West/Sikkim",
          "East/Tamil Nadu",
          "North/Tamil Nadu",
          "Northeast/Tamil Nadu",
          "South/Tamil Nadu",
          "West/Tamil Nadu",
          "East/Telangana",
          "North/Telangana",
          "Northeast/Telangana",
          "South/Telangana",
          "West/Telangana",
          "East/Tripura",
          "North/Tripura",
          "Northeast/Tripura",
          "South/Tripura",
          "West/Tripura",
          "East/Uttar Pradesh",
          "North/Uttar Pradesh",
          "Northeast/Uttar Pradesh",
          "South/Uttar Pradesh",
          "West/Uttar Pradesh",
          "East/Uttarakhand",
          "North/Uttarakhand",
          "Northeast/Uttarakhand",
          "South/Uttarakhand",
          "West/Uttarakhand",
          "East/West Bengal",
          "North/West Bengal",
          "Northeast/West Bengal",
          "South/West Bengal",
          "West/West Bengal",
          "East",
          "North",
          "Northeast",
          "South",
          "West"
         ],
         "labels": [
          "Andhra Pradesh",
          "Andhra Pradesh",
          "Andhra Pradesh",
          "Andhra Pradesh",
          "Andhra Pradesh",
          "Assam",
          "Assam",
          "Assam",
          "Assam",
          "Assam",
          "Bihar",
          "Bihar",
          "Bihar",
          "Bihar",
          "Bihar",
          "Chhattisgarh",
          "Chhattisgarh",
          "Chhattisgarh",
          "Chhattisgarh",
          "Chhattisgarh",
          "Delhi",
          "Delhi",
          "Delhi",
          "Delhi",
          "Delhi",
          "Goa",
          "Goa",
          "Goa",
          "Goa",
          "Goa",
          "Gujarat",
          "Gujarat",
          "Gujarat",
          "Gujarat",
          "Gujarat",
          "Haryana",
          "Haryana",
          "Haryana",
          "Haryana",
          "Haryana",
          "Himachal Pradesh",
          "Himachal Pradesh",
          "Himachal Pradesh",
          "Himachal Pradesh",
          "Himachal Pradesh",
          "Jammu & Kashmir",
          "Jammu & Kashmir",
          "Jammu & Kashmir",
          "Jammu & Kashmir",
          "Jammu & Kashmir",
          "Jharkhand",
          "Jharkhand",
          "Jharkhand",
          "Jharkhand",
          "Jharkhand",
          "Karnataka",
          "Karnataka",
          "Karnataka",
          "Karnataka",
          "Karnataka",
          "Kerala",
          "Kerala",
          "Kerala",
          "Kerala",
          "Kerala",
          "Madhya Pradesh",
          "Madhya Pradesh",
          "Madhya Pradesh",
          "Madhya Pradesh",
          "Madhya Pradesh",
          "Maharashtra",
          "Maharashtra",
          "Maharashtra",
          "Maharashtra",
          "Maharashtra",
          "Meghalaya",
          "Meghalaya",
          "Meghalaya",
          "Meghalaya",
          "Meghalaya",
          "Odisha",
          "Odisha",
          "Odisha",
          "Odisha",
          "Odisha",
          "Puducherry",
          "Puducherry",
          "Puducherry",
          "Puducherry",
          "Puducherry",
          "Punjab",
          "Punjab",
          "Punjab",
          "Punjab",
          "Punjab",
          "Rajasthan",
          "Rajasthan",
          "Rajasthan",
          "Rajasthan",
          "Rajasthan",
          "Sikkim",
          "Sikkim",
          "Sikkim",
          "Sikkim",
          "Sikkim",
          "Tamil Nadu",
          "Tamil Nadu",
          "Tamil Nadu",
          "Tamil Nadu",
          "Tamil Nadu",
          "Telangana",
          "Telangana",
          "Telangana",
          "Telangana",
          "Telangana",
          "Tripura",
          "Tripura",
          "Tripura",
          "Tripura",
          "Tripura",
          "Uttar Pradesh",
          "Uttar Pradesh",
          "Uttar Pradesh",
          "Uttar Pradesh",
          "Uttar Pradesh",
          "Uttarakhand",
          "Uttarakhand",
          "Uttarakhand",
          "Uttarakhand",
          "Uttarakhand",
          "West Bengal",
          "West Bengal",
          "West Bengal",
          "West Bengal",
          "West Bengal",
          "East",
          "North",
          "Northeast",
          "South",
          "West"
         ],
         "name": "",
         "parents": [
          "East",
          "North",
          "Northeast",
          "South",
          "West",
          "East",
          "North",
          "Northeast",
          "South",
          "West",
          "East",
          "North",
          "Northeast",
          "South",
          "West",
          "East",
          "North",
          "Northeast",
          "South",
          "West",
          "East",
          "North",
          "Northeast",
          "South",
          "West",
          "East",
          "North",
          "Northeast",
          "South",
          "West",
          "East",
          "North",
          "Northeast",
          "South",
          "West",
          "East",
          "North",
          "Northeast",
          "South",
          "West",
          "East",
          "North",
          "Northeast",
          "South",
          "West",
          "East",
          "North",
          "Northeast",
          "South",
          "West",
          "East",
          "North",
          "Northeast",
          "South",
          "West",
          "East",
          "North",
          "Northeast",
          "South",
          "West",
          "East",
          "North",
          "Northeast",
          "South",
          "West",
          "East",
          "North",
          "Northeast",
          "South",
          "West",
          "East",
          "North",
          "Northeast",
          "South",
          "West",
          "East",
          "North",
          "Northeast",
          "South",
          "West",
          "East",
          "North",
          "Northeast",
          "South",
          "West",
          "East",
          "North",
          "Northeast",
          "South",
          "West",
          "East",
          "North",
          "Northeast",
          "South",
          "West",
          "East",
          "North",
          "Northeast",
          "South",
          "West",
          "East",
          "North",
          "Northeast",
          "South",
          "West",
          "East",
          "North",
          "Northeast",
          "South",
          "West",
          "East",
          "North",
          "Northeast",
          "South",
          "West",
          "East",
          "North",
          "Northeast",
          "South",
          "West",
          "East",
          "North",
          "Northeast",
          "South",
          "West",
          "East",
          "North",
          "Northeast",
          "South",
          "West",
          "East",
          "North",
          "Northeast",
          "South",
          "West",
          "",
          "",
          "",
          "",
          ""
         ],
         "type": "sunburst",
         "values": [
          0,
          0,
          0,
          8.664,
          0,
          0,
          0,
          4.856,
          0,
          0,
          19.471,
          0,
          0,
          0,
          0,
          0,
          0,
          0,
          0,
          7.819,
          0,
          18.414,
          0,
          0,
          0,
          0,
          0,
          0,
          0,
          12.167,
          0,
          0,
          0,
          0,
          6.3759999999999994,
          0,
          27.476999999999997,
          0,
          0,
          0,
          0,
          16.065,
          0,
          0,
          0,
          0,
          16.477777777777778,
          0,
          0,
          0,
          19.538999999999998,
          0,
          0,
          0,
          0,
          0,
          0,
          0,
          7.667999999999999,
          0,
          0,
          0,
          0,
          9.434000000000001,
          0,
          0,
          0,
          0,
          0,
          6.854000000000001,
          0,
          0,
          0,
          0,
          7.979000000000001,
          0,
          0,
          3.8659999999999997,
          0,
          0,
          6.462000000000001,
          0,
          0,
          0,
          0,
          0,
          0,
          0,
          17.942,
          0,
          0,
          11.981,
          0,
          0,
          0,
          0,
          15.868,
          0,
          0,
          0,
          0,
          0,
          9.7925,
          0,
          0,
          0,
          0,
          0,
          12.187,
          0,
          0,
          0,
          0,
          6.833,
          0,
          0,
          0,
          25.055,
          0,
          0,
          0,
          9.737,
          0,
          0,
          0,
          0,
          11.156,
          0,
          0,
          0,
          10.192,
          0,
          0,
          0,
          0,
          55.664,
          127.17577777777778,
          43.5695,
          62.727999999999994,
          41.195
         ]
        }
       ],
       "layout": {
        "height": 650,
        "legend": {
         "tracegroupgap": 0
        },
        "template": {
         "data": {
          "bar": [
           {
            "error_x": {
             "color": "rgb(51,51,51)"
            },
            "error_y": {
             "color": "rgb(51,51,51)"
            },
            "marker": {
             "line": {
              "color": "rgb(237,237,237)",
              "width": 0.5
             },
             "pattern": {
              "fillmode": "overlay",
              "size": 10,
              "solidity": 0.2
             }
            },
            "type": "bar"
           }
          ],
          "barpolar": [
           {
            "marker": {
             "line": {
              "color": "rgb(237,237,237)",
              "width": 0.5
             },
             "pattern": {
              "fillmode": "overlay",
              "size": 10,
              "solidity": 0.2
             }
            },
            "type": "barpolar"
           }
          ],
          "carpet": [
           {
            "aaxis": {
             "endlinecolor": "rgb(51,51,51)",
             "gridcolor": "white",
             "linecolor": "white",
             "minorgridcolor": "white",
             "startlinecolor": "rgb(51,51,51)"
            },
            "baxis": {
             "endlinecolor": "rgb(51,51,51)",
             "gridcolor": "white",
             "linecolor": "white",
             "minorgridcolor": "white",
             "startlinecolor": "rgb(51,51,51)"
            },
            "type": "carpet"
           }
          ],
          "choropleth": [
           {
            "colorbar": {
             "outlinewidth": 0,
             "tickcolor": "rgb(237,237,237)",
             "ticklen": 6,
             "ticks": "inside"
            },
            "type": "choropleth"
           }
          ],
          "contour": [
           {
            "colorbar": {
             "outlinewidth": 0,
             "tickcolor": "rgb(237,237,237)",
             "ticklen": 6,
             "ticks": "inside"
            },
            "colorscale": [
             [
              0,
              "rgb(20,44,66)"
             ],
             [
              1,
              "rgb(90,179,244)"
             ]
            ],
            "type": "contour"
           }
          ],
          "contourcarpet": [
           {
            "colorbar": {
             "outlinewidth": 0,
             "tickcolor": "rgb(237,237,237)",
             "ticklen": 6,
             "ticks": "inside"
            },
            "type": "contourcarpet"
           }
          ],
          "heatmap": [
           {
            "colorbar": {
             "outlinewidth": 0,
             "tickcolor": "rgb(237,237,237)",
             "ticklen": 6,
             "ticks": "inside"
            },
            "colorscale": [
             [
              0,
              "rgb(20,44,66)"
             ],
             [
              1,
              "rgb(90,179,244)"
             ]
            ],
            "type": "heatmap"
           }
          ],
          "heatmapgl": [
           {
            "colorbar": {
             "outlinewidth": 0,
             "tickcolor": "rgb(237,237,237)",
             "ticklen": 6,
             "ticks": "inside"
            },
            "colorscale": [
             [
              0,
              "rgb(20,44,66)"
             ],
             [
              1,
              "rgb(90,179,244)"
             ]
            ],
            "type": "heatmapgl"
           }
          ],
          "histogram": [
           {
            "marker": {
             "pattern": {
              "fillmode": "overlay",
              "size": 10,
              "solidity": 0.2
             }
            },
            "type": "histogram"
           }
          ],
          "histogram2d": [
           {
            "colorbar": {
             "outlinewidth": 0,
             "tickcolor": "rgb(237,237,237)",
             "ticklen": 6,
             "ticks": "inside"
            },
            "colorscale": [
             [
              0,
              "rgb(20,44,66)"
             ],
             [
              1,
              "rgb(90,179,244)"
             ]
            ],
            "type": "histogram2d"
           }
          ],
          "histogram2dcontour": [
           {
            "colorbar": {
             "outlinewidth": 0,
             "tickcolor": "rgb(237,237,237)",
             "ticklen": 6,
             "ticks": "inside"
            },
            "colorscale": [
             [
              0,
              "rgb(20,44,66)"
             ],
             [
              1,
              "rgb(90,179,244)"
             ]
            ],
            "type": "histogram2dcontour"
           }
          ],
          "mesh3d": [
           {
            "colorbar": {
             "outlinewidth": 0,
             "tickcolor": "rgb(237,237,237)",
             "ticklen": 6,
             "ticks": "inside"
            },
            "type": "mesh3d"
           }
          ],
          "parcoords": [
           {
            "line": {
             "colorbar": {
              "outlinewidth": 0,
              "tickcolor": "rgb(237,237,237)",
              "ticklen": 6,
              "ticks": "inside"
             }
            },
            "type": "parcoords"
           }
          ],
          "pie": [
           {
            "automargin": true,
            "type": "pie"
           }
          ],
          "scatter": [
           {
            "fillpattern": {
             "fillmode": "overlay",
             "size": 10,
             "solidity": 0.2
            },
            "type": "scatter"
           }
          ],
          "scatter3d": [
           {
            "line": {
             "colorbar": {
              "outlinewidth": 0,
              "tickcolor": "rgb(237,237,237)",
              "ticklen": 6,
              "ticks": "inside"
             }
            },
            "marker": {
             "colorbar": {
              "outlinewidth": 0,
              "tickcolor": "rgb(237,237,237)",
              "ticklen": 6,
              "ticks": "inside"
             }
            },
            "type": "scatter3d"
           }
          ],
          "scattercarpet": [
           {
            "marker": {
             "colorbar": {
              "outlinewidth": 0,
              "tickcolor": "rgb(237,237,237)",
              "ticklen": 6,
              "ticks": "inside"
             }
            },
            "type": "scattercarpet"
           }
          ],
          "scattergeo": [
           {
            "marker": {
             "colorbar": {
              "outlinewidth": 0,
              "tickcolor": "rgb(237,237,237)",
              "ticklen": 6,
              "ticks": "inside"
             }
            },
            "type": "scattergeo"
           }
          ],
          "scattergl": [
           {
            "marker": {
             "colorbar": {
              "outlinewidth": 0,
              "tickcolor": "rgb(237,237,237)",
              "ticklen": 6,
              "ticks": "inside"
             }
            },
            "type": "scattergl"
           }
          ],
          "scattermapbox": [
           {
            "marker": {
             "colorbar": {
              "outlinewidth": 0,
              "tickcolor": "rgb(237,237,237)",
              "ticklen": 6,
              "ticks": "inside"
             }
            },
            "type": "scattermapbox"
           }
          ],
          "scatterpolar": [
           {
            "marker": {
             "colorbar": {
              "outlinewidth": 0,
              "tickcolor": "rgb(237,237,237)",
              "ticklen": 6,
              "ticks": "inside"
             }
            },
            "type": "scatterpolar"
           }
          ],
          "scatterpolargl": [
           {
            "marker": {
             "colorbar": {
              "outlinewidth": 0,
              "tickcolor": "rgb(237,237,237)",
              "ticklen": 6,
              "ticks": "inside"
             }
            },
            "type": "scatterpolargl"
           }
          ],
          "scatterternary": [
           {
            "marker": {
             "colorbar": {
              "outlinewidth": 0,
              "tickcolor": "rgb(237,237,237)",
              "ticklen": 6,
              "ticks": "inside"
             }
            },
            "type": "scatterternary"
           }
          ],
          "surface": [
           {
            "colorbar": {
             "outlinewidth": 0,
             "tickcolor": "rgb(237,237,237)",
             "ticklen": 6,
             "ticks": "inside"
            },
            "colorscale": [
             [
              0,
              "rgb(20,44,66)"
             ],
             [
              1,
              "rgb(90,179,244)"
             ]
            ],
            "type": "surface"
           }
          ],
          "table": [
           {
            "cells": {
             "fill": {
              "color": "rgb(237,237,237)"
             },
             "line": {
              "color": "white"
             }
            },
            "header": {
             "fill": {
              "color": "rgb(217,217,217)"
             },
             "line": {
              "color": "white"
             }
            },
            "type": "table"
           }
          ]
         },
         "layout": {
          "annotationdefaults": {
           "arrowhead": 0,
           "arrowwidth": 1
          },
          "autotypenumbers": "strict",
          "coloraxis": {
           "colorbar": {
            "outlinewidth": 0,
            "tickcolor": "rgb(237,237,237)",
            "ticklen": 6,
            "ticks": "inside"
           }
          },
          "colorscale": {
           "sequential": [
            [
             0,
             "rgb(20,44,66)"
            ],
            [
             1,
             "rgb(90,179,244)"
            ]
           ],
           "sequentialminus": [
            [
             0,
             "rgb(20,44,66)"
            ],
            [
             1,
             "rgb(90,179,244)"
            ]
           ]
          },
          "colorway": [
           "#F8766D",
           "#A3A500",
           "#00BF7D",
           "#00B0F6",
           "#E76BF3"
          ],
          "font": {
           "color": "rgb(51,51,51)"
          },
          "geo": {
           "bgcolor": "white",
           "lakecolor": "white",
           "landcolor": "rgb(237,237,237)",
           "showlakes": true,
           "showland": true,
           "subunitcolor": "white"
          },
          "hoverlabel": {
           "align": "left"
          },
          "hovermode": "closest",
          "paper_bgcolor": "white",
          "plot_bgcolor": "rgb(237,237,237)",
          "polar": {
           "angularaxis": {
            "gridcolor": "white",
            "linecolor": "white",
            "showgrid": true,
            "tickcolor": "rgb(51,51,51)",
            "ticks": "outside"
           },
           "bgcolor": "rgb(237,237,237)",
           "radialaxis": {
            "gridcolor": "white",
            "linecolor": "white",
            "showgrid": true,
            "tickcolor": "rgb(51,51,51)",
            "ticks": "outside"
           }
          },
          "scene": {
           "xaxis": {
            "backgroundcolor": "rgb(237,237,237)",
            "gridcolor": "white",
            "gridwidth": 2,
            "linecolor": "white",
            "showbackground": true,
            "showgrid": true,
            "tickcolor": "rgb(51,51,51)",
            "ticks": "outside",
            "zerolinecolor": "white"
           },
           "yaxis": {
            "backgroundcolor": "rgb(237,237,237)",
            "gridcolor": "white",
            "gridwidth": 2,
            "linecolor": "white",
            "showbackground": true,
            "showgrid": true,
            "tickcolor": "rgb(51,51,51)",
            "ticks": "outside",
            "zerolinecolor": "white"
           },
           "zaxis": {
            "backgroundcolor": "rgb(237,237,237)",
            "gridcolor": "white",
            "gridwidth": 2,
            "linecolor": "white",
            "showbackground": true,
            "showgrid": true,
            "tickcolor": "rgb(51,51,51)",
            "ticks": "outside",
            "zerolinecolor": "white"
           }
          },
          "shapedefaults": {
           "fillcolor": "black",
           "line": {
            "width": 0
           },
           "opacity": 0.3
          },
          "ternary": {
           "aaxis": {
            "gridcolor": "white",
            "linecolor": "white",
            "showgrid": true,
            "tickcolor": "rgb(51,51,51)",
            "ticks": "outside"
           },
           "baxis": {
            "gridcolor": "white",
            "linecolor": "white",
            "showgrid": true,
            "tickcolor": "rgb(51,51,51)",
            "ticks": "outside"
           },
           "bgcolor": "rgb(237,237,237)",
           "caxis": {
            "gridcolor": "white",
            "linecolor": "white",
            "showgrid": true,
            "tickcolor": "rgb(51,51,51)",
            "ticks": "outside"
           }
          },
          "xaxis": {
           "automargin": true,
           "gridcolor": "white",
           "linecolor": "white",
           "showgrid": true,
           "tickcolor": "rgb(51,51,51)",
           "ticks": "outside",
           "title": {
            "standoff": 15
           },
           "zerolinecolor": "white"
          },
          "yaxis": {
           "automargin": true,
           "gridcolor": "white",
           "linecolor": "white",
           "showgrid": true,
           "tickcolor": "rgb(51,51,51)",
           "ticks": "outside",
           "title": {
            "standoff": 15
           },
           "zerolinecolor": "white"
          }
         }
        },
        "title": {
         "text": "Unemployment rate in each region and state"
        }
       }
      }
     },
     "metadata": {},
     "output_type": "display_data"
    }
   ],
   "source": [
    "# Sunburst chart showing unemployment rate in each region and state\n",
    "\n",
    "unemplo_data = un_data[['States', 'Region', 'Estimated Unemployment Rate',\n",
    "                 'Estimated Employed', 'Estimated Labour Participation Rate']]\n",
    "unemplo = unemplo_data.groupby(['Region', 'States'])['Estimated Unemployment Rate'].mean().reset_index()\n",
    "fig = px.sunburst(unemplo, path=['Region', 'States'], values='Estimated Unemployment Rate',\n",
    "                  color_continuous_scale='Plasma', title='Unemployment rate in each region and state',\n",
    "                  height=650, template='ggplot2')\n",
    "fig.show()"
   ]
  },
  {
   "cell_type": "markdown",
   "id": "b9fe0994",
   "metadata": {},
   "source": [
    "# Impact of Lockdown on States Estimated Employed"
   ]
  },
  {
   "cell_type": "markdown",
   "id": "00f0717c",
   "metadata": {},
   "source": [
    "On 24 March 2020, the Government of India under Prime Minister Narendra Modi ordered a nationwide lockdown for 21 days"
   ]
  },
  {
   "cell_type": "code",
   "execution_count": 16,
   "id": "3f4a418e",
   "metadata": {},
   "outputs": [
    {
     "data": {
      "application/vnd.plotly.v1+json": {
       "config": {
        "plotlyServerURL": "https://plot.ly"
       },
       "data": [
        {
         "geo": "geo",
         "hovertemplate": "<b>%{hovertext}</b><br><br>Region=South<br>Month_name=Jan<br>Estimated Unemployment Rate=%{marker.size}<br>longitude=%{lat}<br>latitude=%{lon}<extra></extra>",
         "hovertext": [
          "Andhra Pradesh",
          "Karnataka",
          "Kerala",
          "Puducherry",
          "Tamil Nadu",
          "Telangana"
         ],
         "lat": [
          15.9129,
          15.3173,
          10.8505,
          11.9416,
          11.1271,
          18.1124
         ],
         "legendgroup": "South",
         "lon": [
          79.74,
          75.7139,
          76.2711,
          79.8083,
          78.6569,
          79.0193
         ],
         "marker": {
          "color": "#636efa",
          "size": [
           5.48,
           2.86,
           5.31,
           0.58,
           1.57,
           5.49
          ],
          "sizemode": "area",
          "sizeref": 0.189625,
          "symbol": "circle"
         },
         "mode": "markers",
         "name": "South",
         "showlegend": true,
         "type": "scattergeo"
        },
        {
         "geo": "geo",
         "hovertemplate": "<b>%{hovertext}</b><br><br>Region=Northeast<br>Month_name=Jan<br>Estimated Unemployment Rate=%{marker.size}<br>longitude=%{lat}<br>latitude=%{lon}<extra></extra>",
         "hovertext": [
          "Assam",
          "Meghalaya",
          "Tripura"
         ],
         "lat": [
          26.2006,
          25.467,
          23.9408
         ],
         "legendgroup": "Northeast",
         "lon": [
          92.9376,
          91.3662,
          91.9882
         ],
         "marker": {
          "color": "#EF553B",
          "size": [
           4.66,
           1.66,
           32.67
          ],
          "sizemode": "area",
          "sizeref": 0.189625,
          "symbol": "circle"
         },
         "mode": "markers",
         "name": "Northeast",
         "showlegend": true,
         "type": "scattergeo"
        },
        {
         "geo": "geo",
         "hovertemplate": "<b>%{hovertext}</b><br><br>Region=East<br>Month_name=Jan<br>Estimated Unemployment Rate=%{marker.size}<br>longitude=%{lat}<br>latitude=%{lon}<extra></extra>",
         "hovertext": [
          "Bihar",
          "Jharkhand",
          "Odisha",
          "West Bengal"
         ],
         "lat": [
          25.0961,
          23.6102,
          20.9517,
          22.9868
         ],
         "legendgroup": "East",
         "lon": [
          85.3131,
          85.2799,
          85.0985,
          87.855
         ],
         "marker": {
          "color": "#00cc96",
          "size": [
           10.61,
           10.61,
           1.9,
           6.94
          ],
          "sizemode": "area",
          "sizeref": 0.189625,
          "symbol": "circle"
         },
         "mode": "markers",
         "name": "East",
         "showlegend": true,
         "type": "scattergeo"
        },
        {
         "geo": "geo",
         "hovertemplate": "<b>%{hovertext}</b><br><br>Region=West<br>Month_name=Jan<br>Estimated Unemployment Rate=%{marker.size}<br>longitude=%{lat}<br>latitude=%{lon}<extra></extra>",
         "hovertext": [
          "Chhattisgarh",
          "Goa",
          "Gujarat",
          "Madhya Pradesh",
          "Maharashtra"
         ],
         "lat": [
          21.2787,
          15.2993,
          22.2587,
          22.9734,
          19.7515
         ],
         "legendgroup": "West",
         "lon": [
          81.8661,
          74.124,
          71.1924,
          78.6569,
          75.7139
         ],
         "marker": {
          "color": "#ab63fa",
          "size": [
           9.65,
           8.89,
           5.54,
           4.11,
           4.95
          ],
          "sizemode": "area",
          "sizeref": 0.189625,
          "symbol": "circle"
         },
         "mode": "markers",
         "name": "West",
         "showlegend": true,
         "type": "scattergeo"
        },
        {
         "geo": "geo",
         "hovertemplate": "<b>%{hovertext}</b><br><br>Region=North<br>Month_name=Jan<br>Estimated Unemployment Rate=%{marker.size}<br>longitude=%{lat}<br>latitude=%{lon}<extra></extra>",
         "hovertext": [
          "Delhi",
          "Haryana",
          "Himachal Pradesh",
          "Jammu & Kashmir",
          "Punjab",
          "Rajasthan",
          "Uttar Pradesh",
          "Uttarakhand"
         ],
         "lat": [
          28.7041,
          29.0588,
          31.1048,
          33.7782,
          31.1471,
          27.0238,
          26.8467,
          30.0668
         ],
         "legendgroup": "North",
         "lon": [
          77.1025,
          76.0856,
          77.1734,
          76.5762,
          75.3412,
          74.2179,
          80.9462,
          79.0193
         ],
         "marker": {
          "color": "#FFA15A",
          "size": [
           22.23,
           20.34,
           16.83,
           21.08,
           11.11,
           10.97,
           7.58,
           5.49
          ],
          "sizemode": "area",
          "sizeref": 0.189625,
          "symbol": "circle"
         },
         "mode": "markers",
         "name": "North",
         "showlegend": true,
         "type": "scattergeo"
        }
       ],
       "frames": [
        {
         "data": [
          {
           "geo": "geo",
           "hovertemplate": "<b>%{hovertext}</b><br><br>Region=South<br>Month_name=Jan<br>Estimated Unemployment Rate=%{marker.size}<br>longitude=%{lat}<br>latitude=%{lon}<extra></extra>",
           "hovertext": [
            "Andhra Pradesh",
            "Karnataka",
            "Kerala",
            "Puducherry",
            "Tamil Nadu",
            "Telangana"
           ],
           "lat": [
            15.9129,
            15.3173,
            10.8505,
            11.9416,
            11.1271,
            18.1124
           ],
           "legendgroup": "South",
           "lon": [
            79.74,
            75.7139,
            76.2711,
            79.8083,
            78.6569,
            79.0193
           ],
           "marker": {
            "color": "#636efa",
            "size": [
             5.48,
             2.86,
             5.31,
             0.58,
             1.57,
             5.49
            ],
            "sizemode": "area",
            "sizeref": 0.189625,
            "symbol": "circle"
           },
           "mode": "markers",
           "name": "South",
           "showlegend": true,
           "type": "scattergeo"
          },
          {
           "geo": "geo",
           "hovertemplate": "<b>%{hovertext}</b><br><br>Region=Northeast<br>Month_name=Jan<br>Estimated Unemployment Rate=%{marker.size}<br>longitude=%{lat}<br>latitude=%{lon}<extra></extra>",
           "hovertext": [
            "Assam",
            "Meghalaya",
            "Tripura"
           ],
           "lat": [
            26.2006,
            25.467,
            23.9408
           ],
           "legendgroup": "Northeast",
           "lon": [
            92.9376,
            91.3662,
            91.9882
           ],
           "marker": {
            "color": "#EF553B",
            "size": [
             4.66,
             1.66,
             32.67
            ],
            "sizemode": "area",
            "sizeref": 0.189625,
            "symbol": "circle"
           },
           "mode": "markers",
           "name": "Northeast",
           "showlegend": true,
           "type": "scattergeo"
          },
          {
           "geo": "geo",
           "hovertemplate": "<b>%{hovertext}</b><br><br>Region=East<br>Month_name=Jan<br>Estimated Unemployment Rate=%{marker.size}<br>longitude=%{lat}<br>latitude=%{lon}<extra></extra>",
           "hovertext": [
            "Bihar",
            "Jharkhand",
            "Odisha",
            "West Bengal"
           ],
           "lat": [
            25.0961,
            23.6102,
            20.9517,
            22.9868
           ],
           "legendgroup": "East",
           "lon": [
            85.3131,
            85.2799,
            85.0985,
            87.855
           ],
           "marker": {
            "color": "#00cc96",
            "size": [
             10.61,
             10.61,
             1.9,
             6.94
            ],
            "sizemode": "area",
            "sizeref": 0.189625,
            "symbol": "circle"
           },
           "mode": "markers",
           "name": "East",
           "showlegend": true,
           "type": "scattergeo"
          },
          {
           "geo": "geo",
           "hovertemplate": "<b>%{hovertext}</b><br><br>Region=West<br>Month_name=Jan<br>Estimated Unemployment Rate=%{marker.size}<br>longitude=%{lat}<br>latitude=%{lon}<extra></extra>",
           "hovertext": [
            "Chhattisgarh",
            "Goa",
            "Gujarat",
            "Madhya Pradesh",
            "Maharashtra"
           ],
           "lat": [
            21.2787,
            15.2993,
            22.2587,
            22.9734,
            19.7515
           ],
           "legendgroup": "West",
           "lon": [
            81.8661,
            74.124,
            71.1924,
            78.6569,
            75.7139
           ],
           "marker": {
            "color": "#ab63fa",
            "size": [
             9.65,
             8.89,
             5.54,
             4.11,
             4.95
            ],
            "sizemode": "area",
            "sizeref": 0.189625,
            "symbol": "circle"
           },
           "mode": "markers",
           "name": "West",
           "showlegend": true,
           "type": "scattergeo"
          },
          {
           "geo": "geo",
           "hovertemplate": "<b>%{hovertext}</b><br><br>Region=North<br>Month_name=Jan<br>Estimated Unemployment Rate=%{marker.size}<br>longitude=%{lat}<br>latitude=%{lon}<extra></extra>",
           "hovertext": [
            "Delhi",
            "Haryana",
            "Himachal Pradesh",
            "Jammu & Kashmir",
            "Punjab",
            "Rajasthan",
            "Uttar Pradesh",
            "Uttarakhand"
           ],
           "lat": [
            28.7041,
            29.0588,
            31.1048,
            33.7782,
            31.1471,
            27.0238,
            26.8467,
            30.0668
           ],
           "legendgroup": "North",
           "lon": [
            77.1025,
            76.0856,
            77.1734,
            76.5762,
            75.3412,
            74.2179,
            80.9462,
            79.0193
           ],
           "marker": {
            "color": "#FFA15A",
            "size": [
             22.23,
             20.34,
             16.83,
             21.08,
             11.11,
             10.97,
             7.58,
             5.49
            ],
            "sizemode": "area",
            "sizeref": 0.189625,
            "symbol": "circle"
           },
           "mode": "markers",
           "name": "North",
           "showlegend": true,
           "type": "scattergeo"
          }
         ],
         "name": "Jan"
        },
        {
         "data": [
          {
           "geo": "geo",
           "hovertemplate": "<b>%{hovertext}</b><br><br>Region=South<br>Month_name=Feb<br>Estimated Unemployment Rate=%{marker.size}<br>longitude=%{lat}<br>latitude=%{lon}<extra></extra>",
           "hovertext": [
            "Andhra Pradesh",
            "Karnataka",
            "Kerala",
            "Puducherry",
            "Tamil Nadu",
            "Telangana"
           ],
           "lat": [
            15.9129,
            15.3173,
            10.8505,
            11.9416,
            11.1271,
            18.1124
           ],
           "legendgroup": "South",
           "lon": [
            79.74,
            75.7139,
            76.2711,
            79.8083,
            78.6569,
            79.0193
           ],
           "marker": {
            "color": "#636efa",
            "size": [
             5.83,
             3.61,
             7.6,
             1.76,
             2.09,
             8.29
            ],
            "sizemode": "area",
            "sizeref": 0.189625,
            "symbol": "circle"
           },
           "mode": "markers",
           "name": "South",
           "showlegend": true,
           "type": "scattergeo"
          },
          {
           "geo": "geo",
           "hovertemplate": "<b>%{hovertext}</b><br><br>Region=Northeast<br>Month_name=Feb<br>Estimated Unemployment Rate=%{marker.size}<br>longitude=%{lat}<br>latitude=%{lon}<extra></extra>",
           "hovertext": [
            "Assam",
            "Meghalaya",
            "Tripura"
           ],
           "lat": [
            26.2006,
            25.467,
            23.9408
           ],
           "legendgroup": "Northeast",
           "lon": [
            92.9376,
            91.3662,
            91.9882
           ],
           "marker": {
            "color": "#EF553B",
            "size": [
             4.41,
             3.59,
             28.4
            ],
            "sizemode": "area",
            "sizeref": 0.189625,
            "symbol": "circle"
           },
           "mode": "markers",
           "name": "Northeast",
           "showlegend": true,
           "type": "scattergeo"
          },
          {
           "geo": "geo",
           "hovertemplate": "<b>%{hovertext}</b><br><br>Region=East<br>Month_name=Feb<br>Estimated Unemployment Rate=%{marker.size}<br>longitude=%{lat}<br>latitude=%{lon}<extra></extra>",
           "hovertext": [
            "Bihar",
            "Jharkhand",
            "Odisha",
            "West Bengal"
           ],
           "lat": [
            25.0961,
            23.6102,
            20.9517,
            22.9868
           ],
           "legendgroup": "East",
           "lon": [
            85.3131,
            85.2799,
            85.0985,
            87.855
           ],
           "marker": {
            "color": "#00cc96",
            "size": [
             10.29,
             11.85,
             3.12,
             4.92
            ],
            "sizemode": "area",
            "sizeref": 0.189625,
            "symbol": "circle"
           },
           "mode": "markers",
           "name": "East",
           "showlegend": true,
           "type": "scattergeo"
          },
          {
           "geo": "geo",
           "hovertemplate": "<b>%{hovertext}</b><br><br>Region=West<br>Month_name=Feb<br>Estimated Unemployment Rate=%{marker.size}<br>longitude=%{lat}<br>latitude=%{lon}<extra></extra>",
           "hovertext": [
            "Chhattisgarh",
            "Goa",
            "Gujarat",
            "Madhya Pradesh",
            "Maharashtra"
           ],
           "lat": [
            21.2787,
            15.2993,
            22.2587,
            22.9734,
            19.7515
           ],
           "legendgroup": "West",
           "lon": [
            81.8661,
            74.124,
            71.1924,
            78.6569,
            75.7139
           ],
           "marker": {
            "color": "#ab63fa",
            "size": [
             8.38,
             2.81,
             6.38,
             4.57,
             4.69
            ],
            "sizemode": "area",
            "sizeref": 0.189625,
            "symbol": "circle"
           },
           "mode": "markers",
           "name": "West",
           "showlegend": true,
           "type": "scattergeo"
          },
          {
           "geo": "geo",
           "hovertemplate": "<b>%{hovertext}</b><br><br>Region=North<br>Month_name=Feb<br>Estimated Unemployment Rate=%{marker.size}<br>longitude=%{lat}<br>latitude=%{lon}<extra></extra>",
           "hovertext": [
            "Delhi",
            "Haryana",
            "Himachal Pradesh",
            "Jammu & Kashmir",
            "Punjab",
            "Rajasthan",
            "Uttar Pradesh",
            "Uttarakhand"
           ],
           "lat": [
            28.7041,
            29.0588,
            31.1048,
            33.7782,
            31.1471,
            27.0238,
            26.8467,
            30.0668
           ],
           "legendgroup": "North",
           "lon": [
            77.1025,
            76.0856,
            77.1734,
            76.5762,
            75.3412,
            74.2179,
            80.9462,
            79.0193
           ],
           "marker": {
            "color": "#FFA15A",
            "size": [
             14.84,
             25.77,
             16.84,
             20.78,
             10.97,
             15.16,
             8.98,
             4.99
            ],
            "sizemode": "area",
            "sizeref": 0.189625,
            "symbol": "circle"
           },
           "mode": "markers",
           "name": "North",
           "showlegend": true,
           "type": "scattergeo"
          }
         ],
         "name": "Feb"
        },
        {
         "data": [
          {
           "geo": "geo",
           "hovertemplate": "<b>%{hovertext}</b><br><br>Region=South<br>Month_name=Mar<br>Estimated Unemployment Rate=%{marker.size}<br>longitude=%{lat}<br>latitude=%{lon}<extra></extra>",
           "hovertext": [
            "Andhra Pradesh",
            "Karnataka",
            "Kerala",
            "Puducherry",
            "Tamil Nadu",
            "Telangana"
           ],
           "lat": [
            15.9129,
            15.3173,
            10.8505,
            11.9416,
            11.1271,
            18.1124
           ],
           "legendgroup": "South",
           "lon": [
            79.74,
            75.7139,
            76.2711,
            79.8083,
            78.6569,
            79.0193
           ],
           "marker": {
            "color": "#636efa",
            "size": [
             5.79,
             3.46,
             8.99,
             1.2,
             6.4,
             5.77
            ],
            "sizemode": "area",
            "sizeref": 0.189625,
            "symbol": "circle"
           },
           "mode": "markers",
           "name": "South",
           "showlegend": true,
           "type": "scattergeo"
          },
          {
           "geo": "geo",
           "hovertemplate": "<b>%{hovertext}</b><br><br>Region=Northeast<br>Month_name=Mar<br>Estimated Unemployment Rate=%{marker.size}<br>longitude=%{lat}<br>latitude=%{lon}<extra></extra>",
           "hovertext": [
            "Assam",
            "Meghalaya",
            "Sikkim",
            "Tripura"
           ],
           "lat": [
            26.2006,
            25.467,
            27.533,
            23.9408
           ],
           "legendgroup": "Northeast",
           "lon": [
            92.9376,
            91.3662,
            88.5122,
            91.9882
           ],
           "marker": {
            "color": "#EF553B",
            "size": [
             4.77,
             1.58,
             23.57,
             29.95
            ],
            "sizemode": "area",
            "sizeref": 0.189625,
            "symbol": "circle"
           },
           "mode": "markers",
           "name": "Northeast",
           "showlegend": true,
           "type": "scattergeo"
          },
          {
           "geo": "geo",
           "hovertemplate": "<b>%{hovertext}</b><br><br>Region=East<br>Month_name=Mar<br>Estimated Unemployment Rate=%{marker.size}<br>longitude=%{lat}<br>latitude=%{lon}<extra></extra>",
           "hovertext": [
            "Bihar",
            "Jharkhand",
            "Odisha",
            "West Bengal"
           ],
           "lat": [
            25.0961,
            23.6102,
            20.9517,
            22.9868
           ],
           "legendgroup": "East",
           "lon": [
            85.3131,
            85.2799,
            85.0985,
            87.855
           ],
           "marker": {
            "color": "#00cc96",
            "size": [
             15.43,
             8.23,
             13.08,
             6.92
            ],
            "sizemode": "area",
            "sizeref": 0.189625,
            "symbol": "circle"
           },
           "mode": "markers",
           "name": "East",
           "showlegend": true,
           "type": "scattergeo"
          },
          {
           "geo": "geo",
           "hovertemplate": "<b>%{hovertext}</b><br><br>Region=West<br>Month_name=Mar<br>Estimated Unemployment Rate=%{marker.size}<br>longitude=%{lat}<br>latitude=%{lon}<extra></extra>",
           "hovertext": [
            "Chhattisgarh",
            "Goa",
            "Gujarat",
            "Madhya Pradesh",
            "Maharashtra"
           ],
           "lat": [
            21.2787,
            15.2993,
            22.2587,
            22.9734,
            19.7515
           ],
           "legendgroup": "West",
           "lon": [
            81.8661,
            74.124,
            71.1924,
            78.6569,
            75.7139
           ],
           "marker": {
            "color": "#ab63fa",
            "size": [
             7.54,
             5.25,
             6.66,
             2.22,
             5.79
            ],
            "sizemode": "area",
            "sizeref": 0.189625,
            "symbol": "circle"
           },
           "mode": "markers",
           "name": "West",
           "showlegend": true,
           "type": "scattergeo"
          },
          {
           "geo": "geo",
           "hovertemplate": "<b>%{hovertext}</b><br><br>Region=North<br>Month_name=Mar<br>Estimated Unemployment Rate=%{marker.size}<br>longitude=%{lat}<br>latitude=%{lon}<extra></extra>",
           "hovertext": [
            "Delhi",
            "Haryana",
            "Himachal Pradesh",
            "Jammu & Kashmir",
            "Punjab",
            "Rajasthan",
            "Uttar Pradesh",
            "Uttarakhand"
           ],
           "lat": [
            28.7041,
            29.0588,
            31.1048,
            33.7782,
            31.1471,
            27.0238,
            26.8467,
            30.0668
           ],
           "legendgroup": "North",
           "lon": [
            77.1025,
            76.0856,
            77.1734,
            76.5762,
            75.3412,
            74.2179,
            80.9462,
            79.0193
           ],
           "marker": {
            "color": "#FFA15A",
            "size": [
             17.04,
             25.05,
             18.76,
             15.5,
             10.32,
             11.9,
             10.11,
             19.85
            ],
            "sizemode": "area",
            "sizeref": 0.189625,
            "symbol": "circle"
           },
           "mode": "markers",
           "name": "North",
           "showlegend": true,
           "type": "scattergeo"
          }
         ],
         "name": "Mar"
        },
        {
         "data": [
          {
           "geo": "geo",
           "hovertemplate": "<b>%{hovertext}</b><br><br>Region=South<br>Month_name=Apr<br>Estimated Unemployment Rate=%{marker.size}<br>longitude=%{lat}<br>latitude=%{lon}<extra></extra>",
           "hovertext": [
            "Andhra Pradesh",
            "Karnataka",
            "Kerala",
            "Puducherry",
            "Tamil Nadu",
            "Telangana"
           ],
           "lat": [
            15.9129,
            15.3173,
            10.8505,
            11.9416,
            11.1271,
            18.1124
           ],
           "legendgroup": "South",
           "lon": [
            79.74,
            75.7139,
            76.2711,
            79.8083,
            78.6569,
            79.0193
           ],
           "marker": {
            "color": "#636efa",
            "size": [
             20.51,
             29.84,
             16.99,
             75.85,
             49.83,
             6.25
            ],
            "sizemode": "area",
            "sizeref": 0.189625,
            "symbol": "circle"
           },
           "mode": "markers",
           "name": "South",
           "showlegend": true,
           "type": "scattergeo"
          },
          {
           "geo": "geo",
           "hovertemplate": "<b>%{hovertext}</b><br><br>Region=Northeast<br>Month_name=Apr<br>Estimated Unemployment Rate=%{marker.size}<br>longitude=%{lat}<br>latitude=%{lon}<extra></extra>",
           "hovertext": [
            "Assam",
            "Meghalaya",
            "Sikkim",
            "Tripura"
           ],
           "lat": [
            26.2006,
            25.467,
            27.533,
            23.9408
           ],
           "legendgroup": "Northeast",
           "lon": [
            92.9376,
            91.3662,
            88.5122,
            91.9882
           ],
           "marker": {
            "color": "#EF553B",
            "size": [
             11.06,
             10.03,
             2.28,
             41.23
            ],
            "sizemode": "area",
            "sizeref": 0.189625,
            "symbol": "circle"
           },
           "mode": "markers",
           "name": "Northeast",
           "showlegend": true,
           "type": "scattergeo"
          },
          {
           "geo": "geo",
           "hovertemplate": "<b>%{hovertext}</b><br><br>Region=East<br>Month_name=Apr<br>Estimated Unemployment Rate=%{marker.size}<br>longitude=%{lat}<br>latitude=%{lon}<extra></extra>",
           "hovertext": [
            "Bihar",
            "Jharkhand",
            "Odisha",
            "West Bengal"
           ],
           "lat": [
            25.0961,
            23.6102,
            20.9517,
            22.9868
           ],
           "legendgroup": "East",
           "lon": [
            85.3131,
            85.2799,
            85.0985,
            87.855
           ],
           "marker": {
            "color": "#00cc96",
            "size": [
             46.64,
             47.09,
             23.76,
             17.41
            ],
            "sizemode": "area",
            "sizeref": 0.189625,
            "symbol": "circle"
           },
           "mode": "markers",
           "name": "East",
           "showlegend": true,
           "type": "scattergeo"
          },
          {
           "geo": "geo",
           "hovertemplate": "<b>%{hovertext}</b><br><br>Region=West<br>Month_name=Apr<br>Estimated Unemployment Rate=%{marker.size}<br>longitude=%{lat}<br>latitude=%{lon}<extra></extra>",
           "hovertext": [
            "Chhattisgarh",
            "Goa",
            "Gujarat",
            "Madhya Pradesh",
            "Maharashtra"
           ],
           "lat": [
            21.2787,
            15.2993,
            22.2587,
            22.9734,
            19.7515
           ],
           "legendgroup": "West",
           "lon": [
            81.8661,
            74.124,
            71.1924,
            78.6569,
            75.7139
           ],
           "marker": {
            "color": "#ab63fa",
            "size": [
             3.41,
             13.31,
             18.71,
             12.36,
             20.9
            ],
            "sizemode": "area",
            "sizeref": 0.189625,
            "symbol": "circle"
           },
           "mode": "markers",
           "name": "West",
           "showlegend": true,
           "type": "scattergeo"
          },
          {
           "geo": "geo",
           "hovertemplate": "<b>%{hovertext}</b><br><br>Region=North<br>Month_name=Apr<br>Estimated Unemployment Rate=%{marker.size}<br>longitude=%{lat}<br>latitude=%{lon}<extra></extra>",
           "hovertext": [
            "Delhi",
            "Haryana",
            "Himachal Pradesh",
            "Punjab",
            "Rajasthan",
            "Uttar Pradesh",
            "Uttarakhand"
           ],
           "lat": [
            28.7041,
            29.0588,
            31.1048,
            31.1471,
            27.0238,
            26.8467,
            30.0668
           ],
           "legendgroup": "North",
           "lon": [
            77.1025,
            76.0856,
            77.1734,
            75.3412,
            74.2179,
            80.9462,
            79.0193
           ],
           "marker": {
            "color": "#FFA15A",
            "size": [
             16.68,
             43.22,
             2.2,
             2.86,
             17.7,
             21.54,
             6.48
            ],
            "sizemode": "area",
            "sizeref": 0.189625,
            "symbol": "circle"
           },
           "mode": "markers",
           "name": "North",
           "showlegend": true,
           "type": "scattergeo"
          }
         ],
         "name": "Apr"
        },
        {
         "data": [
          {
           "geo": "geo",
           "hovertemplate": "<b>%{hovertext}</b><br><br>Region=South<br>Month_name=May<br>Estimated Unemployment Rate=%{marker.size}<br>longitude=%{lat}<br>latitude=%{lon}<extra></extra>",
           "hovertext": [
            "Andhra Pradesh",
            "Karnataka",
            "Kerala",
            "Puducherry",
            "Tamil Nadu",
            "Telangana"
           ],
           "lat": [
            15.9129,
            15.3173,
            10.8505,
            11.9416,
            11.1271,
            18.1124
           ],
           "legendgroup": "South",
           "lon": [
            79.74,
            75.7139,
            76.2711,
            79.8083,
            78.6569,
            79.0193
           ],
           "marker": {
            "color": "#636efa",
            "size": [
             17.43,
             19.97,
             17.88,
             58.19,
             33.16,
             14.7
            ],
            "sizemode": "area",
            "sizeref": 0.189625,
            "symbol": "circle"
           },
           "mode": "markers",
           "name": "South",
           "showlegend": true,
           "type": "scattergeo"
          },
          {
           "geo": "geo",
           "hovertemplate": "<b>%{hovertext}</b><br><br>Region=Northeast<br>Month_name=May<br>Estimated Unemployment Rate=%{marker.size}<br>longitude=%{lat}<br>latitude=%{lon}<extra></extra>",
           "hovertext": [
            "Assam",
            "Meghalaya",
            "Sikkim",
            "Tripura"
           ],
           "lat": [
            26.2006,
            25.467,
            27.533,
            23.9408
           ],
           "legendgroup": "Northeast",
           "lon": [
            92.9376,
            91.3662,
            88.5122,
            91.9882
           ],
           "marker": {
            "color": "#EF553B",
            "size": [
             9.55,
             5.92,
             24.51,
             21.51
            ],
            "sizemode": "area",
            "sizeref": 0.189625,
            "symbol": "circle"
           },
           "mode": "markers",
           "name": "Northeast",
           "showlegend": true,
           "type": "scattergeo"
          },
          {
           "geo": "geo",
           "hovertemplate": "<b>%{hovertext}</b><br><br>Region=East<br>Month_name=May<br>Estimated Unemployment Rate=%{marker.size}<br>longitude=%{lat}<br>latitude=%{lon}<extra></extra>",
           "hovertext": [
            "Bihar",
            "Jharkhand",
            "Odisha",
            "West Bengal"
           ],
           "lat": [
            25.0961,
            23.6102,
            20.9517,
            22.9868
           ],
           "legendgroup": "East",
           "lon": [
            85.3131,
            85.2799,
            85.0985,
            87.855
           ],
           "marker": {
            "color": "#00cc96",
            "size": [
             45.96,
             59.23,
             11.41,
             17.41
            ],
            "sizemode": "area",
            "sizeref": 0.189625,
            "symbol": "circle"
           },
           "mode": "markers",
           "name": "East",
           "showlegend": true,
           "type": "scattergeo"
          },
          {
           "geo": "geo",
           "hovertemplate": "<b>%{hovertext}</b><br><br>Region=West<br>Month_name=May<br>Estimated Unemployment Rate=%{marker.size}<br>longitude=%{lat}<br>latitude=%{lon}<extra></extra>",
           "hovertext": [
            "Chhattisgarh",
            "Goa",
            "Gujarat",
            "Madhya Pradesh",
            "Maharashtra"
           ],
           "lat": [
            21.2787,
            15.2993,
            22.2587,
            22.9734,
            19.7515
           ],
           "legendgroup": "West",
           "lon": [
            81.8661,
            74.124,
            71.1924,
            78.6569,
            75.7139
           ],
           "marker": {
            "color": "#ab63fa",
            "size": [
             10.5,
             21.25,
             12.11,
             21.98,
             15.46
            ],
            "sizemode": "area",
            "sizeref": 0.189625,
            "symbol": "circle"
           },
           "mode": "markers",
           "name": "West",
           "showlegend": true,
           "type": "scattergeo"
          },
          {
           "geo": "geo",
           "hovertemplate": "<b>%{hovertext}</b><br><br>Region=North<br>Month_name=May<br>Estimated Unemployment Rate=%{marker.size}<br>longitude=%{lat}<br>latitude=%{lon}<extra></extra>",
           "hovertext": [
            "Delhi",
            "Haryana",
            "Himachal Pradesh",
            "Jammu & Kashmir",
            "Punjab",
            "Rajasthan",
            "Uttar Pradesh",
            "Uttarakhand"
           ],
           "lat": [
            28.7041,
            29.0588,
            31.1048,
            33.7782,
            31.1471,
            27.0238,
            26.8467,
            30.0668
           ],
           "legendgroup": "North",
           "lon": [
            77.1025,
            76.0856,
            77.1734,
            76.5762,
            75.3412,
            74.2179,
            80.9462,
            79.0193
           ],
           "marker": {
            "color": "#FFA15A",
            "size": [
             42.27,
             29.02,
             26.95,
             18.74,
             28.33,
             15.74,
             20.41,
             8.01
            ],
            "sizemode": "area",
            "sizeref": 0.189625,
            "symbol": "circle"
           },
           "mode": "markers",
           "name": "North",
           "showlegend": true,
           "type": "scattergeo"
          }
         ],
         "name": "May"
        },
        {
         "data": [
          {
           "geo": "geo",
           "hovertemplate": "<b>%{hovertext}</b><br><br>Region=South<br>Month_name=Jun<br>Estimated Unemployment Rate=%{marker.size}<br>longitude=%{lat}<br>latitude=%{lon}<extra></extra>",
           "hovertext": [
            "Andhra Pradesh",
            "Karnataka",
            "Kerala",
            "Puducherry",
            "Tamil Nadu",
            "Telangana"
           ],
           "lat": [
            15.9129,
            15.3173,
            10.8505,
            11.9416,
            11.1271,
            18.1124
           ],
           "legendgroup": "South",
           "lon": [
            79.74,
            75.7139,
            76.2711,
            79.8083,
            78.6569,
            79.0193
           ],
           "marker": {
            "color": "#636efa",
            "size": [
             3.31,
             8.44,
             9.71,
             4.24,
             12.2,
             10.55
            ],
            "sizemode": "area",
            "sizeref": 0.189625,
            "symbol": "circle"
           },
           "mode": "markers",
           "name": "South",
           "showlegend": true,
           "type": "scattergeo"
          },
          {
           "geo": "geo",
           "hovertemplate": "<b>%{hovertext}</b><br><br>Region=Northeast<br>Month_name=Jun<br>Estimated Unemployment Rate=%{marker.size}<br>longitude=%{lat}<br>latitude=%{lon}<extra></extra>",
           "hovertext": [
            "Assam",
            "Meghalaya",
            "Sikkim",
            "Tripura"
           ],
           "lat": [
            26.2006,
            25.467,
            27.533,
            23.9408
           ],
           "legendgroup": "Northeast",
           "lon": [
            92.9376,
            91.3662,
            88.5122,
            91.9882
           ],
           "marker": {
            "color": "#EF553B",
            "size": [
             0.6,
             1.15,
             4.46,
             21.71
            ],
            "sizemode": "area",
            "sizeref": 0.189625,
            "symbol": "circle"
           },
           "mode": "markers",
           "name": "Northeast",
           "showlegend": true,
           "type": "scattergeo"
          },
          {
           "geo": "geo",
           "hovertemplate": "<b>%{hovertext}</b><br><br>Region=East<br>Month_name=Jun<br>Estimated Unemployment Rate=%{marker.size}<br>longitude=%{lat}<br>latitude=%{lon}<extra></extra>",
           "hovertext": [
            "Bihar",
            "Jharkhand",
            "Odisha",
            "West Bengal"
           ],
           "lat": [
            25.0961,
            23.6102,
            20.9517,
            22.9868
           ],
           "legendgroup": "East",
           "lon": [
            85.3131,
            85.2799,
            85.0985,
            87.855
           ],
           "marker": {
            "color": "#00cc96",
            "size": [
             17.82,
             20.95,
             3.77,
             7.29
            ],
            "sizemode": "area",
            "sizeref": 0.189625,
            "symbol": "circle"
           },
           "mode": "markers",
           "name": "East",
           "showlegend": true,
           "type": "scattergeo"
          },
          {
           "geo": "geo",
           "hovertemplate": "<b>%{hovertext}</b><br><br>Region=West<br>Month_name=Jun<br>Estimated Unemployment Rate=%{marker.size}<br>longitude=%{lat}<br>latitude=%{lon}<extra></extra>",
           "hovertext": [
            "Chhattisgarh",
            "Goa",
            "Gujarat",
            "Madhya Pradesh",
            "Maharashtra"
           ],
           "lat": [
            21.2787,
            15.2993,
            22.2587,
            22.9734,
            19.7515
           ],
           "legendgroup": "West",
           "lon": [
            81.8661,
            74.124,
            71.1924,
            78.6569,
            75.7139
           ],
           "marker": {
            "color": "#ab63fa",
            "size": [
             14.23,
             9.96,
             3.2,
             6.48,
             9.23
            ],
            "sizemode": "area",
            "sizeref": 0.189625,
            "symbol": "circle"
           },
           "mode": "markers",
           "name": "West",
           "showlegend": true,
           "type": "scattergeo"
          },
          {
           "geo": "geo",
           "hovertemplate": "<b>%{hovertext}</b><br><br>Region=North<br>Month_name=Jun<br>Estimated Unemployment Rate=%{marker.size}<br>longitude=%{lat}<br>latitude=%{lon}<extra></extra>",
           "hovertext": [
            "Delhi",
            "Haryana",
            "Himachal Pradesh",
            "Jammu & Kashmir",
            "Punjab",
            "Rajasthan",
            "Uttar Pradesh",
            "Uttarakhand"
           ],
           "lat": [
            28.7041,
            29.0588,
            31.1048,
            33.7782,
            31.1471,
            27.0238,
            26.8467,
            30.0668
           ],
           "legendgroup": "North",
           "lon": [
            77.1025,
            76.0856,
            77.1734,
            76.5762,
            75.3412,
            74.2179,
            80.9462,
            79.0193
           ],
           "marker": {
            "color": "#FFA15A",
            "size": [
             18.19,
             26.7,
             13.47,
             17.92,
             16.55,
             14.39,
             9.47,
             8.61
            ],
            "sizemode": "area",
            "sizeref": 0.189625,
            "symbol": "circle"
           },
           "mode": "markers",
           "name": "North",
           "showlegend": true,
           "type": "scattergeo"
          }
         ],
         "name": "Jun"
        },
        {
         "data": [
          {
           "geo": "geo",
           "hovertemplate": "<b>%{hovertext}</b><br><br>Region=South<br>Month_name=Jul<br>Estimated Unemployment Rate=%{marker.size}<br>longitude=%{lat}<br>latitude=%{lon}<extra></extra>",
           "hovertext": [
            "Andhra Pradesh",
            "Karnataka",
            "Kerala",
            "Puducherry",
            "Tamil Nadu",
            "Telangana"
           ],
           "lat": [
            15.9129,
            15.3173,
            10.8505,
            11.9416,
            11.1271,
            18.1124
           ],
           "legendgroup": "South",
           "lon": [
            79.74,
            75.7139,
            76.2711,
            79.8083,
            78.6569,
            79.0193
           ],
           "marker": {
            "color": "#636efa",
            "size": [
             8.34,
             4.01,
             7.09,
             15.47,
             6.81,
             5.36
            ],
            "sizemode": "area",
            "sizeref": 0.189625,
            "symbol": "circle"
           },
           "mode": "markers",
           "name": "South",
           "showlegend": true,
           "type": "scattergeo"
          },
          {
           "geo": "geo",
           "hovertemplate": "<b>%{hovertext}</b><br><br>Region=Northeast<br>Month_name=Jul<br>Estimated Unemployment Rate=%{marker.size}<br>longitude=%{lat}<br>latitude=%{lon}<extra></extra>",
           "hovertext": [
            "Assam",
            "Meghalaya",
            "Sikkim",
            "Tripura"
           ],
           "lat": [
            26.2006,
            25.467,
            27.533,
            23.9408
           ],
           "legendgroup": "Northeast",
           "lon": [
            92.9376,
            91.3662,
            88.5122,
            91.9882
           ],
           "marker": {
            "color": "#EF553B",
            "size": [
             3.77,
             2.1,
             4.45,
             18.24
            ],
            "sizemode": "area",
            "sizeref": 0.189625,
            "symbol": "circle"
           },
           "mode": "markers",
           "name": "Northeast",
           "showlegend": true,
           "type": "scattergeo"
          },
          {
           "geo": "geo",
           "hovertemplate": "<b>%{hovertext}</b><br><br>Region=East<br>Month_name=Jul<br>Estimated Unemployment Rate=%{marker.size}<br>longitude=%{lat}<br>latitude=%{lon}<extra></extra>",
           "hovertext": [
            "Bihar",
            "Jharkhand",
            "Odisha",
            "West Bengal"
           ],
           "lat": [
            25.0961,
            23.6102,
            20.9517,
            22.9868
           ],
           "legendgroup": "East",
           "lon": [
            85.3131,
            85.2799,
            85.0985,
            87.855
           ],
           "marker": {
            "color": "#00cc96",
            "size": [
             12.79,
             7.63,
             1.88,
             6.83
            ],
            "sizemode": "area",
            "sizeref": 0.189625,
            "symbol": "circle"
           },
           "mode": "markers",
           "name": "East",
           "showlegend": true,
           "type": "scattergeo"
          },
          {
           "geo": "geo",
           "hovertemplate": "<b>%{hovertext}</b><br><br>Region=West<br>Month_name=Jul<br>Estimated Unemployment Rate=%{marker.size}<br>longitude=%{lat}<br>latitude=%{lon}<extra></extra>",
           "hovertext": [
            "Chhattisgarh",
            "Goa",
            "Gujarat",
            "Madhya Pradesh",
            "Maharashtra"
           ],
           "lat": [
            21.2787,
            15.2993,
            22.2587,
            22.9734,
            19.7515
           ],
           "legendgroup": "West",
           "lon": [
            81.8661,
            74.124,
            71.1924,
            78.6569,
            75.7139
           ],
           "marker": {
            "color": "#ab63fa",
            "size": [
             10.27,
             17.07,
             1.84,
             5.08,
             3.89
            ],
            "sizemode": "area",
            "sizeref": 0.189625,
            "symbol": "circle"
           },
           "mode": "markers",
           "name": "West",
           "showlegend": true,
           "type": "scattergeo"
          },
          {
           "geo": "geo",
           "hovertemplate": "<b>%{hovertext}</b><br><br>Region=North<br>Month_name=Jul<br>Estimated Unemployment Rate=%{marker.size}<br>longitude=%{lat}<br>latitude=%{lon}<extra></extra>",
           "hovertext": [
            "Delhi",
            "Haryana",
            "Himachal Pradesh",
            "Jammu & Kashmir",
            "Punjab",
            "Rajasthan",
            "Uttar Pradesh",
            "Uttarakhand"
           ],
           "lat": [
            28.7041,
            29.0588,
            31.1048,
            33.7782,
            31.1471,
            27.0238,
            26.8467,
            30.0668
           ],
           "legendgroup": "North",
           "lon": [
            77.1025,
            76.0856,
            77.1734,
            76.5762,
            75.3412,
            74.2179,
            80.9462,
            79.0193
           ],
           "marker": {
            "color": "#FFA15A",
            "size": [
             20.3,
             24.18,
             24.31,
             10.88,
             9.19,
             15.81,
             5.56,
             12.38
            ],
            "sizemode": "area",
            "sizeref": 0.189625,
            "symbol": "circle"
           },
           "mode": "markers",
           "name": "North",
           "showlegend": true,
           "type": "scattergeo"
          }
         ],
         "name": "Jul"
        },
        {
         "data": [
          {
           "geo": "geo",
           "hovertemplate": "<b>%{hovertext}</b><br><br>Region=South<br>Month_name=Aug<br>Estimated Unemployment Rate=%{marker.size}<br>longitude=%{lat}<br>latitude=%{lon}<extra></extra>",
           "hovertext": [
            "Andhra Pradesh",
            "Karnataka",
            "Kerala",
            "Puducherry",
            "Tamil Nadu",
            "Telangana"
           ],
           "lat": [
            15.9129,
            15.3173,
            10.8505,
            11.9416,
            11.1271,
            18.1124
           ],
           "legendgroup": "South",
           "lon": [
            79.74,
            75.7139,
            76.2711,
            79.8083,
            78.6569,
            79.0193
           ],
           "marker": {
            "color": "#636efa",
            "size": [
             6.96,
             0.5,
             10.98,
             5.05,
             2.65,
             5.79
            ],
            "sizemode": "area",
            "sizeref": 0.189625,
            "symbol": "circle"
           },
           "mode": "markers",
           "name": "South",
           "showlegend": true,
           "type": "scattergeo"
          },
          {
           "geo": "geo",
           "hovertemplate": "<b>%{hovertext}</b><br><br>Region=Northeast<br>Month_name=Aug<br>Estimated Unemployment Rate=%{marker.size}<br>longitude=%{lat}<br>latitude=%{lon}<extra></extra>",
           "hovertext": [
            "Assam",
            "Meghalaya",
            "Sikkim",
            "Tripura"
           ],
           "lat": [
            26.2006,
            25.467,
            27.533,
            23.9408
           ],
           "legendgroup": "Northeast",
           "lon": [
            92.9376,
            91.3662,
            88.5122,
            91.9882
           ],
           "marker": {
            "color": "#EF553B",
            "size": [
             5.53,
             3.74,
             12.49,
             27.92
            ],
            "sizemode": "area",
            "sizeref": 0.189625,
            "symbol": "circle"
           },
           "mode": "markers",
           "name": "Northeast",
           "showlegend": true,
           "type": "scattergeo"
          },
          {
           "geo": "geo",
           "hovertemplate": "<b>%{hovertext}</b><br><br>Region=East<br>Month_name=Aug<br>Estimated Unemployment Rate=%{marker.size}<br>longitude=%{lat}<br>latitude=%{lon}<extra></extra>",
           "hovertext": [
            "Bihar",
            "Jharkhand",
            "Odisha",
            "West Bengal"
           ],
           "lat": [
            25.0961,
            23.6102,
            20.9517,
            22.9868
           ],
           "legendgroup": "East",
           "lon": [
            85.3131,
            85.2799,
            85.0985,
            87.855
           ],
           "marker": {
            "color": "#00cc96",
            "size": [
             13.44,
             9.76,
             1.42,
             14.87
            ],
            "sizemode": "area",
            "sizeref": 0.189625,
            "symbol": "circle"
           },
           "mode": "markers",
           "name": "East",
           "showlegend": true,
           "type": "scattergeo"
          },
          {
           "geo": "geo",
           "hovertemplate": "<b>%{hovertext}</b><br><br>Region=West<br>Month_name=Aug<br>Estimated Unemployment Rate=%{marker.size}<br>longitude=%{lat}<br>latitude=%{lon}<extra></extra>",
           "hovertext": [
            "Chhattisgarh",
            "Goa",
            "Gujarat",
            "Madhya Pradesh",
            "Maharashtra"
           ],
           "lat": [
            21.2787,
            15.2993,
            22.2587,
            22.9734,
            19.7515
           ],
           "legendgroup": "West",
           "lon": [
            81.8661,
            74.124,
            71.1924,
            78.6569,
            75.7139
           ],
           "marker": {
            "color": "#ab63fa",
            "size": [
             5.63,
             16.21,
             1.87,
             4.7,
             6.23
            ],
            "sizemode": "area",
            "sizeref": 0.189625,
            "symbol": "circle"
           },
           "mode": "markers",
           "name": "West",
           "showlegend": true,
           "type": "scattergeo"
          },
          {
           "geo": "geo",
           "hovertemplate": "<b>%{hovertext}</b><br><br>Region=North<br>Month_name=Aug<br>Estimated Unemployment Rate=%{marker.size}<br>longitude=%{lat}<br>latitude=%{lon}<extra></extra>",
           "hovertext": [
            "Delhi",
            "Haryana",
            "Himachal Pradesh",
            "Jammu & Kashmir",
            "Punjab",
            "Rajasthan",
            "Uttar Pradesh",
            "Uttarakhand"
           ],
           "lat": [
            28.7041,
            29.0588,
            31.1048,
            33.7782,
            31.1471,
            27.0238,
            26.8467,
            30.0668
           ],
           "legendgroup": "North",
           "lon": [
            77.1025,
            76.0856,
            77.1734,
            76.5762,
            75.3412,
            74.2179,
            80.9462,
            79.0193
           ],
           "marker": {
            "color": "#FFA15A",
            "size": [
             13.79,
             33.5,
             15.79,
             11.09,
             10.99,
             17.51,
             5.79,
             14.26
            ],
            "sizemode": "area",
            "sizeref": 0.189625,
            "symbol": "circle"
           },
           "mode": "markers",
           "name": "North",
           "showlegend": true,
           "type": "scattergeo"
          }
         ],
         "name": "Aug"
        },
        {
         "data": [
          {
           "geo": "geo",
           "hovertemplate": "<b>%{hovertext}</b><br><br>Region=South<br>Month_name=Sep<br>Estimated Unemployment Rate=%{marker.size}<br>longitude=%{lat}<br>latitude=%{lon}<extra></extra>",
           "hovertext": [
            "Andhra Pradesh",
            "Karnataka",
            "Kerala",
            "Puducherry",
            "Tamil Nadu",
            "Telangana"
           ],
           "lat": [
            15.9129,
            15.3173,
            10.8505,
            11.9416,
            11.1271,
            18.1124
           ],
           "legendgroup": "South",
           "lon": [
            79.74,
            75.7139,
            76.2711,
            79.8083,
            78.6569,
            79.0193
           ],
           "marker": {
            "color": "#636efa",
            "size": [
             6.4,
             2.41,
             5.91,
             10.9,
             5,
             3.27
            ],
            "sizemode": "area",
            "sizeref": 0.189625,
            "symbol": "circle"
           },
           "mode": "markers",
           "name": "South",
           "showlegend": true,
           "type": "scattergeo"
          },
          {
           "geo": "geo",
           "hovertemplate": "<b>%{hovertext}</b><br><br>Region=Northeast<br>Month_name=Sep<br>Estimated Unemployment Rate=%{marker.size}<br>longitude=%{lat}<br>latitude=%{lon}<extra></extra>",
           "hovertext": [
            "Assam",
            "Meghalaya",
            "Sikkim",
            "Tripura"
           ],
           "lat": [
            26.2006,
            25.467,
            27.533,
            23.9408
           ],
           "legendgroup": "Northeast",
           "lon": [
            92.9376,
            91.3662,
            88.5122,
            91.9882
           ],
           "marker": {
            "color": "#EF553B",
            "size": [
             1.19,
             4.29,
             5.7,
             17.35
            ],
            "sizemode": "area",
            "sizeref": 0.189625,
            "symbol": "circle"
           },
           "mode": "markers",
           "name": "Northeast",
           "showlegend": true,
           "type": "scattergeo"
          },
          {
           "geo": "geo",
           "hovertemplate": "<b>%{hovertext}</b><br><br>Region=East<br>Month_name=Sep<br>Estimated Unemployment Rate=%{marker.size}<br>longitude=%{lat}<br>latitude=%{lon}<extra></extra>",
           "hovertext": [
            "Bihar",
            "Jharkhand",
            "Odisha",
            "West Bengal"
           ],
           "lat": [
            25.0961,
            23.6102,
            20.9517,
            22.9868
           ],
           "legendgroup": "East",
           "lon": [
            85.3131,
            85.2799,
            85.0985,
            87.855
           ],
           "marker": {
            "color": "#00cc96",
            "size": [
             11.91,
             8.24,
             2.1,
             9.35
            ],
            "sizemode": "area",
            "sizeref": 0.189625,
            "symbol": "circle"
           },
           "mode": "markers",
           "name": "East",
           "showlegend": true,
           "type": "scattergeo"
          },
          {
           "geo": "geo",
           "hovertemplate": "<b>%{hovertext}</b><br><br>Region=West<br>Month_name=Sep<br>Estimated Unemployment Rate=%{marker.size}<br>longitude=%{lat}<br>latitude=%{lon}<extra></extra>",
           "hovertext": [
            "Chhattisgarh",
            "Goa",
            "Gujarat",
            "Madhya Pradesh",
            "Maharashtra"
           ],
           "lat": [
            21.2787,
            15.2993,
            22.2587,
            22.9734,
            19.7515
           ],
           "legendgroup": "West",
           "lon": [
            81.8661,
            74.124,
            71.1924,
            78.6569,
            75.7139
           ],
           "marker": {
            "color": "#ab63fa",
            "size": [
             1.96,
             15.38,
             3.42,
             3.91,
             4.55
            ],
            "sizemode": "area",
            "sizeref": 0.189625,
            "symbol": "circle"
           },
           "mode": "markers",
           "name": "West",
           "showlegend": true,
           "type": "scattergeo"
          },
          {
           "geo": "geo",
           "hovertemplate": "<b>%{hovertext}</b><br><br>Region=North<br>Month_name=Sep<br>Estimated Unemployment Rate=%{marker.size}<br>longitude=%{lat}<br>latitude=%{lon}<extra></extra>",
           "hovertext": [
            "Delhi",
            "Haryana",
            "Himachal Pradesh",
            "Jammu & Kashmir",
            "Punjab",
            "Rajasthan",
            "Uttar Pradesh",
            "Uttarakhand"
           ],
           "lat": [
            28.7041,
            29.0588,
            31.1048,
            33.7782,
            31.1471,
            27.0238,
            26.8467,
            30.0668
           ],
           "legendgroup": "North",
           "lon": [
            77.1025,
            76.0856,
            77.1734,
            76.5762,
            75.3412,
            74.2179,
            80.9462,
            79.0193
           ],
           "marker": {
            "color": "#FFA15A",
            "size": [
             12.53,
             19.68,
             12.04,
             16.17,
             9.61,
             15.35,
             4.18,
             22.26
            ],
            "sizemode": "area",
            "sizeref": 0.189625,
            "symbol": "circle"
           },
           "mode": "markers",
           "name": "North",
           "showlegend": true,
           "type": "scattergeo"
          }
         ],
         "name": "Sep"
        },
        {
         "data": [
          {
           "geo": "geo",
           "hovertemplate": "<b>%{hovertext}</b><br><br>Region=South<br>Month_name=Oct<br>Estimated Unemployment Rate=%{marker.size}<br>longitude=%{lat}<br>latitude=%{lon}<extra></extra>",
           "hovertext": [
            "Andhra Pradesh",
            "Karnataka",
            "Kerala",
            "Puducherry",
            "Tamil Nadu",
            "Telangana"
           ],
           "lat": [
            15.9129,
            15.3173,
            10.8505,
            11.9416,
            11.1271,
            18.1124
           ],
           "legendgroup": "South",
           "lon": [
            79.74,
            75.7139,
            76.2711,
            79.8083,
            78.6569,
            79.0193
           ],
           "marker": {
            "color": "#636efa",
            "size": [
             6.59,
             1.58,
             3.88,
             6.18,
             2.16,
             2.86
            ],
            "sizemode": "area",
            "sizeref": 0.189625,
            "symbol": "circle"
           },
           "mode": "markers",
           "name": "South",
           "showlegend": true,
           "type": "scattergeo"
          },
          {
           "geo": "geo",
           "hovertemplate": "<b>%{hovertext}</b><br><br>Region=Northeast<br>Month_name=Oct<br>Estimated Unemployment Rate=%{marker.size}<br>longitude=%{lat}<br>latitude=%{lon}<extra></extra>",
           "hovertext": [
            "Assam",
            "Meghalaya",
            "Sikkim",
            "Tripura"
           ],
           "lat": [
            26.2006,
            25.467,
            27.533,
            23.9408
           ],
           "legendgroup": "Northeast",
           "lon": [
            92.9376,
            91.3662,
            88.5122,
            91.9882
           ],
           "marker": {
            "color": "#EF553B",
            "size": [
             3.02,
             4.6,
             0.88,
             11.57
            ],
            "sizemode": "area",
            "sizeref": 0.189625,
            "symbol": "circle"
           },
           "mode": "markers",
           "name": "Northeast",
           "showlegend": true,
           "type": "scattergeo"
          },
          {
           "geo": "geo",
           "hovertemplate": "<b>%{hovertext}</b><br><br>Region=East<br>Month_name=Oct<br>Estimated Unemployment Rate=%{marker.size}<br>longitude=%{lat}<br>latitude=%{lon}<extra></extra>",
           "hovertext": [
            "Bihar",
            "Jharkhand",
            "Odisha",
            "West Bengal"
           ],
           "lat": [
            25.0961,
            23.6102,
            20.9517,
            22.9868
           ],
           "legendgroup": "East",
           "lon": [
            85.3131,
            85.2799,
            85.0985,
            87.855
           ],
           "marker": {
            "color": "#00cc96",
            "size": [
             9.82,
             11.8,
             2.18,
             9.98
            ],
            "sizemode": "area",
            "sizeref": 0.189625,
            "symbol": "circle"
           },
           "mode": "markers",
           "name": "East",
           "showlegend": true,
           "type": "scattergeo"
          },
          {
           "geo": "geo",
           "hovertemplate": "<b>%{hovertext}</b><br><br>Region=West<br>Month_name=Oct<br>Estimated Unemployment Rate=%{marker.size}<br>longitude=%{lat}<br>latitude=%{lon}<extra></extra>",
           "hovertext": [
            "Chhattisgarh",
            "Goa",
            "Gujarat",
            "Madhya Pradesh",
            "Maharashtra"
           ],
           "lat": [
            21.2787,
            15.2993,
            22.2587,
            22.9734,
            19.7515
           ],
           "legendgroup": "West",
           "lon": [
            81.8661,
            74.124,
            71.1924,
            78.6569,
            75.7139
           ],
           "marker": {
            "color": "#ab63fa",
            "size": [
             6.62,
             11.54,
             4.03,
             3.13,
             4.1
            ],
            "sizemode": "area",
            "sizeref": 0.189625,
            "symbol": "circle"
           },
           "mode": "markers",
           "name": "West",
           "showlegend": true,
           "type": "scattergeo"
          },
          {
           "geo": "geo",
           "hovertemplate": "<b>%{hovertext}</b><br><br>Region=North<br>Month_name=Oct<br>Estimated Unemployment Rate=%{marker.size}<br>longitude=%{lat}<br>latitude=%{lon}<extra></extra>",
           "hovertext": [
            "Delhi",
            "Haryana",
            "Himachal Pradesh",
            "Jammu & Kashmir",
            "Punjab",
            "Rajasthan",
            "Uttar Pradesh",
            "Uttarakhand"
           ],
           "lat": [
            28.7041,
            29.0588,
            31.1048,
            33.7782,
            31.1471,
            27.0238,
            26.8467,
            30.0668
           ],
           "legendgroup": "North",
           "lon": [
            77.1025,
            76.0856,
            77.1734,
            76.5762,
            75.3412,
            74.2179,
            80.9462,
            79.0193
           ],
           "marker": {
            "color": "#FFA15A",
            "size": [
             6.27,
             27.31,
             13.46,
             16.14,
             9.88,
             24.15,
             3.75,
             9.23
            ],
            "sizemode": "area",
            "sizeref": 0.189625,
            "symbol": "circle"
           },
           "mode": "markers",
           "name": "North",
           "showlegend": true,
           "type": "scattergeo"
          }
         ],
         "name": "Oct"
        }
       ],
       "layout": {
        "geo": {
         "center": {},
         "domain": {
          "x": [
           0,
           1
          ],
          "y": [
           0,
           1
          ]
         },
         "lataxis": {
          "range": [
           5,
           35
          ]
         },
         "lonaxis": {
          "range": [
           65,
           100
          ]
         },
         "oceancolor": "#6dd5ed",
         "scope": "asia",
         "showocean": true
        },
        "legend": {
         "itemsizing": "constant",
         "title": {
          "text": "Region"
         },
         "tracegroupgap": 0
        },
        "sliders": [
         {
          "active": 0,
          "currentvalue": {
           "prefix": "Month_name="
          },
          "len": 0.9,
          "pad": {
           "b": 10,
           "t": 60
          },
          "steps": [
           {
            "args": [
             [
              "Jan"
             ],
             {
              "frame": {
               "duration": 0,
               "redraw": true
              },
              "fromcurrent": true,
              "mode": "immediate",
              "transition": {
               "duration": 0,
               "easing": "linear"
              }
             }
            ],
            "label": "Jan",
            "method": "animate"
           },
           {
            "args": [
             [
              "Feb"
             ],
             {
              "frame": {
               "duration": 0,
               "redraw": true
              },
              "fromcurrent": true,
              "mode": "immediate",
              "transition": {
               "duration": 0,
               "easing": "linear"
              }
             }
            ],
            "label": "Feb",
            "method": "animate"
           },
           {
            "args": [
             [
              "Mar"
             ],
             {
              "frame": {
               "duration": 0,
               "redraw": true
              },
              "fromcurrent": true,
              "mode": "immediate",
              "transition": {
               "duration": 0,
               "easing": "linear"
              }
             }
            ],
            "label": "Mar",
            "method": "animate"
           },
           {
            "args": [
             [
              "Apr"
             ],
             {
              "frame": {
               "duration": 0,
               "redraw": true
              },
              "fromcurrent": true,
              "mode": "immediate",
              "transition": {
               "duration": 0,
               "easing": "linear"
              }
             }
            ],
            "label": "Apr",
            "method": "animate"
           },
           {
            "args": [
             [
              "May"
             ],
             {
              "frame": {
               "duration": 0,
               "redraw": true
              },
              "fromcurrent": true,
              "mode": "immediate",
              "transition": {
               "duration": 0,
               "easing": "linear"
              }
             }
            ],
            "label": "May",
            "method": "animate"
           },
           {
            "args": [
             [
              "Jun"
             ],
             {
              "frame": {
               "duration": 0,
               "redraw": true
              },
              "fromcurrent": true,
              "mode": "immediate",
              "transition": {
               "duration": 0,
               "easing": "linear"
              }
             }
            ],
            "label": "Jun",
            "method": "animate"
           },
           {
            "args": [
             [
              "Jul"
             ],
             {
              "frame": {
               "duration": 0,
               "redraw": true
              },
              "fromcurrent": true,
              "mode": "immediate",
              "transition": {
               "duration": 0,
               "easing": "linear"
              }
             }
            ],
            "label": "Jul",
            "method": "animate"
           },
           {
            "args": [
             [
              "Aug"
             ],
             {
              "frame": {
               "duration": 0,
               "redraw": true
              },
              "fromcurrent": true,
              "mode": "immediate",
              "transition": {
               "duration": 0,
               "easing": "linear"
              }
             }
            ],
            "label": "Aug",
            "method": "animate"
           },
           {
            "args": [
             [
              "Sep"
             ],
             {
              "frame": {
               "duration": 0,
               "redraw": true
              },
              "fromcurrent": true,
              "mode": "immediate",
              "transition": {
               "duration": 0,
               "easing": "linear"
              }
             }
            ],
            "label": "Sep",
            "method": "animate"
           },
           {
            "args": [
             [
              "Oct"
             ],
             {
              "frame": {
               "duration": 0,
               "redraw": true
              },
              "fromcurrent": true,
              "mode": "immediate",
              "transition": {
               "duration": 0,
               "easing": "linear"
              }
             }
            ],
            "label": "Oct",
            "method": "animate"
           }
          ],
          "x": 0.1,
          "xanchor": "left",
          "y": 0,
          "yanchor": "top"
         }
        ],
        "template": {
         "data": {
          "bar": [
           {
            "error_x": {
             "color": "#2a3f5f"
            },
            "error_y": {
             "color": "#2a3f5f"
            },
            "marker": {
             "line": {
              "color": "#E5ECF6",
              "width": 0.5
             },
             "pattern": {
              "fillmode": "overlay",
              "size": 10,
              "solidity": 0.2
             }
            },
            "type": "bar"
           }
          ],
          "barpolar": [
           {
            "marker": {
             "line": {
              "color": "#E5ECF6",
              "width": 0.5
             },
             "pattern": {
              "fillmode": "overlay",
              "size": 10,
              "solidity": 0.2
             }
            },
            "type": "barpolar"
           }
          ],
          "carpet": [
           {
            "aaxis": {
             "endlinecolor": "#2a3f5f",
             "gridcolor": "white",
             "linecolor": "white",
             "minorgridcolor": "white",
             "startlinecolor": "#2a3f5f"
            },
            "baxis": {
             "endlinecolor": "#2a3f5f",
             "gridcolor": "white",
             "linecolor": "white",
             "minorgridcolor": "white",
             "startlinecolor": "#2a3f5f"
            },
            "type": "carpet"
           }
          ],
          "choropleth": [
           {
            "colorbar": {
             "outlinewidth": 0,
             "ticks": ""
            },
            "type": "choropleth"
           }
          ],
          "contour": [
           {
            "colorbar": {
             "outlinewidth": 0,
             "ticks": ""
            },
            "colorscale": [
             [
              0,
              "#0d0887"
             ],
             [
              0.1111111111111111,
              "#46039f"
             ],
             [
              0.2222222222222222,
              "#7201a8"
             ],
             [
              0.3333333333333333,
              "#9c179e"
             ],
             [
              0.4444444444444444,
              "#bd3786"
             ],
             [
              0.5555555555555556,
              "#d8576b"
             ],
             [
              0.6666666666666666,
              "#ed7953"
             ],
             [
              0.7777777777777778,
              "#fb9f3a"
             ],
             [
              0.8888888888888888,
              "#fdca26"
             ],
             [
              1,
              "#f0f921"
             ]
            ],
            "type": "contour"
           }
          ],
          "contourcarpet": [
           {
            "colorbar": {
             "outlinewidth": 0,
             "ticks": ""
            },
            "type": "contourcarpet"
           }
          ],
          "heatmap": [
           {
            "colorbar": {
             "outlinewidth": 0,
             "ticks": ""
            },
            "colorscale": [
             [
              0,
              "#0d0887"
             ],
             [
              0.1111111111111111,
              "#46039f"
             ],
             [
              0.2222222222222222,
              "#7201a8"
             ],
             [
              0.3333333333333333,
              "#9c179e"
             ],
             [
              0.4444444444444444,
              "#bd3786"
             ],
             [
              0.5555555555555556,
              "#d8576b"
             ],
             [
              0.6666666666666666,
              "#ed7953"
             ],
             [
              0.7777777777777778,
              "#fb9f3a"
             ],
             [
              0.8888888888888888,
              "#fdca26"
             ],
             [
              1,
              "#f0f921"
             ]
            ],
            "type": "heatmap"
           }
          ],
          "heatmapgl": [
           {
            "colorbar": {
             "outlinewidth": 0,
             "ticks": ""
            },
            "colorscale": [
             [
              0,
              "#0d0887"
             ],
             [
              0.1111111111111111,
              "#46039f"
             ],
             [
              0.2222222222222222,
              "#7201a8"
             ],
             [
              0.3333333333333333,
              "#9c179e"
             ],
             [
              0.4444444444444444,
              "#bd3786"
             ],
             [
              0.5555555555555556,
              "#d8576b"
             ],
             [
              0.6666666666666666,
              "#ed7953"
             ],
             [
              0.7777777777777778,
              "#fb9f3a"
             ],
             [
              0.8888888888888888,
              "#fdca26"
             ],
             [
              1,
              "#f0f921"
             ]
            ],
            "type": "heatmapgl"
           }
          ],
          "histogram": [
           {
            "marker": {
             "pattern": {
              "fillmode": "overlay",
              "size": 10,
              "solidity": 0.2
             }
            },
            "type": "histogram"
           }
          ],
          "histogram2d": [
           {
            "colorbar": {
             "outlinewidth": 0,
             "ticks": ""
            },
            "colorscale": [
             [
              0,
              "#0d0887"
             ],
             [
              0.1111111111111111,
              "#46039f"
             ],
             [
              0.2222222222222222,
              "#7201a8"
             ],
             [
              0.3333333333333333,
              "#9c179e"
             ],
             [
              0.4444444444444444,
              "#bd3786"
             ],
             [
              0.5555555555555556,
              "#d8576b"
             ],
             [
              0.6666666666666666,
              "#ed7953"
             ],
             [
              0.7777777777777778,
              "#fb9f3a"
             ],
             [
              0.8888888888888888,
              "#fdca26"
             ],
             [
              1,
              "#f0f921"
             ]
            ],
            "type": "histogram2d"
           }
          ],
          "histogram2dcontour": [
           {
            "colorbar": {
             "outlinewidth": 0,
             "ticks": ""
            },
            "colorscale": [
             [
              0,
              "#0d0887"
             ],
             [
              0.1111111111111111,
              "#46039f"
             ],
             [
              0.2222222222222222,
              "#7201a8"
             ],
             [
              0.3333333333333333,
              "#9c179e"
             ],
             [
              0.4444444444444444,
              "#bd3786"
             ],
             [
              0.5555555555555556,
              "#d8576b"
             ],
             [
              0.6666666666666666,
              "#ed7953"
             ],
             [
              0.7777777777777778,
              "#fb9f3a"
             ],
             [
              0.8888888888888888,
              "#fdca26"
             ],
             [
              1,
              "#f0f921"
             ]
            ],
            "type": "histogram2dcontour"
           }
          ],
          "mesh3d": [
           {
            "colorbar": {
             "outlinewidth": 0,
             "ticks": ""
            },
            "type": "mesh3d"
           }
          ],
          "parcoords": [
           {
            "line": {
             "colorbar": {
              "outlinewidth": 0,
              "ticks": ""
             }
            },
            "type": "parcoords"
           }
          ],
          "pie": [
           {
            "automargin": true,
            "type": "pie"
           }
          ],
          "scatter": [
           {
            "fillpattern": {
             "fillmode": "overlay",
             "size": 10,
             "solidity": 0.2
            },
            "type": "scatter"
           }
          ],
          "scatter3d": [
           {
            "line": {
             "colorbar": {
              "outlinewidth": 0,
              "ticks": ""
             }
            },
            "marker": {
             "colorbar": {
              "outlinewidth": 0,
              "ticks": ""
             }
            },
            "type": "scatter3d"
           }
          ],
          "scattercarpet": [
           {
            "marker": {
             "colorbar": {
              "outlinewidth": 0,
              "ticks": ""
             }
            },
            "type": "scattercarpet"
           }
          ],
          "scattergeo": [
           {
            "marker": {
             "colorbar": {
              "outlinewidth": 0,
              "ticks": ""
             }
            },
            "type": "scattergeo"
           }
          ],
          "scattergl": [
           {
            "marker": {
             "colorbar": {
              "outlinewidth": 0,
              "ticks": ""
             }
            },
            "type": "scattergl"
           }
          ],
          "scattermapbox": [
           {
            "marker": {
             "colorbar": {
              "outlinewidth": 0,
              "ticks": ""
             }
            },
            "type": "scattermapbox"
           }
          ],
          "scatterpolar": [
           {
            "marker": {
             "colorbar": {
              "outlinewidth": 0,
              "ticks": ""
             }
            },
            "type": "scatterpolar"
           }
          ],
          "scatterpolargl": [
           {
            "marker": {
             "colorbar": {
              "outlinewidth": 0,
              "ticks": ""
             }
            },
            "type": "scatterpolargl"
           }
          ],
          "scatterternary": [
           {
            "marker": {
             "colorbar": {
              "outlinewidth": 0,
              "ticks": ""
             }
            },
            "type": "scatterternary"
           }
          ],
          "surface": [
           {
            "colorbar": {
             "outlinewidth": 0,
             "ticks": ""
            },
            "colorscale": [
             [
              0,
              "#0d0887"
             ],
             [
              0.1111111111111111,
              "#46039f"
             ],
             [
              0.2222222222222222,
              "#7201a8"
             ],
             [
              0.3333333333333333,
              "#9c179e"
             ],
             [
              0.4444444444444444,
              "#bd3786"
             ],
             [
              0.5555555555555556,
              "#d8576b"
             ],
             [
              0.6666666666666666,
              "#ed7953"
             ],
             [
              0.7777777777777778,
              "#fb9f3a"
             ],
             [
              0.8888888888888888,
              "#fdca26"
             ],
             [
              1,
              "#f0f921"
             ]
            ],
            "type": "surface"
           }
          ],
          "table": [
           {
            "cells": {
             "fill": {
              "color": "#EBF0F8"
             },
             "line": {
              "color": "white"
             }
            },
            "header": {
             "fill": {
              "color": "#C8D4E3"
             },
             "line": {
              "color": "white"
             }
            },
            "type": "table"
           }
          ]
         },
         "layout": {
          "annotationdefaults": {
           "arrowcolor": "#2a3f5f",
           "arrowhead": 0,
           "arrowwidth": 1
          },
          "autotypenumbers": "strict",
          "coloraxis": {
           "colorbar": {
            "outlinewidth": 0,
            "ticks": ""
           }
          },
          "colorscale": {
           "diverging": [
            [
             0,
             "#8e0152"
            ],
            [
             0.1,
             "#c51b7d"
            ],
            [
             0.2,
             "#de77ae"
            ],
            [
             0.3,
             "#f1b6da"
            ],
            [
             0.4,
             "#fde0ef"
            ],
            [
             0.5,
             "#f7f7f7"
            ],
            [
             0.6,
             "#e6f5d0"
            ],
            [
             0.7,
             "#b8e186"
            ],
            [
             0.8,
             "#7fbc41"
            ],
            [
             0.9,
             "#4d9221"
            ],
            [
             1,
             "#276419"
            ]
           ],
           "sequential": [
            [
             0,
             "#0d0887"
            ],
            [
             0.1111111111111111,
             "#46039f"
            ],
            [
             0.2222222222222222,
             "#7201a8"
            ],
            [
             0.3333333333333333,
             "#9c179e"
            ],
            [
             0.4444444444444444,
             "#bd3786"
            ],
            [
             0.5555555555555556,
             "#d8576b"
            ],
            [
             0.6666666666666666,
             "#ed7953"
            ],
            [
             0.7777777777777778,
             "#fb9f3a"
            ],
            [
             0.8888888888888888,
             "#fdca26"
            ],
            [
             1,
             "#f0f921"
            ]
           ],
           "sequentialminus": [
            [
             0,
             "#0d0887"
            ],
            [
             0.1111111111111111,
             "#46039f"
            ],
            [
             0.2222222222222222,
             "#7201a8"
            ],
            [
             0.3333333333333333,
             "#9c179e"
            ],
            [
             0.4444444444444444,
             "#bd3786"
            ],
            [
             0.5555555555555556,
             "#d8576b"
            ],
            [
             0.6666666666666666,
             "#ed7953"
            ],
            [
             0.7777777777777778,
             "#fb9f3a"
            ],
            [
             0.8888888888888888,
             "#fdca26"
            ],
            [
             1,
             "#f0f921"
            ]
           ]
          },
          "colorway": [
           "#636efa",
           "#EF553B",
           "#00cc96",
           "#ab63fa",
           "#FFA15A",
           "#19d3f3",
           "#FF6692",
           "#B6E880",
           "#FF97FF",
           "#FECB52"
          ],
          "font": {
           "color": "#2a3f5f"
          },
          "geo": {
           "bgcolor": "white",
           "lakecolor": "white",
           "landcolor": "#E5ECF6",
           "showlakes": true,
           "showland": true,
           "subunitcolor": "white"
          },
          "hoverlabel": {
           "align": "left"
          },
          "hovermode": "closest",
          "mapbox": {
           "style": "light"
          },
          "paper_bgcolor": "white",
          "plot_bgcolor": "#E5ECF6",
          "polar": {
           "angularaxis": {
            "gridcolor": "white",
            "linecolor": "white",
            "ticks": ""
           },
           "bgcolor": "#E5ECF6",
           "radialaxis": {
            "gridcolor": "white",
            "linecolor": "white",
            "ticks": ""
           }
          },
          "scene": {
           "xaxis": {
            "backgroundcolor": "#E5ECF6",
            "gridcolor": "white",
            "gridwidth": 2,
            "linecolor": "white",
            "showbackground": true,
            "ticks": "",
            "zerolinecolor": "white"
           },
           "yaxis": {
            "backgroundcolor": "#E5ECF6",
            "gridcolor": "white",
            "gridwidth": 2,
            "linecolor": "white",
            "showbackground": true,
            "ticks": "",
            "zerolinecolor": "white"
           },
           "zaxis": {
            "backgroundcolor": "#E5ECF6",
            "gridcolor": "white",
            "gridwidth": 2,
            "linecolor": "white",
            "showbackground": true,
            "ticks": "",
            "zerolinecolor": "white"
           }
          },
          "shapedefaults": {
           "line": {
            "color": "#2a3f5f"
           }
          },
          "ternary": {
           "aaxis": {
            "gridcolor": "white",
            "linecolor": "white",
            "ticks": ""
           },
           "baxis": {
            "gridcolor": "white",
            "linecolor": "white",
            "ticks": ""
           },
           "bgcolor": "#E5ECF6",
           "caxis": {
            "gridcolor": "white",
            "linecolor": "white",
            "ticks": ""
           }
          },
          "title": {
           "x": 0.05
          },
          "xaxis": {
           "automargin": true,
           "gridcolor": "white",
           "linecolor": "white",
           "ticks": "",
           "title": {
            "standoff": 15
           },
           "zerolinecolor": "white",
           "zerolinewidth": 2
          },
          "yaxis": {
           "automargin": true,
           "gridcolor": "white",
           "linecolor": "white",
           "ticks": "",
           "title": {
            "standoff": 15
           },
           "zerolinecolor": "white",
           "zerolinewidth": 2
          }
         }
        },
        "title": {
         "text": "Impack of lockdown on employement across regions"
        },
        "updatemenus": [
         {
          "buttons": [
           {
            "args": [
             null,
             {
              "frame": {
               "duration": 2000,
               "redraw": true
              },
              "fromcurrent": true,
              "mode": "immediate",
              "transition": {
               "duration": 500,
               "easing": "linear"
              }
             }
            ],
            "label": "&#9654;",
            "method": "animate"
           },
           {
            "args": [
             [
              null
             ],
             {
              "frame": {
               "duration": 0,
               "redraw": true
              },
              "fromcurrent": true,
              "mode": "immediate",
              "transition": {
               "duration": 0,
               "easing": "linear"
              }
             }
            ],
            "label": "&#9724;",
            "method": "animate"
           }
          ],
          "direction": "left",
          "pad": {
           "r": 10,
           "t": 70
          },
          "showactive": false,
          "type": "buttons",
          "x": 0.1,
          "xanchor": "right",
          "y": 0,
          "yanchor": "top"
         }
        ]
       }
      }
     },
     "metadata": {},
     "output_type": "display_data"
    }
   ],
   "source": [
    "fig = px.scatter_geo(un_data,'longitude', 'latitude', color=\"Region\",\n",
    "                     hover_name=\"States\", size=\"Estimated Unemployment Rate\",\n",
    "                     animation_frame=\"Month_name\",scope='asia',template='plotly',title='Impack of lockdown on employement across regions')\n",
    "\n",
    "fig.layout.updatemenus[0].buttons[0].args[1][\"frame\"][\"duration\"] = 2000\n",
    "\n",
    "fig.update_geos(lataxis_range=[5,35], lonaxis_range=[65, 100],oceancolor=\"#6dd5ed\",\n",
    "    showocean=True)\n",
    "\n",
    "fig.show()"
   ]
  },
  {
   "cell_type": "code",
   "execution_count": 17,
   "id": "aa15751d",
   "metadata": {},
   "outputs": [
    {
     "data": {
      "text/html": [
       "<div>\n",
       "<style scoped>\n",
       "    .dataframe tbody tr th:only-of-type {\n",
       "        vertical-align: middle;\n",
       "    }\n",
       "\n",
       "    .dataframe tbody tr th {\n",
       "        vertical-align: top;\n",
       "    }\n",
       "\n",
       "    .dataframe thead th {\n",
       "        text-align: right;\n",
       "    }\n",
       "</style>\n",
       "<table border=\"1\" class=\"dataframe\">\n",
       "  <thead>\n",
       "    <tr style=\"text-align: right;\">\n",
       "      <th></th>\n",
       "      <th>States</th>\n",
       "      <th>Unemployment Rate after lockdown</th>\n",
       "      <th>Unemployment Rate before lockdown</th>\n",
       "    </tr>\n",
       "  </thead>\n",
       "  <tbody>\n",
       "    <tr>\n",
       "      <th>0</th>\n",
       "      <td>Andhra Pradesh</td>\n",
       "      <td>12.3975</td>\n",
       "      <td>9.4025</td>\n",
       "    </tr>\n",
       "    <tr>\n",
       "      <th>1</th>\n",
       "      <td>Assam</td>\n",
       "      <td>6.2450</td>\n",
       "      <td>6.2250</td>\n",
       "    </tr>\n",
       "  </tbody>\n",
       "</table>\n",
       "</div>"
      ],
      "text/plain": [
       "           States  Unemployment Rate after lockdown  \\\n",
       "0  Andhra Pradesh                           12.3975   \n",
       "1           Assam                            6.2450   \n",
       "\n",
       "   Unemployment Rate before lockdown  \n",
       "0                             9.4025  \n",
       "1                             6.2250  "
      ]
     },
     "execution_count": 17,
     "metadata": {},
     "output_type": "execute_result"
    }
   ],
   "source": [
    "lock = un_data[(un_data['Month_int'] >= 4) & (un_data['Month_int'] <=7)]\n",
    "bf_lock = un_data[(un_data['Month_int'] >= 1) & (un_data['Month_int'] <=4)]\n",
    "g_lock = lock.groupby('States')['Estimated Unemployment Rate'].mean().reset_index()\n",
    "g_bf_lock = bf_lock.groupby('States')['Estimated Unemployment Rate'].mean().reset_index()\n",
    "g_lock['Unemployment Rate before lockdown'] = g_bf_lock['Estimated Unemployment Rate']\n",
    "g_lock.columns = ['States','Unemployment Rate after lockdown','Unemployment Rate before lockdown']\n",
    "g_lock.head(2)"
   ]
  },
  {
   "cell_type": "code",
   "execution_count": 18,
   "id": "e319db35",
   "metadata": {},
   "outputs": [],
   "source": [
    "# percentage change in unemployment rate\n",
    "\n",
    "g_lock['percentage change in unemployment'] = round(g_lock['Unemployment Rate after lockdown'] - g_lock['Unemployment Rate before lockdown']/g_lock['Unemployment Rate before lockdown'],2)\n",
    "plot_per = g_lock.sort_values('percentage change in unemployment')"
   ]
  },
  {
   "cell_type": "code",
   "execution_count": 19,
   "id": "2dcbdd49",
   "metadata": {},
   "outputs": [
    {
     "data": {
      "application/vnd.plotly.v1+json": {
       "config": {
        "plotlyServerURL": "https://plot.ly"
       },
       "data": [
        {
         "alignmentgroup": "True",
         "hovertemplate": "States=%{x}<br>percentage change in unemployment=%{marker.color}<extra></extra>",
         "legendgroup": "",
         "marker": {
          "color": [
           3.8,
           5.24,
           7.87,
           7.93,
           7.96,
           8.22,
           8.6,
           9.2,
           10.48,
           11.24,
           11.37,
           11.4,
           11.92,
           13.23,
           13.24,
           14.4,
           14.56,
           14.85,
           14.91,
           15.73,
           23.36,
           24.5,
           24.67,
           29.78,
           29.8,
           32.72,
           37.44
          ],
          "coloraxis": "coloraxis",
          "pattern": {
           "shape": ""
          }
         },
         "name": "",
         "offsetgroup": "",
         "orientation": "v",
         "showlegend": false,
         "textposition": "auto",
         "type": "bar",
         "x": [
          "Meghalaya",
          "Assam",
          "Uttarakhand",
          "Sikkim",
          "Gujarat",
          "Telangana",
          "Chhattisgarh",
          "Odisha",
          "Madhya Pradesh",
          "West Bengal",
          "Maharashtra",
          "Andhra Pradesh",
          "Kerala",
          "Punjab",
          "Uttar Pradesh",
          "Goa",
          "Karnataka",
          "Jammu & Kashmir",
          "Rajasthan",
          "Himachal Pradesh",
          "Delhi",
          "Tamil Nadu",
          "Tripura",
          "Haryana",
          "Bihar",
          "Jharkhand",
          "Puducherry"
         ],
         "xaxis": "x",
         "y": [
          3.8,
          5.24,
          7.87,
          7.93,
          7.96,
          8.22,
          8.6,
          9.2,
          10.48,
          11.24,
          11.37,
          11.4,
          11.92,
          13.23,
          13.24,
          14.4,
          14.56,
          14.85,
          14.91,
          15.73,
          23.36,
          24.5,
          24.67,
          29.78,
          29.8,
          32.72,
          37.44
         ],
         "yaxis": "y"
        }
       ],
       "layout": {
        "barmode": "relative",
        "coloraxis": {
         "colorbar": {
          "title": {
           "text": "percentage change in unemployment"
          }
         },
         "colorscale": [
          [
           0,
           "rgb(20,44,66)"
          ],
          [
           1,
           "rgb(90,179,244)"
          ]
         ]
        },
        "legend": {
         "tracegroupgap": 0
        },
        "template": {
         "data": {
          "bar": [
           {
            "error_x": {
             "color": "rgb(51,51,51)"
            },
            "error_y": {
             "color": "rgb(51,51,51)"
            },
            "marker": {
             "line": {
              "color": "rgb(237,237,237)",
              "width": 0.5
             },
             "pattern": {
              "fillmode": "overlay",
              "size": 10,
              "solidity": 0.2
             }
            },
            "type": "bar"
           }
          ],
          "barpolar": [
           {
            "marker": {
             "line": {
              "color": "rgb(237,237,237)",
              "width": 0.5
             },
             "pattern": {
              "fillmode": "overlay",
              "size": 10,
              "solidity": 0.2
             }
            },
            "type": "barpolar"
           }
          ],
          "carpet": [
           {
            "aaxis": {
             "endlinecolor": "rgb(51,51,51)",
             "gridcolor": "white",
             "linecolor": "white",
             "minorgridcolor": "white",
             "startlinecolor": "rgb(51,51,51)"
            },
            "baxis": {
             "endlinecolor": "rgb(51,51,51)",
             "gridcolor": "white",
             "linecolor": "white",
             "minorgridcolor": "white",
             "startlinecolor": "rgb(51,51,51)"
            },
            "type": "carpet"
           }
          ],
          "choropleth": [
           {
            "colorbar": {
             "outlinewidth": 0,
             "tickcolor": "rgb(237,237,237)",
             "ticklen": 6,
             "ticks": "inside"
            },
            "type": "choropleth"
           }
          ],
          "contour": [
           {
            "colorbar": {
             "outlinewidth": 0,
             "tickcolor": "rgb(237,237,237)",
             "ticklen": 6,
             "ticks": "inside"
            },
            "colorscale": [
             [
              0,
              "rgb(20,44,66)"
             ],
             [
              1,
              "rgb(90,179,244)"
             ]
            ],
            "type": "contour"
           }
          ],
          "contourcarpet": [
           {
            "colorbar": {
             "outlinewidth": 0,
             "tickcolor": "rgb(237,237,237)",
             "ticklen": 6,
             "ticks": "inside"
            },
            "type": "contourcarpet"
           }
          ],
          "heatmap": [
           {
            "colorbar": {
             "outlinewidth": 0,
             "tickcolor": "rgb(237,237,237)",
             "ticklen": 6,
             "ticks": "inside"
            },
            "colorscale": [
             [
              0,
              "rgb(20,44,66)"
             ],
             [
              1,
              "rgb(90,179,244)"
             ]
            ],
            "type": "heatmap"
           }
          ],
          "heatmapgl": [
           {
            "colorbar": {
             "outlinewidth": 0,
             "tickcolor": "rgb(237,237,237)",
             "ticklen": 6,
             "ticks": "inside"
            },
            "colorscale": [
             [
              0,
              "rgb(20,44,66)"
             ],
             [
              1,
              "rgb(90,179,244)"
             ]
            ],
            "type": "heatmapgl"
           }
          ],
          "histogram": [
           {
            "marker": {
             "pattern": {
              "fillmode": "overlay",
              "size": 10,
              "solidity": 0.2
             }
            },
            "type": "histogram"
           }
          ],
          "histogram2d": [
           {
            "colorbar": {
             "outlinewidth": 0,
             "tickcolor": "rgb(237,237,237)",
             "ticklen": 6,
             "ticks": "inside"
            },
            "colorscale": [
             [
              0,
              "rgb(20,44,66)"
             ],
             [
              1,
              "rgb(90,179,244)"
             ]
            ],
            "type": "histogram2d"
           }
          ],
          "histogram2dcontour": [
           {
            "colorbar": {
             "outlinewidth": 0,
             "tickcolor": "rgb(237,237,237)",
             "ticklen": 6,
             "ticks": "inside"
            },
            "colorscale": [
             [
              0,
              "rgb(20,44,66)"
             ],
             [
              1,
              "rgb(90,179,244)"
             ]
            ],
            "type": "histogram2dcontour"
           }
          ],
          "mesh3d": [
           {
            "colorbar": {
             "outlinewidth": 0,
             "tickcolor": "rgb(237,237,237)",
             "ticklen": 6,
             "ticks": "inside"
            },
            "type": "mesh3d"
           }
          ],
          "parcoords": [
           {
            "line": {
             "colorbar": {
              "outlinewidth": 0,
              "tickcolor": "rgb(237,237,237)",
              "ticklen": 6,
              "ticks": "inside"
             }
            },
            "type": "parcoords"
           }
          ],
          "pie": [
           {
            "automargin": true,
            "type": "pie"
           }
          ],
          "scatter": [
           {
            "fillpattern": {
             "fillmode": "overlay",
             "size": 10,
             "solidity": 0.2
            },
            "type": "scatter"
           }
          ],
          "scatter3d": [
           {
            "line": {
             "colorbar": {
              "outlinewidth": 0,
              "tickcolor": "rgb(237,237,237)",
              "ticklen": 6,
              "ticks": "inside"
             }
            },
            "marker": {
             "colorbar": {
              "outlinewidth": 0,
              "tickcolor": "rgb(237,237,237)",
              "ticklen": 6,
              "ticks": "inside"
             }
            },
            "type": "scatter3d"
           }
          ],
          "scattercarpet": [
           {
            "marker": {
             "colorbar": {
              "outlinewidth": 0,
              "tickcolor": "rgb(237,237,237)",
              "ticklen": 6,
              "ticks": "inside"
             }
            },
            "type": "scattercarpet"
           }
          ],
          "scattergeo": [
           {
            "marker": {
             "colorbar": {
              "outlinewidth": 0,
              "tickcolor": "rgb(237,237,237)",
              "ticklen": 6,
              "ticks": "inside"
             }
            },
            "type": "scattergeo"
           }
          ],
          "scattergl": [
           {
            "marker": {
             "colorbar": {
              "outlinewidth": 0,
              "tickcolor": "rgb(237,237,237)",
              "ticklen": 6,
              "ticks": "inside"
             }
            },
            "type": "scattergl"
           }
          ],
          "scattermapbox": [
           {
            "marker": {
             "colorbar": {
              "outlinewidth": 0,
              "tickcolor": "rgb(237,237,237)",
              "ticklen": 6,
              "ticks": "inside"
             }
            },
            "type": "scattermapbox"
           }
          ],
          "scatterpolar": [
           {
            "marker": {
             "colorbar": {
              "outlinewidth": 0,
              "tickcolor": "rgb(237,237,237)",
              "ticklen": 6,
              "ticks": "inside"
             }
            },
            "type": "scatterpolar"
           }
          ],
          "scatterpolargl": [
           {
            "marker": {
             "colorbar": {
              "outlinewidth": 0,
              "tickcolor": "rgb(237,237,237)",
              "ticklen": 6,
              "ticks": "inside"
             }
            },
            "type": "scatterpolargl"
           }
          ],
          "scatterternary": [
           {
            "marker": {
             "colorbar": {
              "outlinewidth": 0,
              "tickcolor": "rgb(237,237,237)",
              "ticklen": 6,
              "ticks": "inside"
             }
            },
            "type": "scatterternary"
           }
          ],
          "surface": [
           {
            "colorbar": {
             "outlinewidth": 0,
             "tickcolor": "rgb(237,237,237)",
             "ticklen": 6,
             "ticks": "inside"
            },
            "colorscale": [
             [
              0,
              "rgb(20,44,66)"
             ],
             [
              1,
              "rgb(90,179,244)"
             ]
            ],
            "type": "surface"
           }
          ],
          "table": [
           {
            "cells": {
             "fill": {
              "color": "rgb(237,237,237)"
             },
             "line": {
              "color": "white"
             }
            },
            "header": {
             "fill": {
              "color": "rgb(217,217,217)"
             },
             "line": {
              "color": "white"
             }
            },
            "type": "table"
           }
          ]
         },
         "layout": {
          "annotationdefaults": {
           "arrowhead": 0,
           "arrowwidth": 1
          },
          "autotypenumbers": "strict",
          "coloraxis": {
           "colorbar": {
            "outlinewidth": 0,
            "tickcolor": "rgb(237,237,237)",
            "ticklen": 6,
            "ticks": "inside"
           }
          },
          "colorscale": {
           "sequential": [
            [
             0,
             "rgb(20,44,66)"
            ],
            [
             1,
             "rgb(90,179,244)"
            ]
           ],
           "sequentialminus": [
            [
             0,
             "rgb(20,44,66)"
            ],
            [
             1,
             "rgb(90,179,244)"
            ]
           ]
          },
          "colorway": [
           "#F8766D",
           "#A3A500",
           "#00BF7D",
           "#00B0F6",
           "#E76BF3"
          ],
          "font": {
           "color": "rgb(51,51,51)"
          },
          "geo": {
           "bgcolor": "white",
           "lakecolor": "white",
           "landcolor": "rgb(237,237,237)",
           "showlakes": true,
           "showland": true,
           "subunitcolor": "white"
          },
          "hoverlabel": {
           "align": "left"
          },
          "hovermode": "closest",
          "paper_bgcolor": "white",
          "plot_bgcolor": "rgb(237,237,237)",
          "polar": {
           "angularaxis": {
            "gridcolor": "white",
            "linecolor": "white",
            "showgrid": true,
            "tickcolor": "rgb(51,51,51)",
            "ticks": "outside"
           },
           "bgcolor": "rgb(237,237,237)",
           "radialaxis": {
            "gridcolor": "white",
            "linecolor": "white",
            "showgrid": true,
            "tickcolor": "rgb(51,51,51)",
            "ticks": "outside"
           }
          },
          "scene": {
           "xaxis": {
            "backgroundcolor": "rgb(237,237,237)",
            "gridcolor": "white",
            "gridwidth": 2,
            "linecolor": "white",
            "showbackground": true,
            "showgrid": true,
            "tickcolor": "rgb(51,51,51)",
            "ticks": "outside",
            "zerolinecolor": "white"
           },
           "yaxis": {
            "backgroundcolor": "rgb(237,237,237)",
            "gridcolor": "white",
            "gridwidth": 2,
            "linecolor": "white",
            "showbackground": true,
            "showgrid": true,
            "tickcolor": "rgb(51,51,51)",
            "ticks": "outside",
            "zerolinecolor": "white"
           },
           "zaxis": {
            "backgroundcolor": "rgb(237,237,237)",
            "gridcolor": "white",
            "gridwidth": 2,
            "linecolor": "white",
            "showbackground": true,
            "showgrid": true,
            "tickcolor": "rgb(51,51,51)",
            "ticks": "outside",
            "zerolinecolor": "white"
           }
          },
          "shapedefaults": {
           "fillcolor": "black",
           "line": {
            "width": 0
           },
           "opacity": 0.3
          },
          "ternary": {
           "aaxis": {
            "gridcolor": "white",
            "linecolor": "white",
            "showgrid": true,
            "tickcolor": "rgb(51,51,51)",
            "ticks": "outside"
           },
           "baxis": {
            "gridcolor": "white",
            "linecolor": "white",
            "showgrid": true,
            "tickcolor": "rgb(51,51,51)",
            "ticks": "outside"
           },
           "bgcolor": "rgb(237,237,237)",
           "caxis": {
            "gridcolor": "white",
            "linecolor": "white",
            "showgrid": true,
            "tickcolor": "rgb(51,51,51)",
            "ticks": "outside"
           }
          },
          "xaxis": {
           "automargin": true,
           "gridcolor": "white",
           "linecolor": "white",
           "showgrid": true,
           "tickcolor": "rgb(51,51,51)",
           "ticks": "outside",
           "title": {
            "standoff": 15
           },
           "zerolinecolor": "white"
          },
          "yaxis": {
           "automargin": true,
           "gridcolor": "white",
           "linecolor": "white",
           "showgrid": true,
           "tickcolor": "rgb(51,51,51)",
           "ticks": "outside",
           "title": {
            "standoff": 15
           },
           "zerolinecolor": "white"
          }
         }
        },
        "title": {
         "text": "percentage change in Unemployment in each state after lockdown"
        },
        "xaxis": {
         "anchor": "y",
         "domain": [
          0,
          1
         ],
         "title": {
          "text": "States"
         }
        },
        "yaxis": {
         "anchor": "x",
         "domain": [
          0,
          1
         ],
         "title": {
          "text": "percentage change in unemployment"
         }
        }
       }
      }
     },
     "metadata": {},
     "output_type": "display_data"
    }
   ],
   "source": [
    "# percentage change in unemployment after lockdown\n",
    "\n",
    "fig = px.bar(plot_per, x='States',y='percentage change in unemployment',color='percentage change in unemployment',\n",
    "            title='percentage change in Unemployment in each state after lockdown',template='ggplot2')\n",
    "fig.show()"
   ]
  },
  {
   "cell_type": "markdown",
   "id": "6e8b743a",
   "metadata": {},
   "source": [
    "# Most impacted States/Union Territories"
   ]
  },
  {
   "cell_type": "markdown",
   "id": "dd143927",
   "metadata": {},
   "source": [
    "1) Puducherry\n",
    "2) Jharkhand\n",
    "3) Bihar\n",
    "4) Haryana\n",
    "5) Tripura"
   ]
  },
  {
   "cell_type": "code",
   "execution_count": 20,
   "id": "435d86ad",
   "metadata": {},
   "outputs": [],
   "source": [
    "# function to sort value based on impact\n",
    "\n",
    "def sort_impact(x):\n",
    "    if x <= 10:\n",
    "        return 'impacted States'\n",
    "    elif x <= 20:\n",
    "        return 'hard impacted States'\n",
    "    elif x <= 30:\n",
    "        return 'harder impacted States'\n",
    "    elif x <= 40:\n",
    "        return 'hardest impacted States'\n",
    "    return x"
   ]
  },
  {
   "cell_type": "code",
   "execution_count": 21,
   "id": "11dbaffc",
   "metadata": {},
   "outputs": [],
   "source": [
    "plot_per['impact status'] = plot_per['percentage change in unemployment'].apply(lambda x:sort_impact(x))"
   ]
  },
  {
   "cell_type": "code",
   "execution_count": 22,
   "id": "22d40fbf",
   "metadata": {},
   "outputs": [
    {
     "data": {
      "application/vnd.plotly.v1+json": {
       "config": {
        "plotlyServerURL": "https://plot.ly"
       },
       "data": [
        {
         "alignmentgroup": "True",
         "hovertemplate": "impact status=impacted States<br>percentage change in unemployment=%{x}<br>States=%{y}<extra></extra>",
         "legendgroup": "impacted States",
         "marker": {
          "color": "#F8766D",
          "pattern": {
           "shape": ""
          }
         },
         "name": "impacted States",
         "offsetgroup": "impacted States",
         "orientation": "h",
         "showlegend": true,
         "textposition": "auto",
         "type": "bar",
         "x": [
          3.8,
          5.24,
          7.87,
          7.93,
          7.96,
          8.22,
          8.6,
          9.2
         ],
         "xaxis": "x",
         "y": [
          "Meghalaya",
          "Assam",
          "Uttarakhand",
          "Sikkim",
          "Gujarat",
          "Telangana",
          "Chhattisgarh",
          "Odisha"
         ],
         "yaxis": "y"
        },
        {
         "alignmentgroup": "True",
         "hovertemplate": "impact status=hard impacted States<br>percentage change in unemployment=%{x}<br>States=%{y}<extra></extra>",
         "legendgroup": "hard impacted States",
         "marker": {
          "color": "#A3A500",
          "pattern": {
           "shape": ""
          }
         },
         "name": "hard impacted States",
         "offsetgroup": "hard impacted States",
         "orientation": "h",
         "showlegend": true,
         "textposition": "auto",
         "type": "bar",
         "x": [
          10.48,
          11.24,
          11.37,
          11.4,
          11.92,
          13.23,
          13.24,
          14.4,
          14.56,
          14.85,
          14.91,
          15.73
         ],
         "xaxis": "x",
         "y": [
          "Madhya Pradesh",
          "West Bengal",
          "Maharashtra",
          "Andhra Pradesh",
          "Kerala",
          "Punjab",
          "Uttar Pradesh",
          "Goa",
          "Karnataka",
          "Jammu & Kashmir",
          "Rajasthan",
          "Himachal Pradesh"
         ],
         "yaxis": "y"
        },
        {
         "alignmentgroup": "True",
         "hovertemplate": "impact status=harder impacted States<br>percentage change in unemployment=%{x}<br>States=%{y}<extra></extra>",
         "legendgroup": "harder impacted States",
         "marker": {
          "color": "#00BF7D",
          "pattern": {
           "shape": ""
          }
         },
         "name": "harder impacted States",
         "offsetgroup": "harder impacted States",
         "orientation": "h",
         "showlegend": true,
         "textposition": "auto",
         "type": "bar",
         "x": [
          23.36,
          24.5,
          24.67,
          29.78,
          29.8
         ],
         "xaxis": "x",
         "y": [
          "Delhi",
          "Tamil Nadu",
          "Tripura",
          "Haryana",
          "Bihar"
         ],
         "yaxis": "y"
        },
        {
         "alignmentgroup": "True",
         "hovertemplate": "impact status=hardest impacted States<br>percentage change in unemployment=%{x}<br>States=%{y}<extra></extra>",
         "legendgroup": "hardest impacted States",
         "marker": {
          "color": "#00B0F6",
          "pattern": {
           "shape": ""
          }
         },
         "name": "hardest impacted States",
         "offsetgroup": "hardest impacted States",
         "orientation": "h",
         "showlegend": true,
         "textposition": "auto",
         "type": "bar",
         "x": [
          32.72,
          37.44
         ],
         "xaxis": "x",
         "y": [
          "Jharkhand",
          "Puducherry"
         ],
         "yaxis": "y"
        }
       ],
       "layout": {
        "barmode": "relative",
        "height": 650,
        "legend": {
         "title": {
          "text": "impact status"
         },
         "tracegroupgap": 0
        },
        "template": {
         "data": {
          "bar": [
           {
            "error_x": {
             "color": "rgb(51,51,51)"
            },
            "error_y": {
             "color": "rgb(51,51,51)"
            },
            "marker": {
             "line": {
              "color": "rgb(237,237,237)",
              "width": 0.5
             },
             "pattern": {
              "fillmode": "overlay",
              "size": 10,
              "solidity": 0.2
             }
            },
            "type": "bar"
           }
          ],
          "barpolar": [
           {
            "marker": {
             "line": {
              "color": "rgb(237,237,237)",
              "width": 0.5
             },
             "pattern": {
              "fillmode": "overlay",
              "size": 10,
              "solidity": 0.2
             }
            },
            "type": "barpolar"
           }
          ],
          "carpet": [
           {
            "aaxis": {
             "endlinecolor": "rgb(51,51,51)",
             "gridcolor": "white",
             "linecolor": "white",
             "minorgridcolor": "white",
             "startlinecolor": "rgb(51,51,51)"
            },
            "baxis": {
             "endlinecolor": "rgb(51,51,51)",
             "gridcolor": "white",
             "linecolor": "white",
             "minorgridcolor": "white",
             "startlinecolor": "rgb(51,51,51)"
            },
            "type": "carpet"
           }
          ],
          "choropleth": [
           {
            "colorbar": {
             "outlinewidth": 0,
             "tickcolor": "rgb(237,237,237)",
             "ticklen": 6,
             "ticks": "inside"
            },
            "type": "choropleth"
           }
          ],
          "contour": [
           {
            "colorbar": {
             "outlinewidth": 0,
             "tickcolor": "rgb(237,237,237)",
             "ticklen": 6,
             "ticks": "inside"
            },
            "colorscale": [
             [
              0,
              "rgb(20,44,66)"
             ],
             [
              1,
              "rgb(90,179,244)"
             ]
            ],
            "type": "contour"
           }
          ],
          "contourcarpet": [
           {
            "colorbar": {
             "outlinewidth": 0,
             "tickcolor": "rgb(237,237,237)",
             "ticklen": 6,
             "ticks": "inside"
            },
            "type": "contourcarpet"
           }
          ],
          "heatmap": [
           {
            "colorbar": {
             "outlinewidth": 0,
             "tickcolor": "rgb(237,237,237)",
             "ticklen": 6,
             "ticks": "inside"
            },
            "colorscale": [
             [
              0,
              "rgb(20,44,66)"
             ],
             [
              1,
              "rgb(90,179,244)"
             ]
            ],
            "type": "heatmap"
           }
          ],
          "heatmapgl": [
           {
            "colorbar": {
             "outlinewidth": 0,
             "tickcolor": "rgb(237,237,237)",
             "ticklen": 6,
             "ticks": "inside"
            },
            "colorscale": [
             [
              0,
              "rgb(20,44,66)"
             ],
             [
              1,
              "rgb(90,179,244)"
             ]
            ],
            "type": "heatmapgl"
           }
          ],
          "histogram": [
           {
            "marker": {
             "pattern": {
              "fillmode": "overlay",
              "size": 10,
              "solidity": 0.2
             }
            },
            "type": "histogram"
           }
          ],
          "histogram2d": [
           {
            "colorbar": {
             "outlinewidth": 0,
             "tickcolor": "rgb(237,237,237)",
             "ticklen": 6,
             "ticks": "inside"
            },
            "colorscale": [
             [
              0,
              "rgb(20,44,66)"
             ],
             [
              1,
              "rgb(90,179,244)"
             ]
            ],
            "type": "histogram2d"
           }
          ],
          "histogram2dcontour": [
           {
            "colorbar": {
             "outlinewidth": 0,
             "tickcolor": "rgb(237,237,237)",
             "ticklen": 6,
             "ticks": "inside"
            },
            "colorscale": [
             [
              0,
              "rgb(20,44,66)"
             ],
             [
              1,
              "rgb(90,179,244)"
             ]
            ],
            "type": "histogram2dcontour"
           }
          ],
          "mesh3d": [
           {
            "colorbar": {
             "outlinewidth": 0,
             "tickcolor": "rgb(237,237,237)",
             "ticklen": 6,
             "ticks": "inside"
            },
            "type": "mesh3d"
           }
          ],
          "parcoords": [
           {
            "line": {
             "colorbar": {
              "outlinewidth": 0,
              "tickcolor": "rgb(237,237,237)",
              "ticklen": 6,
              "ticks": "inside"
             }
            },
            "type": "parcoords"
           }
          ],
          "pie": [
           {
            "automargin": true,
            "type": "pie"
           }
          ],
          "scatter": [
           {
            "fillpattern": {
             "fillmode": "overlay",
             "size": 10,
             "solidity": 0.2
            },
            "type": "scatter"
           }
          ],
          "scatter3d": [
           {
            "line": {
             "colorbar": {
              "outlinewidth": 0,
              "tickcolor": "rgb(237,237,237)",
              "ticklen": 6,
              "ticks": "inside"
             }
            },
            "marker": {
             "colorbar": {
              "outlinewidth": 0,
              "tickcolor": "rgb(237,237,237)",
              "ticklen": 6,
              "ticks": "inside"
             }
            },
            "type": "scatter3d"
           }
          ],
          "scattercarpet": [
           {
            "marker": {
             "colorbar": {
              "outlinewidth": 0,
              "tickcolor": "rgb(237,237,237)",
              "ticklen": 6,
              "ticks": "inside"
             }
            },
            "type": "scattercarpet"
           }
          ],
          "scattergeo": [
           {
            "marker": {
             "colorbar": {
              "outlinewidth": 0,
              "tickcolor": "rgb(237,237,237)",
              "ticklen": 6,
              "ticks": "inside"
             }
            },
            "type": "scattergeo"
           }
          ],
          "scattergl": [
           {
            "marker": {
             "colorbar": {
              "outlinewidth": 0,
              "tickcolor": "rgb(237,237,237)",
              "ticklen": 6,
              "ticks": "inside"
             }
            },
            "type": "scattergl"
           }
          ],
          "scattermapbox": [
           {
            "marker": {
             "colorbar": {
              "outlinewidth": 0,
              "tickcolor": "rgb(237,237,237)",
              "ticklen": 6,
              "ticks": "inside"
             }
            },
            "type": "scattermapbox"
           }
          ],
          "scatterpolar": [
           {
            "marker": {
             "colorbar": {
              "outlinewidth": 0,
              "tickcolor": "rgb(237,237,237)",
              "ticklen": 6,
              "ticks": "inside"
             }
            },
            "type": "scatterpolar"
           }
          ],
          "scatterpolargl": [
           {
            "marker": {
             "colorbar": {
              "outlinewidth": 0,
              "tickcolor": "rgb(237,237,237)",
              "ticklen": 6,
              "ticks": "inside"
             }
            },
            "type": "scatterpolargl"
           }
          ],
          "scatterternary": [
           {
            "marker": {
             "colorbar": {
              "outlinewidth": 0,
              "tickcolor": "rgb(237,237,237)",
              "ticklen": 6,
              "ticks": "inside"
             }
            },
            "type": "scatterternary"
           }
          ],
          "surface": [
           {
            "colorbar": {
             "outlinewidth": 0,
             "tickcolor": "rgb(237,237,237)",
             "ticklen": 6,
             "ticks": "inside"
            },
            "colorscale": [
             [
              0,
              "rgb(20,44,66)"
             ],
             [
              1,
              "rgb(90,179,244)"
             ]
            ],
            "type": "surface"
           }
          ],
          "table": [
           {
            "cells": {
             "fill": {
              "color": "rgb(237,237,237)"
             },
             "line": {
              "color": "white"
             }
            },
            "header": {
             "fill": {
              "color": "rgb(217,217,217)"
             },
             "line": {
              "color": "white"
             }
            },
            "type": "table"
           }
          ]
         },
         "layout": {
          "annotationdefaults": {
           "arrowhead": 0,
           "arrowwidth": 1
          },
          "autotypenumbers": "strict",
          "coloraxis": {
           "colorbar": {
            "outlinewidth": 0,
            "tickcolor": "rgb(237,237,237)",
            "ticklen": 6,
            "ticks": "inside"
           }
          },
          "colorscale": {
           "sequential": [
            [
             0,
             "rgb(20,44,66)"
            ],
            [
             1,
             "rgb(90,179,244)"
            ]
           ],
           "sequentialminus": [
            [
             0,
             "rgb(20,44,66)"
            ],
            [
             1,
             "rgb(90,179,244)"
            ]
           ]
          },
          "colorway": [
           "#F8766D",
           "#A3A500",
           "#00BF7D",
           "#00B0F6",
           "#E76BF3"
          ],
          "font": {
           "color": "rgb(51,51,51)"
          },
          "geo": {
           "bgcolor": "white",
           "lakecolor": "white",
           "landcolor": "rgb(237,237,237)",
           "showlakes": true,
           "showland": true,
           "subunitcolor": "white"
          },
          "hoverlabel": {
           "align": "left"
          },
          "hovermode": "closest",
          "paper_bgcolor": "white",
          "plot_bgcolor": "rgb(237,237,237)",
          "polar": {
           "angularaxis": {
            "gridcolor": "white",
            "linecolor": "white",
            "showgrid": true,
            "tickcolor": "rgb(51,51,51)",
            "ticks": "outside"
           },
           "bgcolor": "rgb(237,237,237)",
           "radialaxis": {
            "gridcolor": "white",
            "linecolor": "white",
            "showgrid": true,
            "tickcolor": "rgb(51,51,51)",
            "ticks": "outside"
           }
          },
          "scene": {
           "xaxis": {
            "backgroundcolor": "rgb(237,237,237)",
            "gridcolor": "white",
            "gridwidth": 2,
            "linecolor": "white",
            "showbackground": true,
            "showgrid": true,
            "tickcolor": "rgb(51,51,51)",
            "ticks": "outside",
            "zerolinecolor": "white"
           },
           "yaxis": {
            "backgroundcolor": "rgb(237,237,237)",
            "gridcolor": "white",
            "gridwidth": 2,
            "linecolor": "white",
            "showbackground": true,
            "showgrid": true,
            "tickcolor": "rgb(51,51,51)",
            "ticks": "outside",
            "zerolinecolor": "white"
           },
           "zaxis": {
            "backgroundcolor": "rgb(237,237,237)",
            "gridcolor": "white",
            "gridwidth": 2,
            "linecolor": "white",
            "showbackground": true,
            "showgrid": true,
            "tickcolor": "rgb(51,51,51)",
            "ticks": "outside",
            "zerolinecolor": "white"
           }
          },
          "shapedefaults": {
           "fillcolor": "black",
           "line": {
            "width": 0
           },
           "opacity": 0.3
          },
          "ternary": {
           "aaxis": {
            "gridcolor": "white",
            "linecolor": "white",
            "showgrid": true,
            "tickcolor": "rgb(51,51,51)",
            "ticks": "outside"
           },
           "baxis": {
            "gridcolor": "white",
            "linecolor": "white",
            "showgrid": true,
            "tickcolor": "rgb(51,51,51)",
            "ticks": "outside"
           },
           "bgcolor": "rgb(237,237,237)",
           "caxis": {
            "gridcolor": "white",
            "linecolor": "white",
            "showgrid": true,
            "tickcolor": "rgb(51,51,51)",
            "ticks": "outside"
           }
          },
          "xaxis": {
           "automargin": true,
           "gridcolor": "white",
           "linecolor": "white",
           "showgrid": true,
           "tickcolor": "rgb(51,51,51)",
           "ticks": "outside",
           "title": {
            "standoff": 15
           },
           "zerolinecolor": "white"
          },
          "yaxis": {
           "automargin": true,
           "gridcolor": "white",
           "linecolor": "white",
           "showgrid": true,
           "tickcolor": "rgb(51,51,51)",
           "ticks": "outside",
           "title": {
            "standoff": 15
           },
           "zerolinecolor": "white"
          }
         }
        },
        "title": {
         "text": "Impact of lockdown on employment across states"
        },
        "xaxis": {
         "anchor": "y",
         "domain": [
          0,
          1
         ],
         "title": {
          "text": "percentage change in unemployment"
         }
        },
        "yaxis": {
         "anchor": "x",
         "domain": [
          0,
          1
         ],
         "title": {
          "text": "States"
         }
        }
       }
      }
     },
     "metadata": {},
     "output_type": "display_data"
    }
   ],
   "source": [
    "fig = px.bar(plot_per, y='States',x='percentage change in unemployment',color='impact status',\n",
    "            title='Impact of lockdown on employment across states',template='ggplot2',height=650)\n",
    "\n",
    "\n",
    "fig.show()"
   ]
  },
  {
   "cell_type": "code",
   "execution_count": null,
   "id": "e91ed5f4",
   "metadata": {},
   "outputs": [],
   "source": []
  }
 ],
 "metadata": {
  "kernelspec": {
   "display_name": "Python 3 (ipykernel)",
   "language": "python",
   "name": "python3"
  },
  "language_info": {
   "codemirror_mode": {
    "name": "ipython",
    "version": 3
   },
   "file_extension": ".py",
   "mimetype": "text/x-python",
   "name": "python",
   "nbconvert_exporter": "python",
   "pygments_lexer": "ipython3",
   "version": "3.10.9"
  }
 },
 "nbformat": 4,
 "nbformat_minor": 5
}
