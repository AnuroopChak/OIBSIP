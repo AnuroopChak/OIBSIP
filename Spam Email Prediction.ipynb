{
 "cells": [
  {
   "cell_type": "code",
   "execution_count": 26,
   "id": "825945ab",
   "metadata": {},
   "outputs": [],
   "source": [
    "import pandas as pd\n",
    "import numpy as np\n",
    "from sklearn.model_selection import train_test_split\n",
    "from sklearn.feature_extraction.text import TfidfVectorizer\n",
    "from sklearn.linear_model import LogisticRegression\n",
    "from sklearn.metrics import accuracy_score\n",
    "from sklearn.preprocessing import LabelEncoder\n",
    "import matplotlib.pyplot as plt\n",
   ]
  },
  {
   "cell_type": "markdown",
   "id": "2188a6d5",
   "metadata": {},
   "source": [
    "# Data collection and Pre Processing"
   ]
  },
  {
   "cell_type": "code",
   "execution_count": 27,
   "id": "3cb3bbdf",
   "metadata": {},
   "outputs": [],
   "source": [
    "mail_data = pd.read_csv(r\"C:\\Users\\USER\\Downloads\\spam.csv\", encoding='latin-1')"
   ]
  },
  {
   "cell_type": "code",
   "execution_count": 28,
   "id": "9138bc51",
   "metadata": {},
   "outputs": [
    {
     "data": {
      "text/html": [
       "<div>\n",
       "<style scoped>\n",
       "    .dataframe tbody tr th:only-of-type {\n",
       "        vertical-align: middle;\n",
       "    }\n",
       "\n",
       "    .dataframe tbody tr th {\n",
       "        vertical-align: top;\n",
       "    }\n",
       "\n",
       "    .dataframe thead th {\n",
       "        text-align: right;\n",
       "    }\n",
       "</style>\n",
       "<table border=\"1\" class=\"dataframe\">\n",
       "  <thead>\n",
       "    <tr style=\"text-align: right;\">\n",
       "      <th></th>\n",
       "      <th>v1</th>\n",
       "      <th>v2</th>\n",
       "      <th>Unnamed: 2</th>\n",
       "      <th>Unnamed: 3</th>\n",
       "      <th>Unnamed: 4</th>\n",
       "    </tr>\n",
       "  </thead>\n",
       "  <tbody>\n",
       "    <tr>\n",
       "      <th>0</th>\n",
       "      <td>ham</td>\n",
       "      <td>Go until jurong point, crazy.. Available only ...</td>\n",
       "      <td>NaN</td>\n",
       "      <td>NaN</td>\n",
       "      <td>NaN</td>\n",
       "    </tr>\n",
       "    <tr>\n",
       "      <th>1</th>\n",
       "      <td>ham</td>\n",
       "      <td>Ok lar... Joking wif u oni...</td>\n",
       "      <td>NaN</td>\n",
       "      <td>NaN</td>\n",
       "      <td>NaN</td>\n",
       "    </tr>\n",
       "    <tr>\n",
       "      <th>2</th>\n",
       "      <td>spam</td>\n",
       "      <td>Free entry in 2 a wkly comp to win FA Cup fina...</td>\n",
       "      <td>NaN</td>\n",
       "      <td>NaN</td>\n",
       "      <td>NaN</td>\n",
       "    </tr>\n",
       "    <tr>\n",
       "      <th>3</th>\n",
       "      <td>ham</td>\n",
       "      <td>U dun say so early hor... U c already then say...</td>\n",
       "      <td>NaN</td>\n",
       "      <td>NaN</td>\n",
       "      <td>NaN</td>\n",
       "    </tr>\n",
       "    <tr>\n",
       "      <th>4</th>\n",
       "      <td>ham</td>\n",
       "      <td>Nah I don't think he goes to usf, he lives aro...</td>\n",
       "      <td>NaN</td>\n",
       "      <td>NaN</td>\n",
       "      <td>NaN</td>\n",
       "    </tr>\n",
       "  </tbody>\n",
       "</table>\n",
       "</div>"
      ],
      "text/plain": [
       "     v1                                                 v2 Unnamed: 2  \\\n",
       "0   ham  Go until jurong point, crazy.. Available only ...        NaN   \n",
       "1   ham                      Ok lar... Joking wif u oni...        NaN   \n",
       "2  spam  Free entry in 2 a wkly comp to win FA Cup fina...        NaN   \n",
       "3   ham  U dun say so early hor... U c already then say...        NaN   \n",
       "4   ham  Nah I don't think he goes to usf, he lives aro...        NaN   \n",
       "\n",
       "  Unnamed: 3 Unnamed: 4  \n",
       "0        NaN        NaN  \n",
       "1        NaN        NaN  \n",
       "2        NaN        NaN  \n",
       "3        NaN        NaN  \n",
       "4        NaN        NaN  "
      ]
     },
     "execution_count": 28,
     "metadata": {},
     "output_type": "execute_result"
    }
   ],
   "source": [
    "mail_data.head()"
   ]
  },
  {
   "cell_type": "code",
   "execution_count": 29,
   "id": "3556b935",
   "metadata": {},
   "outputs": [],
   "source": [
    "mail_data.drop(['Unnamed: 2','Unnamed: 3','Unnamed: 4'],axis = 1, inplace = True)"
   ]
  },
  {
   "cell_type": "code",
   "execution_count": 30,
   "id": "acf8425a",
   "metadata": {},
   "outputs": [
    {
     "data": {
      "text/html": [
       "<div>\n",
       "<style scoped>\n",
       "    .dataframe tbody tr th:only-of-type {\n",
       "        vertical-align: middle;\n",
       "    }\n",
       "\n",
       "    .dataframe tbody tr th {\n",
       "        vertical-align: top;\n",
       "    }\n",
       "\n",
       "    .dataframe thead th {\n",
       "        text-align: right;\n",
       "    }\n",
       "</style>\n",
       "<table border=\"1\" class=\"dataframe\">\n",
       "  <thead>\n",
       "    <tr style=\"text-align: right;\">\n",
       "      <th></th>\n",
       "      <th>v1</th>\n",
       "      <th>v2</th>\n",
       "    </tr>\n",
       "  </thead>\n",
       "  <tbody>\n",
       "    <tr>\n",
       "      <th>0</th>\n",
       "      <td>ham</td>\n",
       "      <td>Go until jurong point, crazy.. Available only ...</td>\n",
       "    </tr>\n",
       "    <tr>\n",
       "      <th>1</th>\n",
       "      <td>ham</td>\n",
       "      <td>Ok lar... Joking wif u oni...</td>\n",
       "    </tr>\n",
       "    <tr>\n",
       "      <th>2</th>\n",
       "      <td>spam</td>\n",
       "      <td>Free entry in 2 a wkly comp to win FA Cup fina...</td>\n",
       "    </tr>\n",
       "    <tr>\n",
       "      <th>3</th>\n",
       "      <td>ham</td>\n",
       "      <td>U dun say so early hor... U c already then say...</td>\n",
       "    </tr>\n",
       "    <tr>\n",
       "      <th>4</th>\n",
       "      <td>ham</td>\n",
       "      <td>Nah I don't think he goes to usf, he lives aro...</td>\n",
       "    </tr>\n",
       "    <tr>\n",
       "      <th>5</th>\n",
       "      <td>spam</td>\n",
       "      <td>FreeMsg Hey there darling it's been 3 week's n...</td>\n",
       "    </tr>\n",
       "    <tr>\n",
       "      <th>6</th>\n",
       "      <td>ham</td>\n",
       "      <td>Even my brother is not like to speak with me. ...</td>\n",
       "    </tr>\n",
       "    <tr>\n",
       "      <th>7</th>\n",
       "      <td>ham</td>\n",
       "      <td>As per your request 'Melle Melle (Oru Minnamin...</td>\n",
       "    </tr>\n",
       "    <tr>\n",
       "      <th>8</th>\n",
       "      <td>spam</td>\n",
       "      <td>WINNER!! As a valued network customer you have...</td>\n",
       "    </tr>\n",
       "    <tr>\n",
       "      <th>9</th>\n",
       "      <td>spam</td>\n",
       "      <td>Had your mobile 11 months or more? U R entitle...</td>\n",
       "    </tr>\n",
       "  </tbody>\n",
       "</table>\n",
       "</div>"
      ],
      "text/plain": [
       "     v1                                                 v2\n",
       "0   ham  Go until jurong point, crazy.. Available only ...\n",
       "1   ham                      Ok lar... Joking wif u oni...\n",
       "2  spam  Free entry in 2 a wkly comp to win FA Cup fina...\n",
       "3   ham  U dun say so early hor... U c already then say...\n",
       "4   ham  Nah I don't think he goes to usf, he lives aro...\n",
       "5  spam  FreeMsg Hey there darling it's been 3 week's n...\n",
       "6   ham  Even my brother is not like to speak with me. ...\n",
       "7   ham  As per your request 'Melle Melle (Oru Minnamin...\n",
       "8  spam  WINNER!! As a valued network customer you have...\n",
       "9  spam  Had your mobile 11 months or more? U R entitle..."
      ]
     },
     "execution_count": 30,
     "metadata": {},
     "output_type": "execute_result"
    }
   ],
   "source": [
    "mail_data.head(10)"
   ]
  },
  {
   "cell_type": "code",
   "execution_count": 31,
   "id": "7f8b6bdf",
   "metadata": {},
   "outputs": [
    {
     "data": {
      "text/plain": [
       "(5572, 2)"
      ]
     },
     "execution_count": 31,
     "metadata": {},
     "output_type": "execute_result"
    }
   ],
   "source": [
    "mail_data.shape"
   ]
  },
  {
   "cell_type": "code",
   "execution_count": 32,
   "id": "0d07934c",
   "metadata": {},
   "outputs": [],
   "source": [
    "mail_data.rename(columns={'v1':'category','v2':'message'},inplace=True)"
   ]
  },
  {
   "cell_type": "code",
   "execution_count": 33,
   "id": "8a7679b6",
   "metadata": {},
   "outputs": [
    {
     "data": {
      "text/html": [
       "<div>\n",
       "<style scoped>\n",
       "    .dataframe tbody tr th:only-of-type {\n",
       "        vertical-align: middle;\n",
       "    }\n",
       "\n",
       "    .dataframe tbody tr th {\n",
       "        vertical-align: top;\n",
       "    }\n",
       "\n",
       "    .dataframe thead th {\n",
       "        text-align: right;\n",
       "    }\n",
       "</style>\n",
       "<table border=\"1\" class=\"dataframe\">\n",
       "  <thead>\n",
       "    <tr style=\"text-align: right;\">\n",
       "      <th></th>\n",
       "      <th>category</th>\n",
       "      <th>message</th>\n",
       "    </tr>\n",
       "  </thead>\n",
       "  <tbody>\n",
       "    <tr>\n",
       "      <th>0</th>\n",
       "      <td>ham</td>\n",
       "      <td>Go until jurong point, crazy.. Available only ...</td>\n",
       "    </tr>\n",
       "    <tr>\n",
       "      <th>1</th>\n",
       "      <td>ham</td>\n",
       "      <td>Ok lar... Joking wif u oni...</td>\n",
       "    </tr>\n",
       "    <tr>\n",
       "      <th>2</th>\n",
       "      <td>spam</td>\n",
       "      <td>Free entry in 2 a wkly comp to win FA Cup fina...</td>\n",
       "    </tr>\n",
       "    <tr>\n",
       "      <th>3</th>\n",
       "      <td>ham</td>\n",
       "      <td>U dun say so early hor... U c already then say...</td>\n",
       "    </tr>\n",
       "    <tr>\n",
       "      <th>4</th>\n",
       "      <td>ham</td>\n",
       "      <td>Nah I don't think he goes to usf, he lives aro...</td>\n",
       "    </tr>\n",
       "  </tbody>\n",
       "</table>\n",
       "</div>"
      ],
      "text/plain": [
       "  category                                            message\n",
       "0      ham  Go until jurong point, crazy.. Available only ...\n",
       "1      ham                      Ok lar... Joking wif u oni...\n",
       "2     spam  Free entry in 2 a wkly comp to win FA Cup fina...\n",
       "3      ham  U dun say so early hor... U c already then say...\n",
       "4      ham  Nah I don't think he goes to usf, he lives aro..."
      ]
     },
     "execution_count": 33,
     "metadata": {},
     "output_type": "execute_result"
    }
   ],
   "source": [
    "mail_data.head()"
   ]
  },
  {
   "cell_type": "markdown",
   "id": "e02c9823",
   "metadata": {},
   "source": [
    "Label Encoding"
   ]
  },
  {
   "cell_type": "code",
   "execution_count": 34,
   "id": "f530af89",
   "metadata": {},
   "outputs": [],
   "source": [
    "mail_data.loc[mail_data['category']=='spam','category',] = 0\n",
    "mail_data.loc[mail_data['category']=='ham','category',] = 1"
   ]
  },
  {
   "cell_type": "code",
   "execution_count": 35,
   "id": "77bf36ad",
   "metadata": {},
   "outputs": [
    {
     "data": {
      "text/html": [
       "<div>\n",
       "<style scoped>\n",
       "    .dataframe tbody tr th:only-of-type {\n",
       "        vertical-align: middle;\n",
       "    }\n",
       "\n",
       "    .dataframe tbody tr th {\n",
       "        vertical-align: top;\n",
       "    }\n",
       "\n",
       "    .dataframe thead th {\n",
       "        text-align: right;\n",
       "    }\n",
       "</style>\n",
       "<table border=\"1\" class=\"dataframe\">\n",
       "  <thead>\n",
       "    <tr style=\"text-align: right;\">\n",
       "      <th></th>\n",
       "      <th>category</th>\n",
       "      <th>message</th>\n",
       "    </tr>\n",
       "  </thead>\n",
       "  <tbody>\n",
       "    <tr>\n",
       "      <th>0</th>\n",
       "      <td>1</td>\n",
       "      <td>Go until jurong point, crazy.. Available only ...</td>\n",
       "    </tr>\n",
       "    <tr>\n",
       "      <th>1</th>\n",
       "      <td>1</td>\n",
       "      <td>Ok lar... Joking wif u oni...</td>\n",
       "    </tr>\n",
       "    <tr>\n",
       "      <th>2</th>\n",
       "      <td>0</td>\n",
       "      <td>Free entry in 2 a wkly comp to win FA Cup fina...</td>\n",
       "    </tr>\n",
       "    <tr>\n",
       "      <th>3</th>\n",
       "      <td>1</td>\n",
       "      <td>U dun say so early hor... U c already then say...</td>\n",
       "    </tr>\n",
       "    <tr>\n",
       "      <th>4</th>\n",
       "      <td>1</td>\n",
       "      <td>Nah I don't think he goes to usf, he lives aro...</td>\n",
       "    </tr>\n",
       "  </tbody>\n",
       "</table>\n",
       "</div>"
      ],
      "text/plain": [
       "  category                                            message\n",
       "0        1  Go until jurong point, crazy.. Available only ...\n",
       "1        1                      Ok lar... Joking wif u oni...\n",
       "2        0  Free entry in 2 a wkly comp to win FA Cup fina...\n",
       "3        1  U dun say so early hor... U c already then say...\n",
       "4        1  Nah I don't think he goes to usf, he lives aro..."
      ]
     },
     "execution_count": 35,
     "metadata": {},
     "output_type": "execute_result"
    }
   ],
   "source": [
    "mail_data.head()"
   ]
  },
  {
   "cell_type": "markdown",
   "id": "db79dcd5",
   "metadata": {},
   "source": [
    "# Data Visualization"
   ]
  },
  {
   "cell_type": "code",
   "execution_count": 36,
   "id": "ae31c2bf",
   "metadata": {},
   "outputs": [
    {
     "data": {
      "text/plain": [
       "<Axes: >"
      ]
     },
     "execution_count": 36,
     "metadata": {},
     "output_type": "execute_result"
    },
    {
     "data": {
      "image/png": "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\n",
      "text/plain": [
       "<Figure size 640x480 with 1 Axes>"
      ]
     },
     "metadata": {},
     "output_type": "display_data"
    }
   ],
   "source": [
    "mail_data['category'].value_counts().plot(kind='bar')"
   ]
  },
  {
   "cell_type": "code",
   "execution_count": 37,
   "id": "ae396f41",
   "metadata": {},
   "outputs": [
    {
     "data": {
      "image/png": "iVBORw0KGgoAAAANSUhEUgAAAYUAAAGFCAYAAAASI+9IAAAAOXRFWHRTb2Z0d2FyZQBNYXRwbG90bGliIHZlcnNpb24zLjcuMCwgaHR0cHM6Ly9tYXRwbG90bGliLm9yZy88F64QAAAACXBIWXMAAA9hAAAPYQGoP6dpAAA0zElEQVR4nO3dd5QUVcIF8FtVnad7evIw5CBIDqLCoqDiqhhQSWZxV1FXVxEMawJUkDVhAAQVBcN+BtAVBVdXV0wrIhjQNQEimSFM6Ak9HSt8fwy2gcx09+uqvr9zPEdmerrvDEPdrlev3pMMwzBAREQEQBYdgIiIMgdLgYiIElgKRESUwFIgIqIElgIRESWwFIiIKIGlQERECSwFIiJKYCkQEVECS4GIiBJYCkRElMBSICKiBJYCERElsBSIiCiBpUBERAksBSIiSmApEBFRAkuBiIgSWApERJTAUiAiogSWAhERJbAUiIgogaVAREQJLAUiIkpgKRARUQJLgYiIElgKRESUwFIgIqIElgIRESWwFIiIKIGlQERECSwFIiJKYCkQEVECS4GIiBJYCkRElMBSICKiBJYCERElsBSIiCiBpUBERAksBSIiSmApEBFRAkuBiIgSWApERJTAUiAiogSWAhERJdhEByBKNj0ShhGLApoG6DoMw2j8hKEDmgZD1wFdg6FpgK4Bmg5DjUOy2QBZARQFkiwDsgxJVgBZBhQFgNT4PJLU+Hm7A7Inp/H/iSyCpUCmo4dDMMIhGJoKIxaFEY1Cq6mCWr4F8U3roG3bDK02ACMSgREJNZZEJNxYEk1hs0NyuSA73ZCcLsj+fNjKWsDerhPsrdpCKSyG5HRDcjgbi8LlguxmaZC5SEbibRRRZtEjYegN9Y0H94Yg4uWbEFv7A+Lr10It3wStcgeg66Jj7k6WoRQUQyktg615azjaHgZby8bSkHO8gN0OxeeHZLOLTkq0G5YCZQRD16DX1sCIRaHX1yL6/f8Q+XwpYmu+g15fKzpe8kgSbGUtYe/UDe4+/WFv3wlyjg+S0wnZ54ekKKITUpZjKZAQWkOwcQgoHEJ86wZEPluK6LdfQt26Cci2X0lJgq1lWzh7HQn30YNga9YCkssN2eeD7HCJTkdZhqVAaWGocWi1Aeh1tYh8vhSRzz9BbO0PjWP9tBs5Nw+Obr2RM/h0ONp3guTOgeLPEx2LsgBLgVJGj4Sg19dBq9iBhiVvIPzJe9DrLDQUlEb2wzoj549D4ep9NKQcHxR/PoeaKCVYCpRUen0d9FAQ8Q1rEXz7NURXLm+cHkpJoxQ3g2fQyfAMPAlyfgFkXx5kp1N0LLIIlgI1mVZTBb2hAdFvv0TDO68jtvrb7LsuIIjkzoHrqGPhPeVM2Jq3huzzQ3Z7RMciE2Mp0CHRIxHodQFEVq5A/avPQd2yUXQkUhS4BwxG7vCLIBeVwlZQJDoRmRBLgQ6KFqiCFqhE/cLnEfroP4AaFx2J9kApbY7ckZfAdeQAnj3QQWEp0H7p0Sj02gCi336JugXzoG7eIDoSHShFgfuYE5E77CIoRSVQePZA+8FSoL3Saqqh1VQjuHg+Qu+9yQvGJqc0a4HcEaN59kD7xFKg3zA0DVp1JWKrv0Hdi08hvmGt6EiUbD+fPYy8BEpxKZTcPNGJKIOwFAgAYKgqtEAVQkuXoO7FJ2EE60VHojRw9uiLvDHjoZSUQcn1i45DGYClkOWMeBxaTRVCH/wbdfOfhhFuEB2JBHD27Iu8y8ZDKS2D4mM5ZDOWQpZqPDOoRMO7b6D+lWe53AQBAJw9j0LemHFQSpqxHLIUSyHLGJoGLVCJ0Ef/Qd0Lc2CEQ6IjUQZy9jq6sRyKS1kOWYalkCUMw4BWXYHIF5+idt50ay1HTSnj7L2rHIqaQfHlio5DacBSyAJaTTWiP3yNmsfuh1ZVIToOmZCz7wDkX3kjlKISyE4u521lLAUL06MRaDu3o3r6FMR++Fp0HDI7RUHuuZci55RhjVuPSpLoRJQCLAWL0qp2Ivj2a6h7aW7T9yYm+hU5vxAF102Eo1M3KP580XEoyVgKFqPX1yG2cS2qp02EVrFDdByyMEf3Pii4dgKUkmaQHVy62ypYChZhqCq0qh2omTcD4Y+XiI5D2cJmg//iq5Az+HSuq2QRLAUL0AJVCH++FDWPP8D7DUgIW/NWKLhpKuwt20D25IiOQ03AUjAxPRSCurMc1dMmIr7+R9FxiJBz2kjknnspbEUloqPQIWIpmJQWqELw36+i7vk53OWMMopSWIKiOx6CrWVbTl81IZaCyRi6Dm3nNlQ9MAGxVd+IjkO0Z7KCvCtugGfQSZyhZDIsBRPRQ0HEfvwBlX//G1cxJVNw9umHgrEToBQ3430NJsFSMAktUIX6119E/cvPiI5CdFBkfz6KJj4Ie9vDuLGPCbAUMpyhaVB3bkPVvbcivvYH0XGIDo0kwX/RVcgZcjaUvALRaWgfWAoZTGuoR2zVt6i65xbuc0CW4OjSC4U3ToFS0gySLIuOQ3vAUshQWnUV6v75LIKvvSA6ClFSSV4fim67H46OXXlPQwZiKWQYwzCgbt+Kqqk38d4DsjTf+WPgG3oeFH+e6Cj0KyyFDGKoKuKb1qHi9qug13G/A7I+z/GnNu7XkF8oOgrtwlLIEHokgtiP36HyjrEwolHRcYjSxtGtNwr/9nfeBZ0hWAoZQGsIIvL5UlRPmwjouug4RGlna94axZNnwFbWUnSUrMdSEEyrq0HDWwtR+9ws0VGIhJL9+Sj++2Owt2oHSVFEx8laLAWBtJpq1P7jMTT8e6HoKEQZQXK6UHTXDDg6deW6SYKwFATRqitQ9fBkRL9cJjoKUWaRZRTcOAWuIwdAyfGJTpN1WAoCqDu3o3LyeE45JdoH/8VXI+e04VBy80RHySoshTQyDANq+SZU3H41t8okOgCek89C3iV/5dIYaWQTHSCbqFs2YOdNY6DX8x4EogMReud1QJKQd8k1vMktTbj4SJrEt2zEzpuvYCEQHaTQ26+h7qWnoNXViI6SFVgKaRDfugk7b7kCem1AdBQiUwouegn1C5+HxjdVKcdSSLF4+ebGQghUiY5CZGr1C55Gw7/+Cb2+TnQUS2MppJC6vRwVt1wJvbpSdBQiS6j9x2w0vPcvaA3ceTBVWAopolbsQMXEv0Kr2ik6CpGl1Mx5EOGP34Ue4h4jqcBSSAG1qgKVk6+HWr5ZdBQiSwrMmIrw8o+gh0Oio1gOSyHJtEAVqh6YgPi61aKjEFla9YOTEFm5HHokIjqKpbAUkkirrUZg9j2IffOF6ChE1mcYqLrnZkS/WwkjHhOdxjJYCkmiBetR9/KzCH/ygegoRNlD11E55QbEt2wUncQyWApJoMdjiH61AsGFz4uOQpR94jFUTLwG6o5topNYAkshCdTNG1D1wATRMYiylh6oQuXUG6Fy+neTsRSaSN25HRWTrgXUuOgoRFkt/tNq1Dz1MLTaGtFRTI2l0ARaoApV99/Ou5WJMkT4w7fRsOQNTlVtApbCIdKDdahb8AxiP3wtOgoR/UrtvOmIrV0FQ9NERzEllsIh0GMxhL/8FMFFL4qOQkS/ZxionHI91J288HwoWAqHQN28HtUPThIdg4j2wmgIomrKDdB44fmgsRQOkrpzGyruGAuoqugoRLQP8Y0/oebZWVxu+yCxFA6CFqhC1X238cIykUmE3l2MyBfLYPBN3AFjKRwgPRJGwzuvI7bqG9FRiOggBGZM4fWFg8BSOEDq9q2o/b8nRMcgooNkRKOofvguaDXc+fBAsBQOgFZdiap7bgZ0TnEjMqPY918hvPxD6Fw4b79YCvuhR8II/vtVqFxwi8jUAo/dD43rI+0XS2E/1PLNqHvxKdExiKip4jFUPTABWg0niuwLS2Ef1OpKVN1zC6DroqMQURLE1/6A0EfvQo9GRUfJWCyFvdDDIQT/9QrU8k2ioxBREtXMfRjaznLRMTIWS2Ev1PJNqJ8/V3QMIko2VUXVvbdC4/1Ge8RS2AOtuqJx2MgwREchohSIb1jbuJpqlPs7/x5L4Xf0cAj1i+ZD3bZFdBQiSqHaZ2dD275VdIyMw1L4HXVHOepfeVZ0DCJKNV1D9fQp0GqqRSfJKCyFX9FqAwjMvpfDRkRZIrb6W8TXrREdI6OwFH4lvvEnxL77SnQMIkqj6plToVVViI6RMVgKu6jVlQjMuFt0DCJKM23nNoRX/Jc7te3CUgBg6DqiX63gxWWiLFUzbzq0ap4tACkohS1btuDwww/Hli3mOcBq1RWomfOg6BhEJIgRakBw8XzokbDoKMJl/ZmCHouh4T+LoXN3JqKsVr/wBV5bAGBL1RMvXrwYixYtwrZt29C7d2/cd999KCkpwZNPPonFixdj27ZtkCQJgwYNwtSpU+FyuXDLLbfA4/Fg69atWLFiBYqKijB58mS8++67WLRoERwOB8aNG4dRo0YlLadeXYG6+fOS9nxEZFK6hpq501E4/g7IvlzRaYRJ2ZnCd999hwULFuDDDz9EbW0tZs2ahbfeegvPPfccZs6cic8//xwvvfQSPv74YyxevDjxdf/85z9x+eWX44svvkDPnj1x2WWXoW3btli2bBmuvPJKTJ48GbFYctZE10MNqH3hSYBrrBMRgMjyDxHP8muLKSuFv/zlL/D5fPD7/Rg4cCA2bdqEQYMG4ZVXXkHbtm1RXV2NQCCAvLw87NixI/F1/fv3x5FHHglZltG/f394PB5cfPHFsNlsOOGEExCLxVBZWZmUjGrFdoSWvJGU5yIiawjMmJLV6yKlbPgoLy8v8f92ux2apsEwDDz88MN4//33UVBQgC5duiAej8P41c1iv/46RVGQm/vLaZwkSQAAPQlLWWu1NQjMvr/Jz0NE1hJf/yNia76Hu99A0VGESFkp7Mm0adNQXl6O9957D16vFwAwdOjQ3zzm5wN/qqnbNyP27RdpeS0iMpeauY/A3qkLbPlFoqOkXVpnHwWDQTidTiiKgmg0innz5mHNmjWIx+PpjAGtvha1Tz+a1tckIvNQt26EWp6d1xbSWgrjxo1DJBLBgAEDMHjwYHz11Vc466yzsGZNetce0aoqEP2GZwlEtHe1zz4Kra5GdIy0kwwju1Z/00MNqJ4+BeGP3xUdhYgyXOns+XC06SA6Rlpl3c1rWk0VwkuXiI5BRCZQv+Bp6OGQ6BhplVWloEcjqH/tRS6NTUQHJPTRf6DXBkTHSKvsKoWaABrefk10DCIyC11D8N8LoWfRDa5ZUwqGriO8/ENATe9MJyIyt+Di+dCzaHe2rCkFLVCJugVPi45BRCZjRMKIrPgYRhJumjWDrCmF+Mb10LP41nUiOnS1Lz4JLZCc5XUyXVaUglZbg7p/zBYdg4hMSg9UIb52legYaZEdpVBTjdia70THICITq33+CWhZMBPJ8qVgaBpXQiWiJov/tBp6sE50jJSzfClogSo0vLt4/w8kItqP0IfvwNA00TFSyvKloAcqs+7mEyJKjeCbr0Cz+PRUS5eCHosh+O+FomMQkUXogSpolTv2/0ATs3Yp1AYQ+vAd0TGIyEKCbyyAHomIjpEyli4FdcdWGOEG0TGIyELCHy+BXl8jOkbKWLYU9EgYwTdeFh2DiCzGiEWhlm8WHSNlrFsKdbWILP9IdAwisqDGIaSw6BgpYdlSiG9aByMWFR2DiCwo/NlS6PW1omOkhCVLQW8IIrjoJdExiMiq4jHEt2wUnSIlrFkKwTpEVi4XHYOILCy4eIEld2WzZCnEfloN6Na+65CIxIqu/BR6sF50jKSzXCno0QhCH/xbdAwisjgjFrXkdQWb6ADJpgfrEP3f56Jj7NWPEQ2zK6NYF9PglCQc57Xh8iInHJKEdVENj1VGsSqiwSlLONFrwxVFTiiStNvz6IaBM9cFd/v4y+28cMsSKlUdsyuiWBlWYZcknOC14bJCJxyyBM0w8MDOCD4Jqii0ybi+xIke7sZfhfK4jju3hfFoKw8ce3hdIvpFZOVyONp3Eh0jqSx3pmCEQhnb3rphYMK2MAZ5bVjYzotZrTz4PKRhQSCGWk3HTVvD6ONWsLC9F4+29ODTkIp/1ux5+9CNMR2aASxs78UbHXyJ/9yyBN0wMGlbGDHDwDNtvHiytQfrYjqmVzTehfl5SMO3YQ0vtPXiTL8dT1T+MktrVkUEV+4qKSLat/An70Gvt9bKqZYrhdiPmbtvQr0OVGkGdADGro9JAJyShHfqVLR0SLigwAmbJKGZXcb9zT04zrvnk7nVUR3tnDLsezh4b4nrWBPVcW2xC35Fgl+RcWmhE0vqVQQ1A8quL/k5w89/XhqMwyVL6Oux3AkkUUrE1nxvuYvNlvrXr0fCCH30H9Ex9sqvSBix6535E5VR6AAG5NgwIs+OqTsiaOtQ8MjOCJY2qHBJwJBcO87Pd+zxuVZHNMQM4OrNDdgRN9DaIWNMoRPd3Ar0XUd7l/xLYUgAVADbVB1HuBX09djwp40NKLJJGF/iQkQ38HR1DPc2d6f850BkGboGLVAJW0kz0UmSxlqlEKxD9NuVomPslW4YcMoSril2YkiuHeUxHXdsD+PZ6hjqNQNLgyquK3HhmmInNsZ0TNgWhl2ScM4eisEpA52dCv5U6IBPlvB6bRy3lIcwp3UOWjlktHXIeKwygmuKXFBh4LnqxiGimA7IUmMRjC/55fnmVkUxJNeOOs3A1O0hRAwDp+XaMdS/51IiokbhFf+Fo1M3SBYZcrXU8JHREMzoBfA+blDx36CKM/0OOCQJbZ0KRhc4sag2BrsEHO5ScGquHTZJQgengrP9DnwY3PM1hb8UuXBjqQtFNhlOubE4SuwyljeoUCQJk8vcCGoGLtnYgBu3hnGc1w4A8Cq7P9fmmI4vQiqG+e2YtjOCoX47HmjuwbPVMWyMcWov0b5EPv0Qem2N6BhJY6kzhej3X4uOsE87VQNxw/jNxxQAdklCG4eMr8K/PQDrMPDbR/9iXlUUA702dHT+cpSPGwacMmAYBoKagYnN3HDuGkJa0aDCIwEt7bu/D3i0IoKrd81y2hDT0cmpwKtIaG5v/HMbxx6ahIgAAPGNP8GIhAHki46SFJY5U9BDDQh9vER0jH06yqOgSjPwQnUUmmGgPK7j+UAMJ/psGJJrx/qYjvmBxs+ti2p4vSaOk3z2PT7X+ljjlNNqVUfMMPCP6ihCOnBMjh2SJOHeHRG8FIhBNwxsiemYUxXF2XmO3aa3vl8fR7FNRvddU1Jb2GV8F9FQqxnYEjPQfA8lQkS/YhhQK7aLTpE0kmEYe3szaipqxQ5sv3I4jGhmL4L3RUjF01VRbI7ryJEl/NFnx8UFDtglCT9ENMypjGL9rnsYhvrtuDDfAUmS8E1Yxa3lYcxtnYNSu4w6zcATlREsD2mI6AY6uxRcXeRE+11nDuujGmZURPFTVINHlnBqbuPryL8qhZBu4LotIUxr4YZfaTz4fxNWMW1nBPUacHaeHaMLnEJ+TkRm4h16HvIuHw9JMf9ZtWVKIbb+R+y45nzRMYgoCynNWqB02lwo+UWiozSZZcYGMnnWERFZm7Z9a8aPUhwoS5SCHo9n9NIWRGR9esPuy86YkSVKwQjWIb7xJ9ExiCiLqVutsb+CNUpBjUPdtkV0DCLKYtHvv4YVLtFaoxQiYe6fQERCxdb+AD1o/sXxLFEKWk216AhElOXiG3+yxMVmS5RC7MfvRUcgoixnhBpgxFgKwunxGGIZvrwFEWUHo8H823OavxSC9Zx5REQZIbbB/Mci05cC1DjU7VtFpyAiQvS7lTBMPunF9KVghMOArouOQUSE+LrVpt+e0/SloAUqRUcgIgIAqJs3wIjHRMdoEtOXAmceEVGmMGJR009LNXUpGLqG2Lo1omMQESXwTEEgIxyGXlUhOgYRUYLZ71UwdynEotACVaJjEBEl6AFzr7Bg7lLQNGjVvNBMRJlDqzb36IWpSwG6DiPcIDoFEVGCunOb6AhNYupSMPsFHSKyHm3nNhgmvneKpUBElERaoKpxOX+TMnUpQFVFJyAi+g29ptrUM5BMXQpW2ROViKxDqw3A0My7/pG5S6G+RnQEIqLf0OtqAYPXFITQagKiIxAR/ZaumXpo29ylwMXwiCgDGWpcdIRDZupS0Gt5pkBEmYfXFAQx8w+eiCzMMEQnOGSmLgVJMnV8IrIqloIgsiQ6ARHR7lgKgkgsBSLKQCYuBZvoAE3CUqAkkbw+ODp2FR2DLEJyuURHOGSmLgVeU6BkcZ9xLuyjLsN/fzT3sseUGf6QV4gC0SEOkalLgWcKlCyhl56Cp+8gbAg48czyjaLjkMn93+ijUJDjFB3jkJj7rTZLgZIodNNonNfejVO7lIqOQiQMS4HoV0LXjsTYfmU4slWe6ChkYmY+NLEUiH4tFkN07Dm46+SOaF+YIzoNmZRs4mOTyUvB3PEpM+l1NdBuuxQPn90NJV5zjguTWIqJ76Ey9VFVMnEbU2ZTN6+Hcv8NmDWyJ7xOc8/HoPRjKQgie32iI5CFxb75Ajn/mIZZI3vCoZj6nwqlmY2lIIZS0kx0BLK4yJJ/ofSDV/Dg2d1h3n/mlG6KiUcxzF0KBSWiI1AWCD3/ODqu/wx3DOksOgqZgEORTT20bepSkH0cPqL0CD00Ef2NnbjymLaio1CG8zgU0RGaxNSlINkcoiNQFgndOgbDWthwVo8y0VEog+U4bTDzJSgTRwcku110BMoyobHn4C99StC/rVlXtqFUK/DYYTdxK5g3OQDY7YBs7m+BTEZVERk7EhNPbI9OJV7RaSgDlXidph5CMvcRVZIh+/yiU1CWMYL10P52CaYN7YKyXPMukUyp0brAA5uJ36yaNzkASVGg5PE0ntJP3bYZ8tSxeHRED/hdvLmNftE63yM6QpOYuxScLsj5haJjUJaKrfoG7qemYtaoXnDaTP1PiZLI7GePpv5NlpwuKPlFomNQFov8910UvvUPTB/ew9Q3LFHy5LrMPQHG3KUgy7A1ayE6BmW58CvPoM13H2HK6V1ER6EM4DD5WaO50wOwlbEUSLzwrKno07AJY49rLzoKCSQBph9KNHd6APbW/EdImSF8x9U4rUjHqN58o5KtSnxOUy+GB1igFKQcLnVBmSN03Xm4tEc+juvAa13ZqF1hDnIc5p6NZv5ScDoh5fAmIsoQuo7wX0fi5kFt0K2Mb1iyTddmPrhNfOMaYIlScMPepoPoGES/iIQQu/FC3HtaZ7TMc4tOQ2nUrSxXdIQmM30pKF4fHJ26iY5B9Bt6xXbgrqswc3h35HvMPUWRDlyZ3/xvAkxfCgDg7NZbdASi3cTXroJz1h2YPbIX3HZzDynQgfFY4O/ZEqVga95KdASiPYos/wh5C+dg5oiept63l/bP77JZYttW838HAGR3jugIRHsVXvwSWn75Du4d2lV0FEqhDsVe019kBixSCrA7oBRya07KXKE5D6B71RrcNLij6CiUIv3aFMDrNPd0VMAipSB7cmBve5joGET7FL57PE70hnDRkRzutKK+rfNER0gKa5SCyw1n196iYxDtV+j6C3FhJx9O6swzW6spzHGKjpAUligFAHB07iE6AtEBCY8diev/0AK9W4rfIEoP16N+wSSo5WsSH4t9/wGCCyah7plxCC6YhNh3HxzQc8VWfYy6p67a4+cMNYaGRfcjtmbZLx/TdYQ/eAZ1z45H8OU7oW5f+0uuugoEX70bhhY/tG8szYq9DrhMvubRz6zxXQBQSkpFRyA6MJEIouPOw92ndESbAnEbsqjbf0LD4gdg1FUkPhbf+D9EvlgM9+DLkPunR+A+4VJEVrwKtXz1Pp9LC5QjsvyVvX6u4Y0Hoe1c/9vX3/o91B1r4TtvKuxdBiG6/J+Jz0WWLYDr6BGQFHPc49G9LBc+i2y2ZJlSkFxuXmwm09ADVdAnXoHpw7qhKMeR9tePrVmG8Afz4Op75m8+bm/TE75zp0IpagND16BHggAAybH38jLUGMLvzYWj2wm7fU4tX4XQvx6Bo2N/SN7f7pIoST8ffoxdH2j8c3zDV4DNCVtL8yxFfkz7Ijht5p95BFioFJTcPDh7Hy06BtEBUzeshf2hWzBrZE/kpHkqo61lV3jPmQx7hyN3+5zkcEGr2Y76p8ci/PYsOLoMglK094vjkaUvwda6B2zNdz+IywUt4T1v6h4LQ2nRGbYWXRB8+U7E1yyD6w+jYKgxRL9YDFf/kU37BtOsSzPrrHNlmVKQbHZ4jj1RdAyigxJduRy+lx7FoyN7pXXJZdnjhyTvvYjk3GL4/jwDOWfdgvi6zxH9+u09Pi7243LoNdvg7Dt0z8/j8kKy7XkISJJkuI+9EL6LHoB3+O1QitsiuvJN2DsNgBEJouGNBxFc+HfEfvjo4L/BNHIosul3W/s1y5QCANhatBEdgeigRd5+FWVLX8e0s7ojU+55lmQFkqxAKW4DR7fBiP/02W6P0Wq2I/rZa3APvmyfBXOgtJrtULeugqPb8Qj/9//g6DIIOaePR/SLN6AFtjX5+VOld0s/fBa4P+FnlioFXlcgswo9OxOdt36N207uJDRH9JslCC156rcf1FVIzt1XDVDXr4QRCyG48O+oe+56hN6ZDQCoe+56xNeuOOjXjixbAFf/UZBkBXqgHHJRa0gON+TcYuiB8kP6ftLhlC6lyGEpZCbFnw/XkQNExyA6JKH7b8FAew0u7S/ujNdWdhjUjV8jvu4LGIYOdftPiH37HhxdBu32WGefU5H7p+nIHf0Qckc/BM/JVwMAckc/BPthB3d9L/7T55Bz8mFr1rgMvpxbAm3HOuiRIPTaHZBzM/fNXo/m4qcWJ5OlSkGy2eA5fojoGESHLHTTnzCqrQund20m5PWVojZwn3g5ol+9hfrnbkBk6Qtw/eEc2Nv3BQCo239E3TPjoAerk/aaRiyC6Ff/hvPoYYmPuY45F7Gv3kLDy3fC0e34fV7oFinPbTf9Tmu/JxmGYYgOkUzqjnJsG3M2oOuioxAdGpsD7qfewKT3NuKzTQHRaWgfTu1aiomndIHdIjeuARY7UwAAye2B4zDzzG8m2o0aQ3TsObjzpA44rIgrAGeyU7qUWqoQAAuWgpKbB/egU0THIGoSva4G2i1/xoNndUWpzxpr6liNBKBtgfVK23KlAACuI/qJjkDUZOrWjVDuuwGPjuhpqSmPVtGtLNcSS2X/niVLQfbmQiksFh2DqMli336JnGfvx6xRPS2xq5eVjOjdAn63dW5a+5klf8uUvALknDJs/w8kMoHI+2+h+N2X8NCw7uCOnpmjd8s80RFSwpKlICkKPINOFh2DKGnCLz2Fw9Yuxx1DOouOQgA6l/rgtcDWm3tiyVIAANnng71NB9ExiJIm9Mgd6Kdux1XHtBMdJesN79UceZ70r26bDpYtBSWvEN6h54qOQZRUoduvwJnNZQzvVSY6SlY7snW+6AgpY9lSAABXn36AxEFYspbwdefi8l7FOKZdwf4fTEnXsdhryVlHP7N0KUg5Pu7dTNajqoiMHYXbT2iHw0u8otNknYuOao18iw4dARYvBcWXC+/wi0THIEo6I1iP+E2j8cDQLmjud4mOkzVssoQ+GbC3dipZuhQAwNH+cGAvm3wQmZm2Yyvku6/FzOE9LDlfPhMN7lSCPLd1zxKALCgF2ZcLd//dl/0lsoLY6m/hnnM3Zo/qCafF1uDJRBcc2RJui05F/Znlf4tktwfeoeeJjkGUMpGlS1DwxtOYMbwnFE6sSJlSnxOlPusP1Vm+FADA1qwFJK91NtYm+r3wq/+H1t+8j6lncIXgVDnviFYoyLH20BGQJaWg5BUgdxgvOJO1hR+7B73qN2Dc8bxpM9kkAMd3KoKcBWdiWVEKks0GzwmnAjbrzi0mAoDwnddgSH4c5x7RUnQUSzmmfWHWXMzPilIAADmvADknnSU6BlHKhcZfgD91y8PxHYtER7GMMQPawedkKViK7HTBN+xC3uFM1qfrCP91JP52bGv0KOO1tKZqX5iDstzs2egoa0oBAOS8fLiOHig6BlHqRUKI3XAB7jmtM1rluUWnMbWrBrZHQQ5LwZKUHB/8F14hOgZRWuiVO6HfcSVmDO+OAk92DH0kW4HHjq7NsutsK6tKAQCUolI4OnYVHYMoLdR1a+CcOQGzR/WCx27tm65S4fIB7VDkzZ6zBCAbS8GfD/+lY0XHIEqbyGdL4X/lMcwY0RMKt247YG67goEdmj4NdebMmTjuuONw9NFHY8SIEViyZAmWL1+OQYMGYfr06ejXrx/69euHqVOnIhaLAQCCwSAmTJiAk08+Gb1798bAgQPx+OOPJ55z8ODBePrpp3HmmWeiV69eOP/88/Hdd9/h8ssvR58+fXDaaafhf//73yHlzbpSAAB7y7ZQmrUQHYMobcL/ehktPnsT9w3tJjqKaVzSrzUKcpo27Pbpp59i/vz5ePnll7F8+XKMGjUKt99+O1RVxY4dO7B+/XosWbIE8+fPxwcffIDZs2cDAKZNm4YtW7bglVdewcqVKzFhwgQ8/PDD2LhxY+K5X375ZcyZMwdLly5FdXU1Lr74Ylx99dVYvnw5OnXqhGnTph1S5qwsBaWgCP5L/io6BlFahec+jO4V3+PmEzuKjpLxPHYFp3crg11p2pCb0+lEbW0tFixYgO+//x6jRo3CsmXLYLPZIEkS7rjjDni9XrRt2xZjxozBokWLAADXXnstHnnkEXi9Xmzfvh1OZ+MQ1s6dOxPPPWLECDRr1gxerxc9e/ZEv3790KdPHzgcDhx77LHYunXrIWXOylIAAGfXXpBzrb0ELtHvhf5+I07IacDoo1qJjpLRxgxoi6IkLGnRp08fzJw5EytXrsSFF16IY445BrNnz4au6/D7/cjP/2UHt7KyssRBv6qqCtdddx369euHq6++GkuWLAEA6LqeeHxeXl7i/xVFgd//y/FMlmUYhnFImbO2FJT8Ivgvvlp0DKK0C11/Ec7v6MXJnUtER8lIPqcNJ3cphU1p+uGxvLwchYWFmDt3LlasWIH77rsPjz/+OKLRKOrr6xEOhxOP3bJlC5o3bw4AuO6669C9e3csW7YMCxcuxPXXX7/bc0spuucqa0tBUhS4+g2CUtxMdBSitAtfMwLj+rfAEa3yREfJOH85tn1SzhIA4JtvvsGYMWOwatUqOBwOFBYWAgDWrFkDTdNw3333IRqNYt26dZg7dy5GjhwJAKivr4fL5YKiKKiursbdd98NAIjH40nJtS9ZWwoAYCssRsHYCaJjEKVfLIbYuHMx+eSOaFfoEZ0mY/jddhx3WBEUOTmHxlNOOQWXXnoprrrqKvTu3RvXXXcdbrvtNvTq1avx9fx+nHjiiRg9ejSGDRuGMWPGAADuuecevPnmmzjiiCMwfPhwlJaWomvXrlizZk1Scu2LZBzqwJNFaLUBVE65EbEfvhYdhSjtbK3bw5g6F2Pmf42KYEx0HOEmnNIZQ3uUpXw11OXLl2P06NFYvXp1Sl/nUGT1mQLQeN9C/jW3io5BJIS6aR1sD96MWSN7IcfiO4rtT1muCwPaF2bF8tj7kvWlAAC2kjJ4TjxDdAwiIaJfrYD3+Ucwa2Qv2JXsPSBOHNIZxVl29/KesBQAyJ4c+C+4ApKDvxCUnSL/eR2lH7+KaWf1QDbWwlFt8tGxxJu21+vXr19GDh0BLIUEuaAIuRdcLjoGkTDh52aj06YvMeGUw0VHSStFknDzHzshz239rTYPBEthF9nhgOeE0yDnF4qOQiRMeNptOEauxuV/aCs6Stqcf2QrlPg4SvAzlsKvKIXFyL/6ZtExiIQK3fxnjGjtwNDu1r+HJ9dlw3lHtITbzq16f8ZS+BVJkuDs0gv2toeJjkIkVOjac3BV31L0a5u//web2N/+eDiKeZbwGyyF31HyC1Fww13ctpOymxpDbOwoTBrcAR2Lc0SnSYneLfw4uk1+1k9B/T2Wwh7YylrBd86fRccgEkqvr4N26yWYdmZXlFrs3bRDkTHp1C7I9/Di8u+xFPZAdnvgPWMU91ygrKdu3QzlnvGYNbIncl3WGXe/fvBhliu6ZGEp7IWtoBhFt97LYSTKerHvv4Jn3j2YNbIXnDbzHzI6l3hxQscSOGzZfQf33pj/bziFbC3awDf8YtExiISLfPgOit55AQ8P6wEz7+hpkyVMOaMbCpK0CqoVsRT2QXZ74DvrfA4jEQEIL5iL9qs/wV2ndhEd5ZBdM6gDyvwu0TEyGkthP5TCYhRNmAbIPNUkCs24C0dFt+Kage1FRzloXUp9GNK1FE4OG+0TS+EA2Jq3gv/SsaJjEGWE0MS/4PRSYGSv5qKjHDCPXcHUod1QmMOLy/vDUjgAstOFnBNOhaNzD9FRiDJCeNx5uKxnIY5tb45lYaYO7cZhowPEUjhASl4BCm6cAsnlFh2FSDxVRfjaUbj1+Lbo2swnOs0+De/VHL1a+GFL0m5qVsef0kGwlZSh4MYpomMQZYZQEPGbLsJ9p3dGiwx9F946340xA9rB57KLjmIaLIWDICkKnD36wjfqEtFRiDKCvmMbMOUazBzRA3nuzDrw2hUJD5zdgxvnHCSWwkFSvD74zr4Qzj5Hi45ClBHia76D67G7MHtUT7jsmXNImTSkC1rmcbj3YGXO36CJKHkFKBh3B5RS88y+IEqlyLIPkL9oHmYM7wklA1YBOPeIlhjQrpB3LR8ClsIhshWVoviuGbzwTLRL+LXn0eqr9zD1jK5Cc/Ru4cef+7dFboYNZ5kFS6EJbM1bomjSQ1wfiWiX8BP3olftWlx/gpg9SUp9Tkw5oxsKuYzFIWMpNIGk2ODo1A3+MeNFRyHKGOHJ1+HkvCjO79syra/rtMmYPrIXmuVm5kwos2ApNJHs9iBn8GlwH3eK6ChEGSM0/kKM7uzH4E7FaXvN+87qjjb5nrS9nlWxFJJAyc1D/pjx3MaT6Ge6jvC1I3DjMS3Rs3luyl/umkEd0KtFHmwKD2lNxZ9gkigFRSia+CDkXL/oKESZIRJBbPwF+Puph6f0Hfw5fVrg7J7N4XVaZxMgkVgKSaSUNkfx3bMhOTmmSQQAenUF9ElXYPqw1Fz8HdypGGMGtIOfM42ShqWQRJIkwd6mA4rveRySg3dREgGAuv5H2Kffjtkje8JjT959A31a5uFvf+zEfZaTjKWQZJLNBkeHziieOhuw8d0LEQBEv/gEvpdn49GRPWFLwtZt7QtzcPcZXAo7FVgKKSDZbLB37ILiKY8CCu+oJAKAyJuvoOzTN3D/md2a9DylPiceGdETJT4WQiqwFFJEtjvg6NwdRXdO565tRLuEn56OLtu/xa0ndTqkry/KceCxc/ugzM+VBFKFpZBCssMJZ7feKJo4DeBa7kQAgPC9f8MgZx3+1K/NQX1dsdeBOecfgVa8FyGleKRKMdnpgrPnkSi85R4uh0G0S/jG0Ti3vRtDupQc0ONLfU7MOb8vCyENWAppILvccPX5AwpunCw6ClHGCF87EmP7NccRrfL2+bhSnxOPn3cEl8FOE5ZCmsgeD9xHD0L+dRNFRyHKDLEYYtedi8knH4b2hTl7fEizXBeeYCGkFUshjWRPDtzHDEb+9XfyGgMRAL02AP22y/Dw2V1R8rsd0pr7XXj83D5owUJIK8kwDEN0iGyjR8KIrf4WlXeNgxGNio5DJJyjR1+EbpiGS19ciWBURcfiHDw0nCueisBSEMRQVcQ3r0fF7VdDrw2IjkMknOvE01Fx3ng8/skGTBzShXsrC8JSEMgwDGjbt6Ji0lio5ZtExyESzn/7g4j37IdCL88QROHAtkCSJMFW1hLF9zwOR/cjRMchEir3or8gp1svFoJgPFPIEFqgCjXzZiL03huioxCll6yg4KYpcPX9A5Qcn+g0WY+lkEG0uho0vPkqav8xW3QUorSQ3B4UT54Be4fOkLnkfEZgKWQYraEekS+WofqBiYCuiY5DlDJKsxYovvMR2Jq3gqRwg5xMwVLIQHo0gvhPq1Fx1zgYwXrRcYiSznP8qfBfei1shQe2zAWlD0shQxm6Dm3ndlTdfxtiq78VHYcoOWx2FIybBFffAVC4dW1GYilkOK2mGvWLXkL9/HmioxA1idKsBYonPQSleSvIdu6WlqlYCiagNwQRW/sDKqfeBKMhKDoO0UHjcJF5sBRMwtA0aBXbUTVtEmI/fC06DtGBsdlRMH4SXEdwuMgsWAomo9VUo+H9t1A7bwZnJ1FG43CRObEUTEiPRqBu3YTKqTdB275VdByi3XiOHwL/pWM5XGRCLAUTU6sqUPfik2h461XRUYgAAHJBEQpvmAx7h8Oh+DhcZEYsBZPTgvVQt25E9bRJXFSPxJFl+IZdBO+Z58FWxLMDM2MpWIRWXYnQx0tQ+/QMGDHu0UDpY2/XEQU3ToGttDlkN/dQNjuWgoUY8Ti0qp0IPPkQIp9+KDoOWZzkdCHvyhvhPnoglPxC0XEoSVgKFqTV1yK+YS2qH5wErWKH6DhkQa7+xyH/8hugFJVAsnHdIithKViYVlWBhncXo/aFOYCqio5DFsALydbHUrA4PRaFVrEDgVn3IPr1Z6LjkFnZHfANvwje00byQrLFsRSyhFZXg/jaVQg8/gDUrRtFxyGzsNngPeMc+M48D3J+IWQH9022OpZCltGqKxFb/yNq5kyDuoXlQHshK8gZMgy5Iy5uLANugJM1WApZSgtU/VIOmzeIjkOZQpbhOfEM5J57KZT8Qsgut+hElGYshSynBaoQ37AWgSemQd28XnQcEkWS4DnuZORecCWUgiLeb5DFWAoEYFc5bPypsRw2rRMdh9LINeAE5I3+K5TCYsieHNFxSDCWAv2GFqhCfNM61DwxDfGNP4mOQ6lisyNn8GnwDbsIcmERlByf6ESUIVgKtEdaoBpa9U7Uv/4iQh/9B4jHREeiJJALipA76s9w9x8EOTcfsosXkOm3WAq0T3okAr0ugOi3K1G34GledzApR/c+8F9wBWwt20LJL4Qky6IjUYZiKdAB0wJV0GqqEXzjZYTe/xeMKBfey2Rybh68Z5wDz/FDIOf6eQcyHRCWAh00PRqFXhtAdNU3qF8wD/H1P4qORD+TJDj79EPuqD/D1rxV41mBoohORSbCUqAm0WqqodXWoOGd1xD68G3ogSrRkbKPzQZnzyPhHTIcjg6HQ/Ll8sIxHTKWAiWFoarQagPQ62sR/uR9NCx5g1uFppDkzoGr30B4Tz4LtrKWkL25nE5KScFSoKQzdB16TTX0UAMiX61A6P03EVvzHaDroqOZmpxfCM/Ak+A5/lQohUWQfXmQnVyLiJKLpUApp9fXQQ83QN2+FaEP3kJ4+X+h11SLjpX5ZBn21u3hGXgSXH84HrI3F4o/n/sXUEqxFCitDDUOrbYGRqgB8a0bEPl8GWLff4X45vVZfyYh+/xwdO4B19HHwtm5B2RvLiSnC3JuHiRJEh2PsgRLgYQyNA16fS2MWAx6Qz3i61Yj/PkniK36BtrObaLjpY4sw96mA5w9+sJ11LGwlTaH5HJBzvFxEToSiqVAGUePx2H8XBR1NYiu+h8iXy6DWr4FWsV2GDET3R8hy1CKSmFr1gK2Vu3gOKwzHB06Q/btOgvw+XkjGWUUlgKZgh6NwAg1wNA0IB6DHovCCNYjXr4Z8U3roG5eD23nNqg7t8EIh9KaTXJ7Gg/6ZS1hb3847G06wFZSBsnthuRwQlJskFxuzg4iU2ApkCXosQiMUAiGqgKaCiMahRGPwVDjMCIRGNEIjGgYejgEIxKGHmqAEW6A3hBsLJtopPEMRLFBcjp3HcS9kNweyG5P45RPf96uqZ9ewKY0HuztDsBmh2S3Q/J4Idvton8URE3CUqCsZxhGokwgy5BsNkgy7wKm7MRSICKiBF7hIiKiBJYCERElsBSIiCiBpUBERAksBSIiSmApEBFRAkuBiIgSWApERJTAUiAiogSWAhERJbAUiIgogaVAREQJLAUiIkpgKRARUQJLgYiIElgKRESUwFIgIqIElgIRESWwFIiIKIGlQERECSwFIiJKYCkQEVECS4GIiBJYCkRElMBSICKiBJYCERElsBSIiCiBpUBERAksBSIiSmApEBFRAkuBiIgSWApERJTAUiAiogSWAhERJbAUiIgogaVAREQJLAUiIkpgKRARUQJLgYiIElgKRESUwFIgIqIElgIRESWwFIiIKIGlQERECSwFIiJK+H+U0q1MKu2WCgAAAABJRU5ErkJggg==\n",
      "text/plain": [
       "<Figure size 640x480 with 1 Axes>"
      ]
     },
     "metadata": {},
     "output_type": "display_data"
    }
   ],
   "source": [
    "plt.pie(mail_data['category'].value_counts(),labels=['ham','spam'],autopct='%0.2f%%')\n",
    "plt.show()"
   ]
  },
  {
   "cell_type": "code",
   "execution_count": 38,
   "id": "fdb49d0c",
   "metadata": {},
   "outputs": [],
   "source": [
    "X = mail_data['message']\n",
    "\n",
    "Y = mail_data['category']"
   ]
  },
  {
   "cell_type": "code",
   "execution_count": 39,
   "id": "41307448",
   "metadata": {},
   "outputs": [
    {
     "name": "stdout",
     "output_type": "stream",
     "text": [
      "0       Go until jurong point, crazy.. Available only ...\n",
      "1                           Ok lar... Joking wif u oni...\n",
      "2       Free entry in 2 a wkly comp to win FA Cup fina...\n",
      "3       U dun say so early hor... U c already then say...\n",
      "4       Nah I don't think he goes to usf, he lives aro...\n",
      "                              ...                        \n",
      "5567    This is the 2nd time we have tried 2 contact u...\n",
      "5568                Will Ì_ b going to esplanade fr home?\n",
      "5569    Pity, * was in mood for that. So...any other s...\n",
      "5570    The guy did some bitching but I acted like i'd...\n",
      "5571                           Rofl. Its true to its name\n",
      "Name: message, Length: 5572, dtype: object\n"
     ]
    }
   ],
   "source": [
    "print(X)"
   ]
  },
  {
   "cell_type": "code",
   "execution_count": 40,
   "id": "42ed821e",
   "metadata": {},
   "outputs": [
    {
     "name": "stdout",
     "output_type": "stream",
     "text": [
      "0       1\n",
      "1       1\n",
      "2       0\n",
      "3       1\n",
      "4       1\n",
      "       ..\n",
      "5567    0\n",
      "5568    1\n",
      "5569    1\n",
      "5570    1\n",
      "5571    1\n",
      "Name: category, Length: 5572, dtype: object\n"
     ]
    }
   ],
   "source": [
    "print(Y)"
   ]
  },
  {
   "cell_type": "markdown",
   "id": "4d029f4a",
   "metadata": {},
   "source": [
    "# Splitting data into train and test"
   ]
  },
  {
   "cell_type": "code",
   "execution_count": 41,
   "id": "54575288",
   "metadata": {},
   "outputs": [],
   "source": [
    "X_train, X_test, Y_train, Y_test = train_test_split(X, Y, test_size=0.2, random_state=3)"
   ]
  },
  {
   "cell_type": "code",
   "execution_count": 42,
   "id": "db349d53",
   "metadata": {},
   "outputs": [
    {
     "name": "stdout",
     "output_type": "stream",
     "text": [
      "(5572,)\n",
      "(4457,)\n",
      "(1115,)\n"
     ]
    }
   ],
   "source": [
    "print(X.shape)\n",
    "print(X_train.shape)\n",
    "print(X_test.shape)"
   ]
  },
  {
   "cell_type": "markdown",
   "id": "e4703212",
   "metadata": {},
   "source": [
    "# Feature Extraction"
   ]
  },
  {
   "cell_type": "code",
   "execution_count": 43,
   "id": "1f05276e",
   "metadata": {},
   "outputs": [],
   "source": [
    "#transform the text data to feature vectors that can be used as input to the logistic regression\n",
    "feature_extraction = TfidfVectorizer(min_df = 1, stop_words = 'english', lowercase = True)\n",
    "\n",
    "X_train_features = feature_extraction.fit_transform(X_train)\n",
    "X_test_features = feature_extraction.transform(X_test)\n",
    "\n",
    "#convert y_train and y_test values as integers\n",
    "Y_train = Y_train.astype('int')\n",
    "Y_test = Y_test.astype('int')"
   ]
  },
  {
   "cell_type": "code",
   "execution_count": 44,
   "id": "9f500b0b",
   "metadata": {},
   "outputs": [
    {
     "name": "stdout",
     "output_type": "stream",
     "text": [
      "  (0, 741)\t0.3219352588930141\n",
      "  (0, 3979)\t0.2410582143632299\n",
      "  (0, 4296)\t0.3891385935794867\n",
      "  (0, 6599)\t0.20296878731699391\n",
      "  (0, 3386)\t0.3219352588930141\n",
      "  (0, 2122)\t0.38613577623520473\n",
      "  (0, 3136)\t0.440116181574609\n",
      "  (0, 3262)\t0.25877035357606315\n",
      "  (0, 3380)\t0.21807195185332803\n",
      "  (0, 4513)\t0.2909649098524696\n",
      "  (1, 4061)\t0.380431198316959\n",
      "  (1, 6872)\t0.4306015894277422\n",
      "  (1, 6417)\t0.4769136859540388\n",
      "  (1, 6442)\t0.5652509076654626\n",
      "  (1, 7443)\t0.35056971070320353\n",
      "  (2, 933)\t0.4917598465723273\n",
      "  (2, 2109)\t0.42972812260098503\n",
      "  (2, 3917)\t0.40088501350982736\n",
      "  (2, 2226)\t0.413484525934624\n",
      "  (2, 5825)\t0.4917598465723273\n",
      "  (3, 6140)\t0.4903863168693604\n",
      "  (3, 1599)\t0.5927091854194291\n",
      "  (3, 1842)\t0.3708680641487708\n",
      "  (3, 7453)\t0.5202633571003087\n",
      "  (4, 2531)\t0.7419319091456392\n",
      "  :\t:\n",
      "  (4452, 2122)\t0.31002103760284144\n",
      "  (4453, 999)\t0.6760129013031282\n",
      "  (4453, 7273)\t0.5787739591782677\n",
      "  (4453, 1762)\t0.45610005640082985\n",
      "  (4454, 3029)\t0.42618909997886\n",
      "  (4454, 2086)\t0.3809693742808703\n",
      "  (4454, 3088)\t0.34475593009514444\n",
      "  (4454, 2001)\t0.4166919007849217\n",
      "  (4454, 1049)\t0.31932060116006045\n",
      "  (4454, 7346)\t0.31166263834107377\n",
      "  (4454, 5370)\t0.42618909997886\n",
      "  (4455, 1148)\t0.38998123077430413\n",
      "  (4455, 6433)\t0.38998123077430413\n",
      "  (4455, 6361)\t0.25697343671652706\n",
      "  (4455, 2764)\t0.3226323745940581\n",
      "  (4455, 7358)\t0.2915949626395065\n",
      "  (4455, 7407)\t0.3028481995557642\n",
      "  (4455, 2108)\t0.3136468384526087\n",
      "  (4455, 4251)\t0.30616657078392584\n",
      "  (4455, 3763)\t0.16807158405536876\n",
      "  (4455, 4773)\t0.35860460546223444\n",
      "  (4456, 6117)\t0.5304350313291551\n",
      "  (4456, 6133)\t0.5304350313291551\n",
      "  (4456, 1386)\t0.4460036316446079\n",
      "  (4456, 4557)\t0.48821933148688146\n"
     ]
    }
   ],
   "source": [
    "print(X_train_features)"
   ]
  },
  {
   "cell_type": "markdown",
   "id": "2cf2ff44",
   "metadata": {},
   "source": [
    "# Training the Model"
   ]
  },
  {
   "cell_type": "markdown",
   "id": "19a134e6",
   "metadata": {},
   "source": [
    "Logistic regression"
   ]
  },
  {
   "cell_type": "code",
   "execution_count": 45,
   "id": "e25ef912",
   "metadata": {},
   "outputs": [],
   "source": [
    "model = LogisticRegression()"
   ]
  },
  {
   "cell_type": "code",
   "execution_count": 46,
   "id": "09d18bf4",
   "metadata": {},
   "outputs": [
    {
     "data": {
      "text/html": [
       "<style>#sk-container-id-2 {color: black;background-color: white;}#sk-container-id-2 pre{padding: 0;}#sk-container-id-2 div.sk-toggleable {background-color: white;}#sk-container-id-2 label.sk-toggleable__label {cursor: pointer;display: block;width: 100%;margin-bottom: 0;padding: 0.3em;box-sizing: border-box;text-align: center;}#sk-container-id-2 label.sk-toggleable__label-arrow:before {content: \"▸\";float: left;margin-right: 0.25em;color: #696969;}#sk-container-id-2 label.sk-toggleable__label-arrow:hover:before {color: black;}#sk-container-id-2 div.sk-estimator:hover label.sk-toggleable__label-arrow:before {color: black;}#sk-container-id-2 div.sk-toggleable__content {max-height: 0;max-width: 0;overflow: hidden;text-align: left;background-color: #f0f8ff;}#sk-container-id-2 div.sk-toggleable__content pre {margin: 0.2em;color: black;border-radius: 0.25em;background-color: #f0f8ff;}#sk-container-id-2 input.sk-toggleable__control:checked~div.sk-toggleable__content {max-height: 200px;max-width: 100%;overflow: auto;}#sk-container-id-2 input.sk-toggleable__control:checked~label.sk-toggleable__label-arrow:before {content: \"▾\";}#sk-container-id-2 div.sk-estimator input.sk-toggleable__control:checked~label.sk-toggleable__label {background-color: #d4ebff;}#sk-container-id-2 div.sk-label input.sk-toggleable__control:checked~label.sk-toggleable__label {background-color: #d4ebff;}#sk-container-id-2 input.sk-hidden--visually {border: 0;clip: rect(1px 1px 1px 1px);clip: rect(1px, 1px, 1px, 1px);height: 1px;margin: -1px;overflow: hidden;padding: 0;position: absolute;width: 1px;}#sk-container-id-2 div.sk-estimator {font-family: monospace;background-color: #f0f8ff;border: 1px dotted black;border-radius: 0.25em;box-sizing: border-box;margin-bottom: 0.5em;}#sk-container-id-2 div.sk-estimator:hover {background-color: #d4ebff;}#sk-container-id-2 div.sk-parallel-item::after {content: \"\";width: 100%;border-bottom: 1px solid gray;flex-grow: 1;}#sk-container-id-2 div.sk-label:hover label.sk-toggleable__label {background-color: #d4ebff;}#sk-container-id-2 div.sk-serial::before {content: \"\";position: absolute;border-left: 1px solid gray;box-sizing: border-box;top: 0;bottom: 0;left: 50%;z-index: 0;}#sk-container-id-2 div.sk-serial {display: flex;flex-direction: column;align-items: center;background-color: white;padding-right: 0.2em;padding-left: 0.2em;position: relative;}#sk-container-id-2 div.sk-item {position: relative;z-index: 1;}#sk-container-id-2 div.sk-parallel {display: flex;align-items: stretch;justify-content: center;background-color: white;position: relative;}#sk-container-id-2 div.sk-item::before, #sk-container-id-2 div.sk-parallel-item::before {content: \"\";position: absolute;border-left: 1px solid gray;box-sizing: border-box;top: 0;bottom: 0;left: 50%;z-index: -1;}#sk-container-id-2 div.sk-parallel-item {display: flex;flex-direction: column;z-index: 1;position: relative;background-color: white;}#sk-container-id-2 div.sk-parallel-item:first-child::after {align-self: flex-end;width: 50%;}#sk-container-id-2 div.sk-parallel-item:last-child::after {align-self: flex-start;width: 50%;}#sk-container-id-2 div.sk-parallel-item:only-child::after {width: 0;}#sk-container-id-2 div.sk-dashed-wrapped {border: 1px dashed gray;margin: 0 0.4em 0.5em 0.4em;box-sizing: border-box;padding-bottom: 0.4em;background-color: white;}#sk-container-id-2 div.sk-label label {font-family: monospace;font-weight: bold;display: inline-block;line-height: 1.2em;}#sk-container-id-2 div.sk-label-container {text-align: center;}#sk-container-id-2 div.sk-container {/* jupyter's `normalize.less` sets `[hidden] { display: none; }` but bootstrap.min.css set `[hidden] { display: none !important; }` so we also need the `!important` here to be able to override the default hidden behavior on the sphinx rendered scikit-learn.org. See: https://github.com/scikit-learn/scikit-learn/issues/21755 */display: inline-block !important;position: relative;}#sk-container-id-2 div.sk-text-repr-fallback {display: none;}</style><div id=\"sk-container-id-2\" class=\"sk-top-container\"><div class=\"sk-text-repr-fallback\"><pre>LogisticRegression()</pre><b>In a Jupyter environment, please rerun this cell to show the HTML representation or trust the notebook. <br />On GitHub, the HTML representation is unable to render, please try loading this page with nbviewer.org.</b></div><div class=\"sk-container\" hidden><div class=\"sk-item\"><div class=\"sk-estimator sk-toggleable\"><input class=\"sk-toggleable__control sk-hidden--visually\" id=\"sk-estimator-id-2\" type=\"checkbox\" checked><label for=\"sk-estimator-id-2\" class=\"sk-toggleable__label sk-toggleable__label-arrow\">LogisticRegression</label><div class=\"sk-toggleable__content\"><pre>LogisticRegression()</pre></div></div></div></div></div>"
      ],
      "text/plain": [
       "LogisticRegression()"
      ]
     },
     "execution_count": 46,
     "metadata": {},
     "output_type": "execute_result"
    }
   ],
   "source": [
    "model.fit(X_train_features, Y_train)"
   ]
  },
  {
   "cell_type": "markdown",
   "id": "581a75b0",
   "metadata": {},
   "source": [
    "# Evaluating the trained model"
   ]
  },
  {
   "cell_type": "code",
   "execution_count": 48,
   "id": "3fea4806",
   "metadata": {},
   "outputs": [],
   "source": [
    "#prediction on training data\n",
    "\n",
    "prediction_on_training_data = model.predict(X_train_features)\n",
    "accuracy_on_training_data = accuracy_score(Y_train, prediction_on_training_data)"
   ]
  },
  {
   "cell_type": "code",
   "execution_count": 49,
   "id": "9e1d8933",
   "metadata": {},
   "outputs": [
    {
     "name": "stdout",
     "output_type": "stream",
     "text": [
      "Accuracy on training data : 0.9661207089970832\n"
     ]
    }
   ],
   "source": [
    "print('Accuracy on training data :', accuracy_on_training_data)"
   ]
  },
  {
   "cell_type": "code",
   "execution_count": 50,
   "id": "b966934b",
   "metadata": {},
   "outputs": [],
   "source": [
    "#prediction on test data\n",
    "\n",
    "prediction_on_test_data = model.predict(X_test_features)\n",
    "accuracy_on_test_data = accuracy_score(Y_test, prediction_on_test_data)"
   ]
  },
  {
   "cell_type": "code",
   "execution_count": 51,
   "id": "27992270",
   "metadata": {},
   "outputs": [
    {
     "name": "stdout",
     "output_type": "stream",
     "text": [
      "Accuracy on test data : 0.9623318385650225\n"
     ]
    }
   ],
   "source": [
    "print('Accuracy on test data :', accuracy_on_test_data)"
   ]
  },
  {
   "cell_type": "markdown",
   "id": "02f5a150",
   "metadata": {},
   "source": [
    "# Building a predictive system"
   ]
  },
  {
   "cell_type": "code",
   "execution_count": 55,
   "id": "e0d06f18",
   "metadata": {},
   "outputs": [
    {
     "name": "stdout",
     "output_type": "stream",
     "text": [
      "[0]\n",
      "Spam mail\n"
     ]
    }
   ],
   "source": [
    "input_mail = [\"07732584351 - Rodger Burns - MSG = We tried to call you re your reply to our sms for a free nokia mobile + free camcorder. Please call now 08000930705 for delivery tomorrow\"]\n",
    "\n",
    "input_data_features = feature_extraction.transform(input_mail)\n",
    "\n",
    "#making predictions\n",
    "\n",
    "prediction = model.predict(input_data_features)\n",
    "print(prediction)\n",
    "\n",
    "if (prediction[0] == 1):\n",
    "    print(\"Ham mail\")\n",
    "\n",
    "else:\n",
    "     print(\"Spam mail\")   "
   ]
  }
 ],
 "metadata": {
  "kernelspec": {
   "display_name": "Python 3 (ipykernel)",
   "language": "python",
   "name": "python3"
  },
  "language_info": {
   "codemirror_mode": {
    "name": "ipython",
    "version": 3
   },
   "file_extension": ".py",
   "mimetype": "text/x-python",
   "name": "python",
   "nbconvert_exporter": "python",
   "pygments_lexer": "ipython3",
   "version": "3.10.9"
  }
 },
 "nbformat": 4,
 "nbformat_minor": 5
}
